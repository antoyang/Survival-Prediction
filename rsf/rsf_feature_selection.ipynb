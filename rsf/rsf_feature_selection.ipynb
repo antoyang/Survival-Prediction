{
 "cells": [
  {
   "cell_type": "markdown",
   "metadata": {
    "id": "VW1lne1tWskl",
    "colab_type": "text"
   },
   "source": [
    "# Random Survival Forest model\n",
    "\n",
    "Feature selection with RSF in Owkin dataset."
   ]
  },
  {
   "cell_type": "markdown",
   "metadata": {
    "id": "BBI8oFpGcMUg",
    "colab_type": "text"
   },
   "source": [
    "External packages."
   ]
  },
  {
   "cell_type": "code",
   "execution_count": 0,
   "metadata": {
    "id": "pn1cU1CocQ_G",
    "colab_type": "code",
    "outputId": "a5e9d172-c200-4daf-8a68-a611a41c5766",
    "colab": {
     "base_uri": "https://localhost:8080/",
     "height": 595.0
    }
   },
   "outputs": [
    {
     "name": "stdout",
     "output_type": "stream",
     "text": [
      "Requirement already satisfied: scikit-survival in /usr/local/lib/python3.6/dist-packages (0.11)\n",
      "Requirement already satisfied: scipy!=1.3.0,>=1.0 in /usr/local/lib/python3.6/dist-packages (from scikit-survival) (1.4.1)\n",
      "Requirement already satisfied: cvxpy>=1.0 in /usr/local/lib/python3.6/dist-packages (from scikit-survival) (1.0.25)\n",
      "Requirement already satisfied: cython>=0.29 in /usr/local/lib/python3.6/dist-packages (from scikit-survival) (0.29.15)\n",
      "Requirement already satisfied: scikit-learn<0.22,>=0.21.0 in /usr/local/lib/python3.6/dist-packages (from scikit-survival) (0.21.3)\n",
      "Requirement already satisfied: numexpr in /usr/local/lib/python3.6/dist-packages (from scikit-survival) (2.7.1)\n",
      "Requirement already satisfied: osqp!=0.6.0,!=0.6.1 in /usr/local/lib/python3.6/dist-packages (from scikit-survival) (0.5.0)\n",
      "Requirement already satisfied: numpy in /usr/local/lib/python3.6/dist-packages (from scikit-survival) (1.17.5)\n",
      "Requirement already satisfied: cvxopt in /usr/local/lib/python3.6/dist-packages (from scikit-survival) (1.2.4)\n",
      "Requirement already satisfied: pandas<0.26,>=0.21 in /usr/local/lib/python3.6/dist-packages (from scikit-survival) (0.25.3)\n",
      "Requirement already satisfied: six in /usr/local/lib/python3.6/dist-packages (from cvxpy>=1.0->scikit-survival) (1.12.0)\n",
      "Requirement already satisfied: multiprocess in /usr/local/lib/python3.6/dist-packages (from cvxpy>=1.0->scikit-survival) (0.70.9)\n",
      "Requirement already satisfied: ecos>=2 in /usr/local/lib/python3.6/dist-packages (from cvxpy>=1.0->scikit-survival) (2.0.7.post1)\n",
      "Requirement already satisfied: scs>=1.1.3 in /usr/local/lib/python3.6/dist-packages (from cvxpy>=1.0->scikit-survival) (2.1.1.post2)\n",
      "Requirement already satisfied: joblib>=0.11 in /usr/local/lib/python3.6/dist-packages (from scikit-learn<0.22,>=0.21.0->scikit-survival) (0.14.1)\n",
      "Requirement already satisfied: future in /usr/local/lib/python3.6/dist-packages (from osqp!=0.6.0,!=0.6.1->scikit-survival) (0.16.0)\n",
      "Requirement already satisfied: pytz>=2017.2 in /usr/local/lib/python3.6/dist-packages (from pandas<0.26,>=0.21->scikit-survival) (2018.9)\n",
      "Requirement already satisfied: python-dateutil>=2.6.1 in /usr/local/lib/python3.6/dist-packages (from pandas<0.26,>=0.21->scikit-survival) (2.6.1)\n",
      "Requirement already satisfied: dill>=0.3.1 in /usr/local/lib/python3.6/dist-packages (from multiprocess->cvxpy>=1.0->scikit-survival) (0.3.1.1)\n",
      "Collecting eli5\n",
      "\u001b[?25l  Downloading https://files.pythonhosted.org/packages/97/2f/c85c7d8f8548e460829971785347e14e45fa5c6617da374711dec8cb38cc/eli5-0.10.1-py2.py3-none-any.whl (105kB)\n",
      "\u001b[K     |████████████████████████████████| 112kB 2.8MB/s \n",
      "\u001b[?25hRequirement already satisfied: attrs>16.0.0 in /usr/local/lib/python3.6/dist-packages (from eli5) (19.3.0)\n",
      "Requirement already satisfied: scikit-learn>=0.18 in /usr/local/lib/python3.6/dist-packages (from eli5) (0.21.3)\n",
      "Requirement already satisfied: tabulate>=0.7.7 in /usr/local/lib/python3.6/dist-packages (from eli5) (0.8.6)\n",
      "Requirement already satisfied: scipy in /usr/local/lib/python3.6/dist-packages (from eli5) (1.4.1)\n",
      "Requirement already satisfied: graphviz in /usr/local/lib/python3.6/dist-packages (from eli5) (0.10.1)\n",
      "Requirement already satisfied: jinja2 in /usr/local/lib/python3.6/dist-packages (from eli5) (2.11.1)\n",
      "Requirement already satisfied: six in /usr/local/lib/python3.6/dist-packages (from eli5) (1.12.0)\n",
      "Requirement already satisfied: numpy>=1.9.0 in /usr/local/lib/python3.6/dist-packages (from eli5) (1.17.5)\n",
      "Requirement already satisfied: joblib>=0.11 in /usr/local/lib/python3.6/dist-packages (from scikit-learn>=0.18->eli5) (0.14.1)\n",
      "Requirement already satisfied: MarkupSafe>=0.23 in /usr/local/lib/python3.6/dist-packages (from jinja2->eli5) (1.1.1)\n",
      "Installing collected packages: eli5\n",
      "Successfully installed eli5-0.10.1\n"
     ]
    }
   ],
   "source": [
    "!pip install scikit-survival\n",
    "!pip install eli5"
   ]
  },
  {
   "cell_type": "code",
   "execution_count": 0,
   "metadata": {
    "id": "wvGuplLr3lW1",
    "colab_type": "code",
    "colab": {}
   },
   "outputs": [],
   "source": [
    "import pandas as pd\n",
    "import matplotlib.pyplot as plt\n",
    "import numpy as np\n",
    "import read_data"
   ]
  },
  {
   "cell_type": "markdown",
   "metadata": {
    "id": "s0zye152Zilo",
    "colab_type": "text"
   },
   "source": [
    "## Load data"
   ]
  },
  {
   "cell_type": "code",
   "execution_count": 0,
   "metadata": {
    "id": "RSMkfEPyE9s6",
    "colab_type": "code",
    "colab": {}
   },
   "outputs": [],
   "source": [
    "features = ['original_shape_Compactness2',\n",
    " 'original_shape_SphericalDisproportion',\n",
    " 'original_shape_SurfaceVolumeRatio',\n",
    " 'original_firstorder_Kurtosis',\n",
    " 'original_firstorder_MeanAbsoluteDeviation',\n",
    " 'original_firstorder_Minimum',\n",
    " 'original_glcm_ClusterProminence',\n",
    " 'original_glcm_Contrast',\n",
    " 'original_glcm_DifferenceEntropy',\n",
    " 'original_glcm_DifferenceAverage',\n",
    " 'original_glcm_JointEnergy',\n",
    " 'original_glcm_Id',\n",
    " 'original_glcm_Idm',\n",
    " 'original_glcm_Imc1',\n",
    " 'original_glcm_Imc2',\n",
    " 'original_glcm_Idmn',\n",
    " 'original_glcm_Idn',\n",
    " 'original_glrlm_ShortRunEmphasis',\n",
    " 'original_glrlm_LongRunEmphasis',\n",
    " 'original_glrlm_GrayLevelNonUniformity',\n",
    " 'original_glrlm_RunPercentage',\n",
    " 'original_glrlm_ShortRunLowGrayLevelEmphasis',\n",
    " 'original_glrlm_LongRunLowGrayLevelEmphasis',\n",
    " 'original_glrlm_LongRunHighGrayLevelEmphasis',\n",
    " 'Nstage',\n",
    " 'age',\n",
    " 'SourceDataset_l1',\n",
    " 'SourceDataset_l2']"
   ]
  },
  {
   "cell_type": "code",
   "execution_count": 0,
   "metadata": {
    "id": "EB3sdksn3lW8",
    "colab_type": "code",
    "outputId": "c0b0a729-baeb-4284-a640-589169d38762",
    "colab": {
     "base_uri": "https://localhost:8080/",
     "height": 470.0
    }
   },
   "outputs": [
    {
     "data": {
      "text/html": [
       "<div>\n",
       "<style scoped>\n",
       "    .dataframe tbody tr th:only-of-type {\n",
       "        vertical-align: middle;\n",
       "    }\n",
       "\n",
       "    .dataframe tbody tr th {\n",
       "        vertical-align: top;\n",
       "    }\n",
       "\n",
       "    .dataframe thead th {\n",
       "        text-align: right;\n",
       "    }\n",
       "</style>\n",
       "<table border=\"1\" class=\"dataframe\">\n",
       "  <thead>\n",
       "    <tr style=\"text-align: right;\">\n",
       "      <th></th>\n",
       "      <th>original_shape_Compactness2</th>\n",
       "      <th>original_shape_SphericalDisproportion</th>\n",
       "      <th>original_shape_SurfaceVolumeRatio</th>\n",
       "      <th>original_firstorder_Kurtosis</th>\n",
       "      <th>original_firstorder_MeanAbsoluteDeviation</th>\n",
       "      <th>original_firstorder_Minimum</th>\n",
       "      <th>original_glcm_ClusterProminence</th>\n",
       "      <th>original_glcm_Contrast</th>\n",
       "      <th>original_glcm_DifferenceEntropy</th>\n",
       "      <th>original_glcm_DifferenceAverage</th>\n",
       "      <th>original_glcm_JointEnergy</th>\n",
       "      <th>original_glcm_Id</th>\n",
       "      <th>original_glcm_Idm</th>\n",
       "      <th>original_glcm_Imc1</th>\n",
       "      <th>original_glcm_Imc2</th>\n",
       "      <th>original_glcm_Idmn</th>\n",
       "      <th>original_glcm_Idn</th>\n",
       "      <th>original_glrlm_ShortRunEmphasis</th>\n",
       "      <th>original_glrlm_LongRunEmphasis</th>\n",
       "      <th>original_glrlm_GrayLevelNonUniformity</th>\n",
       "      <th>original_glrlm_RunPercentage</th>\n",
       "      <th>original_glrlm_ShortRunLowGrayLevelEmphasis</th>\n",
       "      <th>original_glrlm_LongRunLowGrayLevelEmphasis</th>\n",
       "      <th>original_glrlm_LongRunHighGrayLevelEmphasis</th>\n",
       "      <th>Nstage</th>\n",
       "      <th>age</th>\n",
       "      <th>SourceDataset_l1</th>\n",
       "      <th>SourceDataset_l2</th>\n",
       "    </tr>\n",
       "    <tr>\n",
       "      <th>PatientID</th>\n",
       "      <th></th>\n",
       "      <th></th>\n",
       "      <th></th>\n",
       "      <th></th>\n",
       "      <th></th>\n",
       "      <th></th>\n",
       "      <th></th>\n",
       "      <th></th>\n",
       "      <th></th>\n",
       "      <th></th>\n",
       "      <th></th>\n",
       "      <th></th>\n",
       "      <th></th>\n",
       "      <th></th>\n",
       "      <th></th>\n",
       "      <th></th>\n",
       "      <th></th>\n",
       "      <th></th>\n",
       "      <th></th>\n",
       "      <th></th>\n",
       "      <th></th>\n",
       "      <th></th>\n",
       "      <th></th>\n",
       "      <th></th>\n",
       "      <th></th>\n",
       "      <th></th>\n",
       "      <th></th>\n",
       "      <th></th>\n",
       "    </tr>\n",
       "  </thead>\n",
       "  <tbody>\n",
       "    <tr>\n",
       "      <th>202</th>\n",
       "      <td>0.274892</td>\n",
       "      <td>1.537964</td>\n",
       "      <td>0.275228</td>\n",
       "      <td>1.592466</td>\n",
       "      <td>288.311105</td>\n",
       "      <td>-1006.0</td>\n",
       "      <td>546253.499762</td>\n",
       "      <td>54.336816</td>\n",
       "      <td>3.845383</td>\n",
       "      <td>5.036775</td>\n",
       "      <td>0.005920</td>\n",
       "      <td>0.338672</td>\n",
       "      <td>0.262780</td>\n",
       "      <td>-0.175185</td>\n",
       "      <td>0.901525</td>\n",
       "      <td>0.981053</td>\n",
       "      <td>0.917509</td>\n",
       "      <td>0.926391</td>\n",
       "      <td>1.457980</td>\n",
       "      <td>555.378594</td>\n",
       "      <td>0.891330</td>\n",
       "      <td>0.003384</td>\n",
       "      <td>0.004444</td>\n",
       "      <td>1651.710761</td>\n",
       "      <td>0</td>\n",
       "      <td>66.0000</td>\n",
       "      <td>0</td>\n",
       "      <td>1</td>\n",
       "    </tr>\n",
       "    <tr>\n",
       "      <th>371</th>\n",
       "      <td>0.188210</td>\n",
       "      <td>1.744961</td>\n",
       "      <td>0.240727</td>\n",
       "      <td>3.371013</td>\n",
       "      <td>191.395154</td>\n",
       "      <td>-945.0</td>\n",
       "      <td>331155.230396</td>\n",
       "      <td>16.868781</td>\n",
       "      <td>2.984034</td>\n",
       "      <td>2.570017</td>\n",
       "      <td>0.025532</td>\n",
       "      <td>0.495719</td>\n",
       "      <td>0.439879</td>\n",
       "      <td>-0.250370</td>\n",
       "      <td>0.932847</td>\n",
       "      <td>0.993282</td>\n",
       "      <td>0.953464</td>\n",
       "      <td>0.855154</td>\n",
       "      <td>2.512125</td>\n",
       "      <td>1766.619373</td>\n",
       "      <td>0.766032</td>\n",
       "      <td>0.002069</td>\n",
       "      <td>0.003633</td>\n",
       "      <td>3386.995589</td>\n",
       "      <td>2</td>\n",
       "      <td>64.5722</td>\n",
       "      <td>1</td>\n",
       "      <td>0</td>\n",
       "    </tr>\n",
       "    <tr>\n",
       "      <th>246</th>\n",
       "      <td>0.265740</td>\n",
       "      <td>1.555420</td>\n",
       "      <td>0.200766</td>\n",
       "      <td>7.585494</td>\n",
       "      <td>94.132136</td>\n",
       "      <td>-785.0</td>\n",
       "      <td>54523.086867</td>\n",
       "      <td>7.040623</td>\n",
       "      <td>2.333939</td>\n",
       "      <td>1.496020</td>\n",
       "      <td>0.066569</td>\n",
       "      <td>0.616607</td>\n",
       "      <td>0.581458</td>\n",
       "      <td>-0.249969</td>\n",
       "      <td>0.884911</td>\n",
       "      <td>0.995095</td>\n",
       "      <td>0.963887</td>\n",
       "      <td>0.769265</td>\n",
       "      <td>4.096838</td>\n",
       "      <td>3462.816344</td>\n",
       "      <td>0.644554</td>\n",
       "      <td>0.001635</td>\n",
       "      <td>0.004869</td>\n",
       "      <td>4232.418080</td>\n",
       "      <td>3</td>\n",
       "      <td>66.0452</td>\n",
       "      <td>1</td>\n",
       "      <td>0</td>\n",
       "    </tr>\n",
       "    <tr>\n",
       "      <th>240</th>\n",
       "      <td>0.255406</td>\n",
       "      <td>1.576120</td>\n",
       "      <td>0.323878</td>\n",
       "      <td>4.281865</td>\n",
       "      <td>149.072998</td>\n",
       "      <td>-850.0</td>\n",
       "      <td>166735.779994</td>\n",
       "      <td>13.656782</td>\n",
       "      <td>2.926791</td>\n",
       "      <td>2.492079</td>\n",
       "      <td>0.015048</td>\n",
       "      <td>0.457545</td>\n",
       "      <td>0.391681</td>\n",
       "      <td>-0.214233</td>\n",
       "      <td>0.902811</td>\n",
       "      <td>0.993509</td>\n",
       "      <td>0.950374</td>\n",
       "      <td>0.880123</td>\n",
       "      <td>1.824328</td>\n",
       "      <td>683.869792</td>\n",
       "      <td>0.828138</td>\n",
       "      <td>0.002680</td>\n",
       "      <td>0.003901</td>\n",
       "      <td>1844.746046</td>\n",
       "      <td>2</td>\n",
       "      <td>59.3566</td>\n",
       "      <td>1</td>\n",
       "      <td>0</td>\n",
       "    </tr>\n",
       "    <tr>\n",
       "      <th>284</th>\n",
       "      <td>0.199424</td>\n",
       "      <td>1.711620</td>\n",
       "      <td>0.327241</td>\n",
       "      <td>8.999616</td>\n",
       "      <td>143.210231</td>\n",
       "      <td>-1023.0</td>\n",
       "      <td>658805.553990</td>\n",
       "      <td>20.121147</td>\n",
       "      <td>2.787526</td>\n",
       "      <td>2.372269</td>\n",
       "      <td>0.029317</td>\n",
       "      <td>0.544607</td>\n",
       "      <td>0.501892</td>\n",
       "      <td>-0.238174</td>\n",
       "      <td>0.911356</td>\n",
       "      <td>0.992658</td>\n",
       "      <td>0.958908</td>\n",
       "      <td>0.819049</td>\n",
       "      <td>2.652580</td>\n",
       "      <td>962.094760</td>\n",
       "      <td>0.734898</td>\n",
       "      <td>0.004704</td>\n",
       "      <td>0.023273</td>\n",
       "      <td>4444.272812</td>\n",
       "      <td>3</td>\n",
       "      <td>71.0554</td>\n",
       "      <td>1</td>\n",
       "      <td>0</td>\n",
       "    </tr>\n",
       "    <tr>\n",
       "      <th>...</th>\n",
       "      <td>...</td>\n",
       "      <td>...</td>\n",
       "      <td>...</td>\n",
       "      <td>...</td>\n",
       "      <td>...</td>\n",
       "      <td>...</td>\n",
       "      <td>...</td>\n",
       "      <td>...</td>\n",
       "      <td>...</td>\n",
       "      <td>...</td>\n",
       "      <td>...</td>\n",
       "      <td>...</td>\n",
       "      <td>...</td>\n",
       "      <td>...</td>\n",
       "      <td>...</td>\n",
       "      <td>...</td>\n",
       "      <td>...</td>\n",
       "      <td>...</td>\n",
       "      <td>...</td>\n",
       "      <td>...</td>\n",
       "      <td>...</td>\n",
       "      <td>...</td>\n",
       "      <td>...</td>\n",
       "      <td>...</td>\n",
       "      <td>...</td>\n",
       "      <td>...</td>\n",
       "      <td>...</td>\n",
       "      <td>...</td>\n",
       "    </tr>\n",
       "    <tr>\n",
       "      <th>89</th>\n",
       "      <td>0.250187</td>\n",
       "      <td>1.587005</td>\n",
       "      <td>0.286576</td>\n",
       "      <td>1.927350</td>\n",
       "      <td>233.308909</td>\n",
       "      <td>-1015.0</td>\n",
       "      <td>367468.618766</td>\n",
       "      <td>28.824354</td>\n",
       "      <td>3.484871</td>\n",
       "      <td>3.972802</td>\n",
       "      <td>0.001746</td>\n",
       "      <td>0.336821</td>\n",
       "      <td>0.249734</td>\n",
       "      <td>-0.214544</td>\n",
       "      <td>0.939555</td>\n",
       "      <td>0.988997</td>\n",
       "      <td>0.930211</td>\n",
       "      <td>0.934151</td>\n",
       "      <td>1.351356</td>\n",
       "      <td>454.228333</td>\n",
       "      <td>0.907916</td>\n",
       "      <td>0.003590</td>\n",
       "      <td>0.005985</td>\n",
       "      <td>1145.996232</td>\n",
       "      <td>2</td>\n",
       "      <td>69.1828</td>\n",
       "      <td>1</td>\n",
       "      <td>0</td>\n",
       "    </tr>\n",
       "    <tr>\n",
       "      <th>261</th>\n",
       "      <td>0.454151</td>\n",
       "      <td>1.300968</td>\n",
       "      <td>0.281441</td>\n",
       "      <td>1.925799</td>\n",
       "      <td>214.212310</td>\n",
       "      <td>-901.0</td>\n",
       "      <td>227251.294990</td>\n",
       "      <td>17.384511</td>\n",
       "      <td>3.111318</td>\n",
       "      <td>2.831998</td>\n",
       "      <td>0.016200</td>\n",
       "      <td>0.451176</td>\n",
       "      <td>0.383987</td>\n",
       "      <td>-0.271559</td>\n",
       "      <td>0.953994</td>\n",
       "      <td>0.990157</td>\n",
       "      <td>0.939545</td>\n",
       "      <td>0.885250</td>\n",
       "      <td>2.126745</td>\n",
       "      <td>336.573622</td>\n",
       "      <td>0.807157</td>\n",
       "      <td>0.002829</td>\n",
       "      <td>0.004400</td>\n",
       "      <td>2243.689318</td>\n",
       "      <td>0</td>\n",
       "      <td>87.1266</td>\n",
       "      <td>1</td>\n",
       "      <td>0</td>\n",
       "    </tr>\n",
       "    <tr>\n",
       "      <th>129</th>\n",
       "      <td>0.234096</td>\n",
       "      <td>1.622565</td>\n",
       "      <td>0.224665</td>\n",
       "      <td>51.791276</td>\n",
       "      <td>27.675471</td>\n",
       "      <td>-751.0</td>\n",
       "      <td>6889.281619</td>\n",
       "      <td>1.439822</td>\n",
       "      <td>1.440679</td>\n",
       "      <td>0.633557</td>\n",
       "      <td>0.130721</td>\n",
       "      <td>0.746369</td>\n",
       "      <td>0.735862</td>\n",
       "      <td>-0.264988</td>\n",
       "      <td>0.824795</td>\n",
       "      <td>0.999412</td>\n",
       "      <td>0.987616</td>\n",
       "      <td>0.631183</td>\n",
       "      <td>7.254939</td>\n",
       "      <td>4513.100699</td>\n",
       "      <td>0.511173</td>\n",
       "      <td>0.000784</td>\n",
       "      <td>0.006983</td>\n",
       "      <td>7752.599509</td>\n",
       "      <td>1</td>\n",
       "      <td>59.8439</td>\n",
       "      <td>1</td>\n",
       "      <td>0</td>\n",
       "    </tr>\n",
       "    <tr>\n",
       "      <th>273</th>\n",
       "      <td>0.375695</td>\n",
       "      <td>1.385866</td>\n",
       "      <td>0.605798</td>\n",
       "      <td>1.585915</td>\n",
       "      <td>273.935074</td>\n",
       "      <td>-948.0</td>\n",
       "      <td>407492.165534</td>\n",
       "      <td>78.081431</td>\n",
       "      <td>4.126944</td>\n",
       "      <td>6.580868</td>\n",
       "      <td>0.002750</td>\n",
       "      <td>0.272701</td>\n",
       "      <td>0.192854</td>\n",
       "      <td>-0.212124</td>\n",
       "      <td>0.939127</td>\n",
       "      <td>0.959449</td>\n",
       "      <td>0.873813</td>\n",
       "      <td>0.952612</td>\n",
       "      <td>1.231149</td>\n",
       "      <td>40.140124</td>\n",
       "      <td>0.934473</td>\n",
       "      <td>0.012984</td>\n",
       "      <td>0.016086</td>\n",
       "      <td>726.945564</td>\n",
       "      <td>0</td>\n",
       "      <td>70.0000</td>\n",
       "      <td>0</td>\n",
       "      <td>1</td>\n",
       "    </tr>\n",
       "    <tr>\n",
       "      <th>366</th>\n",
       "      <td>0.347965</td>\n",
       "      <td>1.421744</td>\n",
       "      <td>0.183806</td>\n",
       "      <td>3.987643</td>\n",
       "      <td>163.293001</td>\n",
       "      <td>-951.0</td>\n",
       "      <td>231987.589044</td>\n",
       "      <td>12.072458</td>\n",
       "      <td>2.801756</td>\n",
       "      <td>2.259543</td>\n",
       "      <td>0.022109</td>\n",
       "      <td>0.484819</td>\n",
       "      <td>0.425104</td>\n",
       "      <td>-0.234808</td>\n",
       "      <td>0.914060</td>\n",
       "      <td>0.994511</td>\n",
       "      <td>0.955753</td>\n",
       "      <td>0.858965</td>\n",
       "      <td>2.085791</td>\n",
       "      <td>2982.109496</td>\n",
       "      <td>0.797732</td>\n",
       "      <td>0.001148</td>\n",
       "      <td>0.002128</td>\n",
       "      <td>2947.807968</td>\n",
       "      <td>3</td>\n",
       "      <td>54.6940</td>\n",
       "      <td>1</td>\n",
       "      <td>0</td>\n",
       "    </tr>\n",
       "  </tbody>\n",
       "</table>\n",
       "<p>284 rows × 28 columns</p>\n",
       "</div>"
      ],
      "text/plain": [
       "           original_shape_Compactness2  ...  SourceDataset_l2\n",
       "PatientID                               ...                  \n",
       "202                           0.274892  ...                 1\n",
       "371                           0.188210  ...                 0\n",
       "246                           0.265740  ...                 0\n",
       "240                           0.255406  ...                 0\n",
       "284                           0.199424  ...                 0\n",
       "...                                ...  ...               ...\n",
       "89                            0.250187  ...                 0\n",
       "261                           0.454151  ...                 0\n",
       "129                           0.234096  ...                 0\n",
       "273                           0.375695  ...                 1\n",
       "366                           0.347965  ...                 0\n",
       "\n",
       "[284 rows x 28 columns]"
      ]
     },
     "execution_count": 77,
     "metadata": {
      "tags": []
     },
     "output_type": "execute_result"
    }
   ],
   "source": [
    "radiomics_path = 'radiomics.csv'\n",
    "clinical_path = 'clinical_data_cleaned.csv'\n",
    "label_path = 'y_train.csv'\n",
    "\n",
    "def load_data(features=None):\n",
    "    X_df, y_df = read_data.load_owkin_data(radiomics_path, clinical_path, label_path)\n",
    "    if features != None:\n",
    "        X_df = X_df[features]\n",
    "    X = X_df.to_numpy()\n",
    "    y = read_data.y_dataframe_to_rsf_input(y_df)\n",
    "    return X_df, y_df, X, y\n",
    "\n",
    "X_df, y_df, X, y = load_data(features)\n",
    "feature_name = list(X_df.columns.values)\n",
    "X_df"
   ]
  },
  {
   "cell_type": "markdown",
   "metadata": {
    "id": "iCQyaFW1Zn-B",
    "colab_type": "text"
   },
   "source": [
    "## Selection via permutation importance\n",
    "See https://eli5.readthedocs.io/en/latest/blackbox/permutation_importance.html"
   ]
  },
  {
   "cell_type": "code",
   "execution_count": 0,
   "metadata": {
    "id": "E7sOnhFNirxk",
    "colab_type": "code",
    "colab": {}
   },
   "outputs": [],
   "source": [
    "import eli5\n",
    "from eli5.sklearn import PermutationImportance\n",
    "from sklearn.feature_selection import SelectFromModel\n",
    "from sksurv.ensemble import RandomSurvivalForest\n",
    "from sklearn.model_selection import RandomizedSearchCV"
   ]
  },
  {
   "cell_type": "markdown",
   "metadata": {
    "id": "27we-i40p8ag",
    "colab_type": "text"
   },
   "source": [
    "Random search for parameters of the random forest, with all features."
   ]
  },
  {
   "cell_type": "code",
   "execution_count": 0,
   "metadata": {
    "id": "zMZKrq3T3lYP",
    "colab_type": "code",
    "colab": {}
   },
   "outputs": [],
   "source": [
    "tuned_params = {\"n_estimators\": [10, 50, 100, 200, 500],\n",
    "                \"min_samples_split\": [2, 5, 10, 20, 40],\n",
    "                \"min_samples_leaf\": [1, 2, 4, 8, 16]\n",
    "                }"
   ]
  },
  {
   "cell_type": "code",
   "execution_count": 0,
   "metadata": {
    "id": "VgdhrodkqAyf",
    "colab_type": "code",
    "outputId": "d582b5a0-18a1-4001-fcd6-96ef790d3fc3",
    "colab": {
     "base_uri": "https://localhost:8080/",
     "height": 513.0
    }
   },
   "outputs": [
    {
     "name": "stdout",
     "output_type": "stream",
     "text": [
      "Fitting 5 folds for each of 50 candidates, totalling 250 fits\n"
     ]
    },
    {
     "name": "stderr",
     "output_type": "stream",
     "text": [
      "[Parallel(n_jobs=-1)]: Using backend LokyBackend with 2 concurrent workers.\n",
      "[Parallel(n_jobs=-1)]: Done  37 tasks      | elapsed:  1.5min\n",
      "/usr/local/lib/python3.6/dist-packages/joblib/externals/loky/process_executor.py:706: UserWarning: A worker stopped while some jobs were given to the executor. This can be caused by a too short worker timeout or by a memory leak.\n",
      "  \"timeout or by a memory leak.\", UserWarning\n",
      "[Parallel(n_jobs=-1)]: Done 158 tasks      | elapsed:  5.0min\n",
      "[Parallel(n_jobs=-1)]: Done 250 out of 250 | elapsed:  7.8min finished\n",
      "/usr/local/lib/python3.6/dist-packages/sklearn/model_selection/_search.py:814: DeprecationWarning: The default of the `iid` parameter will change from True to False in version 0.22 and will be removed in 0.24. This will change numeric results when test-set sizes are unequal.\n",
      "  DeprecationWarning)\n"
     ]
    },
    {
     "data": {
      "text/plain": [
       "RandomizedSearchCV(cv=5, error_score='raise-deprecating',\n",
       "                   estimator=RandomSurvivalForest(bootstrap=True,\n",
       "                                                  max_depth=None,\n",
       "                                                  max_features='auto',\n",
       "                                                  max_leaf_nodes=None,\n",
       "                                                  min_samples_leaf=3,\n",
       "                                                  min_samples_split=6,\n",
       "                                                  min_weight_fraction_leaf=0.0,\n",
       "                                                  n_estimators=100, n_jobs=None,\n",
       "                                                  oob_score=False,\n",
       "                                                  random_state=None, verbose=0,\n",
       "                                                  warm_start=False),\n",
       "                   iid='warn', n_iter=50, n_jobs=-1,\n",
       "                   param_distributions={'min_samples_leaf': [1, 2, 4, 8, 16],\n",
       "                                        'min_samples_split': [2, 5, 10, 20, 40],\n",
       "                                        'n_estimators': [10, 50, 100, 200,\n",
       "                                                         500]},\n",
       "                   pre_dispatch='2*n_jobs', random_state=None, refit=True,\n",
       "                   return_train_score=False, scoring=None, verbose=2)"
      ]
     },
     "execution_count": 80,
     "metadata": {
      "tags": []
     },
     "output_type": "execute_result"
    }
   ],
   "source": [
    "search = RandomizedSearchCV(RandomSurvivalForest(), tuned_params, cv=5, verbose=2, n_jobs=-1, n_iter=50)\n",
    "search.fit(X, y)"
   ]
  },
  {
   "cell_type": "code",
   "execution_count": 0,
   "metadata": {
    "id": "XauGW-tBuEEV",
    "colab_type": "code",
    "outputId": "35bb5481-1447-4e37-8257-eedccd02d36c",
    "colab": {
     "base_uri": "https://localhost:8080/",
     "height": 34.0
    }
   },
   "outputs": [
    {
     "data": {
      "text/plain": [
       "{'min_samples_leaf': 1, 'min_samples_split': 10, 'n_estimators': 10}"
      ]
     },
     "execution_count": 81,
     "metadata": {
      "tags": []
     },
     "output_type": "execute_result"
    }
   ],
   "source": [
    "import json\n",
    "with open('best_params.json', 'w') as fp:\n",
    "    json.dump(search.best_params_, fp)\n",
    "\n",
    "search.best_params_"
   ]
  },
  {
   "cell_type": "code",
   "execution_count": 0,
   "metadata": {
    "id": "YuROoGezuHiu",
    "colab_type": "code",
    "outputId": "ea3237a5-8dd7-4580-cece-78fea3c0ddc9",
    "colab": {
     "base_uri": "https://localhost:8080/",
     "height": 34.0
    }
   },
   "outputs": [
    {
     "data": {
      "text/plain": [
       "0.681492222449054"
      ]
     },
     "execution_count": 82,
     "metadata": {
      "tags": []
     },
     "output_type": "execute_result"
    }
   ],
   "source": [
    "search.best_score_"
   ]
  },
  {
   "cell_type": "markdown",
   "metadata": {
    "id": "hZMB39pax0Ch",
    "colab_type": "text"
   },
   "source": [
    "Creating best model from tuning."
   ]
  },
  {
   "cell_type": "code",
   "execution_count": 0,
   "metadata": {
    "id": "FPSs3b6GxzmD",
    "colab_type": "code",
    "outputId": "e6916639-6c74-46b7-89b9-88b5ed3a2c74",
    "colab": {
     "base_uri": "https://localhost:8080/",
     "height": 68.0
    }
   },
   "outputs": [
    {
     "data": {
      "text/plain": [
       "{'fit_time': array([0.22310948, 0.20801306, 0.21998215, 0.22359776, 0.21602607]),\n",
       " 'score_time': array([0.10423088, 0.10348821, 0.10338593, 0.10330081, 0.11683774]),\n",
       " 'test_score': array([0.71041667, 0.65082109, 0.58180367, 0.6196319 , 0.67475728])}"
      ]
     },
     "execution_count": 83,
     "metadata": {
      "tags": []
     },
     "output_type": "execute_result"
    }
   ],
   "source": [
    "params = search.best_params_\n",
    "rsf = RandomSurvivalForest(n_estimators = params['n_estimators'],\n",
    "                           min_samples_split = params['min_samples_split'],\n",
    "                           min_samples_leaf = params['min_samples_leaf'],\n",
    "                           max_features=\"sqrt\",\n",
    "                           n_jobs=-1\n",
    "                           )\n",
    "cross_validate(rsf, X, y, cv=5)"
   ]
  },
  {
   "cell_type": "markdown",
   "metadata": {
    "id": "omkSLicTjVLX",
    "colab_type": "text"
   },
   "source": [
    "Feature importances are computed for a sequence of estimators trained and evaluated on train/test splits according to ``cv``, and then averaged."
   ]
  },
  {
   "cell_type": "code",
   "execution_count": 0,
   "metadata": {
    "id": "uMMDbQVzioLu",
    "colab_type": "code",
    "colab": {}
   },
   "outputs": [],
   "source": [
    "perm = PermutationImportance(rsf, cv=5)\n",
    "perm.fit(X, y)\n",
    "sel = SelectFromModel(perm, prefit=True)"
   ]
  },
  {
   "cell_type": "code",
   "execution_count": 0,
   "metadata": {
    "id": "rzgEjt0ql5sU",
    "colab_type": "code",
    "outputId": "483500b0-7623-4f34-a237-35a6b2f5b39c",
    "colab": {
     "base_uri": "https://localhost:8080/",
     "height": 238.0
    }
   },
   "outputs": [
    {
     "data": {
      "text/plain": [
       "['original_shape_SurfaceVolumeRatio',\n",
       " 'original_firstorder_Minimum',\n",
       " 'original_glcm_ClusterProminence',\n",
       " 'original_glcm_JointEnergy',\n",
       " 'original_glcm_Idm',\n",
       " 'original_glcm_Imc1',\n",
       " 'original_glrlm_ShortRunEmphasis',\n",
       " 'original_glrlm_LongRunEmphasis',\n",
       " 'original_glrlm_GrayLevelNonUniformity',\n",
       " 'original_glrlm_ShortRunLowGrayLevelEmphasis',\n",
       " 'original_glrlm_LongRunHighGrayLevelEmphasis',\n",
       " 'Nstage',\n",
       " 'SourceDataset_l2']"
      ]
     },
     "execution_count": 85,
     "metadata": {
      "tags": []
     },
     "output_type": "execute_result"
    }
   ],
   "source": [
    "X_best = sel.transform(X)\n",
    "id_features = sel.get_support(indices=True)\n",
    "best_features = [feature_name[id] for id in id_features]\n",
    "best_features"
   ]
  },
  {
   "cell_type": "markdown",
   "metadata": {
    "id": "CFmH3cz8SUXT",
    "colab_type": "text"
   },
   "source": [
    "Problem of the feature selection by permutation importance: the errors (std) on the feature importance weights are too high, and the computed feature importance weights don't make sense."
   ]
  },
  {
   "cell_type": "code",
   "execution_count": 0,
   "metadata": {
    "id": "M0y9U5vWJgoE",
    "colab_type": "code",
    "outputId": "27dffd13-5dfd-495c-fa9e-0d2905c74947",
    "colab": {
     "base_uri": "https://localhost:8080/",
     "height": 238.0
    }
   },
   "outputs": [
    {
     "name": "stdout",
     "output_type": "stream",
     "text": [
      "original_shape_SurfaceVolumeRatio: 0.020968142322508116 +/- 0.01987413782583521\n",
      "original_firstorder_Minimum: 0.004782756396357914 +/- 0.012517019893694161\n",
      "original_glcm_ClusterProminence: 0.0028753696565334552 +/- 0.014174580908375901\n",
      "original_glcm_JointEnergy: 0.00710193285525678 +/- 0.009908880621070757\n",
      "original_glcm_Idm: 0.005363079617221596 +/- 0.01372982140990025\n",
      "original_glcm_Imc1: 0.009299617695135192 +/- 0.024793343027533932\n",
      "original_glrlm_ShortRunEmphasis: 0.013550379256367803 +/- 0.02382858097433002\n",
      "original_glrlm_LongRunEmphasis: 0.020862170600605516 +/- 0.012444436857730468\n",
      "original_glrlm_GrayLevelNonUniformity: 0.016629158199686443 +/- 0.020176409780966232\n",
      "original_glrlm_ShortRunLowGrayLevelEmphasis: 0.0037956133982889415 +/- 0.01722860897105692\n",
      "original_glrlm_LongRunHighGrayLevelEmphasis: 0.00821198522155985 +/- 0.01777512119568821\n",
      "Nstage: 0.003868734861434109 +/- 0.011216352542439795\n",
      "SourceDataset_l2: 0.00734324786519267 +/- 0.010657670355138135\n"
     ]
    }
   ],
   "source": [
    "for id in id_features:\n",
    "    print(f'{feature_name[id]}: {perm.feature_importances_[id]} +/- {perm.feature_importances_std_[id]}')"
   ]
  },
  {
   "cell_type": "code",
   "execution_count": 0,
   "metadata": {
    "id": "DG1PCy-I0p5a",
    "colab_type": "code",
    "outputId": "cbf3893b-4b6b-4776-c070-1e4aed03a297",
    "colab": {
     "base_uri": "https://localhost:8080/",
     "height": 238.0
    }
   },
   "outputs": [
    {
     "data": {
      "text/plain": [
       "['original_shape_Compactness2',\n",
       " 'original_glcm_DifferenceAverage',\n",
       " 'original_glcm_Idm',\n",
       " 'original_glcm_Contrast',\n",
       " 'original_glcm_DifferenceEntropy',\n",
       " 'original_firstorder_MeanAbsoluteDeviation',\n",
       " 'original_firstorder_Kurtosis',\n",
       " 'original_shape_SphericalDisproportion',\n",
       " 'original_shape_SurfaceVolumeRatio',\n",
       " 'original_glcm_Id',\n",
       " 'original_firstorder_Minimum',\n",
       " 'original_glcm_JointEnergy',\n",
       " 'original_glcm_ClusterProminence']"
      ]
     },
     "execution_count": 86,
     "metadata": {
      "tags": []
     },
     "output_type": "execute_result"
    }
   ],
   "source": [
    "best_indices = np.flip(np.argsort(perm.feature_importances_))[:len(best_features)]\n",
    "[feature_name[i] for i in np.argsort(best_indices)] "
   ]
  },
  {
   "cell_type": "markdown",
   "metadata": {
    "id": "j3CPwSYgnVFL",
    "colab_type": "text"
   },
   "source": [
    "Cross validation."
   ]
  },
  {
   "cell_type": "code",
   "execution_count": 0,
   "metadata": {
    "id": "ZZy_tXRinL4t",
    "colab_type": "code",
    "outputId": "0e9b7a17-c8ad-4812-ba70-4294fa869d5c",
    "colab": {
     "base_uri": "https://localhost:8080/",
     "height": 68.0
    }
   },
   "outputs": [
    {
     "data": {
      "text/plain": [
       "{'fit_time': array([0.12452412, 0.13066578, 0.12156296, 0.12446737, 0.1260767 ]),\n",
       " 'score_time': array([0.10334563, 0.10343194, 0.10331035, 0.10328126, 0.1031146 ]),\n",
       " 'test_score': array([0.69333333, 0.66378565, 0.57222666, 0.67382413, 0.65695793])}"
      ]
     },
     "execution_count": 87,
     "metadata": {
      "tags": []
     },
     "output_type": "execute_result"
    }
   ],
   "source": [
    "from sklearn.model_selection import cross_validate\n",
    "X_best = sel.transform(X)\n",
    "cross_validate(rsf, X_best, y, cv=5)"
   ]
  },
  {
   "cell_type": "markdown",
   "metadata": {
    "id": "aExvM8zMKD4W",
    "colab_type": "text"
   },
   "source": [
    "## Growing strategy for feature selection"
   ]
  },
  {
   "cell_type": "markdown",
   "metadata": {
    "id": "S-n_aC2jKpor",
    "colab_type": "text"
   },
   "source": [
    "Choose a set of features, fine tune, cross validate."
   ]
  },
  {
   "cell_type": "code",
   "execution_count": 0,
   "metadata": {
    "id": "IPKZA7f7LDt5",
    "colab_type": "code",
    "colab": {}
   },
   "outputs": [],
   "source": [
    "class RSFModel():\n",
    "\n",
    "    def __init__(self, features):\n",
    "        self.X_df, self.y_df, self.X, self.y = load_data(features)\n",
    "\n",
    "    def fine_tune(self, hyperparams):\n",
    "        search = RandomizedSearchCV(RandomSurvivalForest(), tuned_params, cv=5, verbose=1, n_jobs=-1, n_iter=10)\n",
    "        search.fit(self.X, self.y)\n",
    "        return search.best_params_\n",
    "\n",
    "    def cross_validate(self, params):\n",
    "        params = search.best_params_\n",
    "        rsf = RandomSurvivalForest(n_estimators = params['n_estimators'],\n",
    "                                min_samples_split = params['min_samples_split'],\n",
    "                                min_samples_leaf = params['min_samples_leaf'],\n",
    "                                max_features=\"sqrt\",\n",
    "                                n_jobs=-1\n",
    "                                )\n",
    "        return np.mean(cross_validate(rsf, X, y, cv=5)['test_score'])"
   ]
  },
  {
   "cell_type": "code",
   "execution_count": 0,
   "metadata": {
    "id": "1J3zW3ygMIq_",
    "colab_type": "code",
    "colab": {}
   },
   "outputs": [],
   "source": [
    "def best_growing_features(selected_features, remaining_features, hyperparams):\n",
    "    score = []\n",
    "    for feature in remaining_features:\n",
    "        model_features = selected_features + [feature]\n",
    "        print(f'Model features: {model_features}')\n",
    "        model = RSFModel(model_features)\n",
    "        params = model.fine_tune(hyperparams)\n",
    "        model_score = model.cross_validate(params)\n",
    "        print(f'CIndex: {model_score}')\n",
    "        score.append(model_score)\n",
    "    max_id = np.argmax(score)\n",
    "    return remaining_features[max_id], score[max_id]"
   ]
  },
  {
   "cell_type": "markdown",
   "metadata": {
    "id": "UbKiQqOjRgZL",
    "colab_type": "text"
   },
   "source": [
    "Feature growth: find a set of selected features. The list of selected features are given in the order of the growth. After each growth, we compute the CIndex of the model with the selected features by cross validation."
   ]
  },
  {
   "cell_type": "code",
   "execution_count": 0,
   "metadata": {
    "id": "wszzRO2qPP4u",
    "colab_type": "code",
    "outputId": "3472146c-256d-4889-b0c7-fa74ec0a234d",
    "colab": {
     "base_uri": "https://localhost:8080/",
     "height": 1000.0
    }
   },
   "outputs": [
    {
     "name": "stdout",
     "output_type": "stream",
     "text": [
      "Growing 1-th feature...\n",
      "\n",
      "Model features: ['original_shape_Compactness2']\n",
      "Fitting 5 folds for each of 10 candidates, totalling 50 fits\n"
     ]
    },
    {
     "name": "stderr",
     "output_type": "stream",
     "text": [
      "[Parallel(n_jobs=-1)]: Using backend LokyBackend with 2 concurrent workers.\n",
      "[Parallel(n_jobs=-1)]: Done  46 tasks      | elapsed:   30.9s\n",
      "/usr/local/lib/python3.6/dist-packages/joblib/externals/loky/process_executor.py:706: UserWarning: A worker stopped while some jobs were given to the executor. This can be caused by a too short worker timeout or by a memory leak.\n",
      "  \"timeout or by a memory leak.\", UserWarning\n",
      "[Parallel(n_jobs=-1)]: Done  50 out of  50 | elapsed:   43.7s finished\n"
     ]
    },
    {
     "name": "stdout",
     "output_type": "stream",
     "text": [
      "CIndex: 0.668255125000726\n",
      "Model features: ['original_shape_SphericalDisproportion']\n",
      "Fitting 5 folds for each of 10 candidates, totalling 50 fits\n"
     ]
    },
    {
     "name": "stderr",
     "output_type": "stream",
     "text": [
      "[Parallel(n_jobs=-1)]: Using backend LokyBackend with 2 concurrent workers.\n",
      "[Parallel(n_jobs=-1)]: Done  46 tasks      | elapsed:   30.3s\n",
      "[Parallel(n_jobs=-1)]: Done  50 out of  50 | elapsed:   39.0s finished\n",
      "/usr/local/lib/python3.6/dist-packages/sklearn/model_selection/_search.py:814: DeprecationWarning: The default of the `iid` parameter will change from True to False in version 0.22 and will be removed in 0.24. This will change numeric results when test-set sizes are unequal.\n",
      "  DeprecationWarning)\n"
     ]
    },
    {
     "name": "stdout",
     "output_type": "stream",
     "text": [
      "CIndex: 0.641458168606933\n",
      "Model features: ['original_shape_SurfaceVolumeRatio']\n",
      "Fitting 5 folds for each of 10 candidates, totalling 50 fits\n"
     ]
    },
    {
     "name": "stderr",
     "output_type": "stream",
     "text": [
      "[Parallel(n_jobs=-1)]: Using backend LokyBackend with 2 concurrent workers.\n",
      "[Parallel(n_jobs=-1)]: Done  46 tasks      | elapsed:   31.2s\n",
      "[Parallel(n_jobs=-1)]: Done  50 out of  50 | elapsed:   36.3s finished\n"
     ]
    },
    {
     "name": "stdout",
     "output_type": "stream",
     "text": [
      "CIndex: 0.6520622648319663\n",
      "Model features: ['original_firstorder_Kurtosis']\n",
      "Fitting 5 folds for each of 10 candidates, totalling 50 fits\n"
     ]
    },
    {
     "name": "stderr",
     "output_type": "stream",
     "text": [
      "[Parallel(n_jobs=-1)]: Using backend LokyBackend with 2 concurrent workers.\n",
      "[Parallel(n_jobs=-1)]: Done  46 tasks      | elapsed:   20.0s\n",
      "[Parallel(n_jobs=-1)]: Done  50 out of  50 | elapsed:   20.6s finished\n"
     ]
    },
    {
     "name": "stdout",
     "output_type": "stream",
     "text": [
      "CIndex: 0.6620346376053959\n",
      "Model features: ['original_firstorder_MeanAbsoluteDeviation']\n",
      "Fitting 5 folds for each of 10 candidates, totalling 50 fits\n"
     ]
    },
    {
     "name": "stderr",
     "output_type": "stream",
     "text": [
      "[Parallel(n_jobs=-1)]: Using backend LokyBackend with 2 concurrent workers.\n",
      "[Parallel(n_jobs=-1)]: Done  46 tasks      | elapsed:   18.8s\n",
      "[Parallel(n_jobs=-1)]: Done  50 out of  50 | elapsed:   19.6s finished\n",
      "/usr/local/lib/python3.6/dist-packages/sklearn/model_selection/_search.py:814: DeprecationWarning: The default of the `iid` parameter will change from True to False in version 0.22 and will be removed in 0.24. This will change numeric results when test-set sizes are unequal.\n",
      "  DeprecationWarning)\n"
     ]
    },
    {
     "name": "stdout",
     "output_type": "stream",
     "text": [
      "CIndex: 0.66053307075514\n",
      "Model features: ['original_firstorder_Minimum']\n",
      "Fitting 5 folds for each of 10 candidates, totalling 50 fits\n"
     ]
    },
    {
     "name": "stderr",
     "output_type": "stream",
     "text": [
      "[Parallel(n_jobs=-1)]: Using backend LokyBackend with 2 concurrent workers.\n",
      "[Parallel(n_jobs=-1)]: Done  46 tasks      | elapsed:   23.6s\n",
      "[Parallel(n_jobs=-1)]: Done  50 out of  50 | elapsed:   25.6s finished\n",
      "/usr/local/lib/python3.6/dist-packages/sklearn/model_selection/_search.py:814: DeprecationWarning: The default of the `iid` parameter will change from True to False in version 0.22 and will be removed in 0.24. This will change numeric results when test-set sizes are unequal.\n",
      "  DeprecationWarning)\n"
     ]
    },
    {
     "name": "stdout",
     "output_type": "stream",
     "text": [
      "CIndex: 0.6373208187269601\n",
      "Model features: ['original_glcm_ClusterProminence']\n",
      "Fitting 5 folds for each of 10 candidates, totalling 50 fits\n"
     ]
    },
    {
     "name": "stderr",
     "output_type": "stream",
     "text": [
      "[Parallel(n_jobs=-1)]: Using backend LokyBackend with 2 concurrent workers.\n",
      "/usr/local/lib/python3.6/dist-packages/joblib/externals/loky/process_executor.py:706: UserWarning: A worker stopped while some jobs were given to the executor. This can be caused by a too short worker timeout or by a memory leak.\n",
      "  \"timeout or by a memory leak.\", UserWarning\n",
      "[Parallel(n_jobs=-1)]: Done  46 tasks      | elapsed:   40.8s\n",
      "[Parallel(n_jobs=-1)]: Done  50 out of  50 | elapsed:   42.7s finished\n",
      "/usr/local/lib/python3.6/dist-packages/sklearn/model_selection/_search.py:814: DeprecationWarning: The default of the `iid` parameter will change from True to False in version 0.22 and will be removed in 0.24. This will change numeric results when test-set sizes are unequal.\n",
      "  DeprecationWarning)\n"
     ]
    },
    {
     "name": "stdout",
     "output_type": "stream",
     "text": [
      "CIndex: 0.6464345869017427\n",
      "Model features: ['original_glcm_Contrast']\n",
      "Fitting 5 folds for each of 10 candidates, totalling 50 fits\n"
     ]
    },
    {
     "name": "stderr",
     "output_type": "stream",
     "text": [
      "[Parallel(n_jobs=-1)]: Using backend LokyBackend with 2 concurrent workers.\n",
      "[Parallel(n_jobs=-1)]: Done  50 out of  50 | elapsed:   19.9s finished\n"
     ]
    },
    {
     "name": "stdout",
     "output_type": "stream",
     "text": [
      "CIndex: 0.6486722031949121\n",
      "Model features: ['original_glcm_DifferenceEntropy']\n",
      "Fitting 5 folds for each of 10 candidates, totalling 50 fits\n"
     ]
    },
    {
     "name": "stderr",
     "output_type": "stream",
     "text": [
      "[Parallel(n_jobs=-1)]: Using backend LokyBackend with 2 concurrent workers.\n",
      "[Parallel(n_jobs=-1)]: Done  50 out of  50 | elapsed:   20.2s finished\n",
      "/usr/local/lib/python3.6/dist-packages/sklearn/model_selection/_search.py:814: DeprecationWarning: The default of the `iid` parameter will change from True to False in version 0.22 and will be removed in 0.24. This will change numeric results when test-set sizes are unequal.\n",
      "  DeprecationWarning)\n"
     ]
    },
    {
     "name": "stdout",
     "output_type": "stream",
     "text": [
      "CIndex: 0.655411689710727\n",
      "Model features: ['original_glcm_DifferenceAverage']\n",
      "Fitting 5 folds for each of 10 candidates, totalling 50 fits\n"
     ]
    },
    {
     "name": "stderr",
     "output_type": "stream",
     "text": [
      "[Parallel(n_jobs=-1)]: Using backend LokyBackend with 2 concurrent workers.\n",
      "[Parallel(n_jobs=-1)]: Done  50 out of  50 | elapsed:   25.4s finished\n",
      "/usr/local/lib/python3.6/dist-packages/sklearn/model_selection/_search.py:814: DeprecationWarning: The default of the `iid` parameter will change from True to False in version 0.22 and will be removed in 0.24. This will change numeric results when test-set sizes are unequal.\n",
      "  DeprecationWarning)\n"
     ]
    },
    {
     "name": "stdout",
     "output_type": "stream",
     "text": [
      "CIndex: 0.6535454318402498\n",
      "Model features: ['original_glcm_JointEnergy']\n",
      "Fitting 5 folds for each of 10 candidates, totalling 50 fits\n"
     ]
    },
    {
     "name": "stderr",
     "output_type": "stream",
     "text": [
      "[Parallel(n_jobs=-1)]: Using backend LokyBackend with 2 concurrent workers.\n",
      "[Parallel(n_jobs=-1)]: Done  46 tasks      | elapsed:   19.2s\n",
      "[Parallel(n_jobs=-1)]: Done  50 out of  50 | elapsed:   22.3s finished\n",
      "/usr/local/lib/python3.6/dist-packages/sklearn/model_selection/_search.py:814: DeprecationWarning: The default of the `iid` parameter will change from True to False in version 0.22 and will be removed in 0.24. This will change numeric results when test-set sizes are unequal.\n",
      "  DeprecationWarning)\n"
     ]
    },
    {
     "name": "stdout",
     "output_type": "stream",
     "text": [
      "CIndex: 0.6412856719019797\n",
      "Model features: ['original_glcm_Id']\n",
      "Fitting 5 folds for each of 10 candidates, totalling 50 fits\n"
     ]
    },
    {
     "name": "stderr",
     "output_type": "stream",
     "text": [
      "[Parallel(n_jobs=-1)]: Using backend LokyBackend with 2 concurrent workers.\n",
      "[Parallel(n_jobs=-1)]: Done  50 out of  50 | elapsed:   28.1s finished\n",
      "/usr/local/lib/python3.6/dist-packages/sklearn/model_selection/_search.py:814: DeprecationWarning: The default of the `iid` parameter will change from True to False in version 0.22 and will be removed in 0.24. This will change numeric results when test-set sizes are unequal.\n",
      "  DeprecationWarning)\n"
     ]
    },
    {
     "name": "stdout",
     "output_type": "stream",
     "text": [
      "CIndex: 0.6457482150712742\n",
      "Model features: ['original_glcm_Idm']\n",
      "Fitting 5 folds for each of 10 candidates, totalling 50 fits\n"
     ]
    },
    {
     "name": "stderr",
     "output_type": "stream",
     "text": [
      "[Parallel(n_jobs=-1)]: Using backend LokyBackend with 2 concurrent workers.\n",
      "[Parallel(n_jobs=-1)]: Done  50 out of  50 | elapsed:   19.1s finished\n"
     ]
    },
    {
     "name": "stdout",
     "output_type": "stream",
     "text": [
      "CIndex: 0.656469270880619\n",
      "Model features: ['original_glcm_Imc1']\n",
      "Fitting 5 folds for each of 10 candidates, totalling 50 fits\n"
     ]
    },
    {
     "name": "stderr",
     "output_type": "stream",
     "text": [
      "[Parallel(n_jobs=-1)]: Using backend LokyBackend with 2 concurrent workers.\n",
      "[Parallel(n_jobs=-1)]: Done  46 tasks      | elapsed:   18.6s\n",
      "[Parallel(n_jobs=-1)]: Done  50 out of  50 | elapsed:   20.0s finished\n"
     ]
    },
    {
     "name": "stdout",
     "output_type": "stream",
     "text": [
      "CIndex: 0.663713695934673\n",
      "Model features: ['original_glcm_Imc2']\n",
      "Fitting 5 folds for each of 10 candidates, totalling 50 fits\n"
     ]
    },
    {
     "name": "stderr",
     "output_type": "stream",
     "text": [
      "[Parallel(n_jobs=-1)]: Using backend LokyBackend with 2 concurrent workers.\n",
      "[Parallel(n_jobs=-1)]: Done  46 tasks      | elapsed:   38.6s\n",
      "[Parallel(n_jobs=-1)]: Done  50 out of  50 | elapsed:   38.8s finished\n",
      "/usr/local/lib/python3.6/dist-packages/sklearn/model_selection/_search.py:814: DeprecationWarning: The default of the `iid` parameter will change from True to False in version 0.22 and will be removed in 0.24. This will change numeric results when test-set sizes are unequal.\n",
      "  DeprecationWarning)\n"
     ]
    },
    {
     "name": "stdout",
     "output_type": "stream",
     "text": [
      "CIndex: 0.6432562299852479\n",
      "Model features: ['original_glcm_Idmn']\n",
      "Fitting 5 folds for each of 10 candidates, totalling 50 fits\n"
     ]
    },
    {
     "name": "stderr",
     "output_type": "stream",
     "text": [
      "[Parallel(n_jobs=-1)]: Using backend LokyBackend with 2 concurrent workers.\n",
      "[Parallel(n_jobs=-1)]: Done  46 tasks      | elapsed:   33.5s\n",
      "[Parallel(n_jobs=-1)]: Done  50 out of  50 | elapsed:   37.8s finished\n"
     ]
    },
    {
     "name": "stdout",
     "output_type": "stream",
     "text": [
      "CIndex: 0.645192027157947\n",
      "Model features: ['original_glcm_Idn']\n",
      "Fitting 5 folds for each of 10 candidates, totalling 50 fits\n"
     ]
    },
    {
     "name": "stderr",
     "output_type": "stream",
     "text": [
      "[Parallel(n_jobs=-1)]: Using backend LokyBackend with 2 concurrent workers.\n",
      "[Parallel(n_jobs=-1)]: Done  46 tasks      | elapsed:   27.8s\n",
      "[Parallel(n_jobs=-1)]: Done  50 out of  50 | elapsed:   29.3s finished\n"
     ]
    },
    {
     "name": "stdout",
     "output_type": "stream",
     "text": [
      "CIndex: 0.630047153023764\n",
      "Model features: ['original_glrlm_ShortRunEmphasis']\n",
      "Fitting 5 folds for each of 10 candidates, totalling 50 fits\n"
     ]
    },
    {
     "name": "stderr",
     "output_type": "stream",
     "text": [
      "[Parallel(n_jobs=-1)]: Using backend LokyBackend with 2 concurrent workers.\n",
      "[Parallel(n_jobs=-1)]: Done  46 tasks      | elapsed:   14.3s\n",
      "[Parallel(n_jobs=-1)]: Done  50 out of  50 | elapsed:   15.9s finished\n"
     ]
    },
    {
     "name": "stdout",
     "output_type": "stream",
     "text": [
      "CIndex: 0.6439044215738351\n",
      "Model features: ['original_glrlm_LongRunEmphasis']\n",
      "Fitting 5 folds for each of 10 candidates, totalling 50 fits\n"
     ]
    },
    {
     "name": "stderr",
     "output_type": "stream",
     "text": [
      "[Parallel(n_jobs=-1)]: Using backend LokyBackend with 2 concurrent workers.\n",
      "[Parallel(n_jobs=-1)]: Done  46 tasks      | elapsed:   29.7s\n",
      "[Parallel(n_jobs=-1)]: Done  50 out of  50 | elapsed:   30.2s finished\n",
      "/usr/local/lib/python3.6/dist-packages/sklearn/model_selection/_search.py:814: DeprecationWarning: The default of the `iid` parameter will change from True to False in version 0.22 and will be removed in 0.24. This will change numeric results when test-set sizes are unequal.\n",
      "  DeprecationWarning)\n"
     ]
    },
    {
     "name": "stdout",
     "output_type": "stream",
     "text": [
      "CIndex: 0.6644781590644955\n",
      "Model features: ['original_glrlm_GrayLevelNonUniformity']\n",
      "Fitting 5 folds for each of 10 candidates, totalling 50 fits\n"
     ]
    },
    {
     "name": "stderr",
     "output_type": "stream",
     "text": [
      "[Parallel(n_jobs=-1)]: Using backend LokyBackend with 2 concurrent workers.\n",
      "[Parallel(n_jobs=-1)]: Done  46 tasks      | elapsed:   13.7s\n",
      "[Parallel(n_jobs=-1)]: Done  50 out of  50 | elapsed:   14.5s finished\n"
     ]
    },
    {
     "name": "stdout",
     "output_type": "stream",
     "text": [
      "CIndex: 0.6432880618293775\n",
      "Model features: ['original_glrlm_RunPercentage']\n",
      "Fitting 5 folds for each of 10 candidates, totalling 50 fits\n"
     ]
    },
    {
     "name": "stderr",
     "output_type": "stream",
     "text": [
      "[Parallel(n_jobs=-1)]: Using backend LokyBackend with 2 concurrent workers.\n",
      "[Parallel(n_jobs=-1)]: Done  46 tasks      | elapsed:   27.4s\n",
      "[Parallel(n_jobs=-1)]: Done  50 out of  50 | elapsed:   28.0s finished\n",
      "/usr/local/lib/python3.6/dist-packages/sklearn/model_selection/_search.py:814: DeprecationWarning: The default of the `iid` parameter will change from True to False in version 0.22 and will be removed in 0.24. This will change numeric results when test-set sizes are unequal.\n",
      "  DeprecationWarning)\n"
     ]
    },
    {
     "name": "stdout",
     "output_type": "stream",
     "text": [
      "CIndex: 0.6377557876234958\n",
      "Model features: ['original_glrlm_ShortRunLowGrayLevelEmphasis']\n",
      "Fitting 5 folds for each of 10 candidates, totalling 50 fits\n"
     ]
    },
    {
     "name": "stderr",
     "output_type": "stream",
     "text": [
      "[Parallel(n_jobs=-1)]: Using backend LokyBackend with 2 concurrent workers.\n",
      "[Parallel(n_jobs=-1)]: Done  46 tasks      | elapsed:   45.8s\n",
      "[Parallel(n_jobs=-1)]: Done  50 out of  50 | elapsed:   47.8s finished\n",
      "/usr/local/lib/python3.6/dist-packages/sklearn/model_selection/_search.py:814: DeprecationWarning: The default of the `iid` parameter will change from True to False in version 0.22 and will be removed in 0.24. This will change numeric results when test-set sizes are unequal.\n",
      "  DeprecationWarning)\n"
     ]
    },
    {
     "name": "stdout",
     "output_type": "stream",
     "text": [
      "CIndex: 0.6531771453113256\n",
      "Model features: ['original_glrlm_LongRunLowGrayLevelEmphasis']\n",
      "Fitting 5 folds for each of 10 candidates, totalling 50 fits\n"
     ]
    },
    {
     "name": "stderr",
     "output_type": "stream",
     "text": [
      "[Parallel(n_jobs=-1)]: Using backend LokyBackend with 2 concurrent workers.\n",
      "[Parallel(n_jobs=-1)]: Done  46 tasks      | elapsed:   44.8s\n",
      "[Parallel(n_jobs=-1)]: Done  50 out of  50 | elapsed:   45.5s finished\n",
      "/usr/local/lib/python3.6/dist-packages/sklearn/model_selection/_search.py:814: DeprecationWarning: The default of the `iid` parameter will change from True to False in version 0.22 and will be removed in 0.24. This will change numeric results when test-set sizes are unequal.\n",
      "  DeprecationWarning)\n"
     ]
    },
    {
     "name": "stdout",
     "output_type": "stream",
     "text": [
      "CIndex: 0.630843879263647\n",
      "Model features: ['original_glrlm_LongRunHighGrayLevelEmphasis']\n",
      "Fitting 5 folds for each of 10 candidates, totalling 50 fits\n"
     ]
    },
    {
     "name": "stderr",
     "output_type": "stream",
     "text": [
      "[Parallel(n_jobs=-1)]: Using backend LokyBackend with 2 concurrent workers.\n",
      "[Parallel(n_jobs=-1)]: Done  46 tasks      | elapsed:   24.8s\n",
      "[Parallel(n_jobs=-1)]: Done  50 out of  50 | elapsed:   27.5s finished\n"
     ]
    },
    {
     "name": "stdout",
     "output_type": "stream",
     "text": [
      "CIndex: 0.6531062616845703\n",
      "Model features: ['Nstage']\n",
      "Fitting 5 folds for each of 10 candidates, totalling 50 fits\n"
     ]
    },
    {
     "name": "stderr",
     "output_type": "stream",
     "text": [
      "[Parallel(n_jobs=-1)]: Using backend LokyBackend with 2 concurrent workers.\n",
      "[Parallel(n_jobs=-1)]: Done  46 tasks      | elapsed:   11.3s\n",
      "[Parallel(n_jobs=-1)]: Done  50 out of  50 | elapsed:   13.0s finished\n",
      "/usr/local/lib/python3.6/dist-packages/sklearn/model_selection/_search.py:814: DeprecationWarning: The default of the `iid` parameter will change from True to False in version 0.22 and will be removed in 0.24. This will change numeric results when test-set sizes are unequal.\n",
      "  DeprecationWarning)\n"
     ]
    },
    {
     "name": "stdout",
     "output_type": "stream",
     "text": [
      "CIndex: 0.6610080674472011\n",
      "Model features: ['age']\n",
      "Fitting 5 folds for each of 10 candidates, totalling 50 fits\n"
     ]
    },
    {
     "name": "stderr",
     "output_type": "stream",
     "text": [
      "[Parallel(n_jobs=-1)]: Using backend LokyBackend with 2 concurrent workers.\n",
      "[Parallel(n_jobs=-1)]: Done  50 out of  50 | elapsed:   38.5s finished\n"
     ]
    },
    {
     "name": "stdout",
     "output_type": "stream",
     "text": [
      "CIndex: 0.6413726941280498\n",
      "Model features: ['SourceDataset_l1']\n",
      "Fitting 5 folds for each of 10 candidates, totalling 50 fits\n"
     ]
    },
    {
     "name": "stderr",
     "output_type": "stream",
     "text": [
      "[Parallel(n_jobs=-1)]: Using backend LokyBackend with 2 concurrent workers.\n",
      "[Parallel(n_jobs=-1)]: Done  50 out of  50 | elapsed:    6.5s finished\n",
      "/usr/local/lib/python3.6/dist-packages/sklearn/model_selection/_search.py:814: DeprecationWarning: The default of the `iid` parameter will change from True to False in version 0.22 and will be removed in 0.24. This will change numeric results when test-set sizes are unequal.\n",
      "  DeprecationWarning)\n"
     ]
    },
    {
     "name": "stdout",
     "output_type": "stream",
     "text": [
      "CIndex: 0.6581097454458957\n",
      "Model features: ['SourceDataset_l2']\n",
      "Fitting 5 folds for each of 10 candidates, totalling 50 fits\n"
     ]
    },
    {
     "name": "stderr",
     "output_type": "stream",
     "text": [
      "[Parallel(n_jobs=-1)]: Using backend LokyBackend with 2 concurrent workers.\n",
      "[Parallel(n_jobs=-1)]: Done  50 out of  50 | elapsed:    8.9s finished\n",
      "/usr/local/lib/python3.6/dist-packages/sklearn/model_selection/_search.py:814: DeprecationWarning: The default of the `iid` parameter will change from True to False in version 0.22 and will be removed in 0.24. This will change numeric results when test-set sizes are unequal.\n",
      "  DeprecationWarning)\n"
     ]
    },
    {
     "name": "stdout",
     "output_type": "stream",
     "text": [
      "CIndex: 0.6432952642003361\n",
      "Selected new growing feature: original_shape_Compactness2\n",
      "\n",
      "Growing 2-th feature...\n",
      "\n",
      "Model features: ['original_shape_Compactness2', 'original_shape_SphericalDisproportion']\n",
      "Fitting 5 folds for each of 10 candidates, totalling 50 fits\n"
     ]
    },
    {
     "name": "stderr",
     "output_type": "stream",
     "text": [
      "[Parallel(n_jobs=-1)]: Using backend LokyBackend with 2 concurrent workers.\n",
      "[Parallel(n_jobs=-1)]: Done  46 tasks      | elapsed:   32.7s\n",
      "[Parallel(n_jobs=-1)]: Done  50 out of  50 | elapsed:   32.9s finished\n",
      "/usr/local/lib/python3.6/dist-packages/sklearn/model_selection/_search.py:814: DeprecationWarning: The default of the `iid` parameter will change from True to False in version 0.22 and will be removed in 0.24. This will change numeric results when test-set sizes are unequal.\n",
      "  DeprecationWarning)\n"
     ]
    },
    {
     "name": "stdout",
     "output_type": "stream",
     "text": [
      "CIndex: 0.6651242647073013\n",
      "Model features: ['original_shape_Compactness2', 'original_shape_SurfaceVolumeRatio']\n",
      "Fitting 5 folds for each of 10 candidates, totalling 50 fits\n"
     ]
    },
    {
     "name": "stderr",
     "output_type": "stream",
     "text": [
      "[Parallel(n_jobs=-1)]: Using backend LokyBackend with 2 concurrent workers.\n",
      "[Parallel(n_jobs=-1)]: Done  46 tasks      | elapsed:   20.0s\n",
      "[Parallel(n_jobs=-1)]: Done  50 out of  50 | elapsed:   20.8s finished\n"
     ]
    },
    {
     "name": "stdout",
     "output_type": "stream",
     "text": [
      "CIndex: 0.6456137113371129\n",
      "Model features: ['original_shape_Compactness2', 'original_firstorder_Kurtosis']\n",
      "Fitting 5 folds for each of 10 candidates, totalling 50 fits\n"
     ]
    },
    {
     "name": "stderr",
     "output_type": "stream",
     "text": [
      "[Parallel(n_jobs=-1)]: Using backend LokyBackend with 2 concurrent workers.\n",
      "[Parallel(n_jobs=-1)]: Done  46 tasks      | elapsed:   35.1s\n",
      "[Parallel(n_jobs=-1)]: Done  50 out of  50 | elapsed:   36.4s finished\n",
      "/usr/local/lib/python3.6/dist-packages/sklearn/model_selection/_search.py:814: DeprecationWarning: The default of the `iid` parameter will change from True to False in version 0.22 and will be removed in 0.24. This will change numeric results when test-set sizes are unequal.\n",
      "  DeprecationWarning)\n"
     ]
    },
    {
     "name": "stdout",
     "output_type": "stream",
     "text": [
      "CIndex: 0.6574225729667444\n",
      "Model features: ['original_shape_Compactness2', 'original_firstorder_MeanAbsoluteDeviation']\n",
      "Fitting 5 folds for each of 10 candidates, totalling 50 fits\n"
     ]
    },
    {
     "name": "stderr",
     "output_type": "stream",
     "text": [
      "[Parallel(n_jobs=-1)]: Using backend LokyBackend with 2 concurrent workers.\n",
      "[Parallel(n_jobs=-1)]: Done  50 out of  50 | elapsed:   17.9s finished\n"
     ]
    },
    {
     "name": "stdout",
     "output_type": "stream",
     "text": [
      "CIndex: 0.66036935436364\n",
      "Model features: ['original_shape_Compactness2', 'original_firstorder_Minimum']\n",
      "Fitting 5 folds for each of 10 candidates, totalling 50 fits\n"
     ]
    },
    {
     "name": "stderr",
     "output_type": "stream",
     "text": [
      "[Parallel(n_jobs=-1)]: Using backend LokyBackend with 2 concurrent workers.\n",
      "[Parallel(n_jobs=-1)]: Done  46 tasks      | elapsed:   46.3s\n",
      "[Parallel(n_jobs=-1)]: Done  50 out of  50 | elapsed:   48.7s finished\n",
      "/usr/local/lib/python3.6/dist-packages/sklearn/model_selection/_search.py:814: DeprecationWarning: The default of the `iid` parameter will change from True to False in version 0.22 and will be removed in 0.24. This will change numeric results when test-set sizes are unequal.\n",
      "  DeprecationWarning)\n"
     ]
    },
    {
     "name": "stdout",
     "output_type": "stream",
     "text": [
      "CIndex: 0.6477711597801306\n",
      "Model features: ['original_shape_Compactness2', 'original_glcm_ClusterProminence']\n",
      "Fitting 5 folds for each of 10 candidates, totalling 50 fits\n"
     ]
    },
    {
     "name": "stderr",
     "output_type": "stream",
     "text": [
      "[Parallel(n_jobs=-1)]: Using backend LokyBackend with 2 concurrent workers.\n",
      "[Parallel(n_jobs=-1)]: Done  46 tasks      | elapsed:   25.4s\n",
      "[Parallel(n_jobs=-1)]: Done  50 out of  50 | elapsed:   28.1s finished\n",
      "/usr/local/lib/python3.6/dist-packages/sklearn/model_selection/_search.py:814: DeprecationWarning: The default of the `iid` parameter will change from True to False in version 0.22 and will be removed in 0.24. This will change numeric results when test-set sizes are unequal.\n",
      "  DeprecationWarning)\n"
     ]
    },
    {
     "name": "stdout",
     "output_type": "stream",
     "text": [
      "CIndex: 0.6514649487946292\n",
      "Model features: ['original_shape_Compactness2', 'original_glcm_Contrast']\n",
      "Fitting 5 folds for each of 10 candidates, totalling 50 fits\n"
     ]
    },
    {
     "name": "stderr",
     "output_type": "stream",
     "text": [
      "[Parallel(n_jobs=-1)]: Using backend LokyBackend with 2 concurrent workers.\n",
      "[Parallel(n_jobs=-1)]: Done  50 out of  50 | elapsed:   37.9s finished\n"
     ]
    },
    {
     "name": "stdout",
     "output_type": "stream",
     "text": [
      "CIndex: 0.6470730504017175\n",
      "Model features: ['original_shape_Compactness2', 'original_glcm_DifferenceEntropy']\n",
      "Fitting 5 folds for each of 10 candidates, totalling 50 fits\n"
     ]
    },
    {
     "name": "stderr",
     "output_type": "stream",
     "text": [
      "[Parallel(n_jobs=-1)]: Using backend LokyBackend with 2 concurrent workers.\n",
      "[Parallel(n_jobs=-1)]: Done  46 tasks      | elapsed:   58.3s\n",
      "[Parallel(n_jobs=-1)]: Done  50 out of  50 | elapsed:  1.1min finished\n"
     ]
    },
    {
     "name": "stdout",
     "output_type": "stream",
     "text": [
      "CIndex: 0.6548124770014455\n",
      "Model features: ['original_shape_Compactness2', 'original_glcm_DifferenceAverage']\n",
      "Fitting 5 folds for each of 10 candidates, totalling 50 fits\n"
     ]
    },
    {
     "name": "stderr",
     "output_type": "stream",
     "text": [
      "[Parallel(n_jobs=-1)]: Using backend LokyBackend with 2 concurrent workers.\n",
      "[Parallel(n_jobs=-1)]: Done  46 tasks      | elapsed:   16.7s\n",
      "[Parallel(n_jobs=-1)]: Done  50 out of  50 | elapsed:   17.3s finished\n"
     ]
    },
    {
     "name": "stdout",
     "output_type": "stream",
     "text": [
      "CIndex: 0.6590013436289548\n",
      "Model features: ['original_shape_Compactness2', 'original_glcm_JointEnergy']\n",
      "Fitting 5 folds for each of 10 candidates, totalling 50 fits\n"
     ]
    },
    {
     "name": "stderr",
     "output_type": "stream",
     "text": [
      "[Parallel(n_jobs=-1)]: Using backend LokyBackend with 2 concurrent workers.\n",
      "[Parallel(n_jobs=-1)]: Done  50 out of  50 | elapsed:   16.1s finished\n",
      "/usr/local/lib/python3.6/dist-packages/sklearn/model_selection/_search.py:814: DeprecationWarning: The default of the `iid` parameter will change from True to False in version 0.22 and will be removed in 0.24. This will change numeric results when test-set sizes are unequal.\n",
      "  DeprecationWarning)\n"
     ]
    },
    {
     "name": "stdout",
     "output_type": "stream",
     "text": [
      "CIndex: 0.6512023886061536\n",
      "Model features: ['original_shape_Compactness2', 'original_glcm_Id']\n",
      "Fitting 5 folds for each of 10 candidates, totalling 50 fits\n"
     ]
    },
    {
     "name": "stderr",
     "output_type": "stream",
     "text": [
      "[Parallel(n_jobs=-1)]: Using backend LokyBackend with 2 concurrent workers.\n",
      "[Parallel(n_jobs=-1)]: Done  46 tasks      | elapsed:   22.3s\n",
      "[Parallel(n_jobs=-1)]: Done  50 out of  50 | elapsed:   23.3s finished\n",
      "/usr/local/lib/python3.6/dist-packages/sklearn/model_selection/_search.py:814: DeprecationWarning: The default of the `iid` parameter will change from True to False in version 0.22 and will be removed in 0.24. This will change numeric results when test-set sizes are unequal.\n",
      "  DeprecationWarning)\n"
     ]
    },
    {
     "name": "stdout",
     "output_type": "stream",
     "text": [
      "CIndex: 0.641475360315751\n",
      "Model features: ['original_shape_Compactness2', 'original_glcm_Idm']\n",
      "Fitting 5 folds for each of 10 candidates, totalling 50 fits\n"
     ]
    },
    {
     "name": "stderr",
     "output_type": "stream",
     "text": [
      "[Parallel(n_jobs=-1)]: Using backend LokyBackend with 2 concurrent workers.\n",
      "[Parallel(n_jobs=-1)]: Done  46 tasks      | elapsed:   16.4s\n",
      "[Parallel(n_jobs=-1)]: Done  50 out of  50 | elapsed:   16.5s finished\n"
     ]
    },
    {
     "name": "stdout",
     "output_type": "stream",
     "text": [
      "CIndex: 0.6540737884615309\n",
      "Model features: ['original_shape_Compactness2', 'original_glcm_Imc1']\n",
      "Fitting 5 folds for each of 10 candidates, totalling 50 fits\n"
     ]
    },
    {
     "name": "stderr",
     "output_type": "stream",
     "text": [
      "[Parallel(n_jobs=-1)]: Using backend LokyBackend with 2 concurrent workers.\n",
      "[Parallel(n_jobs=-1)]: Done  46 tasks      | elapsed:   36.7s\n",
      "[Parallel(n_jobs=-1)]: Done  50 out of  50 | elapsed:   38.3s finished\n"
     ]
    },
    {
     "name": "stdout",
     "output_type": "stream",
     "text": [
      "CIndex: 0.6595755300658864\n",
      "Model features: ['original_shape_Compactness2', 'original_glcm_Imc2']\n",
      "Fitting 5 folds for each of 10 candidates, totalling 50 fits\n"
     ]
    },
    {
     "name": "stderr",
     "output_type": "stream",
     "text": [
      "[Parallel(n_jobs=-1)]: Using backend LokyBackend with 2 concurrent workers.\n",
      "[Parallel(n_jobs=-1)]: Done  46 tasks      | elapsed:   13.6s\n",
      "[Parallel(n_jobs=-1)]: Done  50 out of  50 | elapsed:   23.7s finished\n",
      "/usr/local/lib/python3.6/dist-packages/sklearn/model_selection/_search.py:814: DeprecationWarning: The default of the `iid` parameter will change from True to False in version 0.22 and will be removed in 0.24. This will change numeric results when test-set sizes are unequal.\n",
      "  DeprecationWarning)\n"
     ]
    },
    {
     "name": "stdout",
     "output_type": "stream",
     "text": [
      "CIndex: 0.6647215168354366\n",
      "Model features: ['original_shape_Compactness2', 'original_glcm_Idmn']\n",
      "Fitting 5 folds for each of 10 candidates, totalling 50 fits\n"
     ]
    },
    {
     "name": "stderr",
     "output_type": "stream",
     "text": [
      "[Parallel(n_jobs=-1)]: Using backend LokyBackend with 2 concurrent workers.\n",
      "[Parallel(n_jobs=-1)]: Done  46 tasks      | elapsed:   44.7s\n",
      "[Parallel(n_jobs=-1)]: Done  50 out of  50 | elapsed:   52.3s finished\n"
     ]
    },
    {
     "name": "stdout",
     "output_type": "stream",
     "text": [
      "CIndex: 0.651342627179609\n",
      "Model features: ['original_shape_Compactness2', 'original_glcm_Idn']\n",
      "Fitting 5 folds for each of 10 candidates, totalling 50 fits\n"
     ]
    },
    {
     "name": "stderr",
     "output_type": "stream",
     "text": [
      "[Parallel(n_jobs=-1)]: Using backend LokyBackend with 2 concurrent workers.\n",
      "[Parallel(n_jobs=-1)]: Done  50 out of  50 | elapsed:   33.5s finished\n"
     ]
    },
    {
     "name": "stdout",
     "output_type": "stream",
     "text": [
      "CIndex: 0.6501124486571423\n",
      "Model features: ['original_shape_Compactness2', 'original_glrlm_ShortRunEmphasis']\n",
      "Fitting 5 folds for each of 10 candidates, totalling 50 fits\n"
     ]
    },
    {
     "name": "stderr",
     "output_type": "stream",
     "text": [
      "[Parallel(n_jobs=-1)]: Using backend LokyBackend with 2 concurrent workers.\n",
      "[Parallel(n_jobs=-1)]: Done  46 tasks      | elapsed:   24.3s\n",
      "[Parallel(n_jobs=-1)]: Done  50 out of  50 | elapsed:   25.1s finished\n"
     ]
    },
    {
     "name": "stdout",
     "output_type": "stream",
     "text": [
      "CIndex: 0.6328222152677472\n",
      "Model features: ['original_shape_Compactness2', 'original_glrlm_LongRunEmphasis']\n",
      "Fitting 5 folds for each of 10 candidates, totalling 50 fits\n"
     ]
    },
    {
     "name": "stderr",
     "output_type": "stream",
     "text": [
      "[Parallel(n_jobs=-1)]: Using backend LokyBackend with 2 concurrent workers.\n",
      "[Parallel(n_jobs=-1)]: Done  46 tasks      | elapsed:   31.1s\n",
      "[Parallel(n_jobs=-1)]: Done  50 out of  50 | elapsed:   32.9s finished\n",
      "/usr/local/lib/python3.6/dist-packages/sklearn/model_selection/_search.py:814: DeprecationWarning: The default of the `iid` parameter will change from True to False in version 0.22 and will be removed in 0.24. This will change numeric results when test-set sizes are unequal.\n",
      "  DeprecationWarning)\n"
     ]
    },
    {
     "name": "stdout",
     "output_type": "stream",
     "text": [
      "CIndex: 0.6598622387896654\n",
      "Model features: ['original_shape_Compactness2', 'original_glrlm_GrayLevelNonUniformity']\n",
      "Fitting 5 folds for each of 10 candidates, totalling 50 fits\n"
     ]
    },
    {
     "name": "stderr",
     "output_type": "stream",
     "text": [
      "[Parallel(n_jobs=-1)]: Using backend LokyBackend with 2 concurrent workers.\n",
      "[Parallel(n_jobs=-1)]: Done  46 tasks      | elapsed:   31.2s\n",
      "[Parallel(n_jobs=-1)]: Done  50 out of  50 | elapsed:   32.8s finished\n",
      "/usr/local/lib/python3.6/dist-packages/sklearn/model_selection/_search.py:814: DeprecationWarning: The default of the `iid` parameter will change from True to False in version 0.22 and will be removed in 0.24. This will change numeric results when test-set sizes are unequal.\n",
      "  DeprecationWarning)\n"
     ]
    },
    {
     "name": "stdout",
     "output_type": "stream",
     "text": [
      "CIndex: 0.6445618707940186\n",
      "Model features: ['original_shape_Compactness2', 'original_glrlm_RunPercentage']\n",
      "Fitting 5 folds for each of 10 candidates, totalling 50 fits\n"
     ]
    },
    {
     "name": "stderr",
     "output_type": "stream",
     "text": [
      "[Parallel(n_jobs=-1)]: Using backend LokyBackend with 2 concurrent workers.\n",
      "[Parallel(n_jobs=-1)]: Done  46 tasks      | elapsed:   30.3s\n",
      "[Parallel(n_jobs=-1)]: Done  50 out of  50 | elapsed:   34.8s finished\n"
     ]
    },
    {
     "name": "stdout",
     "output_type": "stream",
     "text": [
      "CIndex: 0.6524014810706922\n",
      "Model features: ['original_shape_Compactness2', 'original_glrlm_ShortRunLowGrayLevelEmphasis']\n",
      "Fitting 5 folds for each of 10 candidates, totalling 50 fits\n"
     ]
    },
    {
     "name": "stderr",
     "output_type": "stream",
     "text": [
      "[Parallel(n_jobs=-1)]: Using backend LokyBackend with 2 concurrent workers.\n",
      "[Parallel(n_jobs=-1)]: Done  46 tasks      | elapsed:   31.7s\n",
      "[Parallel(n_jobs=-1)]: Done  50 out of  50 | elapsed:   33.4s finished\n",
      "/usr/local/lib/python3.6/dist-packages/sklearn/model_selection/_search.py:814: DeprecationWarning: The default of the `iid` parameter will change from True to False in version 0.22 and will be removed in 0.24. This will change numeric results when test-set sizes are unequal.\n",
      "  DeprecationWarning)\n"
     ]
    },
    {
     "name": "stdout",
     "output_type": "stream",
     "text": [
      "CIndex: 0.6320387090314612\n",
      "Model features: ['original_shape_Compactness2', 'original_glrlm_LongRunLowGrayLevelEmphasis']\n",
      "Fitting 5 folds for each of 10 candidates, totalling 50 fits\n"
     ]
    },
    {
     "name": "stderr",
     "output_type": "stream",
     "text": [
      "[Parallel(n_jobs=-1)]: Using backend LokyBackend with 2 concurrent workers.\n",
      "[Parallel(n_jobs=-1)]: Done  46 tasks      | elapsed:   50.6s\n",
      "[Parallel(n_jobs=-1)]: Done  50 out of  50 | elapsed:   50.8s finished\n",
      "/usr/local/lib/python3.6/dist-packages/sklearn/model_selection/_search.py:814: DeprecationWarning: The default of the `iid` parameter will change from True to False in version 0.22 and will be removed in 0.24. This will change numeric results when test-set sizes are unequal.\n",
      "  DeprecationWarning)\n"
     ]
    },
    {
     "name": "stdout",
     "output_type": "stream",
     "text": [
      "CIndex: 0.6476330360851696\n",
      "Model features: ['original_shape_Compactness2', 'original_glrlm_LongRunHighGrayLevelEmphasis']\n",
      "Fitting 5 folds for each of 10 candidates, totalling 50 fits\n"
     ]
    },
    {
     "name": "stderr",
     "output_type": "stream",
     "text": [
      "[Parallel(n_jobs=-1)]: Using backend LokyBackend with 2 concurrent workers.\n",
      "[Parallel(n_jobs=-1)]: Done  50 out of  50 | elapsed:   37.4s finished\n"
     ]
    },
    {
     "name": "stdout",
     "output_type": "stream",
     "text": [
      "CIndex: 0.6670932210994385\n",
      "Model features: ['original_shape_Compactness2', 'Nstage']\n",
      "Fitting 5 folds for each of 10 candidates, totalling 50 fits\n"
     ]
    },
    {
     "name": "stderr",
     "output_type": "stream",
     "text": [
      "[Parallel(n_jobs=-1)]: Using backend LokyBackend with 2 concurrent workers.\n",
      "[Parallel(n_jobs=-1)]: Done  46 tasks      | elapsed:   13.6s\n",
      "[Parallel(n_jobs=-1)]: Done  50 out of  50 | elapsed:   16.4s finished\n"
     ]
    },
    {
     "name": "stdout",
     "output_type": "stream",
     "text": [
      "CIndex: 0.6598799078988445\n",
      "Model features: ['original_shape_Compactness2', 'age']\n",
      "Fitting 5 folds for each of 10 candidates, totalling 50 fits\n"
     ]
    },
    {
     "name": "stderr",
     "output_type": "stream",
     "text": [
      "[Parallel(n_jobs=-1)]: Using backend LokyBackend with 2 concurrent workers.\n",
      "[Parallel(n_jobs=-1)]: Done  46 tasks      | elapsed:   22.7s\n",
      "[Parallel(n_jobs=-1)]: Done  50 out of  50 | elapsed:   25.3s finished\n",
      "/usr/local/lib/python3.6/dist-packages/sklearn/model_selection/_search.py:814: DeprecationWarning: The default of the `iid` parameter will change from True to False in version 0.22 and will be removed in 0.24. This will change numeric results when test-set sizes are unequal.\n",
      "  DeprecationWarning)\n"
     ]
    },
    {
     "name": "stdout",
     "output_type": "stream",
     "text": [
      "CIndex: 0.6517814100757244\n",
      "Model features: ['original_shape_Compactness2', 'SourceDataset_l1']\n",
      "Fitting 5 folds for each of 10 candidates, totalling 50 fits\n"
     ]
    },
    {
     "name": "stderr",
     "output_type": "stream",
     "text": [
      "[Parallel(n_jobs=-1)]: Using backend LokyBackend with 2 concurrent workers.\n",
      "[Parallel(n_jobs=-1)]: Done  46 tasks      | elapsed:   23.5s\n",
      "[Parallel(n_jobs=-1)]: Done  50 out of  50 | elapsed:   24.8s finished\n",
      "/usr/local/lib/python3.6/dist-packages/sklearn/model_selection/_search.py:814: DeprecationWarning: The default of the `iid` parameter will change from True to False in version 0.22 and will be removed in 0.24. This will change numeric results when test-set sizes are unequal.\n",
      "  DeprecationWarning)\n"
     ]
    },
    {
     "name": "stdout",
     "output_type": "stream",
     "text": [
      "CIndex: 0.6705034984625279\n",
      "Model features: ['original_shape_Compactness2', 'SourceDataset_l2']\n",
      "Fitting 5 folds for each of 10 candidates, totalling 50 fits\n"
     ]
    },
    {
     "name": "stderr",
     "output_type": "stream",
     "text": [
      "[Parallel(n_jobs=-1)]: Using backend LokyBackend with 2 concurrent workers.\n",
      "[Parallel(n_jobs=-1)]: Done  46 tasks      | elapsed:   34.3s\n",
      "[Parallel(n_jobs=-1)]: Done  50 out of  50 | elapsed:   34.4s finished\n",
      "/usr/local/lib/python3.6/dist-packages/sklearn/model_selection/_search.py:814: DeprecationWarning: The default of the `iid` parameter will change from True to False in version 0.22 and will be removed in 0.24. This will change numeric results when test-set sizes are unequal.\n",
      "  DeprecationWarning)\n"
     ]
    },
    {
     "name": "stdout",
     "output_type": "stream",
     "text": [
      "CIndex: 0.6513380358105194\n",
      "Selected new growing feature: SourceDataset_l1\n",
      "\n",
      "Growing 3-th feature...\n",
      "\n",
      "Model features: ['original_shape_Compactness2', 'SourceDataset_l1', 'original_shape_SphericalDisproportion']\n",
      "Fitting 5 folds for each of 10 candidates, totalling 50 fits\n"
     ]
    },
    {
     "name": "stderr",
     "output_type": "stream",
     "text": [
      "[Parallel(n_jobs=-1)]: Using backend LokyBackend with 2 concurrent workers.\n",
      "[Parallel(n_jobs=-1)]: Done  46 tasks      | elapsed:   37.8s\n",
      "[Parallel(n_jobs=-1)]: Done  50 out of  50 | elapsed:   38.8s finished\n",
      "/usr/local/lib/python3.6/dist-packages/sklearn/model_selection/_search.py:814: DeprecationWarning: The default of the `iid` parameter will change from True to False in version 0.22 and will be removed in 0.24. This will change numeric results when test-set sizes are unequal.\n",
      "  DeprecationWarning)\n"
     ]
    },
    {
     "name": "stdout",
     "output_type": "stream",
     "text": [
      "CIndex: 0.6415728692391619\n",
      "Model features: ['original_shape_Compactness2', 'SourceDataset_l1', 'original_shape_SurfaceVolumeRatio']\n",
      "Fitting 5 folds for each of 10 candidates, totalling 50 fits\n"
     ]
    },
    {
     "name": "stderr",
     "output_type": "stream",
     "text": [
      "[Parallel(n_jobs=-1)]: Using backend LokyBackend with 2 concurrent workers.\n",
      "[Parallel(n_jobs=-1)]: Done  46 tasks      | elapsed:   21.5s\n",
      "[Parallel(n_jobs=-1)]: Done  50 out of  50 | elapsed:   21.9s finished\n"
     ]
    },
    {
     "name": "stdout",
     "output_type": "stream",
     "text": [
      "CIndex: 0.6631818323582115\n",
      "Model features: ['original_shape_Compactness2', 'SourceDataset_l1', 'original_firstorder_Kurtosis']\n",
      "Fitting 5 folds for each of 10 candidates, totalling 50 fits\n"
     ]
    },
    {
     "name": "stderr",
     "output_type": "stream",
     "text": [
      "[Parallel(n_jobs=-1)]: Using backend LokyBackend with 2 concurrent workers.\n",
      "[Parallel(n_jobs=-1)]: Done  46 tasks      | elapsed:   19.3s\n",
      "[Parallel(n_jobs=-1)]: Done  50 out of  50 | elapsed:   20.3s finished\n",
      "/usr/local/lib/python3.6/dist-packages/sklearn/model_selection/_search.py:814: DeprecationWarning: The default of the `iid` parameter will change from True to False in version 0.22 and will be removed in 0.24. This will change numeric results when test-set sizes are unequal.\n",
      "  DeprecationWarning)\n"
     ]
    },
    {
     "name": "stdout",
     "output_type": "stream",
     "text": [
      "CIndex: 0.6384153786839792\n",
      "Model features: ['original_shape_Compactness2', 'SourceDataset_l1', 'original_firstorder_MeanAbsoluteDeviation']\n",
      "Fitting 5 folds for each of 10 candidates, totalling 50 fits\n"
     ]
    },
    {
     "name": "stderr",
     "output_type": "stream",
     "text": [
      "[Parallel(n_jobs=-1)]: Using backend LokyBackend with 2 concurrent workers.\n",
      "[Parallel(n_jobs=-1)]: Done  50 out of  50 | elapsed:   41.0s finished\n"
     ]
    },
    {
     "name": "stdout",
     "output_type": "stream",
     "text": [
      "CIndex: 0.641876883801129\n",
      "Model features: ['original_shape_Compactness2', 'SourceDataset_l1', 'original_firstorder_Minimum']\n",
      "Fitting 5 folds for each of 10 candidates, totalling 50 fits\n"
     ]
    },
    {
     "name": "stderr",
     "output_type": "stream",
     "text": [
      "[Parallel(n_jobs=-1)]: Using backend LokyBackend with 2 concurrent workers.\n",
      "[Parallel(n_jobs=-1)]: Done  46 tasks      | elapsed:   29.8s\n",
      "[Parallel(n_jobs=-1)]: Done  50 out of  50 | elapsed:   29.9s finished\n",
      "/usr/local/lib/python3.6/dist-packages/sklearn/model_selection/_search.py:814: DeprecationWarning: The default of the `iid` parameter will change from True to False in version 0.22 and will be removed in 0.24. This will change numeric results when test-set sizes are unequal.\n",
      "  DeprecationWarning)\n"
     ]
    },
    {
     "name": "stdout",
     "output_type": "stream",
     "text": [
      "CIndex: 0.6542316657187583\n",
      "Model features: ['original_shape_Compactness2', 'SourceDataset_l1', 'original_glcm_ClusterProminence']\n",
      "Fitting 5 folds for each of 10 candidates, totalling 50 fits\n"
     ]
    },
    {
     "name": "stderr",
     "output_type": "stream",
     "text": [
      "[Parallel(n_jobs=-1)]: Using backend LokyBackend with 2 concurrent workers.\n",
      "[Parallel(n_jobs=-1)]: Done  50 out of  50 | elapsed:   39.1s finished\n",
      "/usr/local/lib/python3.6/dist-packages/sklearn/model_selection/_search.py:814: DeprecationWarning: The default of the `iid` parameter will change from True to False in version 0.22 and will be removed in 0.24. This will change numeric results when test-set sizes are unequal.\n",
      "  DeprecationWarning)\n"
     ]
    },
    {
     "name": "stdout",
     "output_type": "stream",
     "text": [
      "CIndex: 0.633418856297596\n",
      "Model features: ['original_shape_Compactness2', 'SourceDataset_l1', 'original_glcm_Contrast']\n",
      "Fitting 5 folds for each of 10 candidates, totalling 50 fits\n"
     ]
    },
    {
     "name": "stderr",
     "output_type": "stream",
     "text": [
      "[Parallel(n_jobs=-1)]: Using backend LokyBackend with 2 concurrent workers.\n",
      "[Parallel(n_jobs=-1)]: Done  46 tasks      | elapsed:   30.9s\n",
      "[Parallel(n_jobs=-1)]: Done  50 out of  50 | elapsed:   31.7s finished\n"
     ]
    },
    {
     "name": "stdout",
     "output_type": "stream",
     "text": [
      "CIndex: 0.6468580547732365\n",
      "Model features: ['original_shape_Compactness2', 'SourceDataset_l1', 'original_glcm_DifferenceEntropy']\n",
      "Fitting 5 folds for each of 10 candidates, totalling 50 fits\n"
     ]
    },
    {
     "name": "stderr",
     "output_type": "stream",
     "text": [
      "[Parallel(n_jobs=-1)]: Using backend LokyBackend with 2 concurrent workers.\n",
      "[Parallel(n_jobs=-1)]: Done  46 tasks      | elapsed:   33.7s\n",
      "[Parallel(n_jobs=-1)]: Done  50 out of  50 | elapsed:   37.2s finished\n",
      "/usr/local/lib/python3.6/dist-packages/sklearn/model_selection/_search.py:814: DeprecationWarning: The default of the `iid` parameter will change from True to False in version 0.22 and will be removed in 0.24. This will change numeric results when test-set sizes are unequal.\n",
      "  DeprecationWarning)\n"
     ]
    },
    {
     "name": "stdout",
     "output_type": "stream",
     "text": [
      "CIndex: 0.638478295393538\n",
      "Model features: ['original_shape_Compactness2', 'SourceDataset_l1', 'original_glcm_DifferenceAverage']\n",
      "Fitting 5 folds for each of 10 candidates, totalling 50 fits\n"
     ]
    },
    {
     "name": "stderr",
     "output_type": "stream",
     "text": [
      "[Parallel(n_jobs=-1)]: Using backend LokyBackend with 2 concurrent workers.\n",
      "[Parallel(n_jobs=-1)]: Done  50 out of  50 | elapsed:   27.1s finished\n"
     ]
    },
    {
     "name": "stdout",
     "output_type": "stream",
     "text": [
      "CIndex: 0.6349722940193099\n",
      "Model features: ['original_shape_Compactness2', 'SourceDataset_l1', 'original_glcm_JointEnergy']\n",
      "Fitting 5 folds for each of 10 candidates, totalling 50 fits\n"
     ]
    },
    {
     "name": "stderr",
     "output_type": "stream",
     "text": [
      "[Parallel(n_jobs=-1)]: Using backend LokyBackend with 2 concurrent workers.\n",
      "[Parallel(n_jobs=-1)]: Done  46 tasks      | elapsed:   20.3s\n",
      "[Parallel(n_jobs=-1)]: Done  50 out of  50 | elapsed:   21.0s finished\n",
      "/usr/local/lib/python3.6/dist-packages/sklearn/model_selection/_search.py:814: DeprecationWarning: The default of the `iid` parameter will change from True to False in version 0.22 and will be removed in 0.24. This will change numeric results when test-set sizes are unequal.\n",
      "  DeprecationWarning)\n"
     ]
    },
    {
     "name": "stdout",
     "output_type": "stream",
     "text": [
      "CIndex: 0.6539515903772191\n",
      "Model features: ['original_shape_Compactness2', 'SourceDataset_l1', 'original_glcm_Id']\n",
      "Fitting 5 folds for each of 10 candidates, totalling 50 fits\n"
     ]
    },
    {
     "name": "stderr",
     "output_type": "stream",
     "text": [
      "[Parallel(n_jobs=-1)]: Using backend LokyBackend with 2 concurrent workers.\n",
      "[Parallel(n_jobs=-1)]: Done  50 out of  50 | elapsed:   27.6s finished\n",
      "/usr/local/lib/python3.6/dist-packages/sklearn/model_selection/_search.py:814: DeprecationWarning: The default of the `iid` parameter will change from True to False in version 0.22 and will be removed in 0.24. This will change numeric results when test-set sizes are unequal.\n",
      "  DeprecationWarning)\n"
     ]
    },
    {
     "name": "stdout",
     "output_type": "stream",
     "text": [
      "CIndex: 0.6521170012887875\n",
      "Model features: ['original_shape_Compactness2', 'SourceDataset_l1', 'original_glcm_Idm']\n",
      "Fitting 5 folds for each of 10 candidates, totalling 50 fits\n"
     ]
    },
    {
     "name": "stderr",
     "output_type": "stream",
     "text": [
      "[Parallel(n_jobs=-1)]: Using backend LokyBackend with 2 concurrent workers.\n",
      "[Parallel(n_jobs=-1)]: Done  46 tasks      | elapsed:   22.5s\n",
      "[Parallel(n_jobs=-1)]: Done  50 out of  50 | elapsed:   24.0s finished\n",
      "/usr/local/lib/python3.6/dist-packages/sklearn/model_selection/_search.py:814: DeprecationWarning: The default of the `iid` parameter will change from True to False in version 0.22 and will be removed in 0.24. This will change numeric results when test-set sizes are unequal.\n",
      "  DeprecationWarning)\n"
     ]
    },
    {
     "name": "stdout",
     "output_type": "stream",
     "text": [
      "CIndex: 0.626369181124789\n",
      "Model features: ['original_shape_Compactness2', 'SourceDataset_l1', 'original_glcm_Imc1']\n",
      "Fitting 5 folds for each of 10 candidates, totalling 50 fits\n"
     ]
    },
    {
     "name": "stderr",
     "output_type": "stream",
     "text": [
      "[Parallel(n_jobs=-1)]: Using backend LokyBackend with 2 concurrent workers.\n",
      "[Parallel(n_jobs=-1)]: Done  46 tasks      | elapsed:   33.3s\n",
      "[Parallel(n_jobs=-1)]: Done  50 out of  50 | elapsed:   33.9s finished\n",
      "/usr/local/lib/python3.6/dist-packages/sklearn/model_selection/_search.py:814: DeprecationWarning: The default of the `iid` parameter will change from True to False in version 0.22 and will be removed in 0.24. This will change numeric results when test-set sizes are unequal.\n",
      "  DeprecationWarning)\n"
     ]
    },
    {
     "name": "stdout",
     "output_type": "stream",
     "text": [
      "CIndex: 0.6579436963754846\n",
      "Model features: ['original_shape_Compactness2', 'SourceDataset_l1', 'original_glcm_Imc2']\n",
      "Fitting 5 folds for each of 10 candidates, totalling 50 fits\n"
     ]
    },
    {
     "name": "stderr",
     "output_type": "stream",
     "text": [
      "[Parallel(n_jobs=-1)]: Using backend LokyBackend with 2 concurrent workers.\n",
      "[Parallel(n_jobs=-1)]: Done  46 tasks      | elapsed:   22.4s\n",
      "[Parallel(n_jobs=-1)]: Done  50 out of  50 | elapsed:   24.3s finished\n"
     ]
    },
    {
     "name": "stdout",
     "output_type": "stream",
     "text": [
      "CIndex: 0.6450581361766345\n",
      "Model features: ['original_shape_Compactness2', 'SourceDataset_l1', 'original_glcm_Idmn']\n",
      "Fitting 5 folds for each of 10 candidates, totalling 50 fits\n"
     ]
    },
    {
     "name": "stderr",
     "output_type": "stream",
     "text": [
      "[Parallel(n_jobs=-1)]: Using backend LokyBackend with 2 concurrent workers.\n",
      "[Parallel(n_jobs=-1)]: Done  46 tasks      | elapsed:   29.2s\n",
      "[Parallel(n_jobs=-1)]: Done  50 out of  50 | elapsed:   29.3s finished\n"
     ]
    },
    {
     "name": "stdout",
     "output_type": "stream",
     "text": [
      "CIndex: 0.6452401009204051\n",
      "Model features: ['original_shape_Compactness2', 'SourceDataset_l1', 'original_glcm_Idn']\n",
      "Fitting 5 folds for each of 10 candidates, totalling 50 fits\n"
     ]
    },
    {
     "name": "stderr",
     "output_type": "stream",
     "text": [
      "[Parallel(n_jobs=-1)]: Using backend LokyBackend with 2 concurrent workers.\n",
      "[Parallel(n_jobs=-1)]: Done  46 tasks      | elapsed:   13.5s\n",
      "[Parallel(n_jobs=-1)]: Done  50 out of  50 | elapsed:   14.4s finished\n",
      "/usr/local/lib/python3.6/dist-packages/sklearn/model_selection/_search.py:814: DeprecationWarning: The default of the `iid` parameter will change from True to False in version 0.22 and will be removed in 0.24. This will change numeric results when test-set sizes are unequal.\n",
      "  DeprecationWarning)\n"
     ]
    },
    {
     "name": "stdout",
     "output_type": "stream",
     "text": [
      "CIndex: 0.6530334611262925\n",
      "Model features: ['original_shape_Compactness2', 'SourceDataset_l1', 'original_glrlm_ShortRunEmphasis']\n",
      "Fitting 5 folds for each of 10 candidates, totalling 50 fits\n"
     ]
    },
    {
     "name": "stderr",
     "output_type": "stream",
     "text": [
      "[Parallel(n_jobs=-1)]: Using backend LokyBackend with 2 concurrent workers.\n",
      "[Parallel(n_jobs=-1)]: Done  46 tasks      | elapsed:   24.0s\n",
      "[Parallel(n_jobs=-1)]: Done  50 out of  50 | elapsed:   26.1s finished\n",
      "/usr/local/lib/python3.6/dist-packages/sklearn/model_selection/_search.py:814: DeprecationWarning: The default of the `iid` parameter will change from True to False in version 0.22 and will be removed in 0.24. This will change numeric results when test-set sizes are unequal.\n",
      "  DeprecationWarning)\n"
     ]
    },
    {
     "name": "stdout",
     "output_type": "stream",
     "text": [
      "CIndex: 0.6559759636990118\n",
      "Model features: ['original_shape_Compactness2', 'SourceDataset_l1', 'original_glrlm_LongRunEmphasis']\n",
      "Fitting 5 folds for each of 10 candidates, totalling 50 fits\n"
     ]
    },
    {
     "name": "stderr",
     "output_type": "stream",
     "text": [
      "[Parallel(n_jobs=-1)]: Using backend LokyBackend with 2 concurrent workers.\n",
      "[Parallel(n_jobs=-1)]: Done  46 tasks      | elapsed:   37.1s\n",
      "[Parallel(n_jobs=-1)]: Done  50 out of  50 | elapsed:   38.7s finished\n",
      "/usr/local/lib/python3.6/dist-packages/sklearn/model_selection/_search.py:814: DeprecationWarning: The default of the `iid` parameter will change from True to False in version 0.22 and will be removed in 0.24. This will change numeric results when test-set sizes are unequal.\n",
      "  DeprecationWarning)\n"
     ]
    },
    {
     "name": "stdout",
     "output_type": "stream",
     "text": [
      "CIndex: 0.6445885945039107\n",
      "Model features: ['original_shape_Compactness2', 'SourceDataset_l1', 'original_glrlm_GrayLevelNonUniformity']\n",
      "Fitting 5 folds for each of 10 candidates, totalling 50 fits\n"
     ]
    },
    {
     "name": "stderr",
     "output_type": "stream",
     "text": [
      "[Parallel(n_jobs=-1)]: Using backend LokyBackend with 2 concurrent workers.\n",
      "[Parallel(n_jobs=-1)]: Done  46 tasks      | elapsed:   34.1s\n",
      "[Parallel(n_jobs=-1)]: Done  50 out of  50 | elapsed:   35.0s finished\n",
      "/usr/local/lib/python3.6/dist-packages/sklearn/model_selection/_search.py:814: DeprecationWarning: The default of the `iid` parameter will change from True to False in version 0.22 and will be removed in 0.24. This will change numeric results when test-set sizes are unequal.\n",
      "  DeprecationWarning)\n"
     ]
    },
    {
     "name": "stdout",
     "output_type": "stream",
     "text": [
      "CIndex: 0.6337758648434746\n",
      "Model features: ['original_shape_Compactness2', 'SourceDataset_l1', 'original_glrlm_RunPercentage']\n",
      "Fitting 5 folds for each of 10 candidates, totalling 50 fits\n"
     ]
    },
    {
     "name": "stderr",
     "output_type": "stream",
     "text": [
      "[Parallel(n_jobs=-1)]: Using backend LokyBackend with 2 concurrent workers.\n",
      "[Parallel(n_jobs=-1)]: Done  46 tasks      | elapsed:   23.2s\n",
      "[Parallel(n_jobs=-1)]: Done  50 out of  50 | elapsed:   27.9s finished\n",
      "/usr/local/lib/python3.6/dist-packages/sklearn/model_selection/_search.py:814: DeprecationWarning: The default of the `iid` parameter will change from True to False in version 0.22 and will be removed in 0.24. This will change numeric results when test-set sizes are unequal.\n",
      "  DeprecationWarning)\n"
     ]
    },
    {
     "name": "stdout",
     "output_type": "stream",
     "text": [
      "CIndex: 0.6514324875042824\n",
      "Model features: ['original_shape_Compactness2', 'SourceDataset_l1', 'original_glrlm_ShortRunLowGrayLevelEmphasis']\n",
      "Fitting 5 folds for each of 10 candidates, totalling 50 fits\n"
     ]
    },
    {
     "name": "stderr",
     "output_type": "stream",
     "text": [
      "[Parallel(n_jobs=-1)]: Using backend LokyBackend with 2 concurrent workers.\n",
      "[Parallel(n_jobs=-1)]: Done  50 out of  50 | elapsed:   27.7s finished\n",
      "/usr/local/lib/python3.6/dist-packages/sklearn/model_selection/_search.py:814: DeprecationWarning: The default of the `iid` parameter will change from True to False in version 0.22 and will be removed in 0.24. This will change numeric results when test-set sizes are unequal.\n",
      "  DeprecationWarning)\n"
     ]
    },
    {
     "name": "stdout",
     "output_type": "stream",
     "text": [
      "CIndex: 0.6381903486780197\n",
      "Model features: ['original_shape_Compactness2', 'SourceDataset_l1', 'original_glrlm_LongRunLowGrayLevelEmphasis']\n",
      "Fitting 5 folds for each of 10 candidates, totalling 50 fits\n"
     ]
    },
    {
     "name": "stderr",
     "output_type": "stream",
     "text": [
      "[Parallel(n_jobs=-1)]: Using backend LokyBackend with 2 concurrent workers.\n",
      "[Parallel(n_jobs=-1)]: Done  50 out of  50 | elapsed:   31.6s finished\n",
      "/usr/local/lib/python3.6/dist-packages/sklearn/model_selection/_search.py:814: DeprecationWarning: The default of the `iid` parameter will change from True to False in version 0.22 and will be removed in 0.24. This will change numeric results when test-set sizes are unequal.\n",
      "  DeprecationWarning)\n"
     ]
    },
    {
     "name": "stdout",
     "output_type": "stream",
     "text": [
      "CIndex: 0.6505033687304297\n",
      "Model features: ['original_shape_Compactness2', 'SourceDataset_l1', 'original_glrlm_LongRunHighGrayLevelEmphasis']\n",
      "Fitting 5 folds for each of 10 candidates, totalling 50 fits\n"
     ]
    },
    {
     "name": "stderr",
     "output_type": "stream",
     "text": [
      "[Parallel(n_jobs=-1)]: Using backend LokyBackend with 2 concurrent workers.\n",
      "[Parallel(n_jobs=-1)]: Done  46 tasks      | elapsed:   21.0s\n",
      "[Parallel(n_jobs=-1)]: Done  50 out of  50 | elapsed:   22.6s finished\n"
     ]
    },
    {
     "name": "stdout",
     "output_type": "stream",
     "text": [
      "CIndex: 0.6143924740516076\n",
      "Model features: ['original_shape_Compactness2', 'SourceDataset_l1', 'Nstage']\n",
      "Fitting 5 folds for each of 10 candidates, totalling 50 fits\n"
     ]
    },
    {
     "name": "stderr",
     "output_type": "stream",
     "text": [
      "[Parallel(n_jobs=-1)]: Using backend LokyBackend with 2 concurrent workers.\n",
      "[Parallel(n_jobs=-1)]: Done  46 tasks      | elapsed:   20.0s\n",
      "[Parallel(n_jobs=-1)]: Done  50 out of  50 | elapsed:   20.6s finished\n",
      "/usr/local/lib/python3.6/dist-packages/sklearn/model_selection/_search.py:814: DeprecationWarning: The default of the `iid` parameter will change from True to False in version 0.22 and will be removed in 0.24. This will change numeric results when test-set sizes are unequal.\n",
      "  DeprecationWarning)\n"
     ]
    },
    {
     "name": "stdout",
     "output_type": "stream",
     "text": [
      "CIndex: 0.6415257725713739\n",
      "Model features: ['original_shape_Compactness2', 'SourceDataset_l1', 'age']\n",
      "Fitting 5 folds for each of 10 candidates, totalling 50 fits\n"
     ]
    },
    {
     "name": "stderr",
     "output_type": "stream",
     "text": [
      "[Parallel(n_jobs=-1)]: Using backend LokyBackend with 2 concurrent workers.\n",
      "[Parallel(n_jobs=-1)]: Done  50 out of  50 | elapsed:   16.3s finished\n"
     ]
    },
    {
     "name": "stdout",
     "output_type": "stream",
     "text": [
      "CIndex: 0.6437775330382668\n",
      "Model features: ['original_shape_Compactness2', 'SourceDataset_l1', 'SourceDataset_l2']\n",
      "Fitting 5 folds for each of 10 candidates, totalling 50 fits\n"
     ]
    },
    {
     "name": "stderr",
     "output_type": "stream",
     "text": [
      "[Parallel(n_jobs=-1)]: Using backend LokyBackend with 2 concurrent workers.\n",
      "[Parallel(n_jobs=-1)]: Done  46 tasks      | elapsed:   24.8s\n",
      "[Parallel(n_jobs=-1)]: Done  50 out of  50 | elapsed:   26.9s finished\n",
      "/usr/local/lib/python3.6/dist-packages/sklearn/model_selection/_search.py:814: DeprecationWarning: The default of the `iid` parameter will change from True to False in version 0.22 and will be removed in 0.24. This will change numeric results when test-set sizes are unequal.\n",
      "  DeprecationWarning)\n"
     ]
    },
    {
     "name": "stdout",
     "output_type": "stream",
     "text": [
      "CIndex: 0.6543413995162223\n",
      "Selected new growing feature: original_shape_SurfaceVolumeRatio\n",
      "\n",
      "Growing 4-th feature...\n",
      "\n",
      "Model features: ['original_shape_Compactness2', 'SourceDataset_l1', 'original_shape_SurfaceVolumeRatio', 'original_shape_SphericalDisproportion']\n",
      "Fitting 5 folds for each of 10 candidates, totalling 50 fits\n"
     ]
    },
    {
     "name": "stderr",
     "output_type": "stream",
     "text": [
      "[Parallel(n_jobs=-1)]: Using backend LokyBackend with 2 concurrent workers.\n",
      "[Parallel(n_jobs=-1)]: Done  50 out of  50 | elapsed:   24.2s finished\n"
     ]
    },
    {
     "name": "stdout",
     "output_type": "stream",
     "text": [
      "CIndex: 0.6447133974727156\n",
      "Model features: ['original_shape_Compactness2', 'SourceDataset_l1', 'original_shape_SurfaceVolumeRatio', 'original_firstorder_Kurtosis']\n",
      "Fitting 5 folds for each of 10 candidates, totalling 50 fits\n"
     ]
    },
    {
     "name": "stderr",
     "output_type": "stream",
     "text": [
      "[Parallel(n_jobs=-1)]: Using backend LokyBackend with 2 concurrent workers.\n",
      "[Parallel(n_jobs=-1)]: Done  46 tasks      | elapsed:   44.9s\n",
      "[Parallel(n_jobs=-1)]: Done  50 out of  50 | elapsed:   47.7s finished\n"
     ]
    },
    {
     "name": "stdout",
     "output_type": "stream",
     "text": [
      "CIndex: 0.6280176762161866\n",
      "Model features: ['original_shape_Compactness2', 'SourceDataset_l1', 'original_shape_SurfaceVolumeRatio', 'original_firstorder_MeanAbsoluteDeviation']\n",
      "Fitting 5 folds for each of 10 candidates, totalling 50 fits\n"
     ]
    },
    {
     "name": "stderr",
     "output_type": "stream",
     "text": [
      "[Parallel(n_jobs=-1)]: Using backend LokyBackend with 2 concurrent workers.\n",
      "[Parallel(n_jobs=-1)]: Done  46 tasks      | elapsed:  1.0min\n",
      "[Parallel(n_jobs=-1)]: Done  50 out of  50 | elapsed:  1.0min finished\n"
     ]
    },
    {
     "name": "stdout",
     "output_type": "stream",
     "text": [
      "CIndex: 0.6411354658393125\n",
      "Model features: ['original_shape_Compactness2', 'SourceDataset_l1', 'original_shape_SurfaceVolumeRatio', 'original_firstorder_Minimum']\n",
      "Fitting 5 folds for each of 10 candidates, totalling 50 fits\n"
     ]
    },
    {
     "name": "stderr",
     "output_type": "stream",
     "text": [
      "[Parallel(n_jobs=-1)]: Using backend LokyBackend with 2 concurrent workers.\n",
      "[Parallel(n_jobs=-1)]: Done  46 tasks      | elapsed:   44.5s\n",
      "[Parallel(n_jobs=-1)]: Done  50 out of  50 | elapsed:   54.0s finished\n",
      "/usr/local/lib/python3.6/dist-packages/sklearn/model_selection/_search.py:814: DeprecationWarning: The default of the `iid` parameter will change from True to False in version 0.22 and will be removed in 0.24. This will change numeric results when test-set sizes are unequal.\n",
      "  DeprecationWarning)\n"
     ]
    },
    {
     "name": "stdout",
     "output_type": "stream",
     "text": [
      "CIndex: 0.6585365830755782\n",
      "Model features: ['original_shape_Compactness2', 'SourceDataset_l1', 'original_shape_SurfaceVolumeRatio', 'original_glcm_ClusterProminence']\n",
      "Fitting 5 folds for each of 10 candidates, totalling 50 fits\n"
     ]
    },
    {
     "name": "stderr",
     "output_type": "stream",
     "text": [
      "[Parallel(n_jobs=-1)]: Using backend LokyBackend with 2 concurrent workers.\n",
      "[Parallel(n_jobs=-1)]: Done  50 out of  50 | elapsed:   23.1s finished\n"
     ]
    },
    {
     "name": "stdout",
     "output_type": "stream",
     "text": [
      "CIndex: 0.6246973516330051\n",
      "Model features: ['original_shape_Compactness2', 'SourceDataset_l1', 'original_shape_SurfaceVolumeRatio', 'original_glcm_Contrast']\n",
      "Fitting 5 folds for each of 10 candidates, totalling 50 fits\n"
     ]
    },
    {
     "name": "stderr",
     "output_type": "stream",
     "text": [
      "[Parallel(n_jobs=-1)]: Using backend LokyBackend with 2 concurrent workers.\n",
      "[Parallel(n_jobs=-1)]: Done  50 out of  50 | elapsed:   35.3s finished\n"
     ]
    },
    {
     "name": "stdout",
     "output_type": "stream",
     "text": [
      "CIndex: 0.6302952115593043\n",
      "Model features: ['original_shape_Compactness2', 'SourceDataset_l1', 'original_shape_SurfaceVolumeRatio', 'original_glcm_DifferenceEntropy']\n",
      "Fitting 5 folds for each of 10 candidates, totalling 50 fits\n"
     ]
    },
    {
     "name": "stderr",
     "output_type": "stream",
     "text": [
      "[Parallel(n_jobs=-1)]: Using backend LokyBackend with 2 concurrent workers.\n",
      "[Parallel(n_jobs=-1)]: Done  46 tasks      | elapsed:   56.6s\n",
      "[Parallel(n_jobs=-1)]: Done  50 out of  50 | elapsed:   57.1s finished\n",
      "/usr/local/lib/python3.6/dist-packages/sklearn/model_selection/_search.py:814: DeprecationWarning: The default of the `iid` parameter will change from True to False in version 0.22 and will be removed in 0.24. This will change numeric results when test-set sizes are unequal.\n",
      "  DeprecationWarning)\n"
     ]
    },
    {
     "name": "stdout",
     "output_type": "stream",
     "text": [
      "CIndex: 0.6422912738365969\n",
      "Model features: ['original_shape_Compactness2', 'SourceDataset_l1', 'original_shape_SurfaceVolumeRatio', 'original_glcm_DifferenceAverage']\n",
      "Fitting 5 folds for each of 10 candidates, totalling 50 fits\n"
     ]
    },
    {
     "name": "stderr",
     "output_type": "stream",
     "text": [
      "[Parallel(n_jobs=-1)]: Using backend LokyBackend with 2 concurrent workers.\n",
      "[Parallel(n_jobs=-1)]: Done  50 out of  50 | elapsed:   39.1s finished\n"
     ]
    },
    {
     "name": "stdout",
     "output_type": "stream",
     "text": [
      "CIndex: 0.6280211795820422\n",
      "Model features: ['original_shape_Compactness2', 'SourceDataset_l1', 'original_shape_SurfaceVolumeRatio', 'original_glcm_JointEnergy']\n",
      "Fitting 5 folds for each of 10 candidates, totalling 50 fits\n"
     ]
    },
    {
     "name": "stderr",
     "output_type": "stream",
     "text": [
      "[Parallel(n_jobs=-1)]: Using backend LokyBackend with 2 concurrent workers.\n",
      "[Parallel(n_jobs=-1)]: Done  46 tasks      | elapsed:   50.9s\n",
      "[Parallel(n_jobs=-1)]: Done  50 out of  50 | elapsed:   53.3s finished\n"
     ]
    },
    {
     "name": "stdout",
     "output_type": "stream",
     "text": [
      "CIndex: 0.6591129085154689\n",
      "Model features: ['original_shape_Compactness2', 'SourceDataset_l1', 'original_shape_SurfaceVolumeRatio', 'original_glcm_Id']\n",
      "Fitting 5 folds for each of 10 candidates, totalling 50 fits\n"
     ]
    },
    {
     "name": "stderr",
     "output_type": "stream",
     "text": [
      "[Parallel(n_jobs=-1)]: Using backend LokyBackend with 2 concurrent workers.\n",
      "[Parallel(n_jobs=-1)]: Done  50 out of  50 | elapsed:  1.1min finished\n",
      "/usr/local/lib/python3.6/dist-packages/sklearn/model_selection/_search.py:814: DeprecationWarning: The default of the `iid` parameter will change from True to False in version 0.22 and will be removed in 0.24. This will change numeric results when test-set sizes are unequal.\n",
      "  DeprecationWarning)\n"
     ]
    },
    {
     "name": "stdout",
     "output_type": "stream",
     "text": [
      "CIndex: 0.6464868940951897\n",
      "Model features: ['original_shape_Compactness2', 'SourceDataset_l1', 'original_shape_SurfaceVolumeRatio', 'original_glcm_Idm']\n",
      "Fitting 5 folds for each of 10 candidates, totalling 50 fits\n"
     ]
    },
    {
     "name": "stderr",
     "output_type": "stream",
     "text": [
      "[Parallel(n_jobs=-1)]: Using backend LokyBackend with 2 concurrent workers.\n",
      "[Parallel(n_jobs=-1)]: Done  46 tasks      | elapsed:   34.4s\n",
      "[Parallel(n_jobs=-1)]: Done  50 out of  50 | elapsed:   35.5s finished\n",
      "/usr/local/lib/python3.6/dist-packages/sklearn/model_selection/_search.py:814: DeprecationWarning: The default of the `iid` parameter will change from True to False in version 0.22 and will be removed in 0.24. This will change numeric results when test-set sizes are unequal.\n",
      "  DeprecationWarning)\n"
     ]
    },
    {
     "name": "stdout",
     "output_type": "stream",
     "text": [
      "CIndex: 0.6504785273536441\n",
      "Model features: ['original_shape_Compactness2', 'SourceDataset_l1', 'original_shape_SurfaceVolumeRatio', 'original_glcm_Imc1']\n",
      "Fitting 5 folds for each of 10 candidates, totalling 50 fits\n"
     ]
    },
    {
     "name": "stderr",
     "output_type": "stream",
     "text": [
      "[Parallel(n_jobs=-1)]: Using backend LokyBackend with 2 concurrent workers.\n",
      "[Parallel(n_jobs=-1)]: Done  50 out of  50 | elapsed:   46.2s finished\n"
     ]
    },
    {
     "name": "stdout",
     "output_type": "stream",
     "text": [
      "CIndex: 0.6310197524160918\n",
      "Model features: ['original_shape_Compactness2', 'SourceDataset_l1', 'original_shape_SurfaceVolumeRatio', 'original_glcm_Imc2']\n",
      "Fitting 5 folds for each of 10 candidates, totalling 50 fits\n"
     ]
    },
    {
     "name": "stderr",
     "output_type": "stream",
     "text": [
      "[Parallel(n_jobs=-1)]: Using backend LokyBackend with 2 concurrent workers.\n",
      "[Parallel(n_jobs=-1)]: Done  50 out of  50 | elapsed:   36.1s finished\n",
      "/usr/local/lib/python3.6/dist-packages/sklearn/model_selection/_search.py:814: DeprecationWarning: The default of the `iid` parameter will change from True to False in version 0.22 and will be removed in 0.24. This will change numeric results when test-set sizes are unequal.\n",
      "  DeprecationWarning)\n"
     ]
    },
    {
     "name": "stdout",
     "output_type": "stream",
     "text": [
      "CIndex: 0.6485088367803277\n",
      "Model features: ['original_shape_Compactness2', 'SourceDataset_l1', 'original_shape_SurfaceVolumeRatio', 'original_glcm_Idmn']\n",
      "Fitting 5 folds for each of 10 candidates, totalling 50 fits\n"
     ]
    },
    {
     "name": "stderr",
     "output_type": "stream",
     "text": [
      "[Parallel(n_jobs=-1)]: Using backend LokyBackend with 2 concurrent workers.\n",
      "[Parallel(n_jobs=-1)]: Done  46 tasks      | elapsed:   46.2s\n",
      "[Parallel(n_jobs=-1)]: Done  50 out of  50 | elapsed:   59.4s finished\n",
      "/usr/local/lib/python3.6/dist-packages/sklearn/model_selection/_search.py:814: DeprecationWarning: The default of the `iid` parameter will change from True to False in version 0.22 and will be removed in 0.24. This will change numeric results when test-set sizes are unequal.\n",
      "  DeprecationWarning)\n"
     ]
    },
    {
     "name": "stdout",
     "output_type": "stream",
     "text": [
      "CIndex: 0.6415561994591408\n",
      "Model features: ['original_shape_Compactness2', 'SourceDataset_l1', 'original_shape_SurfaceVolumeRatio', 'original_glcm_Idn']\n",
      "Fitting 5 folds for each of 10 candidates, totalling 50 fits\n"
     ]
    },
    {
     "name": "stderr",
     "output_type": "stream",
     "text": [
      "[Parallel(n_jobs=-1)]: Using backend LokyBackend with 2 concurrent workers.\n",
      "[Parallel(n_jobs=-1)]: Done  46 tasks      | elapsed:   24.0s\n",
      "[Parallel(n_jobs=-1)]: Done  50 out of  50 | elapsed:   25.3s finished\n"
     ]
    },
    {
     "name": "stdout",
     "output_type": "stream",
     "text": [
      "CIndex: 0.6700353526862737\n",
      "Model features: ['original_shape_Compactness2', 'SourceDataset_l1', 'original_shape_SurfaceVolumeRatio', 'original_glrlm_ShortRunEmphasis']\n",
      "Fitting 5 folds for each of 10 candidates, totalling 50 fits\n"
     ]
    },
    {
     "name": "stderr",
     "output_type": "stream",
     "text": [
      "[Parallel(n_jobs=-1)]: Using backend LokyBackend with 2 concurrent workers.\n",
      "[Parallel(n_jobs=-1)]: Done  46 tasks      | elapsed:   42.7s\n",
      "[Parallel(n_jobs=-1)]: Done  50 out of  50 | elapsed:   45.5s finished\n",
      "/usr/local/lib/python3.6/dist-packages/sklearn/model_selection/_search.py:814: DeprecationWarning: The default of the `iid` parameter will change from True to False in version 0.22 and will be removed in 0.24. This will change numeric results when test-set sizes are unequal.\n",
      "  DeprecationWarning)\n"
     ]
    },
    {
     "name": "stdout",
     "output_type": "stream",
     "text": [
      "CIndex: 0.6605541222403328\n",
      "Model features: ['original_shape_Compactness2', 'SourceDataset_l1', 'original_shape_SurfaceVolumeRatio', 'original_glrlm_LongRunEmphasis']\n",
      "Fitting 5 folds for each of 10 candidates, totalling 50 fits\n"
     ]
    },
    {
     "name": "stderr",
     "output_type": "stream",
     "text": [
      "[Parallel(n_jobs=-1)]: Using backend LokyBackend with 2 concurrent workers.\n",
      "[Parallel(n_jobs=-1)]: Done  46 tasks      | elapsed:   41.3s\n",
      "[Parallel(n_jobs=-1)]: Done  50 out of  50 | elapsed:   44.7s finished\n"
     ]
    },
    {
     "name": "stdout",
     "output_type": "stream",
     "text": [
      "CIndex: 0.6529417088729828\n",
      "Model features: ['original_shape_Compactness2', 'SourceDataset_l1', 'original_shape_SurfaceVolumeRatio', 'original_glrlm_GrayLevelNonUniformity']\n",
      "Fitting 5 folds for each of 10 candidates, totalling 50 fits\n"
     ]
    },
    {
     "name": "stderr",
     "output_type": "stream",
     "text": [
      "[Parallel(n_jobs=-1)]: Using backend LokyBackend with 2 concurrent workers.\n",
      "/usr/local/lib/python3.6/dist-packages/joblib/externals/loky/process_executor.py:706: UserWarning: A worker stopped while some jobs were given to the executor. This can be caused by a too short worker timeout or by a memory leak.\n",
      "  \"timeout or by a memory leak.\", UserWarning\n",
      "[Parallel(n_jobs=-1)]: Done  50 out of  50 | elapsed:  1.5min finished\n"
     ]
    },
    {
     "name": "stdout",
     "output_type": "stream",
     "text": [
      "CIndex: 0.6384136418717073\n",
      "Model features: ['original_shape_Compactness2', 'SourceDataset_l1', 'original_shape_SurfaceVolumeRatio', 'original_glrlm_RunPercentage']\n",
      "Fitting 5 folds for each of 10 candidates, totalling 50 fits\n"
     ]
    },
    {
     "name": "stderr",
     "output_type": "stream",
     "text": [
      "[Parallel(n_jobs=-1)]: Using backend LokyBackend with 2 concurrent workers.\n",
      "/usr/local/lib/python3.6/dist-packages/joblib/externals/loky/process_executor.py:706: UserWarning: A worker stopped while some jobs were given to the executor. This can be caused by a too short worker timeout or by a memory leak.\n",
      "  \"timeout or by a memory leak.\", UserWarning\n",
      "[Parallel(n_jobs=-1)]: Done  46 tasks      | elapsed:   41.1s\n",
      "[Parallel(n_jobs=-1)]: Done  50 out of  50 | elapsed:   42.0s finished\n"
     ]
    },
    {
     "name": "stdout",
     "output_type": "stream",
     "text": [
      "CIndex: 0.6549922168331123\n",
      "Model features: ['original_shape_Compactness2', 'SourceDataset_l1', 'original_shape_SurfaceVolumeRatio', 'original_glrlm_ShortRunLowGrayLevelEmphasis']\n",
      "Fitting 5 folds for each of 10 candidates, totalling 50 fits\n"
     ]
    },
    {
     "name": "stderr",
     "output_type": "stream",
     "text": [
      "[Parallel(n_jobs=-1)]: Using backend LokyBackend with 2 concurrent workers.\n",
      "[Parallel(n_jobs=-1)]: Done  46 tasks      | elapsed:   31.0s\n",
      "[Parallel(n_jobs=-1)]: Done  50 out of  50 | elapsed:   31.3s finished\n"
     ]
    },
    {
     "name": "stdout",
     "output_type": "stream",
     "text": [
      "CIndex: 0.6568827815889188\n",
      "Model features: ['original_shape_Compactness2', 'SourceDataset_l1', 'original_shape_SurfaceVolumeRatio', 'original_glrlm_LongRunLowGrayLevelEmphasis']\n",
      "Fitting 5 folds for each of 10 candidates, totalling 50 fits\n"
     ]
    },
    {
     "name": "stderr",
     "output_type": "stream",
     "text": [
      "[Parallel(n_jobs=-1)]: Using backend LokyBackend with 2 concurrent workers.\n",
      "[Parallel(n_jobs=-1)]: Done  46 tasks      | elapsed:   16.4s\n",
      "[Parallel(n_jobs=-1)]: Done  50 out of  50 | elapsed:   17.0s finished\n"
     ]
    },
    {
     "name": "stdout",
     "output_type": "stream",
     "text": [
      "CIndex: 0.6404185130686262\n",
      "Model features: ['original_shape_Compactness2', 'SourceDataset_l1', 'original_shape_SurfaceVolumeRatio', 'original_glrlm_LongRunHighGrayLevelEmphasis']\n",
      "Fitting 5 folds for each of 10 candidates, totalling 50 fits\n"
     ]
    },
    {
     "name": "stderr",
     "output_type": "stream",
     "text": [
      "[Parallel(n_jobs=-1)]: Using backend LokyBackend with 2 concurrent workers.\n",
      "[Parallel(n_jobs=-1)]: Done  46 tasks      | elapsed:   22.6s\n",
      "[Parallel(n_jobs=-1)]: Done  50 out of  50 | elapsed:   23.6s finished\n"
     ]
    },
    {
     "name": "stdout",
     "output_type": "stream",
     "text": [
      "CIndex: 0.6430673440069903\n",
      "Model features: ['original_shape_Compactness2', 'SourceDataset_l1', 'original_shape_SurfaceVolumeRatio', 'Nstage']\n",
      "Fitting 5 folds for each of 10 candidates, totalling 50 fits\n"
     ]
    },
    {
     "name": "stderr",
     "output_type": "stream",
     "text": [
      "[Parallel(n_jobs=-1)]: Using backend LokyBackend with 2 concurrent workers.\n",
      "[Parallel(n_jobs=-1)]: Done  50 out of  50 | elapsed:   32.4s finished\n",
      "/usr/local/lib/python3.6/dist-packages/sklearn/model_selection/_search.py:814: DeprecationWarning: The default of the `iid` parameter will change from True to False in version 0.22 and will be removed in 0.24. This will change numeric results when test-set sizes are unequal.\n",
      "  DeprecationWarning)\n"
     ]
    },
    {
     "name": "stdout",
     "output_type": "stream",
     "text": [
      "CIndex: 0.6378951731810535\n",
      "Model features: ['original_shape_Compactness2', 'SourceDataset_l1', 'original_shape_SurfaceVolumeRatio', 'age']\n",
      "Fitting 5 folds for each of 10 candidates, totalling 50 fits\n"
     ]
    },
    {
     "name": "stderr",
     "output_type": "stream",
     "text": [
      "[Parallel(n_jobs=-1)]: Using backend LokyBackend with 2 concurrent workers.\n",
      "[Parallel(n_jobs=-1)]: Done  50 out of  50 | elapsed:   25.0s finished\n"
     ]
    },
    {
     "name": "stdout",
     "output_type": "stream",
     "text": [
      "CIndex: 0.6517340879834499\n",
      "Model features: ['original_shape_Compactness2', 'SourceDataset_l1', 'original_shape_SurfaceVolumeRatio', 'SourceDataset_l2']\n",
      "Fitting 5 folds for each of 10 candidates, totalling 50 fits\n"
     ]
    },
    {
     "name": "stderr",
     "output_type": "stream",
     "text": [
      "[Parallel(n_jobs=-1)]: Using backend LokyBackend with 2 concurrent workers.\n",
      "[Parallel(n_jobs=-1)]: Done  46 tasks      | elapsed:   42.1s\n",
      "[Parallel(n_jobs=-1)]: Done  50 out of  50 | elapsed:   44.1s finished\n"
     ]
    },
    {
     "name": "stdout",
     "output_type": "stream",
     "text": [
      "CIndex: 0.6431448781383295\n",
      "Selected new growing feature: original_glcm_Idn\n",
      "\n",
      "Growing 5-th feature...\n",
      "\n",
      "Model features: ['original_shape_Compactness2', 'SourceDataset_l1', 'original_shape_SurfaceVolumeRatio', 'original_glcm_Idn', 'original_shape_SphericalDisproportion']\n",
      "Fitting 5 folds for each of 10 candidates, totalling 50 fits\n"
     ]
    },
    {
     "name": "stderr",
     "output_type": "stream",
     "text": [
      "[Parallel(n_jobs=-1)]: Using backend LokyBackend with 2 concurrent workers.\n",
      "[Parallel(n_jobs=-1)]: Done  46 tasks      | elapsed:   18.6s\n",
      "[Parallel(n_jobs=-1)]: Done  50 out of  50 | elapsed:   20.6s finished\n"
     ]
    },
    {
     "name": "stdout",
     "output_type": "stream",
     "text": [
      "CIndex: 0.6310065562524546\n",
      "Model features: ['original_shape_Compactness2', 'SourceDataset_l1', 'original_shape_SurfaceVolumeRatio', 'original_glcm_Idn', 'original_firstorder_Kurtosis']\n",
      "Fitting 5 folds for each of 10 candidates, totalling 50 fits\n"
     ]
    },
    {
     "name": "stderr",
     "output_type": "stream",
     "text": [
      "[Parallel(n_jobs=-1)]: Using backend LokyBackend with 2 concurrent workers.\n",
      "[Parallel(n_jobs=-1)]: Done  50 out of  50 | elapsed:   42.7s finished\n",
      "/usr/local/lib/python3.6/dist-packages/sklearn/model_selection/_search.py:814: DeprecationWarning: The default of the `iid` parameter will change from True to False in version 0.22 and will be removed in 0.24. This will change numeric results when test-set sizes are unequal.\n",
      "  DeprecationWarning)\n"
     ]
    },
    {
     "name": "stdout",
     "output_type": "stream",
     "text": [
      "CIndex: 0.6494533791094825\n",
      "Model features: ['original_shape_Compactness2', 'SourceDataset_l1', 'original_shape_SurfaceVolumeRatio', 'original_glcm_Idn', 'original_firstorder_MeanAbsoluteDeviation']\n",
      "Fitting 5 folds for each of 10 candidates, totalling 50 fits\n"
     ]
    },
    {
     "name": "stderr",
     "output_type": "stream",
     "text": [
      "[Parallel(n_jobs=-1)]: Using backend LokyBackend with 2 concurrent workers.\n",
      "[Parallel(n_jobs=-1)]: Done  46 tasks      | elapsed:   44.9s\n",
      "[Parallel(n_jobs=-1)]: Done  50 out of  50 | elapsed:   47.8s finished\n"
     ]
    },
    {
     "name": "stdout",
     "output_type": "stream",
     "text": [
      "CIndex: 0.6464285622211989\n",
      "Model features: ['original_shape_Compactness2', 'SourceDataset_l1', 'original_shape_SurfaceVolumeRatio', 'original_glcm_Idn', 'original_firstorder_Minimum']\n",
      "Fitting 5 folds for each of 10 candidates, totalling 50 fits\n"
     ]
    },
    {
     "name": "stderr",
     "output_type": "stream",
     "text": [
      "[Parallel(n_jobs=-1)]: Using backend LokyBackend with 2 concurrent workers.\n",
      "/usr/local/lib/python3.6/dist-packages/joblib/externals/loky/process_executor.py:706: UserWarning: A worker stopped while some jobs were given to the executor. This can be caused by a too short worker timeout or by a memory leak.\n",
      "  \"timeout or by a memory leak.\", UserWarning\n",
      "[Parallel(n_jobs=-1)]: Done  50 out of  50 | elapsed:   54.1s finished\n"
     ]
    },
    {
     "name": "stdout",
     "output_type": "stream",
     "text": [
      "CIndex: 0.6768835309749677\n",
      "Model features: ['original_shape_Compactness2', 'SourceDataset_l1', 'original_shape_SurfaceVolumeRatio', 'original_glcm_Idn', 'original_glcm_ClusterProminence']\n",
      "Fitting 5 folds for each of 10 candidates, totalling 50 fits\n"
     ]
    },
    {
     "name": "stderr",
     "output_type": "stream",
     "text": [
      "[Parallel(n_jobs=-1)]: Using backend LokyBackend with 2 concurrent workers.\n",
      "[Parallel(n_jobs=-1)]: Done  46 tasks      | elapsed:   30.6s\n",
      "[Parallel(n_jobs=-1)]: Done  50 out of  50 | elapsed:   33.1s finished\n"
     ]
    },
    {
     "name": "stdout",
     "output_type": "stream",
     "text": [
      "CIndex: 0.6580263643962103\n",
      "Model features: ['original_shape_Compactness2', 'SourceDataset_l1', 'original_shape_SurfaceVolumeRatio', 'original_glcm_Idn', 'original_glcm_Contrast']\n",
      "Fitting 5 folds for each of 10 candidates, totalling 50 fits\n"
     ]
    },
    {
     "name": "stderr",
     "output_type": "stream",
     "text": [
      "[Parallel(n_jobs=-1)]: Using backend LokyBackend with 2 concurrent workers.\n",
      "/usr/local/lib/python3.6/dist-packages/joblib/externals/loky/process_executor.py:706: UserWarning: A worker stopped while some jobs were given to the executor. This can be caused by a too short worker timeout or by a memory leak.\n",
      "  \"timeout or by a memory leak.\", UserWarning\n",
      "[Parallel(n_jobs=-1)]: Done  50 out of  50 | elapsed:   34.4s finished\n"
     ]
    },
    {
     "name": "stdout",
     "output_type": "stream",
     "text": [
      "CIndex: 0.6539834361080634\n",
      "Model features: ['original_shape_Compactness2', 'SourceDataset_l1', 'original_shape_SurfaceVolumeRatio', 'original_glcm_Idn', 'original_glcm_DifferenceEntropy']\n",
      "Fitting 5 folds for each of 10 candidates, totalling 50 fits\n"
     ]
    },
    {
     "name": "stderr",
     "output_type": "stream",
     "text": [
      "[Parallel(n_jobs=-1)]: Using backend LokyBackend with 2 concurrent workers.\n",
      "[Parallel(n_jobs=-1)]: Done  46 tasks      | elapsed:   32.1s\n",
      "[Parallel(n_jobs=-1)]: Done  50 out of  50 | elapsed:   32.6s finished\n"
     ]
    },
    {
     "name": "stdout",
     "output_type": "stream",
     "text": [
      "CIndex: 0.6638638512888428\n",
      "Model features: ['original_shape_Compactness2', 'SourceDataset_l1', 'original_shape_SurfaceVolumeRatio', 'original_glcm_Idn', 'original_glcm_DifferenceAverage']\n",
      "Fitting 5 folds for each of 10 candidates, totalling 50 fits\n"
     ]
    },
    {
     "name": "stderr",
     "output_type": "stream",
     "text": [
      "[Parallel(n_jobs=-1)]: Using backend LokyBackend with 2 concurrent workers.\n",
      "[Parallel(n_jobs=-1)]: Done  50 out of  50 | elapsed:   28.3s finished\n"
     ]
    },
    {
     "name": "stdout",
     "output_type": "stream",
     "text": [
      "CIndex: 0.6391755679773458\n",
      "Model features: ['original_shape_Compactness2', 'SourceDataset_l1', 'original_shape_SurfaceVolumeRatio', 'original_glcm_Idn', 'original_glcm_JointEnergy']\n",
      "Fitting 5 folds for each of 10 candidates, totalling 50 fits\n"
     ]
    },
    {
     "name": "stderr",
     "output_type": "stream",
     "text": [
      "[Parallel(n_jobs=-1)]: Using backend LokyBackend with 2 concurrent workers.\n",
      "[Parallel(n_jobs=-1)]: Done  50 out of  50 | elapsed:   26.9s finished\n",
      "/usr/local/lib/python3.6/dist-packages/sklearn/model_selection/_search.py:814: DeprecationWarning: The default of the `iid` parameter will change from True to False in version 0.22 and will be removed in 0.24. This will change numeric results when test-set sizes are unequal.\n",
      "  DeprecationWarning)\n"
     ]
    },
    {
     "name": "stdout",
     "output_type": "stream",
     "text": [
      "CIndex: 0.6559024129658692\n",
      "Model features: ['original_shape_Compactness2', 'SourceDataset_l1', 'original_shape_SurfaceVolumeRatio', 'original_glcm_Idn', 'original_glcm_Id']\n",
      "Fitting 5 folds for each of 10 candidates, totalling 50 fits\n"
     ]
    },
    {
     "name": "stderr",
     "output_type": "stream",
     "text": [
      "[Parallel(n_jobs=-1)]: Using backend LokyBackend with 2 concurrent workers.\n",
      "[Parallel(n_jobs=-1)]: Done  50 out of  50 | elapsed:   57.3s finished\n"
     ]
    },
    {
     "name": "stdout",
     "output_type": "stream",
     "text": [
      "CIndex: 0.6468773558379797\n",
      "Model features: ['original_shape_Compactness2', 'SourceDataset_l1', 'original_shape_SurfaceVolumeRatio', 'original_glcm_Idn', 'original_glcm_Idm']\n",
      "Fitting 5 folds for each of 10 candidates, totalling 50 fits\n"
     ]
    },
    {
     "name": "stderr",
     "output_type": "stream",
     "text": [
      "[Parallel(n_jobs=-1)]: Using backend LokyBackend with 2 concurrent workers.\n",
      "[Parallel(n_jobs=-1)]: Done  50 out of  50 | elapsed:   50.7s finished\n",
      "/usr/local/lib/python3.6/dist-packages/sklearn/model_selection/_search.py:814: DeprecationWarning: The default of the `iid` parameter will change from True to False in version 0.22 and will be removed in 0.24. This will change numeric results when test-set sizes are unequal.\n",
      "  DeprecationWarning)\n"
     ]
    },
    {
     "name": "stdout",
     "output_type": "stream",
     "text": [
      "CIndex: 0.6585616400592593\n",
      "Model features: ['original_shape_Compactness2', 'SourceDataset_l1', 'original_shape_SurfaceVolumeRatio', 'original_glcm_Idn', 'original_glcm_Imc1']\n",
      "Fitting 5 folds for each of 10 candidates, totalling 50 fits\n"
     ]
    },
    {
     "name": "stderr",
     "output_type": "stream",
     "text": [
      "[Parallel(n_jobs=-1)]: Using backend LokyBackend with 2 concurrent workers.\n",
      "[Parallel(n_jobs=-1)]: Done  46 tasks      | elapsed:  1.1min\n",
      "[Parallel(n_jobs=-1)]: Done  50 out of  50 | elapsed:  1.1min finished\n",
      "/usr/local/lib/python3.6/dist-packages/sklearn/model_selection/_search.py:814: DeprecationWarning: The default of the `iid` parameter will change from True to False in version 0.22 and will be removed in 0.24. This will change numeric results when test-set sizes are unequal.\n",
      "  DeprecationWarning)\n"
     ]
    },
    {
     "name": "stdout",
     "output_type": "stream",
     "text": [
      "CIndex: 0.645539947359713\n",
      "Model features: ['original_shape_Compactness2', 'SourceDataset_l1', 'original_shape_SurfaceVolumeRatio', 'original_glcm_Idn', 'original_glcm_Imc2']\n",
      "Fitting 5 folds for each of 10 candidates, totalling 50 fits\n"
     ]
    },
    {
     "name": "stderr",
     "output_type": "stream",
     "text": [
      "[Parallel(n_jobs=-1)]: Using backend LokyBackend with 2 concurrent workers.\n",
      "[Parallel(n_jobs=-1)]: Done  46 tasks      | elapsed:   33.8s\n",
      "[Parallel(n_jobs=-1)]: Done  50 out of  50 | elapsed:   41.9s finished\n"
     ]
    },
    {
     "name": "stdout",
     "output_type": "stream",
     "text": [
      "CIndex: 0.6616367591560964\n",
      "Model features: ['original_shape_Compactness2', 'SourceDataset_l1', 'original_shape_SurfaceVolumeRatio', 'original_glcm_Idn', 'original_glcm_Idmn']\n",
      "Fitting 5 folds for each of 10 candidates, totalling 50 fits\n"
     ]
    },
    {
     "name": "stderr",
     "output_type": "stream",
     "text": [
      "[Parallel(n_jobs=-1)]: Using backend LokyBackend with 2 concurrent workers.\n",
      "[Parallel(n_jobs=-1)]: Done  50 out of  50 | elapsed:   46.4s finished\n"
     ]
    },
    {
     "name": "stdout",
     "output_type": "stream",
     "text": [
      "CIndex: 0.6491923197133298\n",
      "Model features: ['original_shape_Compactness2', 'SourceDataset_l1', 'original_shape_SurfaceVolumeRatio', 'original_glcm_Idn', 'original_glrlm_ShortRunEmphasis']\n",
      "Fitting 5 folds for each of 10 candidates, totalling 50 fits\n"
     ]
    },
    {
     "name": "stderr",
     "output_type": "stream",
     "text": [
      "[Parallel(n_jobs=-1)]: Using backend LokyBackend with 2 concurrent workers.\n",
      "[Parallel(n_jobs=-1)]: Done  46 tasks      | elapsed:   34.1s\n",
      "[Parallel(n_jobs=-1)]: Done  50 out of  50 | elapsed:   34.7s finished\n"
     ]
    },
    {
     "name": "stdout",
     "output_type": "stream",
     "text": [
      "CIndex: 0.6754888410009978\n",
      "Model features: ['original_shape_Compactness2', 'SourceDataset_l1', 'original_shape_SurfaceVolumeRatio', 'original_glcm_Idn', 'original_glrlm_LongRunEmphasis']\n",
      "Fitting 5 folds for each of 10 candidates, totalling 50 fits\n"
     ]
    },
    {
     "name": "stderr",
     "output_type": "stream",
     "text": [
      "[Parallel(n_jobs=-1)]: Using backend LokyBackend with 2 concurrent workers.\n",
      "[Parallel(n_jobs=-1)]: Done  46 tasks      | elapsed:   33.7s\n",
      "[Parallel(n_jobs=-1)]: Done  50 out of  50 | elapsed:   35.8s finished\n",
      "/usr/local/lib/python3.6/dist-packages/sklearn/model_selection/_search.py:814: DeprecationWarning: The default of the `iid` parameter will change from True to False in version 0.22 and will be removed in 0.24. This will change numeric results when test-set sizes are unequal.\n",
      "  DeprecationWarning)\n"
     ]
    },
    {
     "name": "stdout",
     "output_type": "stream",
     "text": [
      "CIndex: 0.6432857629021708\n",
      "Model features: ['original_shape_Compactness2', 'SourceDataset_l1', 'original_shape_SurfaceVolumeRatio', 'original_glcm_Idn', 'original_glrlm_GrayLevelNonUniformity']\n",
      "Fitting 5 folds for each of 10 candidates, totalling 50 fits\n"
     ]
    },
    {
     "name": "stderr",
     "output_type": "stream",
     "text": [
      "[Parallel(n_jobs=-1)]: Using backend LokyBackend with 2 concurrent workers.\n",
      "[Parallel(n_jobs=-1)]: Done  46 tasks      | elapsed:   36.8s\n",
      "[Parallel(n_jobs=-1)]: Done  50 out of  50 | elapsed:   37.3s finished\n"
     ]
    },
    {
     "name": "stdout",
     "output_type": "stream",
     "text": [
      "CIndex: 0.6406120648049114\n",
      "Model features: ['original_shape_Compactness2', 'SourceDataset_l1', 'original_shape_SurfaceVolumeRatio', 'original_glcm_Idn', 'original_glrlm_RunPercentage']\n",
      "Fitting 5 folds for each of 10 candidates, totalling 50 fits\n"
     ]
    },
    {
     "name": "stderr",
     "output_type": "stream",
     "text": [
      "[Parallel(n_jobs=-1)]: Using backend LokyBackend with 2 concurrent workers.\n",
      "[Parallel(n_jobs=-1)]: Done  46 tasks      | elapsed:   26.7s\n",
      "[Parallel(n_jobs=-1)]: Done  50 out of  50 | elapsed:   27.2s finished\n",
      "/usr/local/lib/python3.6/dist-packages/sklearn/model_selection/_search.py:814: DeprecationWarning: The default of the `iid` parameter will change from True to False in version 0.22 and will be removed in 0.24. This will change numeric results when test-set sizes are unequal.\n",
      "  DeprecationWarning)\n"
     ]
    },
    {
     "name": "stdout",
     "output_type": "stream",
     "text": [
      "CIndex: 0.6132089644082993\n",
      "Model features: ['original_shape_Compactness2', 'SourceDataset_l1', 'original_shape_SurfaceVolumeRatio', 'original_glcm_Idn', 'original_glrlm_ShortRunLowGrayLevelEmphasis']\n",
      "Fitting 5 folds for each of 10 candidates, totalling 50 fits\n"
     ]
    },
    {
     "name": "stderr",
     "output_type": "stream",
     "text": [
      "[Parallel(n_jobs=-1)]: Using backend LokyBackend with 2 concurrent workers.\n",
      "[Parallel(n_jobs=-1)]: Done  46 tasks      | elapsed:   49.6s\n",
      "[Parallel(n_jobs=-1)]: Done  50 out of  50 | elapsed:  1.0min finished\n"
     ]
    },
    {
     "name": "stdout",
     "output_type": "stream",
     "text": [
      "CIndex: 0.6497606052618934\n",
      "Model features: ['original_shape_Compactness2', 'SourceDataset_l1', 'original_shape_SurfaceVolumeRatio', 'original_glcm_Idn', 'original_glrlm_LongRunLowGrayLevelEmphasis']\n",
      "Fitting 5 folds for each of 10 candidates, totalling 50 fits\n"
     ]
    },
    {
     "name": "stderr",
     "output_type": "stream",
     "text": [
      "[Parallel(n_jobs=-1)]: Using backend LokyBackend with 2 concurrent workers.\n",
      "[Parallel(n_jobs=-1)]: Done  46 tasks      | elapsed:   34.9s\n",
      "[Parallel(n_jobs=-1)]: Done  50 out of  50 | elapsed:   46.7s finished\n"
     ]
    },
    {
     "name": "stdout",
     "output_type": "stream",
     "text": [
      "CIndex: 0.6475144213509665\n",
      "Model features: ['original_shape_Compactness2', 'SourceDataset_l1', 'original_shape_SurfaceVolumeRatio', 'original_glcm_Idn', 'original_glrlm_LongRunHighGrayLevelEmphasis']\n",
      "Fitting 5 folds for each of 10 candidates, totalling 50 fits\n"
     ]
    },
    {
     "name": "stderr",
     "output_type": "stream",
     "text": [
      "[Parallel(n_jobs=-1)]: Using backend LokyBackend with 2 concurrent workers.\n",
      "[Parallel(n_jobs=-1)]: Done  50 out of  50 | elapsed:   15.5s finished\n",
      "/usr/local/lib/python3.6/dist-packages/sklearn/model_selection/_search.py:814: DeprecationWarning: The default of the `iid` parameter will change from True to False in version 0.22 and will be removed in 0.24. This will change numeric results when test-set sizes are unequal.\n",
      "  DeprecationWarning)\n"
     ]
    },
    {
     "name": "stdout",
     "output_type": "stream",
     "text": [
      "CIndex: 0.646330658501042\n",
      "Model features: ['original_shape_Compactness2', 'SourceDataset_l1', 'original_shape_SurfaceVolumeRatio', 'original_glcm_Idn', 'Nstage']\n",
      "Fitting 5 folds for each of 10 candidates, totalling 50 fits\n"
     ]
    },
    {
     "name": "stderr",
     "output_type": "stream",
     "text": [
      "[Parallel(n_jobs=-1)]: Using backend LokyBackend with 2 concurrent workers.\n",
      "[Parallel(n_jobs=-1)]: Done  46 tasks      | elapsed:   14.9s\n",
      "[Parallel(n_jobs=-1)]: Done  50 out of  50 | elapsed:   17.0s finished\n"
     ]
    },
    {
     "name": "stdout",
     "output_type": "stream",
     "text": [
      "CIndex: 0.6508903567424602\n",
      "Model features: ['original_shape_Compactness2', 'SourceDataset_l1', 'original_shape_SurfaceVolumeRatio', 'original_glcm_Idn', 'age']\n",
      "Fitting 5 folds for each of 10 candidates, totalling 50 fits\n"
     ]
    },
    {
     "name": "stderr",
     "output_type": "stream",
     "text": [
      "[Parallel(n_jobs=-1)]: Using backend LokyBackend with 2 concurrent workers.\n",
      "[Parallel(n_jobs=-1)]: Done  46 tasks      | elapsed:   41.4s\n",
      "[Parallel(n_jobs=-1)]: Done  50 out of  50 | elapsed:   43.4s finished\n"
     ]
    },
    {
     "name": "stdout",
     "output_type": "stream",
     "text": [
      "CIndex: 0.66089187937231\n",
      "Model features: ['original_shape_Compactness2', 'SourceDataset_l1', 'original_shape_SurfaceVolumeRatio', 'original_glcm_Idn', 'SourceDataset_l2']\n",
      "Fitting 5 folds for each of 10 candidates, totalling 50 fits\n"
     ]
    },
    {
     "name": "stderr",
     "output_type": "stream",
     "text": [
      "[Parallel(n_jobs=-1)]: Using backend LokyBackend with 2 concurrent workers.\n",
      "[Parallel(n_jobs=-1)]: Done  46 tasks      | elapsed:   47.7s\n",
      "[Parallel(n_jobs=-1)]: Done  50 out of  50 | elapsed:   48.6s finished\n"
     ]
    },
    {
     "name": "stdout",
     "output_type": "stream",
     "text": [
      "CIndex: 0.6340649750707333\n",
      "Selected new growing feature: original_firstorder_Minimum\n",
      "\n",
      "Growing 6-th feature...\n",
      "\n",
      "Model features: ['original_shape_Compactness2', 'SourceDataset_l1', 'original_shape_SurfaceVolumeRatio', 'original_glcm_Idn', 'original_firstorder_Minimum', 'original_shape_SphericalDisproportion']\n",
      "Fitting 5 folds for each of 10 candidates, totalling 50 fits\n"
     ]
    },
    {
     "name": "stderr",
     "output_type": "stream",
     "text": [
      "[Parallel(n_jobs=-1)]: Using backend LokyBackend with 2 concurrent workers.\n",
      "[Parallel(n_jobs=-1)]: Done  46 tasks      | elapsed:   29.6s\n",
      "[Parallel(n_jobs=-1)]: Done  50 out of  50 | elapsed:   32.1s finished\n"
     ]
    },
    {
     "name": "stdout",
     "output_type": "stream",
     "text": [
      "CIndex: 0.6438708963845137\n",
      "Model features: ['original_shape_Compactness2', 'SourceDataset_l1', 'original_shape_SurfaceVolumeRatio', 'original_glcm_Idn', 'original_firstorder_Minimum', 'original_firstorder_Kurtosis']\n",
      "Fitting 5 folds for each of 10 candidates, totalling 50 fits\n"
     ]
    },
    {
     "name": "stderr",
     "output_type": "stream",
     "text": [
      "[Parallel(n_jobs=-1)]: Using backend LokyBackend with 2 concurrent workers.\n",
      "[Parallel(n_jobs=-1)]: Done  46 tasks      | elapsed:   38.3s\n",
      "[Parallel(n_jobs=-1)]: Done  50 out of  50 | elapsed:   39.3s finished\n"
     ]
    },
    {
     "name": "stdout",
     "output_type": "stream",
     "text": [
      "CIndex: 0.645671432525158\n",
      "Model features: ['original_shape_Compactness2', 'SourceDataset_l1', 'original_shape_SurfaceVolumeRatio', 'original_glcm_Idn', 'original_firstorder_Minimum', 'original_firstorder_MeanAbsoluteDeviation']\n",
      "Fitting 5 folds for each of 10 candidates, totalling 50 fits\n"
     ]
    },
    {
     "name": "stderr",
     "output_type": "stream",
     "text": [
      "[Parallel(n_jobs=-1)]: Using backend LokyBackend with 2 concurrent workers.\n",
      "[Parallel(n_jobs=-1)]: Done  46 tasks      | elapsed:   47.7s\n",
      "[Parallel(n_jobs=-1)]: Done  50 out of  50 | elapsed:   51.6s finished\n"
     ]
    },
    {
     "name": "stdout",
     "output_type": "stream",
     "text": [
      "CIndex: 0.6402632647720633\n",
      "Model features: ['original_shape_Compactness2', 'SourceDataset_l1', 'original_shape_SurfaceVolumeRatio', 'original_glcm_Idn', 'original_firstorder_Minimum', 'original_glcm_ClusterProminence']\n",
      "Fitting 5 folds for each of 10 candidates, totalling 50 fits\n"
     ]
    },
    {
     "name": "stderr",
     "output_type": "stream",
     "text": [
      "[Parallel(n_jobs=-1)]: Using backend LokyBackend with 2 concurrent workers.\n",
      "[Parallel(n_jobs=-1)]: Done  46 tasks      | elapsed:   58.2s\n",
      "[Parallel(n_jobs=-1)]: Done  50 out of  50 | elapsed:   59.5s finished\n"
     ]
    },
    {
     "name": "stdout",
     "output_type": "stream",
     "text": [
      "CIndex: 0.6543060458892206\n",
      "Model features: ['original_shape_Compactness2', 'SourceDataset_l1', 'original_shape_SurfaceVolumeRatio', 'original_glcm_Idn', 'original_firstorder_Minimum', 'original_glcm_Contrast']\n",
      "Fitting 5 folds for each of 10 candidates, totalling 50 fits\n"
     ]
    },
    {
     "name": "stderr",
     "output_type": "stream",
     "text": [
      "[Parallel(n_jobs=-1)]: Using backend LokyBackend with 2 concurrent workers.\n",
      "[Parallel(n_jobs=-1)]: Done  46 tasks      | elapsed:   33.4s\n",
      "[Parallel(n_jobs=-1)]: Done  50 out of  50 | elapsed:   35.8s finished\n"
     ]
    },
    {
     "name": "stdout",
     "output_type": "stream",
     "text": [
      "CIndex: 0.6476542533226369\n",
      "Model features: ['original_shape_Compactness2', 'SourceDataset_l1', 'original_shape_SurfaceVolumeRatio', 'original_glcm_Idn', 'original_firstorder_Minimum', 'original_glcm_DifferenceEntropy']\n",
      "Fitting 5 folds for each of 10 candidates, totalling 50 fits\n"
     ]
    },
    {
     "name": "stderr",
     "output_type": "stream",
     "text": [
      "[Parallel(n_jobs=-1)]: Using backend LokyBackend with 2 concurrent workers.\n",
      "[Parallel(n_jobs=-1)]: Done  46 tasks      | elapsed:   33.8s\n",
      "[Parallel(n_jobs=-1)]: Done  50 out of  50 | elapsed:   34.5s finished\n"
     ]
    },
    {
     "name": "stdout",
     "output_type": "stream",
     "text": [
      "CIndex: 0.672037433725073\n",
      "Model features: ['original_shape_Compactness2', 'SourceDataset_l1', 'original_shape_SurfaceVolumeRatio', 'original_glcm_Idn', 'original_firstorder_Minimum', 'original_glcm_DifferenceAverage']\n",
      "Fitting 5 folds for each of 10 candidates, totalling 50 fits\n"
     ]
    },
    {
     "name": "stderr",
     "output_type": "stream",
     "text": [
      "[Parallel(n_jobs=-1)]: Using backend LokyBackend with 2 concurrent workers.\n",
      "[Parallel(n_jobs=-1)]: Done  50 out of  50 | elapsed:   35.6s finished\n"
     ]
    },
    {
     "name": "stdout",
     "output_type": "stream",
     "text": [
      "CIndex: 0.6346470434737717\n",
      "Model features: ['original_shape_Compactness2', 'SourceDataset_l1', 'original_shape_SurfaceVolumeRatio', 'original_glcm_Idn', 'original_firstorder_Minimum', 'original_glcm_JointEnergy']\n",
      "Fitting 5 folds for each of 10 candidates, totalling 50 fits\n"
     ]
    },
    {
     "name": "stderr",
     "output_type": "stream",
     "text": [
      "[Parallel(n_jobs=-1)]: Using backend LokyBackend with 2 concurrent workers.\n",
      "[Parallel(n_jobs=-1)]: Done  46 tasks      | elapsed:   58.3s\n",
      "[Parallel(n_jobs=-1)]: Done  50 out of  50 | elapsed:   59.3s finished\n",
      "/usr/local/lib/python3.6/dist-packages/sklearn/model_selection/_search.py:814: DeprecationWarning: The default of the `iid` parameter will change from True to False in version 0.22 and will be removed in 0.24. This will change numeric results when test-set sizes are unequal.\n",
      "  DeprecationWarning)\n"
     ]
    },
    {
     "name": "stdout",
     "output_type": "stream",
     "text": [
      "CIndex: 0.6536999491911979\n",
      "Model features: ['original_shape_Compactness2', 'SourceDataset_l1', 'original_shape_SurfaceVolumeRatio', 'original_glcm_Idn', 'original_firstorder_Minimum', 'original_glcm_Id']\n",
      "Fitting 5 folds for each of 10 candidates, totalling 50 fits\n"
     ]
    },
    {
     "name": "stderr",
     "output_type": "stream",
     "text": [
      "[Parallel(n_jobs=-1)]: Using backend LokyBackend with 2 concurrent workers.\n",
      "[Parallel(n_jobs=-1)]: Done  46 tasks      | elapsed:   33.2s\n",
      "[Parallel(n_jobs=-1)]: Done  50 out of  50 | elapsed:   35.6s finished\n"
     ]
    },
    {
     "name": "stdout",
     "output_type": "stream",
     "text": [
      "CIndex: 0.6519356155531815\n",
      "Model features: ['original_shape_Compactness2', 'SourceDataset_l1', 'original_shape_SurfaceVolumeRatio', 'original_glcm_Idn', 'original_firstorder_Minimum', 'original_glcm_Idm']\n",
      "Fitting 5 folds for each of 10 candidates, totalling 50 fits\n"
     ]
    },
    {
     "name": "stderr",
     "output_type": "stream",
     "text": [
      "[Parallel(n_jobs=-1)]: Using backend LokyBackend with 2 concurrent workers.\n",
      "[Parallel(n_jobs=-1)]: Done  46 tasks      | elapsed:   43.0s\n",
      "[Parallel(n_jobs=-1)]: Done  50 out of  50 | elapsed:   44.3s finished\n"
     ]
    },
    {
     "name": "stdout",
     "output_type": "stream",
     "text": [
      "CIndex: 0.6359706632133694\n",
      "Model features: ['original_shape_Compactness2', 'SourceDataset_l1', 'original_shape_SurfaceVolumeRatio', 'original_glcm_Idn', 'original_firstorder_Minimum', 'original_glcm_Imc1']\n",
      "Fitting 5 folds for each of 10 candidates, totalling 50 fits\n"
     ]
    },
    {
     "name": "stderr",
     "output_type": "stream",
     "text": [
      "[Parallel(n_jobs=-1)]: Using backend LokyBackend with 2 concurrent workers.\n",
      "[Parallel(n_jobs=-1)]: Done  46 tasks      | elapsed:   51.6s\n",
      "[Parallel(n_jobs=-1)]: Done  50 out of  50 | elapsed:   60.0s finished\n",
      "/usr/local/lib/python3.6/dist-packages/sklearn/model_selection/_search.py:814: DeprecationWarning: The default of the `iid` parameter will change from True to False in version 0.22 and will be removed in 0.24. This will change numeric results when test-set sizes are unequal.\n",
      "  DeprecationWarning)\n"
     ]
    },
    {
     "name": "stdout",
     "output_type": "stream",
     "text": [
      "CIndex: 0.6334542836741885\n",
      "Model features: ['original_shape_Compactness2', 'SourceDataset_l1', 'original_shape_SurfaceVolumeRatio', 'original_glcm_Idn', 'original_firstorder_Minimum', 'original_glcm_Imc2']\n",
      "Fitting 5 folds for each of 10 candidates, totalling 50 fits\n"
     ]
    },
    {
     "name": "stderr",
     "output_type": "stream",
     "text": [
      "[Parallel(n_jobs=-1)]: Using backend LokyBackend with 2 concurrent workers.\n",
      "[Parallel(n_jobs=-1)]: Done  46 tasks      | elapsed:  1.4min\n",
      "[Parallel(n_jobs=-1)]: Done  50 out of  50 | elapsed:  1.4min finished\n"
     ]
    },
    {
     "name": "stdout",
     "output_type": "stream",
     "text": [
      "CIndex: 0.6597615421214905\n",
      "Model features: ['original_shape_Compactness2', 'SourceDataset_l1', 'original_shape_SurfaceVolumeRatio', 'original_glcm_Idn', 'original_firstorder_Minimum', 'original_glcm_Idmn']\n",
      "Fitting 5 folds for each of 10 candidates, totalling 50 fits\n"
     ]
    },
    {
     "name": "stderr",
     "output_type": "stream",
     "text": [
      "[Parallel(n_jobs=-1)]: Using backend LokyBackend with 2 concurrent workers.\n",
      "[Parallel(n_jobs=-1)]: Done  46 tasks      | elapsed:   24.3s\n",
      "[Parallel(n_jobs=-1)]: Done  50 out of  50 | elapsed:   28.0s finished\n"
     ]
    },
    {
     "name": "stdout",
     "output_type": "stream",
     "text": [
      "CIndex: 0.6489937909340602\n",
      "Model features: ['original_shape_Compactness2', 'SourceDataset_l1', 'original_shape_SurfaceVolumeRatio', 'original_glcm_Idn', 'original_firstorder_Minimum', 'original_glrlm_ShortRunEmphasis']\n",
      "Fitting 5 folds for each of 10 candidates, totalling 50 fits\n"
     ]
    },
    {
     "name": "stderr",
     "output_type": "stream",
     "text": [
      "[Parallel(n_jobs=-1)]: Using backend LokyBackend with 2 concurrent workers.\n",
      "[Parallel(n_jobs=-1)]: Done  46 tasks      | elapsed:   27.7s\n",
      "[Parallel(n_jobs=-1)]: Done  50 out of  50 | elapsed:   29.3s finished\n"
     ]
    },
    {
     "name": "stdout",
     "output_type": "stream",
     "text": [
      "CIndex: 0.6521456288269757\n",
      "Model features: ['original_shape_Compactness2', 'SourceDataset_l1', 'original_shape_SurfaceVolumeRatio', 'original_glcm_Idn', 'original_firstorder_Minimum', 'original_glrlm_LongRunEmphasis']\n",
      "Fitting 5 folds for each of 10 candidates, totalling 50 fits\n"
     ]
    },
    {
     "name": "stderr",
     "output_type": "stream",
     "text": [
      "[Parallel(n_jobs=-1)]: Using backend LokyBackend with 2 concurrent workers.\n",
      "[Parallel(n_jobs=-1)]: Done  46 tasks      | elapsed:  1.1min\n",
      "[Parallel(n_jobs=-1)]: Done  50 out of  50 | elapsed:  1.2min finished\n",
      "/usr/local/lib/python3.6/dist-packages/sklearn/model_selection/_search.py:814: DeprecationWarning: The default of the `iid` parameter will change from True to False in version 0.22 and will be removed in 0.24. This will change numeric results when test-set sizes are unequal.\n",
      "  DeprecationWarning)\n"
     ]
    },
    {
     "name": "stdout",
     "output_type": "stream",
     "text": [
      "CIndex: 0.6285623148086928\n",
      "Model features: ['original_shape_Compactness2', 'SourceDataset_l1', 'original_shape_SurfaceVolumeRatio', 'original_glcm_Idn', 'original_firstorder_Minimum', 'original_glrlm_GrayLevelNonUniformity']\n",
      "Fitting 5 folds for each of 10 candidates, totalling 50 fits\n"
     ]
    },
    {
     "name": "stderr",
     "output_type": "stream",
     "text": [
      "[Parallel(n_jobs=-1)]: Using backend LokyBackend with 2 concurrent workers.\n",
      "[Parallel(n_jobs=-1)]: Done  46 tasks      | elapsed:   32.6s\n",
      "[Parallel(n_jobs=-1)]: Done  50 out of  50 | elapsed:   32.9s finished\n",
      "/usr/local/lib/python3.6/dist-packages/sklearn/model_selection/_search.py:814: DeprecationWarning: The default of the `iid` parameter will change from True to False in version 0.22 and will be removed in 0.24. This will change numeric results when test-set sizes are unequal.\n",
      "  DeprecationWarning)\n"
     ]
    },
    {
     "name": "stdout",
     "output_type": "stream",
     "text": [
      "CIndex: 0.628459257836856\n",
      "Model features: ['original_shape_Compactness2', 'SourceDataset_l1', 'original_shape_SurfaceVolumeRatio', 'original_glcm_Idn', 'original_firstorder_Minimum', 'original_glrlm_RunPercentage']\n",
      "Fitting 5 folds for each of 10 candidates, totalling 50 fits\n"
     ]
    },
    {
     "name": "stderr",
     "output_type": "stream",
     "text": [
      "[Parallel(n_jobs=-1)]: Using backend LokyBackend with 2 concurrent workers.\n",
      "[Parallel(n_jobs=-1)]: Done  46 tasks      | elapsed:  1.0min\n",
      "[Parallel(n_jobs=-1)]: Done  50 out of  50 | elapsed:  1.1min finished\n",
      "/usr/local/lib/python3.6/dist-packages/sklearn/model_selection/_search.py:814: DeprecationWarning: The default of the `iid` parameter will change from True to False in version 0.22 and will be removed in 0.24. This will change numeric results when test-set sizes are unequal.\n",
      "  DeprecationWarning)\n"
     ]
    },
    {
     "name": "stdout",
     "output_type": "stream",
     "text": [
      "CIndex: 0.6731385245399564\n",
      "Model features: ['original_shape_Compactness2', 'SourceDataset_l1', 'original_shape_SurfaceVolumeRatio', 'original_glcm_Idn', 'original_firstorder_Minimum', 'original_glrlm_ShortRunLowGrayLevelEmphasis']\n",
      "Fitting 5 folds for each of 10 candidates, totalling 50 fits\n"
     ]
    },
    {
     "name": "stderr",
     "output_type": "stream",
     "text": [
      "[Parallel(n_jobs=-1)]: Using backend LokyBackend with 2 concurrent workers.\n",
      "[Parallel(n_jobs=-1)]: Done  46 tasks      | elapsed:   32.7s\n",
      "[Parallel(n_jobs=-1)]: Done  50 out of  50 | elapsed:   37.8s finished\n"
     ]
    },
    {
     "name": "stdout",
     "output_type": "stream",
     "text": [
      "CIndex: 0.6471695848249974\n",
      "Model features: ['original_shape_Compactness2', 'SourceDataset_l1', 'original_shape_SurfaceVolumeRatio', 'original_glcm_Idn', 'original_firstorder_Minimum', 'original_glrlm_LongRunLowGrayLevelEmphasis']\n",
      "Fitting 5 folds for each of 10 candidates, totalling 50 fits\n"
     ]
    },
    {
     "name": "stderr",
     "output_type": "stream",
     "text": [
      "[Parallel(n_jobs=-1)]: Using backend LokyBackend with 2 concurrent workers.\n",
      "[Parallel(n_jobs=-1)]: Done  46 tasks      | elapsed:   48.2s\n",
      "[Parallel(n_jobs=-1)]: Done  50 out of  50 | elapsed:   51.3s finished\n"
     ]
    },
    {
     "name": "stdout",
     "output_type": "stream",
     "text": [
      "CIndex: 0.6322635348517441\n",
      "Model features: ['original_shape_Compactness2', 'SourceDataset_l1', 'original_shape_SurfaceVolumeRatio', 'original_glcm_Idn', 'original_firstorder_Minimum', 'original_glrlm_LongRunHighGrayLevelEmphasis']\n",
      "Fitting 5 folds for each of 10 candidates, totalling 50 fits\n"
     ]
    },
    {
     "name": "stderr",
     "output_type": "stream",
     "text": [
      "[Parallel(n_jobs=-1)]: Using backend LokyBackend with 2 concurrent workers.\n",
      "[Parallel(n_jobs=-1)]: Done  46 tasks      | elapsed:   52.7s\n",
      "[Parallel(n_jobs=-1)]: Done  50 out of  50 | elapsed:   57.6s finished\n"
     ]
    },
    {
     "name": "stdout",
     "output_type": "stream",
     "text": [
      "CIndex: 0.6337943684314038\n",
      "Model features: ['original_shape_Compactness2', 'SourceDataset_l1', 'original_shape_SurfaceVolumeRatio', 'original_glcm_Idn', 'original_firstorder_Minimum', 'Nstage']\n",
      "Fitting 5 folds for each of 10 candidates, totalling 50 fits\n"
     ]
    },
    {
     "name": "stderr",
     "output_type": "stream",
     "text": [
      "[Parallel(n_jobs=-1)]: Using backend LokyBackend with 2 concurrent workers.\n",
      "[Parallel(n_jobs=-1)]: Done  46 tasks      | elapsed:   46.5s\n",
      "[Parallel(n_jobs=-1)]: Done  50 out of  50 | elapsed:   47.1s finished\n"
     ]
    },
    {
     "name": "stdout",
     "output_type": "stream",
     "text": [
      "CIndex: 0.6590232673469685\n",
      "Model features: ['original_shape_Compactness2', 'SourceDataset_l1', 'original_shape_SurfaceVolumeRatio', 'original_glcm_Idn', 'original_firstorder_Minimum', 'age']\n",
      "Fitting 5 folds for each of 10 candidates, totalling 50 fits\n"
     ]
    },
    {
     "name": "stderr",
     "output_type": "stream",
     "text": [
      "[Parallel(n_jobs=-1)]: Using backend LokyBackend with 2 concurrent workers.\n",
      "[Parallel(n_jobs=-1)]: Done  46 tasks      | elapsed:   36.3s\n",
      "[Parallel(n_jobs=-1)]: Done  50 out of  50 | elapsed:   38.0s finished\n"
     ]
    },
    {
     "name": "stdout",
     "output_type": "stream",
     "text": [
      "CIndex: 0.6497039777954979\n",
      "Model features: ['original_shape_Compactness2', 'SourceDataset_l1', 'original_shape_SurfaceVolumeRatio', 'original_glcm_Idn', 'original_firstorder_Minimum', 'SourceDataset_l2']\n",
      "Fitting 5 folds for each of 10 candidates, totalling 50 fits\n"
     ]
    },
    {
     "name": "stderr",
     "output_type": "stream",
     "text": [
      "[Parallel(n_jobs=-1)]: Using backend LokyBackend with 2 concurrent workers.\n",
      "[Parallel(n_jobs=-1)]: Done  46 tasks      | elapsed:   25.0s\n",
      "[Parallel(n_jobs=-1)]: Done  50 out of  50 | elapsed:   33.6s finished\n",
      "/usr/local/lib/python3.6/dist-packages/sklearn/model_selection/_search.py:814: DeprecationWarning: The default of the `iid` parameter will change from True to False in version 0.22 and will be removed in 0.24. This will change numeric results when test-set sizes are unequal.\n",
      "  DeprecationWarning)\n"
     ]
    },
    {
     "name": "stdout",
     "output_type": "stream",
     "text": [
      "CIndex: 0.651655891929536\n",
      "Selected new growing feature: original_glrlm_RunPercentage\n",
      "\n",
      "Growing 7-th feature...\n",
      "\n",
      "Model features: ['original_shape_Compactness2', 'SourceDataset_l1', 'original_shape_SurfaceVolumeRatio', 'original_glcm_Idn', 'original_firstorder_Minimum', 'original_glrlm_RunPercentage', 'original_shape_SphericalDisproportion']\n",
      "Fitting 5 folds for each of 10 candidates, totalling 50 fits\n"
     ]
    },
    {
     "name": "stderr",
     "output_type": "stream",
     "text": [
      "[Parallel(n_jobs=-1)]: Using backend LokyBackend with 2 concurrent workers.\n",
      "[Parallel(n_jobs=-1)]: Done  46 tasks      | elapsed:   38.4s\n",
      "[Parallel(n_jobs=-1)]: Done  50 out of  50 | elapsed:   38.6s finished\n",
      "/usr/local/lib/python3.6/dist-packages/sklearn/model_selection/_search.py:814: DeprecationWarning: The default of the `iid` parameter will change from True to False in version 0.22 and will be removed in 0.24. This will change numeric results when test-set sizes are unequal.\n",
      "  DeprecationWarning)\n"
     ]
    },
    {
     "name": "stdout",
     "output_type": "stream",
     "text": [
      "CIndex: 0.6505305517241264\n",
      "Model features: ['original_shape_Compactness2', 'SourceDataset_l1', 'original_shape_SurfaceVolumeRatio', 'original_glcm_Idn', 'original_firstorder_Minimum', 'original_glrlm_RunPercentage', 'original_firstorder_Kurtosis']\n",
      "Fitting 5 folds for each of 10 candidates, totalling 50 fits\n"
     ]
    },
    {
     "name": "stderr",
     "output_type": "stream",
     "text": [
      "[Parallel(n_jobs=-1)]: Using backend LokyBackend with 2 concurrent workers.\n",
      "[Parallel(n_jobs=-1)]: Done  46 tasks      | elapsed:   34.3s\n",
      "[Parallel(n_jobs=-1)]: Done  50 out of  50 | elapsed:   35.5s finished\n",
      "/usr/local/lib/python3.6/dist-packages/sklearn/model_selection/_search.py:814: DeprecationWarning: The default of the `iid` parameter will change from True to False in version 0.22 and will be removed in 0.24. This will change numeric results when test-set sizes are unequal.\n",
      "  DeprecationWarning)\n"
     ]
    },
    {
     "name": "stdout",
     "output_type": "stream",
     "text": [
      "CIndex: 0.6523607601909773\n",
      "Model features: ['original_shape_Compactness2', 'SourceDataset_l1', 'original_shape_SurfaceVolumeRatio', 'original_glcm_Idn', 'original_firstorder_Minimum', 'original_glrlm_RunPercentage', 'original_firstorder_MeanAbsoluteDeviation']\n",
      "Fitting 5 folds for each of 10 candidates, totalling 50 fits\n"
     ]
    },
    {
     "name": "stderr",
     "output_type": "stream",
     "text": [
      "[Parallel(n_jobs=-1)]: Using backend LokyBackend with 2 concurrent workers.\n",
      "[Parallel(n_jobs=-1)]: Done  46 tasks      | elapsed:  1.1min\n",
      "[Parallel(n_jobs=-1)]: Done  50 out of  50 | elapsed:  1.3min finished\n",
      "/usr/local/lib/python3.6/dist-packages/sklearn/model_selection/_search.py:814: DeprecationWarning: The default of the `iid` parameter will change from True to False in version 0.22 and will be removed in 0.24. This will change numeric results when test-set sizes are unequal.\n",
      "  DeprecationWarning)\n"
     ]
    },
    {
     "name": "stdout",
     "output_type": "stream",
     "text": [
      "CIndex: 0.6501609280569307\n",
      "Model features: ['original_shape_Compactness2', 'SourceDataset_l1', 'original_shape_SurfaceVolumeRatio', 'original_glcm_Idn', 'original_firstorder_Minimum', 'original_glrlm_RunPercentage', 'original_glcm_ClusterProminence']\n",
      "Fitting 5 folds for each of 10 candidates, totalling 50 fits\n"
     ]
    },
    {
     "name": "stderr",
     "output_type": "stream",
     "text": [
      "[Parallel(n_jobs=-1)]: Using backend LokyBackend with 2 concurrent workers.\n",
      "[Parallel(n_jobs=-1)]: Done  50 out of  50 | elapsed:   52.5s finished\n",
      "/usr/local/lib/python3.6/dist-packages/sklearn/model_selection/_search.py:814: DeprecationWarning: The default of the `iid` parameter will change from True to False in version 0.22 and will be removed in 0.24. This will change numeric results when test-set sizes are unequal.\n",
      "  DeprecationWarning)\n"
     ]
    },
    {
     "name": "stdout",
     "output_type": "stream",
     "text": [
      "CIndex: 0.648809607252376\n",
      "Model features: ['original_shape_Compactness2', 'SourceDataset_l1', 'original_shape_SurfaceVolumeRatio', 'original_glcm_Idn', 'original_firstorder_Minimum', 'original_glrlm_RunPercentage', 'original_glcm_Contrast']\n",
      "Fitting 5 folds for each of 10 candidates, totalling 50 fits\n"
     ]
    },
    {
     "name": "stderr",
     "output_type": "stream",
     "text": [
      "[Parallel(n_jobs=-1)]: Using backend LokyBackend with 2 concurrent workers.\n",
      "[Parallel(n_jobs=-1)]: Done  46 tasks      | elapsed:  1.1min\n",
      "[Parallel(n_jobs=-1)]: Done  50 out of  50 | elapsed:  1.1min finished\n"
     ]
    },
    {
     "name": "stdout",
     "output_type": "stream",
     "text": [
      "CIndex: 0.6540529011331655\n",
      "Model features: ['original_shape_Compactness2', 'SourceDataset_l1', 'original_shape_SurfaceVolumeRatio', 'original_glcm_Idn', 'original_firstorder_Minimum', 'original_glrlm_RunPercentage', 'original_glcm_DifferenceEntropy']\n",
      "Fitting 5 folds for each of 10 candidates, totalling 50 fits\n"
     ]
    },
    {
     "name": "stderr",
     "output_type": "stream",
     "text": [
      "[Parallel(n_jobs=-1)]: Using backend LokyBackend with 2 concurrent workers.\n",
      "[Parallel(n_jobs=-1)]: Done  46 tasks      | elapsed:   37.2s\n",
      "[Parallel(n_jobs=-1)]: Done  50 out of  50 | elapsed:   40.3s finished\n",
      "/usr/local/lib/python3.6/dist-packages/sklearn/model_selection/_search.py:814: DeprecationWarning: The default of the `iid` parameter will change from True to False in version 0.22 and will be removed in 0.24. This will change numeric results when test-set sizes are unequal.\n",
      "  DeprecationWarning)\n"
     ]
    },
    {
     "name": "stdout",
     "output_type": "stream",
     "text": [
      "CIndex: 0.6510308477080453\n",
      "Model features: ['original_shape_Compactness2', 'SourceDataset_l1', 'original_shape_SurfaceVolumeRatio', 'original_glcm_Idn', 'original_firstorder_Minimum', 'original_glrlm_RunPercentage', 'original_glcm_DifferenceAverage']\n",
      "Fitting 5 folds for each of 10 candidates, totalling 50 fits\n"
     ]
    },
    {
     "name": "stderr",
     "output_type": "stream",
     "text": [
      "[Parallel(n_jobs=-1)]: Using backend LokyBackend with 2 concurrent workers.\n",
      "[Parallel(n_jobs=-1)]: Done  50 out of  50 | elapsed:   32.8s finished\n",
      "/usr/local/lib/python3.6/dist-packages/sklearn/model_selection/_search.py:814: DeprecationWarning: The default of the `iid` parameter will change from True to False in version 0.22 and will be removed in 0.24. This will change numeric results when test-set sizes are unequal.\n",
      "  DeprecationWarning)\n"
     ]
    },
    {
     "name": "stdout",
     "output_type": "stream",
     "text": [
      "CIndex: 0.6415228355750101\n",
      "Model features: ['original_shape_Compactness2', 'SourceDataset_l1', 'original_shape_SurfaceVolumeRatio', 'original_glcm_Idn', 'original_firstorder_Minimum', 'original_glrlm_RunPercentage', 'original_glcm_JointEnergy']\n",
      "Fitting 5 folds for each of 10 candidates, totalling 50 fits\n"
     ]
    },
    {
     "name": "stderr",
     "output_type": "stream",
     "text": [
      "[Parallel(n_jobs=-1)]: Using backend LokyBackend with 2 concurrent workers.\n",
      "[Parallel(n_jobs=-1)]: Done  46 tasks      | elapsed:   34.8s\n",
      "[Parallel(n_jobs=-1)]: Done  50 out of  50 | elapsed:   36.2s finished\n",
      "/usr/local/lib/python3.6/dist-packages/sklearn/model_selection/_search.py:814: DeprecationWarning: The default of the `iid` parameter will change from True to False in version 0.22 and will be removed in 0.24. This will change numeric results when test-set sizes are unequal.\n",
      "  DeprecationWarning)\n"
     ]
    },
    {
     "name": "stdout",
     "output_type": "stream",
     "text": [
      "CIndex: 0.6594980865590531\n",
      "Model features: ['original_shape_Compactness2', 'SourceDataset_l1', 'original_shape_SurfaceVolumeRatio', 'original_glcm_Idn', 'original_firstorder_Minimum', 'original_glrlm_RunPercentage', 'original_glcm_Id']\n",
      "Fitting 5 folds for each of 10 candidates, totalling 50 fits\n"
     ]
    },
    {
     "name": "stderr",
     "output_type": "stream",
     "text": [
      "[Parallel(n_jobs=-1)]: Using backend LokyBackend with 2 concurrent workers.\n",
      "[Parallel(n_jobs=-1)]: Done  46 tasks      | elapsed:  1.1min\n",
      "[Parallel(n_jobs=-1)]: Done  50 out of  50 | elapsed:  1.1min finished\n",
      "/usr/local/lib/python3.6/dist-packages/sklearn/model_selection/_search.py:814: DeprecationWarning: The default of the `iid` parameter will change from True to False in version 0.22 and will be removed in 0.24. This will change numeric results when test-set sizes are unequal.\n",
      "  DeprecationWarning)\n"
     ]
    },
    {
     "name": "stdout",
     "output_type": "stream",
     "text": [
      "CIndex: 0.6444737052240825\n",
      "Model features: ['original_shape_Compactness2', 'SourceDataset_l1', 'original_shape_SurfaceVolumeRatio', 'original_glcm_Idn', 'original_firstorder_Minimum', 'original_glrlm_RunPercentage', 'original_glcm_Idm']\n",
      "Fitting 5 folds for each of 10 candidates, totalling 50 fits\n"
     ]
    },
    {
     "name": "stderr",
     "output_type": "stream",
     "text": [
      "[Parallel(n_jobs=-1)]: Using backend LokyBackend with 2 concurrent workers.\n",
      "[Parallel(n_jobs=-1)]: Done  50 out of  50 | elapsed:   47.0s finished\n",
      "/usr/local/lib/python3.6/dist-packages/sklearn/model_selection/_search.py:814: DeprecationWarning: The default of the `iid` parameter will change from True to False in version 0.22 and will be removed in 0.24. This will change numeric results when test-set sizes are unequal.\n",
      "  DeprecationWarning)\n"
     ]
    },
    {
     "name": "stdout",
     "output_type": "stream",
     "text": [
      "CIndex: 0.6432613932042355\n",
      "Model features: ['original_shape_Compactness2', 'SourceDataset_l1', 'original_shape_SurfaceVolumeRatio', 'original_glcm_Idn', 'original_firstorder_Minimum', 'original_glrlm_RunPercentage', 'original_glcm_Imc1']\n",
      "Fitting 5 folds for each of 10 candidates, totalling 50 fits\n"
     ]
    },
    {
     "name": "stderr",
     "output_type": "stream",
     "text": [
      "[Parallel(n_jobs=-1)]: Using backend LokyBackend with 2 concurrent workers.\n",
      "[Parallel(n_jobs=-1)]: Done  46 tasks      | elapsed:   21.8s\n",
      "[Parallel(n_jobs=-1)]: Done  50 out of  50 | elapsed:   26.3s finished\n",
      "/usr/local/lib/python3.6/dist-packages/sklearn/model_selection/_search.py:814: DeprecationWarning: The default of the `iid` parameter will change from True to False in version 0.22 and will be removed in 0.24. This will change numeric results when test-set sizes are unequal.\n",
      "  DeprecationWarning)\n"
     ]
    },
    {
     "name": "stdout",
     "output_type": "stream",
     "text": [
      "CIndex: 0.6621799997444924\n",
      "Model features: ['original_shape_Compactness2', 'SourceDataset_l1', 'original_shape_SurfaceVolumeRatio', 'original_glcm_Idn', 'original_firstorder_Minimum', 'original_glrlm_RunPercentage', 'original_glcm_Imc2']\n",
      "Fitting 5 folds for each of 10 candidates, totalling 50 fits\n"
     ]
    },
    {
     "name": "stderr",
     "output_type": "stream",
     "text": [
      "[Parallel(n_jobs=-1)]: Using backend LokyBackend with 2 concurrent workers.\n",
      "[Parallel(n_jobs=-1)]: Done  50 out of  50 | elapsed:   33.8s finished\n",
      "/usr/local/lib/python3.6/dist-packages/sklearn/model_selection/_search.py:814: DeprecationWarning: The default of the `iid` parameter will change from True to False in version 0.22 and will be removed in 0.24. This will change numeric results when test-set sizes are unequal.\n",
      "  DeprecationWarning)\n"
     ]
    },
    {
     "name": "stdout",
     "output_type": "stream",
     "text": [
      "CIndex: 0.6391928815862651\n",
      "Model features: ['original_shape_Compactness2', 'SourceDataset_l1', 'original_shape_SurfaceVolumeRatio', 'original_glcm_Idn', 'original_firstorder_Minimum', 'original_glrlm_RunPercentage', 'original_glcm_Idmn']\n",
      "Fitting 5 folds for each of 10 candidates, totalling 50 fits\n"
     ]
    },
    {
     "name": "stderr",
     "output_type": "stream",
     "text": [
      "[Parallel(n_jobs=-1)]: Using backend LokyBackend with 2 concurrent workers.\n",
      "[Parallel(n_jobs=-1)]: Done  46 tasks      | elapsed:   26.3s\n",
      "[Parallel(n_jobs=-1)]: Done  50 out of  50 | elapsed:   28.4s finished\n",
      "/usr/local/lib/python3.6/dist-packages/sklearn/model_selection/_search.py:814: DeprecationWarning: The default of the `iid` parameter will change from True to False in version 0.22 and will be removed in 0.24. This will change numeric results when test-set sizes are unequal.\n",
      "  DeprecationWarning)\n"
     ]
    },
    {
     "name": "stdout",
     "output_type": "stream",
     "text": [
      "CIndex: 0.6540348679580397\n",
      "Model features: ['original_shape_Compactness2', 'SourceDataset_l1', 'original_shape_SurfaceVolumeRatio', 'original_glcm_Idn', 'original_firstorder_Minimum', 'original_glrlm_RunPercentage', 'original_glrlm_ShortRunEmphasis']\n",
      "Fitting 5 folds for each of 10 candidates, totalling 50 fits\n"
     ]
    },
    {
     "name": "stderr",
     "output_type": "stream",
     "text": [
      "[Parallel(n_jobs=-1)]: Using backend LokyBackend with 2 concurrent workers.\n",
      "[Parallel(n_jobs=-1)]: Done  46 tasks      | elapsed:   36.6s\n",
      "[Parallel(n_jobs=-1)]: Done  50 out of  50 | elapsed:   44.8s finished\n",
      "/usr/local/lib/python3.6/dist-packages/sklearn/model_selection/_search.py:814: DeprecationWarning: The default of the `iid` parameter will change from True to False in version 0.22 and will be removed in 0.24. This will change numeric results when test-set sizes are unequal.\n",
      "  DeprecationWarning)\n"
     ]
    },
    {
     "name": "stdout",
     "output_type": "stream",
     "text": [
      "CIndex: 0.6544075694457536\n",
      "Model features: ['original_shape_Compactness2', 'SourceDataset_l1', 'original_shape_SurfaceVolumeRatio', 'original_glcm_Idn', 'original_firstorder_Minimum', 'original_glrlm_RunPercentage', 'original_glrlm_LongRunEmphasis']\n",
      "Fitting 5 folds for each of 10 candidates, totalling 50 fits\n"
     ]
    },
    {
     "name": "stderr",
     "output_type": "stream",
     "text": [
      "[Parallel(n_jobs=-1)]: Using backend LokyBackend with 2 concurrent workers.\n",
      "[Parallel(n_jobs=-1)]: Done  46 tasks      | elapsed:   39.3s\n",
      "[Parallel(n_jobs=-1)]: Done  50 out of  50 | elapsed:   44.9s finished\n",
      "/usr/local/lib/python3.6/dist-packages/sklearn/model_selection/_search.py:814: DeprecationWarning: The default of the `iid` parameter will change from True to False in version 0.22 and will be removed in 0.24. This will change numeric results when test-set sizes are unequal.\n",
      "  DeprecationWarning)\n"
     ]
    },
    {
     "name": "stdout",
     "output_type": "stream",
     "text": [
      "CIndex: 0.6570961073232571\n",
      "Model features: ['original_shape_Compactness2', 'SourceDataset_l1', 'original_shape_SurfaceVolumeRatio', 'original_glcm_Idn', 'original_firstorder_Minimum', 'original_glrlm_RunPercentage', 'original_glrlm_GrayLevelNonUniformity']\n",
      "Fitting 5 folds for each of 10 candidates, totalling 50 fits\n"
     ]
    },
    {
     "name": "stderr",
     "output_type": "stream",
     "text": [
      "[Parallel(n_jobs=-1)]: Using backend LokyBackend with 2 concurrent workers.\n",
      "[Parallel(n_jobs=-1)]: Done  46 tasks      | elapsed:   35.6s\n",
      "[Parallel(n_jobs=-1)]: Done  50 out of  50 | elapsed:   36.5s finished\n"
     ]
    },
    {
     "name": "stdout",
     "output_type": "stream",
     "text": [
      "CIndex: 0.6658012216968485\n",
      "Model features: ['original_shape_Compactness2', 'SourceDataset_l1', 'original_shape_SurfaceVolumeRatio', 'original_glcm_Idn', 'original_firstorder_Minimum', 'original_glrlm_RunPercentage', 'original_glrlm_ShortRunLowGrayLevelEmphasis']\n",
      "Fitting 5 folds for each of 10 candidates, totalling 50 fits\n"
     ]
    },
    {
     "name": "stderr",
     "output_type": "stream",
     "text": [
      "[Parallel(n_jobs=-1)]: Using backend LokyBackend with 2 concurrent workers.\n",
      "[Parallel(n_jobs=-1)]: Done  46 tasks      | elapsed:   54.5s\n",
      "[Parallel(n_jobs=-1)]: Done  50 out of  50 | elapsed:   56.0s finished\n"
     ]
    },
    {
     "name": "stdout",
     "output_type": "stream",
     "text": [
      "CIndex: 0.6555960244048159\n",
      "Model features: ['original_shape_Compactness2', 'SourceDataset_l1', 'original_shape_SurfaceVolumeRatio', 'original_glcm_Idn', 'original_firstorder_Minimum', 'original_glrlm_RunPercentage', 'original_glrlm_LongRunLowGrayLevelEmphasis']\n",
      "Fitting 5 folds for each of 10 candidates, totalling 50 fits\n"
     ]
    },
    {
     "name": "stderr",
     "output_type": "stream",
     "text": [
      "[Parallel(n_jobs=-1)]: Using backend LokyBackend with 2 concurrent workers.\n",
      "[Parallel(n_jobs=-1)]: Done  46 tasks      | elapsed:   52.9s\n",
      "[Parallel(n_jobs=-1)]: Done  50 out of  50 | elapsed:   55.1s finished\n"
     ]
    },
    {
     "name": "stdout",
     "output_type": "stream",
     "text": [
      "CIndex: 0.6538551233767697\n",
      "Model features: ['original_shape_Compactness2', 'SourceDataset_l1', 'original_shape_SurfaceVolumeRatio', 'original_glcm_Idn', 'original_firstorder_Minimum', 'original_glrlm_RunPercentage', 'original_glrlm_LongRunHighGrayLevelEmphasis']\n",
      "Fitting 5 folds for each of 10 candidates, totalling 50 fits\n"
     ]
    },
    {
     "name": "stderr",
     "output_type": "stream",
     "text": [
      "[Parallel(n_jobs=-1)]: Using backend LokyBackend with 2 concurrent workers.\n",
      "[Parallel(n_jobs=-1)]: Done  50 out of  50 | elapsed:   40.3s finished\n",
      "/usr/local/lib/python3.6/dist-packages/sklearn/model_selection/_search.py:814: DeprecationWarning: The default of the `iid` parameter will change from True to False in version 0.22 and will be removed in 0.24. This will change numeric results when test-set sizes are unequal.\n",
      "  DeprecationWarning)\n"
     ]
    },
    {
     "name": "stdout",
     "output_type": "stream",
     "text": [
      "CIndex: 0.6606809777776571\n",
      "Model features: ['original_shape_Compactness2', 'SourceDataset_l1', 'original_shape_SurfaceVolumeRatio', 'original_glcm_Idn', 'original_firstorder_Minimum', 'original_glrlm_RunPercentage', 'Nstage']\n",
      "Fitting 5 folds for each of 10 candidates, totalling 50 fits\n"
     ]
    },
    {
     "name": "stderr",
     "output_type": "stream",
     "text": [
      "[Parallel(n_jobs=-1)]: Using backend LokyBackend with 2 concurrent workers.\n",
      "[Parallel(n_jobs=-1)]: Done  50 out of  50 | elapsed:   19.4s finished\n",
      "/usr/local/lib/python3.6/dist-packages/sklearn/model_selection/_search.py:814: DeprecationWarning: The default of the `iid` parameter will change from True to False in version 0.22 and will be removed in 0.24. This will change numeric results when test-set sizes are unequal.\n",
      "  DeprecationWarning)\n"
     ]
    },
    {
     "name": "stdout",
     "output_type": "stream",
     "text": [
      "CIndex: 0.6331919375790542\n",
      "Model features: ['original_shape_Compactness2', 'SourceDataset_l1', 'original_shape_SurfaceVolumeRatio', 'original_glcm_Idn', 'original_firstorder_Minimum', 'original_glrlm_RunPercentage', 'age']\n",
      "Fitting 5 folds for each of 10 candidates, totalling 50 fits\n"
     ]
    },
    {
     "name": "stderr",
     "output_type": "stream",
     "text": [
      "[Parallel(n_jobs=-1)]: Using backend LokyBackend with 2 concurrent workers.\n",
      "[Parallel(n_jobs=-1)]: Done  50 out of  50 | elapsed:   22.4s finished\n"
     ]
    },
    {
     "name": "stdout",
     "output_type": "stream",
     "text": [
      "CIndex: 0.6541487783084814\n",
      "Model features: ['original_shape_Compactness2', 'SourceDataset_l1', 'original_shape_SurfaceVolumeRatio', 'original_glcm_Idn', 'original_firstorder_Minimum', 'original_glrlm_RunPercentage', 'SourceDataset_l2']\n",
      "Fitting 5 folds for each of 10 candidates, totalling 50 fits\n"
     ]
    },
    {
     "name": "stderr",
     "output_type": "stream",
     "text": [
      "[Parallel(n_jobs=-1)]: Using backend LokyBackend with 2 concurrent workers.\n",
      "[Parallel(n_jobs=-1)]: Done  46 tasks      | elapsed:   40.8s\n",
      "[Parallel(n_jobs=-1)]: Done  50 out of  50 | elapsed:   42.6s finished\n",
      "/usr/local/lib/python3.6/dist-packages/sklearn/model_selection/_search.py:814: DeprecationWarning: The default of the `iid` parameter will change from True to False in version 0.22 and will be removed in 0.24. This will change numeric results when test-set sizes are unequal.\n",
      "  DeprecationWarning)\n"
     ]
    },
    {
     "name": "stdout",
     "output_type": "stream",
     "text": [
      "CIndex: 0.6543166935201571\n",
      "Selected new growing feature: original_glrlm_GrayLevelNonUniformity\n",
      "\n",
      "Growing 8-th feature...\n",
      "\n",
      "Model features: ['original_shape_Compactness2', 'SourceDataset_l1', 'original_shape_SurfaceVolumeRatio', 'original_glcm_Idn', 'original_firstorder_Minimum', 'original_glrlm_RunPercentage', 'original_glrlm_GrayLevelNonUniformity', 'original_shape_SphericalDisproportion']\n",
      "Fitting 5 folds for each of 10 candidates, totalling 50 fits\n"
     ]
    },
    {
     "name": "stderr",
     "output_type": "stream",
     "text": [
      "[Parallel(n_jobs=-1)]: Using backend LokyBackend with 2 concurrent workers.\n",
      "[Parallel(n_jobs=-1)]: Done  50 out of  50 | elapsed:   18.3s finished\n"
     ]
    },
    {
     "name": "stdout",
     "output_type": "stream",
     "text": [
      "CIndex: 0.6435880292834651\n",
      "Model features: ['original_shape_Compactness2', 'SourceDataset_l1', 'original_shape_SurfaceVolumeRatio', 'original_glcm_Idn', 'original_firstorder_Minimum', 'original_glrlm_RunPercentage', 'original_glrlm_GrayLevelNonUniformity', 'original_firstorder_Kurtosis']\n",
      "Fitting 5 folds for each of 10 candidates, totalling 50 fits\n"
     ]
    },
    {
     "name": "stderr",
     "output_type": "stream",
     "text": [
      "[Parallel(n_jobs=-1)]: Using backend LokyBackend with 2 concurrent workers.\n",
      "[Parallel(n_jobs=-1)]: Done  46 tasks      | elapsed:   43.8s\n",
      "[Parallel(n_jobs=-1)]: Done  50 out of  50 | elapsed:   53.6s finished\n"
     ]
    },
    {
     "name": "stdout",
     "output_type": "stream",
     "text": [
      "CIndex: 0.6528156366689855\n",
      "Model features: ['original_shape_Compactness2', 'SourceDataset_l1', 'original_shape_SurfaceVolumeRatio', 'original_glcm_Idn', 'original_firstorder_Minimum', 'original_glrlm_RunPercentage', 'original_glrlm_GrayLevelNonUniformity', 'original_firstorder_MeanAbsoluteDeviation']\n",
      "Fitting 5 folds for each of 10 candidates, totalling 50 fits\n"
     ]
    },
    {
     "name": "stderr",
     "output_type": "stream",
     "text": [
      "[Parallel(n_jobs=-1)]: Using backend LokyBackend with 2 concurrent workers.\n",
      "[Parallel(n_jobs=-1)]: Done  50 out of  50 | elapsed:   31.0s finished\n",
      "/usr/local/lib/python3.6/dist-packages/sklearn/model_selection/_search.py:814: DeprecationWarning: The default of the `iid` parameter will change from True to False in version 0.22 and will be removed in 0.24. This will change numeric results when test-set sizes are unequal.\n",
      "  DeprecationWarning)\n"
     ]
    },
    {
     "name": "stdout",
     "output_type": "stream",
     "text": [
      "CIndex: 0.6499040071742639\n",
      "Model features: ['original_shape_Compactness2', 'SourceDataset_l1', 'original_shape_SurfaceVolumeRatio', 'original_glcm_Idn', 'original_firstorder_Minimum', 'original_glrlm_RunPercentage', 'original_glrlm_GrayLevelNonUniformity', 'original_glcm_ClusterProminence']\n",
      "Fitting 5 folds for each of 10 candidates, totalling 50 fits\n"
     ]
    },
    {
     "name": "stderr",
     "output_type": "stream",
     "text": [
      "[Parallel(n_jobs=-1)]: Using backend LokyBackend with 2 concurrent workers.\n",
      "[Parallel(n_jobs=-1)]: Done  50 out of  50 | elapsed:   43.8s finished\n"
     ]
    },
    {
     "name": "stdout",
     "output_type": "stream",
     "text": [
      "CIndex: 0.6540521565561755\n",
      "Model features: ['original_shape_Compactness2', 'SourceDataset_l1', 'original_shape_SurfaceVolumeRatio', 'original_glcm_Idn', 'original_firstorder_Minimum', 'original_glrlm_RunPercentage', 'original_glrlm_GrayLevelNonUniformity', 'original_glcm_Contrast']\n",
      "Fitting 5 folds for each of 10 candidates, totalling 50 fits\n"
     ]
    },
    {
     "name": "stderr",
     "output_type": "stream",
     "text": [
      "[Parallel(n_jobs=-1)]: Using backend LokyBackend with 2 concurrent workers.\n",
      "[Parallel(n_jobs=-1)]: Done  46 tasks      | elapsed:  1.1min\n",
      "[Parallel(n_jobs=-1)]: Done  50 out of  50 | elapsed:  1.2min finished\n"
     ]
    },
    {
     "name": "stdout",
     "output_type": "stream",
     "text": [
      "CIndex: 0.6447869613018444\n",
      "Model features: ['original_shape_Compactness2', 'SourceDataset_l1', 'original_shape_SurfaceVolumeRatio', 'original_glcm_Idn', 'original_firstorder_Minimum', 'original_glrlm_RunPercentage', 'original_glrlm_GrayLevelNonUniformity', 'original_glcm_DifferenceEntropy']\n",
      "Fitting 5 folds for each of 10 candidates, totalling 50 fits\n"
     ]
    },
    {
     "name": "stderr",
     "output_type": "stream",
     "text": [
      "[Parallel(n_jobs=-1)]: Using backend LokyBackend with 2 concurrent workers.\n",
      "[Parallel(n_jobs=-1)]: Done  46 tasks      | elapsed:   45.2s\n",
      "[Parallel(n_jobs=-1)]: Done  50 out of  50 | elapsed:   46.7s finished\n"
     ]
    },
    {
     "name": "stdout",
     "output_type": "stream",
     "text": [
      "CIndex: 0.6431069312892038\n",
      "Model features: ['original_shape_Compactness2', 'SourceDataset_l1', 'original_shape_SurfaceVolumeRatio', 'original_glcm_Idn', 'original_firstorder_Minimum', 'original_glrlm_RunPercentage', 'original_glrlm_GrayLevelNonUniformity', 'original_glcm_DifferenceAverage']\n",
      "Fitting 5 folds for each of 10 candidates, totalling 50 fits\n"
     ]
    },
    {
     "name": "stderr",
     "output_type": "stream",
     "text": [
      "[Parallel(n_jobs=-1)]: Using backend LokyBackend with 2 concurrent workers.\n",
      "[Parallel(n_jobs=-1)]: Done  46 tasks      | elapsed:  1.0min\n",
      "[Parallel(n_jobs=-1)]: Done  50 out of  50 | elapsed:  1.2min finished\n"
     ]
    },
    {
     "name": "stdout",
     "output_type": "stream",
     "text": [
      "CIndex: 0.6431636221789764\n",
      "Model features: ['original_shape_Compactness2', 'SourceDataset_l1', 'original_shape_SurfaceVolumeRatio', 'original_glcm_Idn', 'original_firstorder_Minimum', 'original_glrlm_RunPercentage', 'original_glrlm_GrayLevelNonUniformity', 'original_glcm_JointEnergy']\n",
      "Fitting 5 folds for each of 10 candidates, totalling 50 fits\n"
     ]
    },
    {
     "name": "stderr",
     "output_type": "stream",
     "text": [
      "[Parallel(n_jobs=-1)]: Using backend LokyBackend with 2 concurrent workers.\n",
      "[Parallel(n_jobs=-1)]: Done  46 tasks      | elapsed:   38.5s\n",
      "[Parallel(n_jobs=-1)]: Done  50 out of  50 | elapsed:   39.6s finished\n",
      "/usr/local/lib/python3.6/dist-packages/sklearn/model_selection/_search.py:814: DeprecationWarning: The default of the `iid` parameter will change from True to False in version 0.22 and will be removed in 0.24. This will change numeric results when test-set sizes are unequal.\n",
      "  DeprecationWarning)\n"
     ]
    },
    {
     "name": "stdout",
     "output_type": "stream",
     "text": [
      "CIndex: 0.6554684695995565\n",
      "Model features: ['original_shape_Compactness2', 'SourceDataset_l1', 'original_shape_SurfaceVolumeRatio', 'original_glcm_Idn', 'original_firstorder_Minimum', 'original_glrlm_RunPercentage', 'original_glrlm_GrayLevelNonUniformity', 'original_glcm_Id']\n",
      "Fitting 5 folds for each of 10 candidates, totalling 50 fits\n"
     ]
    },
    {
     "name": "stderr",
     "output_type": "stream",
     "text": [
      "[Parallel(n_jobs=-1)]: Using backend LokyBackend with 2 concurrent workers.\n",
      "[Parallel(n_jobs=-1)]: Done  46 tasks      | elapsed:   40.5s\n",
      "[Parallel(n_jobs=-1)]: Done  50 out of  50 | elapsed:   40.8s finished\n",
      "/usr/local/lib/python3.6/dist-packages/sklearn/model_selection/_search.py:814: DeprecationWarning: The default of the `iid` parameter will change from True to False in version 0.22 and will be removed in 0.24. This will change numeric results when test-set sizes are unequal.\n",
      "  DeprecationWarning)\n"
     ]
    },
    {
     "name": "stdout",
     "output_type": "stream",
     "text": [
      "CIndex: 0.6497335647100754\n",
      "Model features: ['original_shape_Compactness2', 'SourceDataset_l1', 'original_shape_SurfaceVolumeRatio', 'original_glcm_Idn', 'original_firstorder_Minimum', 'original_glrlm_RunPercentage', 'original_glrlm_GrayLevelNonUniformity', 'original_glcm_Idm']\n",
      "Fitting 5 folds for each of 10 candidates, totalling 50 fits\n"
     ]
    },
    {
     "name": "stderr",
     "output_type": "stream",
     "text": [
      "[Parallel(n_jobs=-1)]: Using backend LokyBackend with 2 concurrent workers.\n",
      "[Parallel(n_jobs=-1)]: Done  46 tasks      | elapsed:  1.1min\n",
      "[Parallel(n_jobs=-1)]: Done  50 out of  50 | elapsed:  1.1min finished\n",
      "/usr/local/lib/python3.6/dist-packages/sklearn/model_selection/_search.py:814: DeprecationWarning: The default of the `iid` parameter will change from True to False in version 0.22 and will be removed in 0.24. This will change numeric results when test-set sizes are unequal.\n",
      "  DeprecationWarning)\n"
     ]
    },
    {
     "name": "stdout",
     "output_type": "stream",
     "text": [
      "CIndex: 0.641291929789704\n",
      "Model features: ['original_shape_Compactness2', 'SourceDataset_l1', 'original_shape_SurfaceVolumeRatio', 'original_glcm_Idn', 'original_firstorder_Minimum', 'original_glrlm_RunPercentage', 'original_glrlm_GrayLevelNonUniformity', 'original_glcm_Imc1']\n",
      "Fitting 5 folds for each of 10 candidates, totalling 50 fits\n"
     ]
    },
    {
     "name": "stderr",
     "output_type": "stream",
     "text": [
      "[Parallel(n_jobs=-1)]: Using backend LokyBackend with 2 concurrent workers.\n",
      "[Parallel(n_jobs=-1)]: Done  46 tasks      | elapsed:   18.5s\n",
      "[Parallel(n_jobs=-1)]: Done  50 out of  50 | elapsed:   25.0s finished\n",
      "/usr/local/lib/python3.6/dist-packages/sklearn/model_selection/_search.py:814: DeprecationWarning: The default of the `iid` parameter will change from True to False in version 0.22 and will be removed in 0.24. This will change numeric results when test-set sizes are unequal.\n",
      "  DeprecationWarning)\n"
     ]
    },
    {
     "name": "stdout",
     "output_type": "stream",
     "text": [
      "CIndex: 0.6622940561202497\n",
      "Model features: ['original_shape_Compactness2', 'SourceDataset_l1', 'original_shape_SurfaceVolumeRatio', 'original_glcm_Idn', 'original_firstorder_Minimum', 'original_glrlm_RunPercentage', 'original_glrlm_GrayLevelNonUniformity', 'original_glcm_Imc2']\n",
      "Fitting 5 folds for each of 10 candidates, totalling 50 fits\n"
     ]
    },
    {
     "name": "stderr",
     "output_type": "stream",
     "text": [
      "[Parallel(n_jobs=-1)]: Using backend LokyBackend with 2 concurrent workers.\n",
      "[Parallel(n_jobs=-1)]: Done  46 tasks      | elapsed:   44.9s\n",
      "[Parallel(n_jobs=-1)]: Done  50 out of  50 | elapsed:   50.8s finished\n",
      "/usr/local/lib/python3.6/dist-packages/sklearn/model_selection/_search.py:814: DeprecationWarning: The default of the `iid` parameter will change from True to False in version 0.22 and will be removed in 0.24. This will change numeric results when test-set sizes are unequal.\n",
      "  DeprecationWarning)\n"
     ]
    },
    {
     "name": "stdout",
     "output_type": "stream",
     "text": [
      "CIndex: 0.6481422502571381\n",
      "Model features: ['original_shape_Compactness2', 'SourceDataset_l1', 'original_shape_SurfaceVolumeRatio', 'original_glcm_Idn', 'original_firstorder_Minimum', 'original_glrlm_RunPercentage', 'original_glrlm_GrayLevelNonUniformity', 'original_glcm_Idmn']\n",
      "Fitting 5 folds for each of 10 candidates, totalling 50 fits\n"
     ]
    },
    {
     "name": "stderr",
     "output_type": "stream",
     "text": [
      "[Parallel(n_jobs=-1)]: Using backend LokyBackend with 2 concurrent workers.\n",
      "[Parallel(n_jobs=-1)]: Done  46 tasks      | elapsed:   51.1s\n",
      "[Parallel(n_jobs=-1)]: Done  50 out of  50 | elapsed:  1.0min finished\n",
      "/usr/local/lib/python3.6/dist-packages/sklearn/model_selection/_search.py:814: DeprecationWarning: The default of the `iid` parameter will change from True to False in version 0.22 and will be removed in 0.24. This will change numeric results when test-set sizes are unequal.\n",
      "  DeprecationWarning)\n"
     ]
    },
    {
     "name": "stdout",
     "output_type": "stream",
     "text": [
      "CIndex: 0.6743567424996522\n",
      "Model features: ['original_shape_Compactness2', 'SourceDataset_l1', 'original_shape_SurfaceVolumeRatio', 'original_glcm_Idn', 'original_firstorder_Minimum', 'original_glrlm_RunPercentage', 'original_glrlm_GrayLevelNonUniformity', 'original_glrlm_ShortRunEmphasis']\n",
      "Fitting 5 folds for each of 10 candidates, totalling 50 fits\n"
     ]
    },
    {
     "name": "stderr",
     "output_type": "stream",
     "text": [
      "[Parallel(n_jobs=-1)]: Using backend LokyBackend with 2 concurrent workers.\n",
      "[Parallel(n_jobs=-1)]: Done  46 tasks      | elapsed:   41.4s\n",
      "[Parallel(n_jobs=-1)]: Done  50 out of  50 | elapsed:   46.9s finished\n"
     ]
    },
    {
     "name": "stdout",
     "output_type": "stream",
     "text": [
      "CIndex: 0.6536824645175667\n",
      "Model features: ['original_shape_Compactness2', 'SourceDataset_l1', 'original_shape_SurfaceVolumeRatio', 'original_glcm_Idn', 'original_firstorder_Minimum', 'original_glrlm_RunPercentage', 'original_glrlm_GrayLevelNonUniformity', 'original_glrlm_LongRunEmphasis']\n",
      "Fitting 5 folds for each of 10 candidates, totalling 50 fits\n"
     ]
    },
    {
     "name": "stderr",
     "output_type": "stream",
     "text": [
      "[Parallel(n_jobs=-1)]: Using backend LokyBackend with 2 concurrent workers.\n",
      "[Parallel(n_jobs=-1)]: Done  46 tasks      | elapsed:  1.3min\n",
      "[Parallel(n_jobs=-1)]: Done  50 out of  50 | elapsed:  1.3min finished\n",
      "/usr/local/lib/python3.6/dist-packages/sklearn/model_selection/_search.py:814: DeprecationWarning: The default of the `iid` parameter will change from True to False in version 0.22 and will be removed in 0.24. This will change numeric results when test-set sizes are unequal.\n",
      "  DeprecationWarning)\n"
     ]
    },
    {
     "name": "stdout",
     "output_type": "stream",
     "text": [
      "CIndex: 0.6352841528699844\n",
      "Model features: ['original_shape_Compactness2', 'SourceDataset_l1', 'original_shape_SurfaceVolumeRatio', 'original_glcm_Idn', 'original_firstorder_Minimum', 'original_glrlm_RunPercentage', 'original_glrlm_GrayLevelNonUniformity', 'original_glrlm_ShortRunLowGrayLevelEmphasis']\n",
      "Fitting 5 folds for each of 10 candidates, totalling 50 fits\n"
     ]
    },
    {
     "name": "stderr",
     "output_type": "stream",
     "text": [
      "[Parallel(n_jobs=-1)]: Using backend LokyBackend with 2 concurrent workers.\n",
      "[Parallel(n_jobs=-1)]: Done  46 tasks      | elapsed:   58.5s\n",
      "[Parallel(n_jobs=-1)]: Done  50 out of  50 | elapsed:  1.0min finished\n"
     ]
    },
    {
     "name": "stdout",
     "output_type": "stream",
     "text": [
      "CIndex: 0.6553850386819328\n",
      "Model features: ['original_shape_Compactness2', 'SourceDataset_l1', 'original_shape_SurfaceVolumeRatio', 'original_glcm_Idn', 'original_firstorder_Minimum', 'original_glrlm_RunPercentage', 'original_glrlm_GrayLevelNonUniformity', 'original_glrlm_LongRunLowGrayLevelEmphasis']\n",
      "Fitting 5 folds for each of 10 candidates, totalling 50 fits\n"
     ]
    },
    {
     "name": "stderr",
     "output_type": "stream",
     "text": [
      "[Parallel(n_jobs=-1)]: Using backend LokyBackend with 2 concurrent workers.\n",
      "[Parallel(n_jobs=-1)]: Done  46 tasks      | elapsed:   37.5s\n",
      "[Parallel(n_jobs=-1)]: Done  50 out of  50 | elapsed:   40.6s finished\n",
      "/usr/local/lib/python3.6/dist-packages/sklearn/model_selection/_search.py:814: DeprecationWarning: The default of the `iid` parameter will change from True to False in version 0.22 and will be removed in 0.24. This will change numeric results when test-set sizes are unequal.\n",
      "  DeprecationWarning)\n"
     ]
    },
    {
     "name": "stdout",
     "output_type": "stream",
     "text": [
      "CIndex: 0.6538759521301886\n",
      "Model features: ['original_shape_Compactness2', 'SourceDataset_l1', 'original_shape_SurfaceVolumeRatio', 'original_glcm_Idn', 'original_firstorder_Minimum', 'original_glrlm_RunPercentage', 'original_glrlm_GrayLevelNonUniformity', 'original_glrlm_LongRunHighGrayLevelEmphasis']\n",
      "Fitting 5 folds for each of 10 candidates, totalling 50 fits\n"
     ]
    },
    {
     "name": "stderr",
     "output_type": "stream",
     "text": [
      "[Parallel(n_jobs=-1)]: Using backend LokyBackend with 2 concurrent workers.\n",
      "[Parallel(n_jobs=-1)]: Done  46 tasks      | elapsed:   45.9s\n",
      "[Parallel(n_jobs=-1)]: Done  50 out of  50 | elapsed:   46.6s finished\n",
      "/usr/local/lib/python3.6/dist-packages/sklearn/model_selection/_search.py:814: DeprecationWarning: The default of the `iid` parameter will change from True to False in version 0.22 and will be removed in 0.24. This will change numeric results when test-set sizes are unequal.\n",
      "  DeprecationWarning)\n"
     ]
    },
    {
     "name": "stdout",
     "output_type": "stream",
     "text": [
      "CIndex: 0.6596913962687563\n",
      "Model features: ['original_shape_Compactness2', 'SourceDataset_l1', 'original_shape_SurfaceVolumeRatio', 'original_glcm_Idn', 'original_firstorder_Minimum', 'original_glrlm_RunPercentage', 'original_glrlm_GrayLevelNonUniformity', 'Nstage']\n",
      "Fitting 5 folds for each of 10 candidates, totalling 50 fits\n"
     ]
    },
    {
     "name": "stderr",
     "output_type": "stream",
     "text": [
      "[Parallel(n_jobs=-1)]: Using backend LokyBackend with 2 concurrent workers.\n",
      "[Parallel(n_jobs=-1)]: Done  46 tasks      | elapsed:   39.4s\n",
      "[Parallel(n_jobs=-1)]: Done  50 out of  50 | elapsed:   41.2s finished\n"
     ]
    },
    {
     "name": "stdout",
     "output_type": "stream",
     "text": [
      "CIndex: 0.6406058822454301\n",
      "Model features: ['original_shape_Compactness2', 'SourceDataset_l1', 'original_shape_SurfaceVolumeRatio', 'original_glcm_Idn', 'original_firstorder_Minimum', 'original_glrlm_RunPercentage', 'original_glrlm_GrayLevelNonUniformity', 'age']\n",
      "Fitting 5 folds for each of 10 candidates, totalling 50 fits\n"
     ]
    },
    {
     "name": "stderr",
     "output_type": "stream",
     "text": [
      "[Parallel(n_jobs=-1)]: Using backend LokyBackend with 2 concurrent workers.\n",
      "[Parallel(n_jobs=-1)]: Done  46 tasks      | elapsed:   52.3s\n",
      "[Parallel(n_jobs=-1)]: Done  50 out of  50 | elapsed:   57.6s finished\n"
     ]
    },
    {
     "name": "stdout",
     "output_type": "stream",
     "text": [
      "CIndex: 0.6492294254906092\n",
      "Model features: ['original_shape_Compactness2', 'SourceDataset_l1', 'original_shape_SurfaceVolumeRatio', 'original_glcm_Idn', 'original_firstorder_Minimum', 'original_glrlm_RunPercentage', 'original_glrlm_GrayLevelNonUniformity', 'SourceDataset_l2']\n",
      "Fitting 5 folds for each of 10 candidates, totalling 50 fits\n"
     ]
    },
    {
     "name": "stderr",
     "output_type": "stream",
     "text": [
      "[Parallel(n_jobs=-1)]: Using backend LokyBackend with 2 concurrent workers.\n",
      "[Parallel(n_jobs=-1)]: Done  46 tasks      | elapsed:   30.6s\n",
      "[Parallel(n_jobs=-1)]: Done  50 out of  50 | elapsed:   32.3s finished\n"
     ]
    },
    {
     "name": "stdout",
     "output_type": "stream",
     "text": [
      "CIndex: 0.6501886633714034\n",
      "Selected new growing feature: original_glcm_Idmn\n",
      "\n",
      "Growing 9-th feature...\n",
      "\n",
      "Model features: ['original_shape_Compactness2', 'SourceDataset_l1', 'original_shape_SurfaceVolumeRatio', 'original_glcm_Idn', 'original_firstorder_Minimum', 'original_glrlm_RunPercentage', 'original_glrlm_GrayLevelNonUniformity', 'original_glcm_Idmn', 'original_shape_SphericalDisproportion']\n",
      "Fitting 5 folds for each of 10 candidates, totalling 50 fits\n"
     ]
    },
    {
     "name": "stderr",
     "output_type": "stream",
     "text": [
      "[Parallel(n_jobs=-1)]: Using backend LokyBackend with 2 concurrent workers.\n",
      "[Parallel(n_jobs=-1)]: Done  46 tasks      | elapsed:  1.6min\n",
      "[Parallel(n_jobs=-1)]: Done  50 out of  50 | elapsed:  1.6min finished\n",
      "/usr/local/lib/python3.6/dist-packages/sklearn/model_selection/_search.py:814: DeprecationWarning: The default of the `iid` parameter will change from True to False in version 0.22 and will be removed in 0.24. This will change numeric results when test-set sizes are unequal.\n",
      "  DeprecationWarning)\n"
     ]
    },
    {
     "name": "stdout",
     "output_type": "stream",
     "text": [
      "CIndex: 0.6408920808089033\n",
      "Model features: ['original_shape_Compactness2', 'SourceDataset_l1', 'original_shape_SurfaceVolumeRatio', 'original_glcm_Idn', 'original_firstorder_Minimum', 'original_glrlm_RunPercentage', 'original_glrlm_GrayLevelNonUniformity', 'original_glcm_Idmn', 'original_firstorder_Kurtosis']\n",
      "Fitting 5 folds for each of 10 candidates, totalling 50 fits\n"
     ]
    },
    {
     "name": "stderr",
     "output_type": "stream",
     "text": [
      "[Parallel(n_jobs=-1)]: Using backend LokyBackend with 2 concurrent workers.\n",
      "[Parallel(n_jobs=-1)]: Done  46 tasks      | elapsed:   46.1s\n",
      "[Parallel(n_jobs=-1)]: Done  50 out of  50 | elapsed:   51.7s finished\n"
     ]
    },
    {
     "name": "stdout",
     "output_type": "stream",
     "text": [
      "CIndex: 0.6454697068969659\n",
      "Model features: ['original_shape_Compactness2', 'SourceDataset_l1', 'original_shape_SurfaceVolumeRatio', 'original_glcm_Idn', 'original_firstorder_Minimum', 'original_glrlm_RunPercentage', 'original_glrlm_GrayLevelNonUniformity', 'original_glcm_Idmn', 'original_firstorder_MeanAbsoluteDeviation']\n",
      "Fitting 5 folds for each of 10 candidates, totalling 50 fits\n"
     ]
    },
    {
     "name": "stderr",
     "output_type": "stream",
     "text": [
      "[Parallel(n_jobs=-1)]: Using backend LokyBackend with 2 concurrent workers.\n",
      "[Parallel(n_jobs=-1)]: Done  46 tasks      | elapsed:  1.1min\n",
      "[Parallel(n_jobs=-1)]: Done  50 out of  50 | elapsed:  1.4min finished\n"
     ]
    },
    {
     "name": "stdout",
     "output_type": "stream",
     "text": [
      "CIndex: 0.6508953130253752\n",
      "Model features: ['original_shape_Compactness2', 'SourceDataset_l1', 'original_shape_SurfaceVolumeRatio', 'original_glcm_Idn', 'original_firstorder_Minimum', 'original_glrlm_RunPercentage', 'original_glrlm_GrayLevelNonUniformity', 'original_glcm_Idmn', 'original_glcm_ClusterProminence']\n",
      "Fitting 5 folds for each of 10 candidates, totalling 50 fits\n"
     ]
    },
    {
     "name": "stderr",
     "output_type": "stream",
     "text": [
      "[Parallel(n_jobs=-1)]: Using backend LokyBackend with 2 concurrent workers.\n",
      "[Parallel(n_jobs=-1)]: Done  46 tasks      | elapsed:   49.0s\n",
      "[Parallel(n_jobs=-1)]: Done  50 out of  50 | elapsed:   51.0s finished\n"
     ]
    },
    {
     "name": "stdout",
     "output_type": "stream",
     "text": [
      "CIndex: 0.651538948742043\n",
      "Model features: ['original_shape_Compactness2', 'SourceDataset_l1', 'original_shape_SurfaceVolumeRatio', 'original_glcm_Idn', 'original_firstorder_Minimum', 'original_glrlm_RunPercentage', 'original_glrlm_GrayLevelNonUniformity', 'original_glcm_Idmn', 'original_glcm_Contrast']\n",
      "Fitting 5 folds for each of 10 candidates, totalling 50 fits\n"
     ]
    },
    {
     "name": "stderr",
     "output_type": "stream",
     "text": [
      "[Parallel(n_jobs=-1)]: Using backend LokyBackend with 2 concurrent workers.\n",
      "[Parallel(n_jobs=-1)]: Done  46 tasks      | elapsed:  1.2min\n",
      "[Parallel(n_jobs=-1)]: Done  50 out of  50 | elapsed:  1.3min finished\n",
      "/usr/local/lib/python3.6/dist-packages/sklearn/model_selection/_search.py:814: DeprecationWarning: The default of the `iid` parameter will change from True to False in version 0.22 and will be removed in 0.24. This will change numeric results when test-set sizes are unequal.\n",
      "  DeprecationWarning)\n"
     ]
    },
    {
     "name": "stdout",
     "output_type": "stream",
     "text": [
      "CIndex: 0.6465475773936328\n",
      "Model features: ['original_shape_Compactness2', 'SourceDataset_l1', 'original_shape_SurfaceVolumeRatio', 'original_glcm_Idn', 'original_firstorder_Minimum', 'original_glrlm_RunPercentage', 'original_glrlm_GrayLevelNonUniformity', 'original_glcm_Idmn', 'original_glcm_DifferenceEntropy']\n",
      "Fitting 5 folds for each of 10 candidates, totalling 50 fits\n"
     ]
    },
    {
     "name": "stderr",
     "output_type": "stream",
     "text": [
      "[Parallel(n_jobs=-1)]: Using backend LokyBackend with 2 concurrent workers.\n",
      "[Parallel(n_jobs=-1)]: Done  50 out of  50 | elapsed:   49.2s finished\n"
     ]
    },
    {
     "name": "stdout",
     "output_type": "stream",
     "text": [
      "CIndex: 0.6490130452837637\n",
      "Model features: ['original_shape_Compactness2', 'SourceDataset_l1', 'original_shape_SurfaceVolumeRatio', 'original_glcm_Idn', 'original_firstorder_Minimum', 'original_glrlm_RunPercentage', 'original_glrlm_GrayLevelNonUniformity', 'original_glcm_Idmn', 'original_glcm_DifferenceAverage']\n",
      "Fitting 5 folds for each of 10 candidates, totalling 50 fits\n"
     ]
    },
    {
     "name": "stderr",
     "output_type": "stream",
     "text": [
      "[Parallel(n_jobs=-1)]: Using backend LokyBackend with 2 concurrent workers.\n",
      "[Parallel(n_jobs=-1)]: Done  46 tasks      | elapsed:  1.1min\n",
      "[Parallel(n_jobs=-1)]: Done  50 out of  50 | elapsed:  1.2min finished\n",
      "/usr/local/lib/python3.6/dist-packages/sklearn/model_selection/_search.py:814: DeprecationWarning: The default of the `iid` parameter will change from True to False in version 0.22 and will be removed in 0.24. This will change numeric results when test-set sizes are unequal.\n",
      "  DeprecationWarning)\n"
     ]
    },
    {
     "name": "stdout",
     "output_type": "stream",
     "text": [
      "CIndex: 0.6521799097933643\n",
      "Model features: ['original_shape_Compactness2', 'SourceDataset_l1', 'original_shape_SurfaceVolumeRatio', 'original_glcm_Idn', 'original_firstorder_Minimum', 'original_glrlm_RunPercentage', 'original_glrlm_GrayLevelNonUniformity', 'original_glcm_Idmn', 'original_glcm_JointEnergy']\n",
      "Fitting 5 folds for each of 10 candidates, totalling 50 fits\n"
     ]
    },
    {
     "name": "stderr",
     "output_type": "stream",
     "text": [
      "[Parallel(n_jobs=-1)]: Using backend LokyBackend with 2 concurrent workers.\n",
      "[Parallel(n_jobs=-1)]: Done  46 tasks      | elapsed:   24.7s\n",
      "[Parallel(n_jobs=-1)]: Done  50 out of  50 | elapsed:   27.1s finished\n",
      "/usr/local/lib/python3.6/dist-packages/sklearn/model_selection/_search.py:814: DeprecationWarning: The default of the `iid` parameter will change from True to False in version 0.22 and will be removed in 0.24. This will change numeric results when test-set sizes are unequal.\n",
      "  DeprecationWarning)\n"
     ]
    },
    {
     "name": "stdout",
     "output_type": "stream",
     "text": [
      "CIndex: 0.6564178000351939\n",
      "Model features: ['original_shape_Compactness2', 'SourceDataset_l1', 'original_shape_SurfaceVolumeRatio', 'original_glcm_Idn', 'original_firstorder_Minimum', 'original_glrlm_RunPercentage', 'original_glrlm_GrayLevelNonUniformity', 'original_glcm_Idmn', 'original_glcm_Id']\n",
      "Fitting 5 folds for each of 10 candidates, totalling 50 fits\n"
     ]
    },
    {
     "name": "stderr",
     "output_type": "stream",
     "text": [
      "[Parallel(n_jobs=-1)]: Using backend LokyBackend with 2 concurrent workers.\n",
      "[Parallel(n_jobs=-1)]: Done  46 tasks      | elapsed:   37.4s\n",
      "[Parallel(n_jobs=-1)]: Done  50 out of  50 | elapsed:   38.7s finished\n",
      "/usr/local/lib/python3.6/dist-packages/sklearn/model_selection/_search.py:814: DeprecationWarning: The default of the `iid` parameter will change from True to False in version 0.22 and will be removed in 0.24. This will change numeric results when test-set sizes are unequal.\n",
      "  DeprecationWarning)\n"
     ]
    },
    {
     "name": "stdout",
     "output_type": "stream",
     "text": [
      "CIndex: 0.6523726133874888\n",
      "Model features: ['original_shape_Compactness2', 'SourceDataset_l1', 'original_shape_SurfaceVolumeRatio', 'original_glcm_Idn', 'original_firstorder_Minimum', 'original_glrlm_RunPercentage', 'original_glrlm_GrayLevelNonUniformity', 'original_glcm_Idmn', 'original_glcm_Idm']\n",
      "Fitting 5 folds for each of 10 candidates, totalling 50 fits\n"
     ]
    },
    {
     "name": "stderr",
     "output_type": "stream",
     "text": [
      "[Parallel(n_jobs=-1)]: Using backend LokyBackend with 2 concurrent workers.\n",
      "[Parallel(n_jobs=-1)]: Done  46 tasks      | elapsed:   51.2s\n",
      "[Parallel(n_jobs=-1)]: Done  50 out of  50 | elapsed:   55.8s finished\n",
      "/usr/local/lib/python3.6/dist-packages/sklearn/model_selection/_search.py:814: DeprecationWarning: The default of the `iid` parameter will change from True to False in version 0.22 and will be removed in 0.24. This will change numeric results when test-set sizes are unequal.\n",
      "  DeprecationWarning)\n"
     ]
    },
    {
     "name": "stdout",
     "output_type": "stream",
     "text": [
      "CIndex: 0.646038646390089\n",
      "Model features: ['original_shape_Compactness2', 'SourceDataset_l1', 'original_shape_SurfaceVolumeRatio', 'original_glcm_Idn', 'original_firstorder_Minimum', 'original_glrlm_RunPercentage', 'original_glrlm_GrayLevelNonUniformity', 'original_glcm_Idmn', 'original_glcm_Imc1']\n",
      "Fitting 5 folds for each of 10 candidates, totalling 50 fits\n"
     ]
    },
    {
     "name": "stderr",
     "output_type": "stream",
     "text": [
      "[Parallel(n_jobs=-1)]: Using backend LokyBackend with 2 concurrent workers.\n",
      "[Parallel(n_jobs=-1)]: Done  50 out of  50 | elapsed:  1.1min finished\n",
      "/usr/local/lib/python3.6/dist-packages/sklearn/model_selection/_search.py:814: DeprecationWarning: The default of the `iid` parameter will change from True to False in version 0.22 and will be removed in 0.24. This will change numeric results when test-set sizes are unequal.\n",
      "  DeprecationWarning)\n"
     ]
    },
    {
     "name": "stdout",
     "output_type": "stream",
     "text": [
      "CIndex: 0.641130543835568\n",
      "Model features: ['original_shape_Compactness2', 'SourceDataset_l1', 'original_shape_SurfaceVolumeRatio', 'original_glcm_Idn', 'original_firstorder_Minimum', 'original_glrlm_RunPercentage', 'original_glrlm_GrayLevelNonUniformity', 'original_glcm_Idmn', 'original_glcm_Imc2']\n",
      "Fitting 5 folds for each of 10 candidates, totalling 50 fits\n"
     ]
    },
    {
     "name": "stderr",
     "output_type": "stream",
     "text": [
      "[Parallel(n_jobs=-1)]: Using backend LokyBackend with 2 concurrent workers.\n",
      "[Parallel(n_jobs=-1)]: Done  46 tasks      | elapsed:  1.2min\n",
      "[Parallel(n_jobs=-1)]: Done  50 out of  50 | elapsed:  1.5min finished\n"
     ]
    },
    {
     "name": "stdout",
     "output_type": "stream",
     "text": [
      "CIndex: 0.6359011861394965\n",
      "Model features: ['original_shape_Compactness2', 'SourceDataset_l1', 'original_shape_SurfaceVolumeRatio', 'original_glcm_Idn', 'original_firstorder_Minimum', 'original_glrlm_RunPercentage', 'original_glrlm_GrayLevelNonUniformity', 'original_glcm_Idmn', 'original_glrlm_ShortRunEmphasis']\n",
      "Fitting 5 folds for each of 10 candidates, totalling 50 fits\n"
     ]
    },
    {
     "name": "stderr",
     "output_type": "stream",
     "text": [
      "[Parallel(n_jobs=-1)]: Using backend LokyBackend with 2 concurrent workers.\n",
      "[Parallel(n_jobs=-1)]: Done  46 tasks      | elapsed:   34.3s\n",
      "[Parallel(n_jobs=-1)]: Done  50 out of  50 | elapsed:   34.7s finished\n",
      "/usr/local/lib/python3.6/dist-packages/sklearn/model_selection/_search.py:814: DeprecationWarning: The default of the `iid` parameter will change from True to False in version 0.22 and will be removed in 0.24. This will change numeric results when test-set sizes are unequal.\n",
      "  DeprecationWarning)\n"
     ]
    },
    {
     "name": "stdout",
     "output_type": "stream",
     "text": [
      "CIndex: 0.6531063212994896\n",
      "Model features: ['original_shape_Compactness2', 'SourceDataset_l1', 'original_shape_SurfaceVolumeRatio', 'original_glcm_Idn', 'original_firstorder_Minimum', 'original_glrlm_RunPercentage', 'original_glrlm_GrayLevelNonUniformity', 'original_glcm_Idmn', 'original_glrlm_LongRunEmphasis']\n",
      "Fitting 5 folds for each of 10 candidates, totalling 50 fits\n"
     ]
    },
    {
     "name": "stderr",
     "output_type": "stream",
     "text": [
      "[Parallel(n_jobs=-1)]: Using backend LokyBackend with 2 concurrent workers.\n",
      "[Parallel(n_jobs=-1)]: Done  46 tasks      | elapsed:  1.3min\n",
      "[Parallel(n_jobs=-1)]: Done  50 out of  50 | elapsed:  1.5min finished\n",
      "/usr/local/lib/python3.6/dist-packages/sklearn/model_selection/_search.py:814: DeprecationWarning: The default of the `iid` parameter will change from True to False in version 0.22 and will be removed in 0.24. This will change numeric results when test-set sizes are unequal.\n",
      "  DeprecationWarning)\n"
     ]
    },
    {
     "name": "stdout",
     "output_type": "stream",
     "text": [
      "CIndex: 0.6393217246449815\n",
      "Model features: ['original_shape_Compactness2', 'SourceDataset_l1', 'original_shape_SurfaceVolumeRatio', 'original_glcm_Idn', 'original_firstorder_Minimum', 'original_glrlm_RunPercentage', 'original_glrlm_GrayLevelNonUniformity', 'original_glcm_Idmn', 'original_glrlm_ShortRunLowGrayLevelEmphasis']\n",
      "Fitting 5 folds for each of 10 candidates, totalling 50 fits\n"
     ]
    },
    {
     "name": "stderr",
     "output_type": "stream",
     "text": [
      "[Parallel(n_jobs=-1)]: Using backend LokyBackend with 2 concurrent workers.\n",
      "[Parallel(n_jobs=-1)]: Done  46 tasks      | elapsed:  1.6min\n",
      "[Parallel(n_jobs=-1)]: Done  50 out of  50 | elapsed:  1.6min finished\n",
      "/usr/local/lib/python3.6/dist-packages/sklearn/model_selection/_search.py:814: DeprecationWarning: The default of the `iid` parameter will change from True to False in version 0.22 and will be removed in 0.24. This will change numeric results when test-set sizes are unequal.\n",
      "  DeprecationWarning)\n"
     ]
    },
    {
     "name": "stdout",
     "output_type": "stream",
     "text": [
      "CIndex: 0.6522691996621252\n",
      "Model features: ['original_shape_Compactness2', 'SourceDataset_l1', 'original_shape_SurfaceVolumeRatio', 'original_glcm_Idn', 'original_firstorder_Minimum', 'original_glrlm_RunPercentage', 'original_glrlm_GrayLevelNonUniformity', 'original_glcm_Idmn', 'original_glrlm_LongRunLowGrayLevelEmphasis']\n",
      "Fitting 5 folds for each of 10 candidates, totalling 50 fits\n"
     ]
    },
    {
     "name": "stderr",
     "output_type": "stream",
     "text": [
      "[Parallel(n_jobs=-1)]: Using backend LokyBackend with 2 concurrent workers.\n",
      "[Parallel(n_jobs=-1)]: Done  46 tasks      | elapsed:  1.0min\n",
      "[Parallel(n_jobs=-1)]: Done  50 out of  50 | elapsed:  1.1min finished\n"
     ]
    },
    {
     "name": "stdout",
     "output_type": "stream",
     "text": [
      "CIndex: 0.6580099783382528\n",
      "Model features: ['original_shape_Compactness2', 'SourceDataset_l1', 'original_shape_SurfaceVolumeRatio', 'original_glcm_Idn', 'original_firstorder_Minimum', 'original_glrlm_RunPercentage', 'original_glrlm_GrayLevelNonUniformity', 'original_glcm_Idmn', 'original_glrlm_LongRunHighGrayLevelEmphasis']\n",
      "Fitting 5 folds for each of 10 candidates, totalling 50 fits\n"
     ]
    },
    {
     "name": "stderr",
     "output_type": "stream",
     "text": [
      "[Parallel(n_jobs=-1)]: Using backend LokyBackend with 2 concurrent workers.\n",
      "[Parallel(n_jobs=-1)]: Done  46 tasks      | elapsed:   55.6s\n",
      "[Parallel(n_jobs=-1)]: Done  50 out of  50 | elapsed:  1.0min finished\n"
     ]
    },
    {
     "name": "stdout",
     "output_type": "stream",
     "text": [
      "CIndex: 0.6419721910327935\n",
      "Model features: ['original_shape_Compactness2', 'SourceDataset_l1', 'original_shape_SurfaceVolumeRatio', 'original_glcm_Idn', 'original_firstorder_Minimum', 'original_glrlm_RunPercentage', 'original_glrlm_GrayLevelNonUniformity', 'original_glcm_Idmn', 'Nstage']\n",
      "Fitting 5 folds for each of 10 candidates, totalling 50 fits\n"
     ]
    },
    {
     "name": "stderr",
     "output_type": "stream",
     "text": [
      "[Parallel(n_jobs=-1)]: Using backend LokyBackend with 2 concurrent workers.\n",
      "[Parallel(n_jobs=-1)]: Done  46 tasks      | elapsed:  1.1min\n",
      "[Parallel(n_jobs=-1)]: Done  50 out of  50 | elapsed:  1.2min finished\n",
      "/usr/local/lib/python3.6/dist-packages/sklearn/model_selection/_search.py:814: DeprecationWarning: The default of the `iid` parameter will change from True to False in version 0.22 and will be removed in 0.24. This will change numeric results when test-set sizes are unequal.\n",
      "  DeprecationWarning)\n"
     ]
    },
    {
     "name": "stdout",
     "output_type": "stream",
     "text": [
      "CIndex: 0.6631660349615801\n",
      "Model features: ['original_shape_Compactness2', 'SourceDataset_l1', 'original_shape_SurfaceVolumeRatio', 'original_glcm_Idn', 'original_firstorder_Minimum', 'original_glrlm_RunPercentage', 'original_glrlm_GrayLevelNonUniformity', 'original_glcm_Idmn', 'age']\n",
      "Fitting 5 folds for each of 10 candidates, totalling 50 fits\n"
     ]
    },
    {
     "name": "stderr",
     "output_type": "stream",
     "text": [
      "[Parallel(n_jobs=-1)]: Using backend LokyBackend with 2 concurrent workers.\n",
      "[Parallel(n_jobs=-1)]: Done  46 tasks      | elapsed:  1.2min\n",
      "[Parallel(n_jobs=-1)]: Done  50 out of  50 | elapsed:  1.2min finished\n",
      "/usr/local/lib/python3.6/dist-packages/sklearn/model_selection/_search.py:814: DeprecationWarning: The default of the `iid` parameter will change from True to False in version 0.22 and will be removed in 0.24. This will change numeric results when test-set sizes are unequal.\n",
      "  DeprecationWarning)\n"
     ]
    },
    {
     "name": "stdout",
     "output_type": "stream",
     "text": [
      "CIndex: 0.6549175817786312\n",
      "Model features: ['original_shape_Compactness2', 'SourceDataset_l1', 'original_shape_SurfaceVolumeRatio', 'original_glcm_Idn', 'original_firstorder_Minimum', 'original_glrlm_RunPercentage', 'original_glrlm_GrayLevelNonUniformity', 'original_glcm_Idmn', 'SourceDataset_l2']\n",
      "Fitting 5 folds for each of 10 candidates, totalling 50 fits\n"
     ]
    },
    {
     "name": "stderr",
     "output_type": "stream",
     "text": [
      "[Parallel(n_jobs=-1)]: Using backend LokyBackend with 2 concurrent workers.\n",
      "[Parallel(n_jobs=-1)]: Done  46 tasks      | elapsed:   45.4s\n",
      "[Parallel(n_jobs=-1)]: Done  50 out of  50 | elapsed:   45.8s finished\n"
     ]
    },
    {
     "name": "stdout",
     "output_type": "stream",
     "text": [
      "CIndex: 0.6567940605614707\n",
      "Selected new growing feature: Nstage\n",
      "\n",
      "Growing 10-th feature...\n",
      "\n",
      "Model features: ['original_shape_Compactness2', 'SourceDataset_l1', 'original_shape_SurfaceVolumeRatio', 'original_glcm_Idn', 'original_firstorder_Minimum', 'original_glrlm_RunPercentage', 'original_glrlm_GrayLevelNonUniformity', 'original_glcm_Idmn', 'Nstage', 'original_shape_SphericalDisproportion']\n",
      "Fitting 5 folds for each of 10 candidates, totalling 50 fits\n"
     ]
    },
    {
     "name": "stderr",
     "output_type": "stream",
     "text": [
      "[Parallel(n_jobs=-1)]: Using backend LokyBackend with 2 concurrent workers.\n",
      "[Parallel(n_jobs=-1)]: Done  46 tasks      | elapsed:  1.3min\n",
      "[Parallel(n_jobs=-1)]: Done  50 out of  50 | elapsed:  1.3min finished\n"
     ]
    },
    {
     "name": "stdout",
     "output_type": "stream",
     "text": [
      "CIndex: 0.6734926653581707\n",
      "Model features: ['original_shape_Compactness2', 'SourceDataset_l1', 'original_shape_SurfaceVolumeRatio', 'original_glcm_Idn', 'original_firstorder_Minimum', 'original_glrlm_RunPercentage', 'original_glrlm_GrayLevelNonUniformity', 'original_glcm_Idmn', 'Nstage', 'original_firstorder_Kurtosis']\n",
      "Fitting 5 folds for each of 10 candidates, totalling 50 fits\n"
     ]
    },
    {
     "name": "stderr",
     "output_type": "stream",
     "text": [
      "[Parallel(n_jobs=-1)]: Using backend LokyBackend with 2 concurrent workers.\n",
      "[Parallel(n_jobs=-1)]: Done  46 tasks      | elapsed:   43.7s\n",
      "[Parallel(n_jobs=-1)]: Done  50 out of  50 | elapsed:   50.4s finished\n",
      "/usr/local/lib/python3.6/dist-packages/sklearn/model_selection/_search.py:814: DeprecationWarning: The default of the `iid` parameter will change from True to False in version 0.22 and will be removed in 0.24. This will change numeric results when test-set sizes are unequal.\n",
      "  DeprecationWarning)\n"
     ]
    },
    {
     "name": "stdout",
     "output_type": "stream",
     "text": [
      "CIndex: 0.631644815062024\n",
      "Model features: ['original_shape_Compactness2', 'SourceDataset_l1', 'original_shape_SurfaceVolumeRatio', 'original_glcm_Idn', 'original_firstorder_Minimum', 'original_glrlm_RunPercentage', 'original_glrlm_GrayLevelNonUniformity', 'original_glcm_Idmn', 'Nstage', 'original_firstorder_MeanAbsoluteDeviation']\n",
      "Fitting 5 folds for each of 10 candidates, totalling 50 fits\n"
     ]
    },
    {
     "name": "stderr",
     "output_type": "stream",
     "text": [
      "[Parallel(n_jobs=-1)]: Using backend LokyBackend with 2 concurrent workers.\n",
      "[Parallel(n_jobs=-1)]: Done  46 tasks      | elapsed:   56.6s\n",
      "[Parallel(n_jobs=-1)]: Done  50 out of  50 | elapsed:   58.5s finished\n"
     ]
    },
    {
     "name": "stdout",
     "output_type": "stream",
     "text": [
      "CIndex: 0.6398437744924247\n",
      "Model features: ['original_shape_Compactness2', 'SourceDataset_l1', 'original_shape_SurfaceVolumeRatio', 'original_glcm_Idn', 'original_firstorder_Minimum', 'original_glrlm_RunPercentage', 'original_glrlm_GrayLevelNonUniformity', 'original_glcm_Idmn', 'Nstage', 'original_glcm_ClusterProminence']\n",
      "Fitting 5 folds for each of 10 candidates, totalling 50 fits\n"
     ]
    },
    {
     "name": "stderr",
     "output_type": "stream",
     "text": [
      "[Parallel(n_jobs=-1)]: Using backend LokyBackend with 2 concurrent workers.\n",
      "[Parallel(n_jobs=-1)]: Done  46 tasks      | elapsed:   34.7s\n",
      "[Parallel(n_jobs=-1)]: Done  50 out of  50 | elapsed:   46.0s finished\n"
     ]
    },
    {
     "name": "stdout",
     "output_type": "stream",
     "text": [
      "CIndex: 0.6487793600559588\n",
      "Model features: ['original_shape_Compactness2', 'SourceDataset_l1', 'original_shape_SurfaceVolumeRatio', 'original_glcm_Idn', 'original_firstorder_Minimum', 'original_glrlm_RunPercentage', 'original_glrlm_GrayLevelNonUniformity', 'original_glcm_Idmn', 'Nstage', 'original_glcm_Contrast']\n",
      "Fitting 5 folds for each of 10 candidates, totalling 50 fits\n"
     ]
    },
    {
     "name": "stderr",
     "output_type": "stream",
     "text": [
      "[Parallel(n_jobs=-1)]: Using backend LokyBackend with 2 concurrent workers.\n",
      "[Parallel(n_jobs=-1)]: Done  46 tasks      | elapsed:   41.6s\n",
      "[Parallel(n_jobs=-1)]: Done  50 out of  50 | elapsed:   41.9s finished\n",
      "/usr/local/lib/python3.6/dist-packages/sklearn/model_selection/_search.py:814: DeprecationWarning: The default of the `iid` parameter will change from True to False in version 0.22 and will be removed in 0.24. This will change numeric results when test-set sizes are unequal.\n",
      "  DeprecationWarning)\n"
     ]
    },
    {
     "name": "stdout",
     "output_type": "stream",
     "text": [
      "CIndex: 0.6693273027064738\n",
      "Model features: ['original_shape_Compactness2', 'SourceDataset_l1', 'original_shape_SurfaceVolumeRatio', 'original_glcm_Idn', 'original_firstorder_Minimum', 'original_glrlm_RunPercentage', 'original_glrlm_GrayLevelNonUniformity', 'original_glcm_Idmn', 'Nstage', 'original_glcm_DifferenceEntropy']\n",
      "Fitting 5 folds for each of 10 candidates, totalling 50 fits\n"
     ]
    },
    {
     "name": "stderr",
     "output_type": "stream",
     "text": [
      "[Parallel(n_jobs=-1)]: Using backend LokyBackend with 2 concurrent workers.\n",
      "[Parallel(n_jobs=-1)]: Done  46 tasks      | elapsed:   43.8s\n",
      "[Parallel(n_jobs=-1)]: Done  50 out of  50 | elapsed:   50.8s finished\n"
     ]
    },
    {
     "name": "stdout",
     "output_type": "stream",
     "text": [
      "CIndex: 0.6395816514593193\n",
      "Model features: ['original_shape_Compactness2', 'SourceDataset_l1', 'original_shape_SurfaceVolumeRatio', 'original_glcm_Idn', 'original_firstorder_Minimum', 'original_glrlm_RunPercentage', 'original_glrlm_GrayLevelNonUniformity', 'original_glcm_Idmn', 'Nstage', 'original_glcm_DifferenceAverage']\n",
      "Fitting 5 folds for each of 10 candidates, totalling 50 fits\n"
     ]
    },
    {
     "name": "stderr",
     "output_type": "stream",
     "text": [
      "[Parallel(n_jobs=-1)]: Using backend LokyBackend with 2 concurrent workers.\n",
      "[Parallel(n_jobs=-1)]: Done  46 tasks      | elapsed:  1.3min\n",
      "[Parallel(n_jobs=-1)]: Done  50 out of  50 | elapsed:  1.5min finished\n",
      "/usr/local/lib/python3.6/dist-packages/sklearn/model_selection/_search.py:814: DeprecationWarning: The default of the `iid` parameter will change from True to False in version 0.22 and will be removed in 0.24. This will change numeric results when test-set sizes are unequal.\n",
      "  DeprecationWarning)\n"
     ]
    },
    {
     "name": "stdout",
     "output_type": "stream",
     "text": [
      "CIndex: 0.6565903412591652\n",
      "Model features: ['original_shape_Compactness2', 'SourceDataset_l1', 'original_shape_SurfaceVolumeRatio', 'original_glcm_Idn', 'original_firstorder_Minimum', 'original_glrlm_RunPercentage', 'original_glrlm_GrayLevelNonUniformity', 'original_glcm_Idmn', 'Nstage', 'original_glcm_JointEnergy']\n",
      "Fitting 5 folds for each of 10 candidates, totalling 50 fits\n"
     ]
    },
    {
     "name": "stderr",
     "output_type": "stream",
     "text": [
      "[Parallel(n_jobs=-1)]: Using backend LokyBackend with 2 concurrent workers.\n",
      "[Parallel(n_jobs=-1)]: Done  46 tasks      | elapsed:  1.2min\n",
      "[Parallel(n_jobs=-1)]: Done  50 out of  50 | elapsed:  1.2min finished\n",
      "/usr/local/lib/python3.6/dist-packages/sklearn/model_selection/_search.py:814: DeprecationWarning: The default of the `iid` parameter will change from True to False in version 0.22 and will be removed in 0.24. This will change numeric results when test-set sizes are unequal.\n",
      "  DeprecationWarning)\n"
     ]
    },
    {
     "name": "stdout",
     "output_type": "stream",
     "text": [
      "CIndex: 0.6405212249255315\n",
      "Model features: ['original_shape_Compactness2', 'SourceDataset_l1', 'original_shape_SurfaceVolumeRatio', 'original_glcm_Idn', 'original_firstorder_Minimum', 'original_glrlm_RunPercentage', 'original_glrlm_GrayLevelNonUniformity', 'original_glcm_Idmn', 'Nstage', 'original_glcm_Id']\n",
      "Fitting 5 folds for each of 10 candidates, totalling 50 fits\n"
     ]
    },
    {
     "name": "stderr",
     "output_type": "stream",
     "text": [
      "[Parallel(n_jobs=-1)]: Using backend LokyBackend with 2 concurrent workers.\n",
      "[Parallel(n_jobs=-1)]: Done  46 tasks      | elapsed:  1.1min\n",
      "[Parallel(n_jobs=-1)]: Done  50 out of  50 | elapsed:  1.1min finished\n"
     ]
    },
    {
     "name": "stdout",
     "output_type": "stream",
     "text": [
      "CIndex: 0.646922268914205\n",
      "Model features: ['original_shape_Compactness2', 'SourceDataset_l1', 'original_shape_SurfaceVolumeRatio', 'original_glcm_Idn', 'original_firstorder_Minimum', 'original_glrlm_RunPercentage', 'original_glrlm_GrayLevelNonUniformity', 'original_glcm_Idmn', 'Nstage', 'original_glcm_Idm']\n",
      "Fitting 5 folds for each of 10 candidates, totalling 50 fits\n"
     ]
    },
    {
     "name": "stderr",
     "output_type": "stream",
     "text": [
      "[Parallel(n_jobs=-1)]: Using backend LokyBackend with 2 concurrent workers.\n",
      "[Parallel(n_jobs=-1)]: Done  46 tasks      | elapsed:   39.9s\n",
      "[Parallel(n_jobs=-1)]: Done  50 out of  50 | elapsed:   41.8s finished\n",
      "/usr/local/lib/python3.6/dist-packages/sklearn/model_selection/_search.py:814: DeprecationWarning: The default of the `iid` parameter will change from True to False in version 0.22 and will be removed in 0.24. This will change numeric results when test-set sizes are unequal.\n",
      "  DeprecationWarning)\n"
     ]
    },
    {
     "name": "stdout",
     "output_type": "stream",
     "text": [
      "CIndex: 0.6519100167711613\n",
      "Model features: ['original_shape_Compactness2', 'SourceDataset_l1', 'original_shape_SurfaceVolumeRatio', 'original_glcm_Idn', 'original_firstorder_Minimum', 'original_glrlm_RunPercentage', 'original_glrlm_GrayLevelNonUniformity', 'original_glcm_Idmn', 'Nstage', 'original_glcm_Imc1']\n",
      "Fitting 5 folds for each of 10 candidates, totalling 50 fits\n"
     ]
    },
    {
     "name": "stderr",
     "output_type": "stream",
     "text": [
      "[Parallel(n_jobs=-1)]: Using backend LokyBackend with 2 concurrent workers.\n",
      "[Parallel(n_jobs=-1)]: Done  46 tasks      | elapsed:   33.1s\n",
      "[Parallel(n_jobs=-1)]: Done  50 out of  50 | elapsed:   34.8s finished\n",
      "/usr/local/lib/python3.6/dist-packages/sklearn/model_selection/_search.py:814: DeprecationWarning: The default of the `iid` parameter will change from True to False in version 0.22 and will be removed in 0.24. This will change numeric results when test-set sizes are unequal.\n",
      "  DeprecationWarning)\n"
     ]
    },
    {
     "name": "stdout",
     "output_type": "stream",
     "text": [
      "CIndex: 0.6597459697370164\n",
      "Model features: ['original_shape_Compactness2', 'SourceDataset_l1', 'original_shape_SurfaceVolumeRatio', 'original_glcm_Idn', 'original_firstorder_Minimum', 'original_glrlm_RunPercentage', 'original_glrlm_GrayLevelNonUniformity', 'original_glcm_Idmn', 'Nstage', 'original_glcm_Imc2']\n",
      "Fitting 5 folds for each of 10 candidates, totalling 50 fits\n"
     ]
    },
    {
     "name": "stderr",
     "output_type": "stream",
     "text": [
      "[Parallel(n_jobs=-1)]: Using backend LokyBackend with 2 concurrent workers.\n",
      "[Parallel(n_jobs=-1)]: Done  46 tasks      | elapsed:   25.2s\n",
      "[Parallel(n_jobs=-1)]: Done  50 out of  50 | elapsed:   27.9s finished\n"
     ]
    },
    {
     "name": "stdout",
     "output_type": "stream",
     "text": [
      "CIndex: 0.6536907389294039\n",
      "Model features: ['original_shape_Compactness2', 'SourceDataset_l1', 'original_shape_SurfaceVolumeRatio', 'original_glcm_Idn', 'original_firstorder_Minimum', 'original_glrlm_RunPercentage', 'original_glrlm_GrayLevelNonUniformity', 'original_glcm_Idmn', 'Nstage', 'original_glrlm_ShortRunEmphasis']\n",
      "Fitting 5 folds for each of 10 candidates, totalling 50 fits\n"
     ]
    },
    {
     "name": "stderr",
     "output_type": "stream",
     "text": [
      "[Parallel(n_jobs=-1)]: Using backend LokyBackend with 2 concurrent workers.\n",
      "[Parallel(n_jobs=-1)]: Done  46 tasks      | elapsed:   40.0s\n",
      "[Parallel(n_jobs=-1)]: Done  50 out of  50 | elapsed:   42.8s finished\n",
      "/usr/local/lib/python3.6/dist-packages/sklearn/model_selection/_search.py:814: DeprecationWarning: The default of the `iid` parameter will change from True to False in version 0.22 and will be removed in 0.24. This will change numeric results when test-set sizes are unequal.\n",
      "  DeprecationWarning)\n"
     ]
    },
    {
     "name": "stdout",
     "output_type": "stream",
     "text": [
      "CIndex: 0.6502592812331731\n",
      "Model features: ['original_shape_Compactness2', 'SourceDataset_l1', 'original_shape_SurfaceVolumeRatio', 'original_glcm_Idn', 'original_firstorder_Minimum', 'original_glrlm_RunPercentage', 'original_glrlm_GrayLevelNonUniformity', 'original_glcm_Idmn', 'Nstage', 'original_glrlm_LongRunEmphasis']\n",
      "Fitting 5 folds for each of 10 candidates, totalling 50 fits\n"
     ]
    },
    {
     "name": "stderr",
     "output_type": "stream",
     "text": [
      "[Parallel(n_jobs=-1)]: Using backend LokyBackend with 2 concurrent workers.\n",
      "[Parallel(n_jobs=-1)]: Done  50 out of  50 | elapsed:  1.2min finished\n",
      "/usr/local/lib/python3.6/dist-packages/sklearn/model_selection/_search.py:814: DeprecationWarning: The default of the `iid` parameter will change from True to False in version 0.22 and will be removed in 0.24. This will change numeric results when test-set sizes are unequal.\n",
      "  DeprecationWarning)\n"
     ]
    },
    {
     "name": "stdout",
     "output_type": "stream",
     "text": [
      "CIndex: 0.644468027499275\n",
      "Model features: ['original_shape_Compactness2', 'SourceDataset_l1', 'original_shape_SurfaceVolumeRatio', 'original_glcm_Idn', 'original_firstorder_Minimum', 'original_glrlm_RunPercentage', 'original_glrlm_GrayLevelNonUniformity', 'original_glcm_Idmn', 'Nstage', 'original_glrlm_ShortRunLowGrayLevelEmphasis']\n",
      "Fitting 5 folds for each of 10 candidates, totalling 50 fits\n"
     ]
    },
    {
     "name": "stderr",
     "output_type": "stream",
     "text": [
      "[Parallel(n_jobs=-1)]: Using backend LokyBackend with 2 concurrent workers.\n",
      "[Parallel(n_jobs=-1)]: Done  46 tasks      | elapsed:   36.1s\n",
      "[Parallel(n_jobs=-1)]: Done  50 out of  50 | elapsed:   38.0s finished\n",
      "/usr/local/lib/python3.6/dist-packages/sklearn/model_selection/_search.py:814: DeprecationWarning: The default of the `iid` parameter will change from True to False in version 0.22 and will be removed in 0.24. This will change numeric results when test-set sizes are unequal.\n",
      "  DeprecationWarning)\n"
     ]
    },
    {
     "name": "stdout",
     "output_type": "stream",
     "text": [
      "CIndex: 0.6507651784777961\n",
      "Model features: ['original_shape_Compactness2', 'SourceDataset_l1', 'original_shape_SurfaceVolumeRatio', 'original_glcm_Idn', 'original_firstorder_Minimum', 'original_glrlm_RunPercentage', 'original_glrlm_GrayLevelNonUniformity', 'original_glcm_Idmn', 'Nstage', 'original_glrlm_LongRunLowGrayLevelEmphasis']\n",
      "Fitting 5 folds for each of 10 candidates, totalling 50 fits\n"
     ]
    },
    {
     "name": "stderr",
     "output_type": "stream",
     "text": [
      "[Parallel(n_jobs=-1)]: Using backend LokyBackend with 2 concurrent workers.\n",
      "[Parallel(n_jobs=-1)]: Done  46 tasks      | elapsed:  1.0min\n",
      "[Parallel(n_jobs=-1)]: Done  50 out of  50 | elapsed:  1.1min finished\n",
      "/usr/local/lib/python3.6/dist-packages/sklearn/model_selection/_search.py:814: DeprecationWarning: The default of the `iid` parameter will change from True to False in version 0.22 and will be removed in 0.24. This will change numeric results when test-set sizes are unequal.\n",
      "  DeprecationWarning)\n"
     ]
    },
    {
     "name": "stdout",
     "output_type": "stream",
     "text": [
      "CIndex: 0.6350950457491924\n",
      "Model features: ['original_shape_Compactness2', 'SourceDataset_l1', 'original_shape_SurfaceVolumeRatio', 'original_glcm_Idn', 'original_firstorder_Minimum', 'original_glrlm_RunPercentage', 'original_glrlm_GrayLevelNonUniformity', 'original_glcm_Idmn', 'Nstage', 'original_glrlm_LongRunHighGrayLevelEmphasis']\n",
      "Fitting 5 folds for each of 10 candidates, totalling 50 fits\n"
     ]
    },
    {
     "name": "stderr",
     "output_type": "stream",
     "text": [
      "[Parallel(n_jobs=-1)]: Using backend LokyBackend with 2 concurrent workers.\n",
      "[Parallel(n_jobs=-1)]: Done  46 tasks      | elapsed:  1.0min\n",
      "[Parallel(n_jobs=-1)]: Done  50 out of  50 | elapsed:  1.0min finished\n"
     ]
    },
    {
     "name": "stdout",
     "output_type": "stream",
     "text": [
      "CIndex: 0.6393357304231814\n",
      "Model features: ['original_shape_Compactness2', 'SourceDataset_l1', 'original_shape_SurfaceVolumeRatio', 'original_glcm_Idn', 'original_firstorder_Minimum', 'original_glrlm_RunPercentage', 'original_glrlm_GrayLevelNonUniformity', 'original_glcm_Idmn', 'Nstage', 'age']\n",
      "Fitting 5 folds for each of 10 candidates, totalling 50 fits\n"
     ]
    },
    {
     "name": "stderr",
     "output_type": "stream",
     "text": [
      "[Parallel(n_jobs=-1)]: Using backend LokyBackend with 2 concurrent workers.\n",
      "[Parallel(n_jobs=-1)]: Done  46 tasks      | elapsed:   30.8s\n",
      "[Parallel(n_jobs=-1)]: Done  50 out of  50 | elapsed:   38.0s finished\n"
     ]
    },
    {
     "name": "stdout",
     "output_type": "stream",
     "text": [
      "CIndex: 0.6517707969889683\n",
      "Model features: ['original_shape_Compactness2', 'SourceDataset_l1', 'original_shape_SurfaceVolumeRatio', 'original_glcm_Idn', 'original_firstorder_Minimum', 'original_glrlm_RunPercentage', 'original_glrlm_GrayLevelNonUniformity', 'original_glcm_Idmn', 'Nstage', 'SourceDataset_l2']\n",
      "Fitting 5 folds for each of 10 candidates, totalling 50 fits\n"
     ]
    },
    {
     "name": "stderr",
     "output_type": "stream",
     "text": [
      "[Parallel(n_jobs=-1)]: Using backend LokyBackend with 2 concurrent workers.\n",
      "[Parallel(n_jobs=-1)]: Done  46 tasks      | elapsed:   59.3s\n",
      "[Parallel(n_jobs=-1)]: Done  50 out of  50 | elapsed:  1.2min finished\n",
      "/usr/local/lib/python3.6/dist-packages/sklearn/model_selection/_search.py:814: DeprecationWarning: The default of the `iid` parameter will change from True to False in version 0.22 and will be removed in 0.24. This will change numeric results when test-set sizes are unequal.\n",
      "  DeprecationWarning)\n"
     ]
    },
    {
     "name": "stdout",
     "output_type": "stream",
     "text": [
      "CIndex: 0.64946705354424\n",
      "Selected new growing feature: original_shape_SphericalDisproportion\n",
      "\n"
     ]
    },
    {
     "data": {
      "text/plain": [
       "(['original_shape_Compactness2',\n",
       "  'SourceDataset_l1',\n",
       "  'original_shape_SurfaceVolumeRatio',\n",
       "  'original_glcm_Idn',\n",
       "  'original_firstorder_Minimum',\n",
       "  'original_glrlm_RunPercentage',\n",
       "  'original_glrlm_GrayLevelNonUniformity',\n",
       "  'original_glcm_Idmn',\n",
       "  'Nstage',\n",
       "  'original_shape_SphericalDisproportion'],\n",
       " [0.668255125000726,\n",
       "  0.6705034984625279,\n",
       "  0.6631818323582115,\n",
       "  0.6700353526862737,\n",
       "  0.6768835309749677,\n",
       "  0.6731385245399564,\n",
       "  0.6658012216968485,\n",
       "  0.6743567424996522,\n",
       "  0.6631660349615801,\n",
       "  0.6734926653581707])"
      ]
     },
     "execution_count": 144,
     "metadata": {
      "tags": []
     },
     "output_type": "execute_result"
    }
   ],
   "source": [
    "import copy\n",
    "max_features = 10\n",
    "selected_features = []\n",
    "remaining_features = copy.deepcopy(feature_name)\n",
    "\n",
    "hyperparams = {\"n_estimators\": [10, 50, 100, 200, 500],\n",
    "                \"min_samples_split\": [2, 5, 10, 20, 40],\n",
    "                \"min_samples_leaf\": [1, 2, 4, 8, 16]\n",
    "                }\n",
    "\n",
    "score = []\n",
    "for i in range(max_features):\n",
    "    print(f'Growing {i+1}-th feature...\\n')\n",
    "    new_feature, new_score = best_growing_features(selected_features, remaining_features, hyperparams)\n",
    "    score.append(new_score)\n",
    "    selected_features.append(new_feature)\n",
    "    remaining_features.remove(new_feature)\n",
    "    print('Selected new growing feature: ' + new_feature + '\\n')\n",
    "selected_features, score"
   ]
  },
  {
   "cell_type": "markdown",
   "metadata": {
    "id": "LYRHHcaJz6QM",
    "colab_type": "text"
   },
   "source": [
    "# Appendix"
   ]
  },
  {
   "cell_type": "code",
   "execution_count": 0,
   "metadata": {
    "id": "gRkra8-v3lXC",
    "colab_type": "code",
    "colab": {}
   },
   "outputs": [],
   "source": [
    "from sklearn.model_selection import train_test_split\n",
    "X_train, X_test, y_train, y_test = train_test_split(X, y, test_size=0.25)"
   ]
  },
  {
   "cell_type": "code",
   "execution_count": 0,
   "metadata": {
    "id": "isykVcwa3lXH",
    "colab_type": "code",
    "outputId": "0243e765-70c7-4715-95cc-cc6b6432c0c7",
    "colab": {
     "base_uri": "https://localhost:8080/",
     "height": 34.0
    }
   },
   "outputs": [
    {
     "data": {
      "text/plain": [
       "0.639361154044307"
      ]
     },
     "execution_count": 17,
     "metadata": {
      "tags": []
     },
     "output_type": "execute_result"
    }
   ],
   "source": [
    "rsf = RandomSurvivalForest(n_estimators=1000,\n",
    "                           min_samples_split=10,\n",
    "                           min_samples_leaf=15,\n",
    "                           max_features=\"sqrt\",\n",
    "                           n_jobs=-1)\n",
    "rsf.fit(X_train, y_train)\n",
    "rsf.score(X_test, y_test)"
   ]
  },
  {
   "cell_type": "code",
   "execution_count": 0,
   "metadata": {
    "id": "ao6CazyX3lXR",
    "colab_type": "code",
    "outputId": "04030e56-85fc-41cc-e006-b3491e4a8d04",
    "colab": {}
   },
   "outputs": [
    {
     "ename": "AttributeError",
     "evalue": "'PermutationImportance' object has no attribute 'feature_importances_'",
     "traceback": [
      "\u001b[0;31m---------------------------------------------------------------------------\u001b[0m",
      "\u001b[0;31mAttributeError\u001b[0m                            Traceback (most recent call last)",
      "\u001b[0;32m<ipython-input-35-a2ef83e007ff>\u001b[0m in \u001b[0;36m<module>\u001b[0;34m\u001b[0m\n\u001b[0;32m----> 1\u001b[0;31m \u001b[0mnp\u001b[0m\u001b[0;34m.\u001b[0m\u001b[0msave\u001b[0m\u001b[0;34m(\u001b[0m\u001b[0;34m[\u001b[0m\u001b[0mfeature_name\u001b[0m\u001b[0;34m,\u001b[0m \u001b[0mperm\u001b[0m\u001b[0;34m.\u001b[0m\u001b[0mfeature_importances_\u001b[0m\u001b[0;34m,\u001b[0m \u001b[0mperm\u001b[0m\u001b[0;34m.\u001b[0m\u001b[0mfeature_importances_std_\u001b[0m\u001b[0;34m]\u001b[0m\u001b[0;34m,\u001b[0m \u001b[0;34m\"feature_importance\"\u001b[0m\u001b[0;34m)\u001b[0m\u001b[0;34m\u001b[0m\u001b[0;34m\u001b[0m\u001b[0m\n\u001b[0m",
      "\u001b[0;31mAttributeError\u001b[0m: 'PermutationImportance' object has no attribute 'feature_importances_'"
     ],
     "output_type": "error"
    }
   ],
   "source": [
    "np.save([feature_name, perm.feature_importances_, perm.feature_importances_std_], \"feature_importance\")"
   ]
  },
  {
   "cell_type": "code",
   "execution_count": 0,
   "metadata": {
    "id": "VIya2iAQ3lXW",
    "colab_type": "code",
    "outputId": "409765e1-45ca-4109-b5d6-5ca92ff4ff7d",
    "colab": {}
   },
   "outputs": [
    {
     "data": {
      "text/plain": [
       "['original_glcm_Idn',\n",
       " 'original_glcm_Idmn',\n",
       " 'Nstage',\n",
       " 'age',\n",
       " 'original_shape_VoxelVolume',\n",
       " 'original_glrlm_RunLengthNonUniformity',\n",
       " 'original_firstorder_Energy',\n",
       " 'SourceDataset_l1',\n",
       " 'original_glcm_Imc1',\n",
       " 'original_glrlm_ShortRunEmphasis']"
      ]
     },
     "execution_count": 22,
     "metadata": {
      "tags": []
     },
     "output_type": "execute_result"
    }
   ],
   "source": [
    "best_indices = np.flip(np.argsort(perm.feature_importances_))[:10]\n",
    "best_features = [feature_name[i] for i in best_indices]\n",
    "best_features"
   ]
  },
  {
   "cell_type": "code",
   "execution_count": 0,
   "metadata": {
    "id": "bSuOlY6j3lXb",
    "colab_type": "code",
    "outputId": "555bf4ef-f40d-4666-ff5c-6e73977f2f6d",
    "colab": {}
   },
   "outputs": [
    {
     "data": {
      "text/plain": [
       "['original_glcm_Idn',\n",
       " 'original_glcm_Idmn',\n",
       " 'Nstage',\n",
       " 'age',\n",
       " 'original_shape_VoxelVolume',\n",
       " 'original_glrlm_RunLengthNonUniformity',\n",
       " 'original_firstorder_Energy',\n",
       " 'SourceDataset_l1',\n",
       " 'original_glcm_Imc1',\n",
       " 'original_glrlm_ShortRunEmphasis']"
      ]
     },
     "execution_count": 3,
     "metadata": {
      "tags": []
     },
     "output_type": "execute_result"
    }
   ],
   "source": [
    "best_features = ['original_glcm_Idn',\n",
    " 'original_glcm_Idmn',\n",
    " 'Nstage',\n",
    " 'age',\n",
    " 'original_shape_VoxelVolume',\n",
    " 'original_glrlm_RunLengthNonUniformity',\n",
    " 'original_firstorder_Energy',\n",
    " 'SourceDataset_l1',\n",
    " 'original_glcm_Imc1',\n",
    " 'original_glrlm_ShortRunEmphasis']\n",
    "best_features"
   ]
  },
  {
   "cell_type": "code",
   "execution_count": 0,
   "metadata": {
    "id": "kcUEwLA_3lXf",
    "colab_type": "code",
    "outputId": "9cde8157-7b23-4e98-b41b-850e51d4a3d8",
    "colab": {}
   },
   "outputs": [
    {
     "data": {
      "text/plain": [
       "['original_glcm_Idn',\n",
       " 'original_glcm_Idmn',\n",
       " 'Nstage',\n",
       " 'age',\n",
       " 'original_shape_VoxelVolume',\n",
       " 'original_glrlm_RunLengthNonUniformity',\n",
       " 'original_firstorder_Energy',\n",
       " 'SourceDataset_l1',\n",
       " 'original_glcm_Imc1',\n",
       " 'original_glrlm_ShortRunEmphasis']"
      ]
     },
     "execution_count": 4,
     "metadata": {
      "tags": []
     },
     "output_type": "execute_result"
    }
   ],
   "source": [
    "import read_data\n",
    "X_best_df = X_df[best_features]\n",
    "X_best = X_best_df.to_numpy()\n",
    "list(X_df[best_features].columns.values)"
   ]
  },
  {
   "cell_type": "code",
   "execution_count": 0,
   "metadata": {
    "id": "qXtbSHyO3lXj",
    "colab_type": "code",
    "colab": {}
   },
   "outputs": [],
   "source": [
    "from sklearn.model_selection import train_test_split\n",
    "random_state = 20\n",
    "X_best_train_df, X_best_test_df, y_train_df, y_test_df = train_test_split(X_best_df, y_df, test_size=0.25, random_state=random_state)"
   ]
  },
  {
   "cell_type": "code",
   "execution_count": 0,
   "metadata": {
    "id": "QKZdjEqh3lXn",
    "colab_type": "code",
    "outputId": "56cacb5e-a430-4af6-9715-360fb0392fa3",
    "colab": {}
   },
   "outputs": [
    {
     "name": "stderr",
     "output_type": "stream",
     "text": [
      "/home/leon/anaconda3/envs/std/lib/python3.7/importlib/_bootstrap.py:219: RuntimeWarning: sklearn.tree._splitter.Splitter size changed, may indicate binary incompatibility. Expected 360 from C header, got 368 from PyObject\n",
      "  return f(*args, **kwds)\n"
     ]
    },
    {
     "data": {
      "text/plain": [
       "0.7404306220095693"
      ]
     },
     "execution_count": 6,
     "metadata": {
      "tags": []
     },
     "output_type": "execute_result"
    }
   ],
   "source": [
    "from sksurv.ensemble import RandomSurvivalForest\n",
    "rsf = RandomSurvivalForest(n_estimators=1000,\n",
    "                           min_samples_split=10,\n",
    "                           min_samples_leaf=15,\n",
    "                           max_features=\"sqrt\",\n",
    "                           n_jobs=-1,\n",
    "                           random_state=random_state)\n",
    "\n",
    "X_best_train = X_best_train_df.to_numpy()\n",
    "y_train = y_dataframe_to_rsf_input(y_train_df)\n",
    "X_best_test = X_best_test_df.to_numpy()\n",
    "y_test = y_dataframe_to_rsf_input(y_test_df)\n",
    "\n",
    "rsf.fit(X_best_train, y_train)\n",
    "rsf.score(X_best_test, y_test)"
   ]
  },
  {
   "cell_type": "markdown",
   "metadata": {
    "id": "PfnwfxZk3lXr",
    "colab_type": "text"
   },
   "source": [
    "Cross validation"
   ]
  },
  {
   "cell_type": "code",
   "execution_count": 0,
   "metadata": {
    "id": "r3wqARnI3lXt",
    "colab_type": "code",
    "outputId": "58b9878e-610d-4edd-c87a-a7eca44a85d4",
    "colab": {}
   },
   "outputs": [
    {
     "data": {
      "text/plain": [
       "{'fit_time': array([2.99259663, 1.20549083, 1.13966799, 1.31296301, 1.22523999]),\n",
       " 'score_time': array([0.20998502, 0.2038331 , 0.20748258, 0.20694542, 0.20662284]),\n",
       " 'test_score': array([0.71166667, 0.69576491, 0.60574621, 0.6993865 , 0.69255663])}"
      ]
     },
     "execution_count": 7,
     "metadata": {
      "tags": []
     },
     "output_type": "execute_result"
    }
   ],
   "source": [
    "from sklearn.model_selection import cross_validate\n",
    "cross_validate(rsf, X_best, y, cv=5)"
   ]
  },
  {
   "cell_type": "markdown",
   "metadata": {
    "id": "01OZT1Oj3lXx",
    "colab_type": "text"
   },
   "source": [
    "Prediction: trying on the training - testing set split"
   ]
  },
  {
   "cell_type": "code",
   "execution_count": 0,
   "metadata": {
    "id": "ViCKNjGA3lXy",
    "colab_type": "code",
    "outputId": "a35b2f0e-2f93-492b-9188-f073cc039579",
    "colab": {}
   },
   "outputs": [
    {
     "name": "stdout",
     "output_type": "stream",
     "text": [
      "71\n"
     ]
    },
    {
     "data": {
      "image/png": "[encoded data removed]",
      "text/plain": [
       "<Figure size 432x288 with 1 Axes>"
      ]
     },
     "metadata": {
      "tags": [],
      "needs_background": "light"
     },
     "output_type": "display_data"
    }
   ],
   "source": [
    "surv = rsf.predict_survival_function(X_best_test)\n",
    "print(len(surv))\n",
    "\n",
    "for i, s in enumerate(surv):\n",
    "    plt.step(rsf.event_times_, s, where=\"post\", label=str(i))\n",
    "plt.ylabel(\"Survival probability\")\n",
    "plt.xlabel(\"Time in days\")\n",
    "plt.grid(True)"
   ]
  },
  {
   "cell_type": "code",
   "execution_count": 0,
   "metadata": {
    "id": "5ggAP5BX3lX3",
    "colab_type": "code",
    "outputId": "e36ae095-3746-4d10-eeae-6b17f8d45094",
    "colab": {}
   },
   "outputs": [
    {
     "data": {
      "text/html": [
       "<div>\n",
       "<style scoped>\n",
       "    .dataframe tbody tr th:only-of-type {\n",
       "        vertical-align: middle;\n",
       "    }\n",
       "\n",
       "    .dataframe tbody tr th {\n",
       "        vertical-align: top;\n",
       "    }\n",
       "\n",
       "    .dataframe thead th {\n",
       "        text-align: right;\n",
       "    }\n",
       "</style>\n",
       "<table border=\"1\" class=\"dataframe\">\n",
       "  <thead>\n",
       "    <tr style=\"text-align: right;\">\n",
       "      <th></th>\n",
       "      <th>SurvivalTime</th>\n",
       "      <th>Event</th>\n",
       "    </tr>\n",
       "    <tr>\n",
       "      <th>PatientID</th>\n",
       "      <th></th>\n",
       "      <th></th>\n",
       "    </tr>\n",
       "  </thead>\n",
       "  <tbody>\n",
       "    <tr>\n",
       "      <td>161</td>\n",
       "      <td>131.0</td>\n",
       "      <td>NaN</td>\n",
       "    </tr>\n",
       "    <tr>\n",
       "      <td>112</td>\n",
       "      <td>85.0</td>\n",
       "      <td>NaN</td>\n",
       "    </tr>\n",
       "    <tr>\n",
       "      <td>159</td>\n",
       "      <td>79.0</td>\n",
       "      <td>NaN</td>\n",
       "    </tr>\n",
       "    <tr>\n",
       "      <td>88</td>\n",
       "      <td>104.0</td>\n",
       "      <td>NaN</td>\n",
       "    </tr>\n",
       "    <tr>\n",
       "      <td>5</td>\n",
       "      <td>131.0</td>\n",
       "      <td>NaN</td>\n",
       "    </tr>\n",
       "    <tr>\n",
       "      <td>...</td>\n",
       "      <td>...</td>\n",
       "      <td>...</td>\n",
       "    </tr>\n",
       "    <tr>\n",
       "      <td>416</td>\n",
       "      <td>98.0</td>\n",
       "      <td>NaN</td>\n",
       "    </tr>\n",
       "    <tr>\n",
       "      <td>343</td>\n",
       "      <td>132.0</td>\n",
       "      <td>NaN</td>\n",
       "    </tr>\n",
       "    <tr>\n",
       "      <td>193</td>\n",
       "      <td>319.0</td>\n",
       "      <td>NaN</td>\n",
       "    </tr>\n",
       "    <tr>\n",
       "      <td>77</td>\n",
       "      <td>193.0</td>\n",
       "      <td>NaN</td>\n",
       "    </tr>\n",
       "    <tr>\n",
       "      <td>78</td>\n",
       "      <td>131.0</td>\n",
       "      <td>NaN</td>\n",
       "    </tr>\n",
       "  </tbody>\n",
       "</table>\n",
       "<p>71 rows × 2 columns</p>\n",
       "</div>"
      ],
      "text/plain": [
       "           SurvivalTime  Event\n",
       "PatientID                     \n",
       "161               131.0    NaN\n",
       "112                85.0    NaN\n",
       "159                79.0    NaN\n",
       "88                104.0    NaN\n",
       "5                 131.0    NaN\n",
       "...                 ...    ...\n",
       "416                98.0    NaN\n",
       "343               132.0    NaN\n",
       "193               319.0    NaN\n",
       "77                193.0    NaN\n",
       "78                131.0    NaN\n",
       "\n",
       "[71 rows x 2 columns]"
      ]
     },
     "execution_count": 9,
     "metadata": {
      "tags": []
     },
     "output_type": "execute_result"
    }
   ],
   "source": [
    "def predict(model, x, x_df, time, threshold = 0.89):\n",
    "    surv = model.predict_survival_function(x)\n",
    "    y_pred = []\n",
    "    for s in surv:\n",
    "        i_pred = 0\n",
    "        while i_pred < len(s) - 1 and s[i_pred] > threshold:\n",
    "            i_pred += 1\n",
    "        y_pred.append(time[i_pred])\n",
    "    return pd.DataFrame(np.array([[y, np.nan] for y in y_pred]), index=x_df.index, columns=['SurvivalTime', 'Event'])\n",
    "\n",
    "y_pred = predict(rsf, X_best_test, X_best_test_df, rsf.event_times_)\n",
    "y_pred"
   ]
  },
  {
   "cell_type": "code",
   "execution_count": 0,
   "metadata": {
    "id": "Q6j7oQKv3lX8",
    "colab_type": "code",
    "outputId": "8ee2f2e0-df71-428f-daf7-379eb7577ac3",
    "colab": {}
   },
   "outputs": [
    {
     "data": {
      "text/plain": [
       "0.7143712574807524"
      ]
     },
     "execution_count": 10,
     "metadata": {
      "tags": []
     },
     "output_type": "execute_result"
    }
   ],
   "source": [
    "from metrics import cindex\n",
    "cindex(y_test_df, y_pred)"
   ]
  },
  {
   "cell_type": "markdown",
   "metadata": {
    "id": "yo5dgc5N3lYA",
    "colab_type": "text"
   },
   "source": [
    "Submission"
   ]
  },
  {
   "cell_type": "code",
   "execution_count": 0,
   "metadata": {
    "id": "jfWsXTZ23lYB",
    "colab_type": "code",
    "outputId": "8db125ac-b260-4dac-a7e2-36aa5eec9e48",
    "colab": {}
   },
   "outputs": [
    {
     "data": {
      "text/plain": [
       "RandomSurvivalForest(bootstrap=True, max_depth=None, max_features='sqrt',\n",
       "                     max_leaf_nodes=None, min_samples_leaf=15,\n",
       "                     min_samples_split=10, min_weight_fraction_leaf=0.0,\n",
       "                     n_estimators=1000, n_jobs=-1, oob_score=False,\n",
       "                     random_state=20, verbose=0, warm_start=False)"
      ]
     },
     "execution_count": 24,
     "metadata": {
      "tags": []
     },
     "output_type": "execute_result"
    }
   ],
   "source": [
    "rsf.fit(X_best, y)"
   ]
  },
  {
   "cell_type": "code",
   "execution_count": 0,
   "metadata": {
    "id": "LK2tBPbx3lYG",
    "colab_type": "code",
    "outputId": "6f61915e-0dcb-4777-e9f4-347a0d5bc50f",
    "colab": {}
   },
   "outputs": [
    {
     "data": {
      "text/html": [
       "<div>\n",
       "<style scoped>\n",
       "    .dataframe tbody tr th:only-of-type {\n",
       "        vertical-align: middle;\n",
       "    }\n",
       "\n",
       "    .dataframe tbody tr th {\n",
       "        vertical-align: top;\n",
       "    }\n",
       "\n",
       "    .dataframe thead th {\n",
       "        text-align: right;\n",
       "    }\n",
       "</style>\n",
       "<table border=\"1\" class=\"dataframe\">\n",
       "  <thead>\n",
       "    <tr style=\"text-align: right;\">\n",
       "      <th></th>\n",
       "      <th>original_glcm_Idn</th>\n",
       "      <th>original_glcm_Idmn</th>\n",
       "      <th>Nstage</th>\n",
       "      <th>age</th>\n",
       "      <th>original_shape_VoxelVolume</th>\n",
       "      <th>original_glrlm_RunLengthNonUniformity</th>\n",
       "      <th>original_firstorder_Energy</th>\n",
       "      <th>SourceDataset_l1</th>\n",
       "      <th>original_glcm_Imc1</th>\n",
       "      <th>original_glrlm_ShortRunEmphasis</th>\n",
       "    </tr>\n",
       "    <tr>\n",
       "      <th>PatientID</th>\n",
       "      <th></th>\n",
       "      <th></th>\n",
       "      <th></th>\n",
       "      <th></th>\n",
       "      <th></th>\n",
       "      <th></th>\n",
       "      <th></th>\n",
       "      <th></th>\n",
       "      <th></th>\n",
       "      <th></th>\n",
       "    </tr>\n",
       "  </thead>\n",
       "  <tbody>\n",
       "    <tr>\n",
       "      <td>13</td>\n",
       "      <td>0.984980</td>\n",
       "      <td>0.999197</td>\n",
       "      <td>0</td>\n",
       "      <td>44.3970</td>\n",
       "      <td>254069.0</td>\n",
       "      <td>64776.697579</td>\n",
       "      <td>2.006942e+09</td>\n",
       "      <td>1</td>\n",
       "      <td>-0.306548</td>\n",
       "      <td>0.686184</td>\n",
       "    </tr>\n",
       "    <tr>\n",
       "      <td>155</td>\n",
       "      <td>0.891016</td>\n",
       "      <td>0.974940</td>\n",
       "      <td>3</td>\n",
       "      <td>63.3183</td>\n",
       "      <td>911.0</td>\n",
       "      <td>795.675280</td>\n",
       "      <td>2.623938e+08</td>\n",
       "      <td>1</td>\n",
       "      <td>-0.244386</td>\n",
       "      <td>0.966275</td>\n",
       "    </tr>\n",
       "    <tr>\n",
       "      <td>404</td>\n",
       "      <td>0.973099</td>\n",
       "      <td>0.996769</td>\n",
       "      <td>2</td>\n",
       "      <td>64.7255</td>\n",
       "      <td>39809.0</td>\n",
       "      <td>14007.509285</td>\n",
       "      <td>6.650322e+08</td>\n",
       "      <td>1</td>\n",
       "      <td>-0.241592</td>\n",
       "      <td>0.763929</td>\n",
       "    </tr>\n",
       "    <tr>\n",
       "      <td>407</td>\n",
       "      <td>0.970611</td>\n",
       "      <td>0.996313</td>\n",
       "      <td>0</td>\n",
       "      <td>65.3635</td>\n",
       "      <td>14458.0</td>\n",
       "      <td>6094.805584</td>\n",
       "      <td>3.754287e+08</td>\n",
       "      <td>1</td>\n",
       "      <td>-0.239166</td>\n",
       "      <td>0.791925</td>\n",
       "    </tr>\n",
       "    <tr>\n",
       "      <td>9</td>\n",
       "      <td>0.904510</td>\n",
       "      <td>0.978024</td>\n",
       "      <td>0</td>\n",
       "      <td>50.0000</td>\n",
       "      <td>18942.0</td>\n",
       "      <td>15924.101510</td>\n",
       "      <td>9.108915e+09</td>\n",
       "      <td>0</td>\n",
       "      <td>-0.087334</td>\n",
       "      <td>0.956571</td>\n",
       "    </tr>\n",
       "    <tr>\n",
       "      <td>...</td>\n",
       "      <td>...</td>\n",
       "      <td>...</td>\n",
       "      <td>...</td>\n",
       "      <td>...</td>\n",
       "      <td>...</td>\n",
       "      <td>...</td>\n",
       "      <td>...</td>\n",
       "      <td>...</td>\n",
       "      <td>...</td>\n",
       "      <td>...</td>\n",
       "    </tr>\n",
       "    <tr>\n",
       "      <td>66</td>\n",
       "      <td>0.988427</td>\n",
       "      <td>0.999585</td>\n",
       "      <td>2</td>\n",
       "      <td>70.7077</td>\n",
       "      <td>147333.0</td>\n",
       "      <td>64292.661837</td>\n",
       "      <td>4.677261e+09</td>\n",
       "      <td>1</td>\n",
       "      <td>-0.331101</td>\n",
       "      <td>0.801772</td>\n",
       "    </tr>\n",
       "    <tr>\n",
       "      <td>132</td>\n",
       "      <td>0.969797</td>\n",
       "      <td>0.995251</td>\n",
       "      <td>3</td>\n",
       "      <td>51.1595</td>\n",
       "      <td>61130.0</td>\n",
       "      <td>18707.945523</td>\n",
       "      <td>2.332008e+09</td>\n",
       "      <td>1</td>\n",
       "      <td>-0.291445</td>\n",
       "      <td>0.747388</td>\n",
       "    </tr>\n",
       "    <tr>\n",
       "      <td>169</td>\n",
       "      <td>0.938707</td>\n",
       "      <td>0.990300</td>\n",
       "      <td>1</td>\n",
       "      <td>70.0000</td>\n",
       "      <td>9795.0</td>\n",
       "      <td>6995.460108</td>\n",
       "      <td>2.036047e+08</td>\n",
       "      <td>0</td>\n",
       "      <td>-0.069610</td>\n",
       "      <td>0.916743</td>\n",
       "    </tr>\n",
       "    <tr>\n",
       "      <td>199</td>\n",
       "      <td>0.966520</td>\n",
       "      <td>0.995673</td>\n",
       "      <td>3</td>\n",
       "      <td>70.5106</td>\n",
       "      <td>5957.0</td>\n",
       "      <td>2148.280752</td>\n",
       "      <td>8.054723e+07</td>\n",
       "      <td>1</td>\n",
       "      <td>-0.298580</td>\n",
       "      <td>0.756837</td>\n",
       "    </tr>\n",
       "    <tr>\n",
       "      <td>274</td>\n",
       "      <td>0.976610</td>\n",
       "      <td>0.997712</td>\n",
       "      <td>0</td>\n",
       "      <td>80.2245</td>\n",
       "      <td>123864.0</td>\n",
       "      <td>39128.630800</td>\n",
       "      <td>4.095957e+09</td>\n",
       "      <td>1</td>\n",
       "      <td>-0.324802</td>\n",
       "      <td>0.748313</td>\n",
       "    </tr>\n",
       "  </tbody>\n",
       "</table>\n",
       "<p>125 rows × 10 columns</p>\n",
       "</div>"
      ],
      "text/plain": [
       "           original_glcm_Idn  original_glcm_Idmn  Nstage      age  \\\n",
       "PatientID                                                           \n",
       "13                  0.984980            0.999197       0  44.3970   \n",
       "155                 0.891016            0.974940       3  63.3183   \n",
       "404                 0.973099            0.996769       2  64.7255   \n",
       "407                 0.970611            0.996313       0  65.3635   \n",
       "9                   0.904510            0.978024       0  50.0000   \n",
       "...                      ...                 ...     ...      ...   \n",
       "66                  0.988427            0.999585       2  70.7077   \n",
       "132                 0.969797            0.995251       3  51.1595   \n",
       "169                 0.938707            0.990300       1  70.0000   \n",
       "199                 0.966520            0.995673       3  70.5106   \n",
       "274                 0.976610            0.997712       0  80.2245   \n",
       "\n",
       "           original_shape_VoxelVolume  original_glrlm_RunLengthNonUniformity  \\\n",
       "PatientID                                                                      \n",
       "13                           254069.0                           64776.697579   \n",
       "155                             911.0                             795.675280   \n",
       "404                           39809.0                           14007.509285   \n",
       "407                           14458.0                            6094.805584   \n",
       "9                             18942.0                           15924.101510   \n",
       "...                               ...                                    ...   \n",
       "66                           147333.0                           64292.661837   \n",
       "132                           61130.0                           18707.945523   \n",
       "169                            9795.0                            6995.460108   \n",
       "199                            5957.0                            2148.280752   \n",
       "274                          123864.0                           39128.630800   \n",
       "\n",
       "           original_firstorder_Energy  SourceDataset_l1  original_glcm_Imc1  \\\n",
       "PatientID                                                                     \n",
       "13                       2.006942e+09                 1           -0.306548   \n",
       "155                      2.623938e+08                 1           -0.244386   \n",
       "404                      6.650322e+08                 1           -0.241592   \n",
       "407                      3.754287e+08                 1           -0.239166   \n",
       "9                        9.108915e+09                 0           -0.087334   \n",
       "...                               ...               ...                 ...   \n",
       "66                       4.677261e+09                 1           -0.331101   \n",
       "132                      2.332008e+09                 1           -0.291445   \n",
       "169                      2.036047e+08                 0           -0.069610   \n",
       "199                      8.054723e+07                 1           -0.298580   \n",
       "274                      4.095957e+09                 1           -0.324802   \n",
       "\n",
       "           original_glrlm_ShortRunEmphasis  \n",
       "PatientID                                   \n",
       "13                                0.686184  \n",
       "155                               0.966275  \n",
       "404                               0.763929  \n",
       "407                               0.791925  \n",
       "9                                 0.956571  \n",
       "...                                    ...  \n",
       "66                                0.801772  \n",
       "132                               0.747388  \n",
       "169                               0.916743  \n",
       "199                               0.756837  \n",
       "274                               0.748313  \n",
       "\n",
       "[125 rows x 10 columns]"
      ]
     },
     "execution_count": 16,
     "metadata": {
      "tags": []
     },
     "output_type": "execute_result"
    }
   ],
   "source": [
    "from read_data import load_submission\n",
    "X_submission_df = load_submission(best_features)\n",
    "X_submission_df"
   ]
  },
  {
   "cell_type": "code",
   "execution_count": 0,
   "metadata": {
    "id": "75Majrav3lYJ",
    "colab_type": "code",
    "outputId": "de3c3f56-acf6-4c60-83c7-6f2248021dde",
    "colab": {}
   },
   "outputs": [
    {
     "name": "stdout",
     "output_type": "stream",
     "text": [
      "[[False False False ... False False False]\n",
      " [False False False ... False False False]\n",
      " [False False False ... False False False]\n",
      " ...\n",
      " [False False False ... False False False]\n",
      " [False False False ... False False False]\n",
      " [False False False ... False False False]]\n"
     ]
    },
    {
     "ename": "ValueError",
     "evalue": "Input contains NaN, infinity or a value too large for dtype('float32').",
     "traceback": [
      "\u001b[0;31m---------------------------------------------------------------------------\u001b[0m",
      "\u001b[0;31mValueError\u001b[0m                                Traceback (most recent call last)",
      "\u001b[0;32m<ipython-input-23-0595d60484f3>\u001b[0m in \u001b[0;36m<module>\u001b[0;34m\u001b[0m\n\u001b[1;32m      1\u001b[0m \u001b[0mX_submission\u001b[0m \u001b[0;34m=\u001b[0m \u001b[0mX_submission_df\u001b[0m\u001b[0;34m.\u001b[0m\u001b[0mto_numpy\u001b[0m\u001b[0;34m(\u001b[0m\u001b[0;34m)\u001b[0m\u001b[0;34m\u001b[0m\u001b[0;34m\u001b[0m\u001b[0m\n\u001b[1;32m      2\u001b[0m \u001b[0mprint\u001b[0m\u001b[0;34m(\u001b[0m\u001b[0mX_submission\u001b[0m \u001b[0;34m==\u001b[0m \u001b[0mnp\u001b[0m\u001b[0;34m.\u001b[0m\u001b[0mnan\u001b[0m\u001b[0;34m)\u001b[0m\u001b[0;34m\u001b[0m\u001b[0;34m\u001b[0m\u001b[0m\n\u001b[0;32m----> 3\u001b[0;31m \u001b[0my_pred\u001b[0m \u001b[0;34m=\u001b[0m \u001b[0mpredict\u001b[0m\u001b[0;34m(\u001b[0m\u001b[0mrsf\u001b[0m\u001b[0;34m,\u001b[0m \u001b[0mX_submission\u001b[0m\u001b[0;34m,\u001b[0m \u001b[0mX_submission_df\u001b[0m\u001b[0;34m,\u001b[0m \u001b[0mrsf\u001b[0m\u001b[0;34m.\u001b[0m\u001b[0mevent_times_\u001b[0m\u001b[0;34m)\u001b[0m\u001b[0;34m\u001b[0m\u001b[0;34m\u001b[0m\u001b[0m\n\u001b[0m\u001b[1;32m      4\u001b[0m \u001b[0my_pred\u001b[0m\u001b[0;34m\u001b[0m\u001b[0;34m\u001b[0m\u001b[0m\n",
      "\u001b[0;32m<ipython-input-9-5af518e54bd6>\u001b[0m in \u001b[0;36mpredict\u001b[0;34m(model, x, x_df, time, threshold)\u001b[0m\n\u001b[1;32m      1\u001b[0m \u001b[0;32mdef\u001b[0m \u001b[0mpredict\u001b[0m\u001b[0;34m(\u001b[0m\u001b[0mmodel\u001b[0m\u001b[0;34m,\u001b[0m \u001b[0mx\u001b[0m\u001b[0;34m,\u001b[0m \u001b[0mx_df\u001b[0m\u001b[0;34m,\u001b[0m \u001b[0mtime\u001b[0m\u001b[0;34m,\u001b[0m \u001b[0mthreshold\u001b[0m \u001b[0;34m=\u001b[0m \u001b[0;36m0.89\u001b[0m\u001b[0;34m)\u001b[0m\u001b[0;34m:\u001b[0m\u001b[0;34m\u001b[0m\u001b[0;34m\u001b[0m\u001b[0m\n\u001b[0;32m----> 2\u001b[0;31m     \u001b[0msurv\u001b[0m \u001b[0;34m=\u001b[0m \u001b[0mmodel\u001b[0m\u001b[0;34m.\u001b[0m\u001b[0mpredict_survival_function\u001b[0m\u001b[0;34m(\u001b[0m\u001b[0mx\u001b[0m\u001b[0;34m)\u001b[0m\u001b[0;34m\u001b[0m\u001b[0;34m\u001b[0m\u001b[0m\n\u001b[0m\u001b[1;32m      3\u001b[0m     \u001b[0my_pred\u001b[0m \u001b[0;34m=\u001b[0m \u001b[0;34m[\u001b[0m\u001b[0;34m]\u001b[0m\u001b[0;34m\u001b[0m\u001b[0;34m\u001b[0m\u001b[0m\n\u001b[1;32m      4\u001b[0m     \u001b[0;32mfor\u001b[0m \u001b[0ms\u001b[0m \u001b[0;32min\u001b[0m \u001b[0msurv\u001b[0m\u001b[0;34m:\u001b[0m\u001b[0;34m\u001b[0m\u001b[0;34m\u001b[0m\u001b[0m\n\u001b[1;32m      5\u001b[0m         \u001b[0mi_pred\u001b[0m \u001b[0;34m=\u001b[0m \u001b[0;36m0\u001b[0m\u001b[0;34m\u001b[0m\u001b[0;34m\u001b[0m\u001b[0m\n",
      "\u001b[0;32m~/anaconda3/envs/std/lib/python3.7/site-packages/sksurv/ensemble/forest.py\u001b[0m in \u001b[0;36mpredict_survival_function\u001b[0;34m(self, X)\u001b[0m\n\u001b[1;32m    418\u001b[0m             \u001b[0mPredicted\u001b[0m \u001b[0msurvival\u001b[0m \u001b[0mfunctions\u001b[0m\u001b[0;34m.\u001b[0m\u001b[0;34m\u001b[0m\u001b[0;34m\u001b[0m\u001b[0m\n\u001b[1;32m    419\u001b[0m         \"\"\"\n\u001b[0;32m--> 420\u001b[0;31m         \u001b[0;32mreturn\u001b[0m \u001b[0mself\u001b[0m\u001b[0;34m.\u001b[0m\u001b[0m_predict\u001b[0m\u001b[0;34m(\u001b[0m\u001b[0;34m\"predict_survival_function\"\u001b[0m\u001b[0;34m,\u001b[0m \u001b[0mX\u001b[0m\u001b[0;34m)\u001b[0m\u001b[0;34m\u001b[0m\u001b[0;34m\u001b[0m\u001b[0m\n\u001b[0m",
      "\u001b[0;32m~/anaconda3/envs/std/lib/python3.7/site-packages/sksurv/ensemble/forest.py\u001b[0m in \u001b[0;36m_predict\u001b[0;34m(self, predict_fn, X)\u001b[0m\n\u001b[1;32m    324\u001b[0m         \u001b[0mcheck_is_fitted\u001b[0m\u001b[0;34m(\u001b[0m\u001b[0mself\u001b[0m\u001b[0;34m,\u001b[0m \u001b[0;34m'estimators_'\u001b[0m\u001b[0;34m)\u001b[0m\u001b[0;34m\u001b[0m\u001b[0;34m\u001b[0m\u001b[0m\n\u001b[1;32m    325\u001b[0m         \u001b[0;31m# Check data\u001b[0m\u001b[0;34m\u001b[0m\u001b[0;34m\u001b[0m\u001b[0;34m\u001b[0m\u001b[0m\n\u001b[0;32m--> 326\u001b[0;31m         \u001b[0mX\u001b[0m \u001b[0;34m=\u001b[0m \u001b[0mself\u001b[0m\u001b[0;34m.\u001b[0m\u001b[0m_validate_X_predict\u001b[0m\u001b[0;34m(\u001b[0m\u001b[0mX\u001b[0m\u001b[0;34m)\u001b[0m\u001b[0;34m\u001b[0m\u001b[0;34m\u001b[0m\u001b[0m\n\u001b[0m\u001b[1;32m    327\u001b[0m \u001b[0;34m\u001b[0m\u001b[0m\n\u001b[1;32m    328\u001b[0m         \u001b[0;31m# Assign chunk of trees to jobs\u001b[0m\u001b[0;34m\u001b[0m\u001b[0;34m\u001b[0m\u001b[0;34m\u001b[0m\u001b[0m\n",
      "\u001b[0;32m~/anaconda3/envs/std/lib/python3.7/site-packages/sklearn/ensemble/forest.py\u001b[0m in \u001b[0;36m_validate_X_predict\u001b[0;34m(self, X)\u001b[0m\n\u001b[1;32m    357\u001b[0m                                  \"call `fit` before exploiting the model.\")\n\u001b[1;32m    358\u001b[0m \u001b[0;34m\u001b[0m\u001b[0m\n\u001b[0;32m--> 359\u001b[0;31m         \u001b[0;32mreturn\u001b[0m \u001b[0mself\u001b[0m\u001b[0;34m.\u001b[0m\u001b[0mestimators_\u001b[0m\u001b[0;34m[\u001b[0m\u001b[0;36m0\u001b[0m\u001b[0;34m]\u001b[0m\u001b[0;34m.\u001b[0m\u001b[0m_validate_X_predict\u001b[0m\u001b[0;34m(\u001b[0m\u001b[0mX\u001b[0m\u001b[0;34m,\u001b[0m \u001b[0mcheck_input\u001b[0m\u001b[0;34m=\u001b[0m\u001b[0;32mTrue\u001b[0m\u001b[0;34m)\u001b[0m\u001b[0;34m\u001b[0m\u001b[0;34m\u001b[0m\u001b[0m\n\u001b[0m\u001b[1;32m    360\u001b[0m \u001b[0;34m\u001b[0m\u001b[0m\n\u001b[1;32m    361\u001b[0m     \u001b[0;34m@\u001b[0m\u001b[0mproperty\u001b[0m\u001b[0;34m\u001b[0m\u001b[0;34m\u001b[0m\u001b[0m\n",
      "\u001b[0;32m~/anaconda3/envs/std/lib/python3.7/site-packages/sksurv/tree/tree.py\u001b[0m in \u001b[0;36m_validate_X_predict\u001b[0;34m(self, X, check_input)\u001b[0m\n\u001b[1;32m    343\u001b[0m         \u001b[0;34m\"\"\"Validate X whenever one tries to predict\"\"\"\u001b[0m\u001b[0;34m\u001b[0m\u001b[0;34m\u001b[0m\u001b[0m\n\u001b[1;32m    344\u001b[0m         \u001b[0;32mif\u001b[0m \u001b[0mcheck_input\u001b[0m\u001b[0;34m:\u001b[0m\u001b[0;34m\u001b[0m\u001b[0;34m\u001b[0m\u001b[0m\n\u001b[0;32m--> 345\u001b[0;31m             \u001b[0mX\u001b[0m \u001b[0;34m=\u001b[0m \u001b[0mcheck_array\u001b[0m\u001b[0;34m(\u001b[0m\u001b[0mX\u001b[0m\u001b[0;34m,\u001b[0m \u001b[0mdtype\u001b[0m\u001b[0;34m=\u001b[0m\u001b[0mDTYPE\u001b[0m\u001b[0;34m)\u001b[0m\u001b[0;34m\u001b[0m\u001b[0;34m\u001b[0m\u001b[0m\n\u001b[0m\u001b[1;32m    346\u001b[0m \u001b[0;34m\u001b[0m\u001b[0m\n\u001b[1;32m    347\u001b[0m         \u001b[0mn_features\u001b[0m \u001b[0;34m=\u001b[0m \u001b[0mX\u001b[0m\u001b[0;34m.\u001b[0m\u001b[0mshape\u001b[0m\u001b[0;34m[\u001b[0m\u001b[0;36m1\u001b[0m\u001b[0;34m]\u001b[0m\u001b[0;34m\u001b[0m\u001b[0;34m\u001b[0m\u001b[0m\n",
      "\u001b[0;32m~/anaconda3/envs/std/lib/python3.7/site-packages/sklearn/utils/validation.py\u001b[0m in \u001b[0;36mcheck_array\u001b[0;34m(array, accept_sparse, accept_large_sparse, dtype, order, copy, force_all_finite, ensure_2d, allow_nd, ensure_min_samples, ensure_min_features, warn_on_dtype, estimator)\u001b[0m\n\u001b[1;32m    540\u001b[0m         \u001b[0;32mif\u001b[0m \u001b[0mforce_all_finite\u001b[0m\u001b[0;34m:\u001b[0m\u001b[0;34m\u001b[0m\u001b[0;34m\u001b[0m\u001b[0m\n\u001b[1;32m    541\u001b[0m             _assert_all_finite(array,\n\u001b[0;32m--> 542\u001b[0;31m                                allow_nan=force_all_finite == 'allow-nan')\n\u001b[0m\u001b[1;32m    543\u001b[0m \u001b[0;34m\u001b[0m\u001b[0m\n\u001b[1;32m    544\u001b[0m     \u001b[0;32mif\u001b[0m \u001b[0mensure_min_samples\u001b[0m \u001b[0;34m>\u001b[0m \u001b[0;36m0\u001b[0m\u001b[0;34m:\u001b[0m\u001b[0;34m\u001b[0m\u001b[0;34m\u001b[0m\u001b[0m\n",
      "\u001b[0;32m~/anaconda3/envs/std/lib/python3.7/site-packages/sklearn/utils/validation.py\u001b[0m in \u001b[0;36m_assert_all_finite\u001b[0;34m(X, allow_nan)\u001b[0m\n\u001b[1;32m     54\u001b[0m                 not allow_nan and not np.isfinite(X).all()):\n\u001b[1;32m     55\u001b[0m             \u001b[0mtype_err\u001b[0m \u001b[0;34m=\u001b[0m \u001b[0;34m'infinity'\u001b[0m \u001b[0;32mif\u001b[0m \u001b[0mallow_nan\u001b[0m \u001b[0;32melse\u001b[0m \u001b[0;34m'NaN, infinity'\u001b[0m\u001b[0;34m\u001b[0m\u001b[0;34m\u001b[0m\u001b[0m\n\u001b[0;32m---> 56\u001b[0;31m             \u001b[0;32mraise\u001b[0m \u001b[0mValueError\u001b[0m\u001b[0;34m(\u001b[0m\u001b[0mmsg_err\u001b[0m\u001b[0;34m.\u001b[0m\u001b[0mformat\u001b[0m\u001b[0;34m(\u001b[0m\u001b[0mtype_err\u001b[0m\u001b[0;34m,\u001b[0m \u001b[0mX\u001b[0m\u001b[0;34m.\u001b[0m\u001b[0mdtype\u001b[0m\u001b[0;34m)\u001b[0m\u001b[0;34m)\u001b[0m\u001b[0;34m\u001b[0m\u001b[0;34m\u001b[0m\u001b[0m\n\u001b[0m\u001b[1;32m     57\u001b[0m     \u001b[0;31m# for object dtype data, we only check for NaNs (GH-13254)\u001b[0m\u001b[0;34m\u001b[0m\u001b[0;34m\u001b[0m\u001b[0;34m\u001b[0m\u001b[0m\n\u001b[1;32m     58\u001b[0m     \u001b[0;32melif\u001b[0m \u001b[0mX\u001b[0m\u001b[0;34m.\u001b[0m\u001b[0mdtype\u001b[0m \u001b[0;34m==\u001b[0m \u001b[0mnp\u001b[0m\u001b[0;34m.\u001b[0m\u001b[0mdtype\u001b[0m\u001b[0;34m(\u001b[0m\u001b[0;34m'object'\u001b[0m\u001b[0;34m)\u001b[0m \u001b[0;32mand\u001b[0m \u001b[0;32mnot\u001b[0m \u001b[0mallow_nan\u001b[0m\u001b[0;34m:\u001b[0m\u001b[0;34m\u001b[0m\u001b[0;34m\u001b[0m\u001b[0m\n",
      "\u001b[0;31mValueError\u001b[0m: Input contains NaN, infinity or a value too large for dtype('float32')."
     ],
     "output_type": "error"
    }
   ],
   "source": [
    "X_submission = X_submission_df.to_numpy()\n",
    "print(X_submission == np.nan)\n",
    "y_pred = predict(rsf, X_submission, X_submission_df, rsf.event_times_)\n",
    "y_pred"
   ]
  },
  {
   "cell_type": "markdown",
   "metadata": {
    "id": "b3Z6eLA-3lYN",
    "colab_type": "text"
   },
   "source": [
    "Grid search for tuning parameters of RSF"
   ]
  },
  {
   "cell_type": "code",
   "execution_count": 0,
   "metadata": {
    "id": "duU4YRCw3lYX",
    "colab_type": "code",
    "colab": {}
   },
   "outputs": [],
   "source": [
    "best_params = grid_search.best_params_\n",
    "best_params"
   ]
  },
  {
   "cell_type": "code",
   "execution_count": 0,
   "metadata": {
    "id": "16BHRpQ53lYa",
    "colab_type": "code",
    "colab": {}
   },
   "outputs": [],
   "source": [
    ""
   ]
  }
 ],
 "metadata": {
  "kernelspec": {
   "display_name": "Python 3",
   "language": "python",
   "name": "python3"
  },
  "language_info": {
   "codemirror_mode": {
    "name": "ipython",
    "version": 3
   },
   "file_extension": ".py",
   "mimetype": "text/x-python",
   "name": "python",
   "nbconvert_exporter": "python",
   "pygments_lexer": "ipython3",
   "version": "3.7.4"
  },
  "colab": {
   "name": "RSF_model.ipynb",
   "provenance": [],
   "collapsed_sections": [
    "LYRHHcaJz6QM"
   ],
   "toc_visible": true
  }
 },
 "nbformat": 4,
 "nbformat_minor": 0
}
