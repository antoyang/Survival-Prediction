{
 "cells": [
  {
   "cell_type": "code",
   "execution_count": 1,
   "metadata": {},
   "outputs": [],
   "source": [
    "# Open one image\n",
    "import numpy as np\n",
    "archive = np.load(\"Chal/train_data/images/patient_002.npz\")\n",
    "scan = archive['scan']\n",
    "mask = archive['mask']"
   ]
  },
  {
   "cell_type": "code",
   "execution_count": 9,
   "metadata": {},
   "outputs": [],
   "source": [
    "# Convert to SimpleITK format data\n",
    "import SimpleITK as sitk\n",
    "scanimg = sitk.GetImageFromArray(scan)\n",
    "sitk.WriteImage(scanimg, \"Chal/train_data/images/patient_002_sikt_scan.nrrd\") \n",
    "scanmask = sitk.GetImageFromArray(np.array(mask,dtype=int))\n",
    "sitk.WriteImage(scanmask, \"Chal/train_data/images/patient_002_sikt_mask.nrrd\") "
   ]
  },
  {
   "cell_type": "code",
   "execution_count": 29,
   "metadata": {},
   "outputs": [],
   "source": [
    "# Show one form of tumor in 2D\n",
    "from PIL import Image\n",
    "Image.fromarray(mask[:,:,50]).show()"
   ]
  },
  {
   "cell_type": "code",
   "execution_count": 33,
   "metadata": {},
   "outputs": [],
   "source": [
    "# Convert to Simple ITK format all image data\n",
    "import os \n",
    "filenames = os.listdir(\"Chal/train_data/images\")\n",
    "for file in filenames:\n",
    "    if file.split(\".\")[-1]!=\"npz\":\n",
    "        continue\n",
    "    archive = np.load(\"Chal/train_data/images/\"+file)\n",
    "    scan = archive['scan']\n",
    "    mask = archive['mask']\n",
    "    scanimg = sitk.GetImageFromArray(scan)\n",
    "    sitk.WriteImage(scanimg, \"Chal/train_data/images/\"+file.split(\".\")[0]+\"_sikt_scan.nrrd\") \n",
    "    scanmask = sitk.GetImageFromArray(np.array(mask,dtype=int))\n",
    "    sitk.WriteImage(scanmask, \"Chal/train_data/images/\"+file.split(\".\")[0]+\"_sikt_mask.nrrd\")\n",
    "    # np.save(\"Chal/train_data/images/\"+file.split(\".\")[0]+\"_scan.npy\", scan)\n",
    "    # np.save(\"Chal/train_data/images/\"+file.split(\".\")[0]+\"_mask.npy\", mask)"
   ]
  },
  {
   "cell_type": "code",
   "execution_count": 96,
   "metadata": {},
   "outputs": [],
   "source": [
    "# Convert to Simple ITK format all image data\n",
    "import os \n",
    "filenames = os.listdir(\"Chal/test_data/images\")\n",
    "for file in filenames:\n",
    "    if file.split(\".\")[-1]!=\"npz\":\n",
    "        continue\n",
    "    archive = np.load(\"Chal/test_data/images/\"+file)\n",
    "    scan = archive['scan']\n",
    "    mask = archive['mask']\n",
    "    scanimg = sitk.GetImageFromArray(scan)\n",
    "    sitk.WriteImage(scanimg, \"Chal/test_data/images/\"+file.split(\".\")[0]+\"_sikt_scan.nrrd\") \n",
    "    scanmask = sitk.GetImageFromArray(np.array(mask,dtype=int))\n",
    "    sitk.WriteImage(scanmask, \"Chal/test_data/images/\"+file.split(\".\")[0]+\"_sikt_mask.nrrd\")\n",
    "    # np.save(\"Chal/train_data/images/\"+file.split(\".\")[0]+\"_scan.npy\", scan)\n",
    "    # np.save(\"Chal/train_data/images/\"+file.split(\".\")[0]+\"_mask.npy\", mask)"
   ]
  },
  {
   "cell_type": "code",
   "execution_count": 43,
   "metadata": {},
   "outputs": [
    {
     "data": {
      "text/plain": [
       "1"
      ]
     },
     "execution_count": 43,
     "metadata": {},
     "output_type": "execute_result"
    }
   ],
   "source": [
    "# Example of image without tumor\n",
    "archive = np.load(\"Chal/train_data/images/patient_003.npz\")\n",
    "scan = archive['scan']\n",
    "mask = archive['mask']\n",
    "len(np.unique(mask))"
   ]
  },
  {
   "cell_type": "code",
   "execution_count": 11,
   "metadata": {},
   "outputs": [
    {
     "name": "stdout",
     "output_type": "stream",
     "text": [
      "['firstorder', 'glcm', 'gldm', 'glrlm', 'glszm', 'ngtdm', 'shape', 'shape2D']\n"
     ]
    }
   ],
   "source": [
    "# Radiomics Feature Extractor\n",
    "from radiomics import featureextractor\n",
    "extractor = featureextractor.RadiomicsFeatureExtractor()\n",
    "print(extractor.featureClassNames)"
   ]
  },
  {
   "cell_type": "code",
   "execution_count": 36,
   "metadata": {},
   "outputs": [
    {
     "data": {
      "text/plain": [
       "{'settings': {'minimumROIDimensions': 2,\n",
       "  'minimumROISize': None,\n",
       "  'normalize': False,\n",
       "  'normalizeScale': 1,\n",
       "  'removeOutliers': None,\n",
       "  'resampledPixelSpacing': None,\n",
       "  'interpolator': 'sitkBSpline',\n",
       "  'preCrop': False,\n",
       "  'padDistance': 5,\n",
       "  'distances': [1],\n",
       "  'force2D': False,\n",
       "  'force2Ddimension': 0,\n",
       "  'resegmentRange': None,\n",
       "  'label': 1,\n",
       "  'additionalInfo': True},\n",
       " 'enabledImagetypes': {'Original': {}},\n",
       " 'enabledFeatures': {'firstorder': [],\n",
       "  'glcm': [],\n",
       "  'gldm': [],\n",
       "  'glrlm': [],\n",
       "  'glszm': [],\n",
       "  'ngtdm': [],\n",
       "  'shape': []},\n",
       " 'featureClassNames': ['firstorder',\n",
       "  'glcm',\n",
       "  'gldm',\n",
       "  'glrlm',\n",
       "  'glszm',\n",
       "  'ngtdm',\n",
       "  'shape',\n",
       "  'shape2D']}"
      ]
     },
     "execution_count": 36,
     "metadata": {},
     "output_type": "execute_result"
    }
   ],
   "source": [
    "extractor.__dict__"
   ]
  },
  {
   "cell_type": "code",
   "execution_count": 21,
   "metadata": {},
   "outputs": [
    {
     "name": "stderr",
     "output_type": "stream",
     "text": [
      "GLCM is symmetrical, therefore Sum Average = 2 * Joint Average, only 1 needs to be calculated\n"
     ]
    },
    {
     "name": "stdout",
     "output_type": "stream",
     "text": [
      "diagnostics_Versions_PyRadiomics 2.2.0\n",
      "diagnostics_Versions_Numpy 1.17.4\n",
      "diagnostics_Versions_SimpleITK 1.2.4\n",
      "diagnostics_Versions_PyWavelet 0.5.2\n",
      "diagnostics_Versions_Python 3.6.5\n",
      "diagnostics_Configuration_Settings {'minimumROIDimensions': 2, 'minimumROISize': None, 'normalize': False, 'normalizeScale': 1, 'removeOutliers': None, 'resampledPixelSpacing': None, 'interpolator': 'sitkBSpline', 'preCrop': False, 'padDistance': 5, 'distances': [1], 'force2D': False, 'force2Ddimension': 0, 'resegmentRange': None, 'label': 1, 'additionalInfo': True}\n",
      "diagnostics_Configuration_EnabledImageTypes {'Original': {}}\n",
      "diagnostics_Image-original_Hash 12594f333e663f725eafbb011efb36cc28ef09ea\n",
      "diagnostics_Image-original_Dimensionality 3D\n",
      "diagnostics_Image-original_Spacing (1.0, 1.0, 1.0)\n",
      "diagnostics_Image-original_Size (92, 92, 92)\n",
      "diagnostics_Image-original_Mean -137.40974048656201\n",
      "diagnostics_Image-original_Minimum -1023.0\n",
      "diagnostics_Image-original_Maximum 1322.0\n",
      "diagnostics_Mask-original_Hash acd42c92421d3a9df6f4cb58f1548237e3807fb3\n",
      "diagnostics_Mask-original_Spacing (1.0, 1.0, 1.0)\n",
      "diagnostics_Mask-original_Size (92, 92, 92)\n",
      "diagnostics_Mask-original_BoundingBox (3, 1, 7, 85, 89, 78)\n",
      "diagnostics_Mask-original_VoxelNum 184422\n",
      "diagnostics_Mask-original_VolumeNum 1\n",
      "diagnostics_Mask-original_CenterOfMassIndex (42.265206970968755, 46.79903156890176, 48.9044636757003)\n",
      "diagnostics_Mask-original_CenterOfMass (42.265206970968755, 46.79903156890176, 48.9044636757003)\n",
      "original_shape_Elongation 0.8459346778065617\n",
      "original_shape_Flatness 0.6621105014018885\n",
      "original_shape_LeastAxisLength 53.51566640696507\n",
      "original_shape_MajorAxisLength 80.82588373640985\n",
      "original_shape_Maximum2DDiameterColumn 83.81527307120105\n",
      "original_shape_Maximum2DDiameterRow 94.82615672903758\n",
      "original_shape_Maximum2DDiameterSlice 91.67878707749138\n",
      "original_shape_Maximum3DDiameter 100.12991560967181\n",
      "original_shape_MeshVolume 184317.125\n",
      "original_shape_MinorAxisLength 68.37341791699048\n",
      "original_shape_Sphericity 0.5997393163148063\n",
      "original_shape_SurfaceArea 26115.523102962834\n",
      "original_shape_SurfaceVolumeRatio 0.1416879907548625\n",
      "original_shape_VoxelVolume 184422.0\n",
      "original_firstorder_10Percentile -24.0\n",
      "original_firstorder_90Percentile 59.0\n",
      "original_firstorder_Energy 1425913723.0\n",
      "original_firstorder_Entropy 2.778570474953573\n",
      "original_firstorder_InterquartileRange 35.0\n",
      "original_firstorder_Kurtosis 21.089553295609278\n",
      "original_firstorder_Maximum 679.0\n",
      "original_firstorder_MeanAbsoluteDeviation 43.08732542778549\n",
      "original_firstorder_Mean 12.572540152476385\n",
      "original_firstorder_Median 27.0\n",
      "original_firstorder_Minimum -849.0\n",
      "original_firstorder_Range 1528.0\n",
      "original_firstorder_RobustMeanAbsoluteDeviation 15.172711265455662\n",
      "original_firstorder_RootMeanSquared 87.93064535036693\n",
      "original_firstorder_Skewness -3.332990711897768\n",
      "original_firstorder_TotalEnergy 1425913723.0\n",
      "original_firstorder_Uniformity 0.2370956691875208\n",
      "original_firstorder_Variance 7573.729625846375\n",
      "original_glcm_Autocorrelation 1245.057116488171\n",
      "original_glcm_ClusterProminence 26613.007695372373\n",
      "original_glcm_ClusterShade -643.2391123183759\n",
      "original_glcm_ClusterTendency 33.66694457613119\n",
      "original_glcm_Contrast 3.3668951831541274\n",
      "original_glcm_Correlation 0.8139217073922336\n",
      "original_glcm_DifferenceAverage 1.0021642301970635\n",
      "original_glcm_DifferenceEntropy 1.8527729515100024\n",
      "original_glcm_DifferenceVariance 2.3290270868423617\n",
      "original_glcm_Id 0.6656333949959528\n",
      "original_glcm_Idm 0.6426680006969527\n",
      "original_glcm_Idmn 0.999138606397979\n",
      "original_glcm_Idn 0.984629733858019\n",
      "original_glcm_Imc1 -0.22151349574624588\n",
      "original_glcm_Imc2 0.8130683189243502\n",
      "original_glcm_InverseVariance 0.4424995214015092\n",
      "original_glcm_JointAverage 35.177842947801075\n",
      "original_glcm_JointEnergy 0.09112923421698597\n",
      "original_glcm_JointEntropy 4.723158345269683\n",
      "original_glcm_MCC 0.8639602389444913\n",
      "original_glcm_MaximumProbability 0.20483729855755242\n",
      "original_glcm_SumAverage 70.35568589560218\n",
      "original_glcm_SumEntropy 3.492645935184368\n",
      "original_glcm_SumSquares 9.258459939821323\n",
      "original_gldm_DependenceEntropy 6.762877320189163\n",
      "original_gldm_DependenceNonUniformity 8783.333387556799\n",
      "original_gldm_DependenceNonUniformityNormalized 0.04762627770849898\n",
      "original_gldm_DependenceVariance 33.04983797232115\n",
      "original_gldm_GrayLevelNonUniformity 43725.657502900955\n",
      "original_gldm_GrayLevelVariance 12.207616837499023\n",
      "original_gldm_HighGrayLevelEmphasis 1238.8615566472547\n",
      "original_gldm_LargeDependenceEmphasis 158.97756232987388\n",
      "original_gldm_LargeDependenceHighGrayLevelEmphasis 202515.9113554782\n",
      "original_gldm_LargeDependenceLowGrayLevelEmphasis 0.12540315707433228\n",
      "original_gldm_LowGrayLevelEmphasis 0.0008978538164392755\n",
      "original_gldm_SmallDependenceEmphasis 0.05258303821089897\n",
      "original_gldm_SmallDependenceHighGrayLevelEmphasis 50.61513218081068\n",
      "original_gldm_SmallDependenceLowGrayLevelEmphasis 9.859058923675778e-05\n",
      "original_glrlm_GrayLevelNonUniformity 20343.45701800592\n",
      "original_glrlm_GrayLevelNonUniformityNormalized 0.18012361646430508\n",
      "original_glrlm_GrayLevelVariance 18.775375282190616\n",
      "original_glrlm_HighGrayLevelRunEmphasis 1217.1050117404955\n",
      "original_glrlm_LongRunEmphasis 4.701381626799101\n",
      "original_glrlm_LongRunHighGrayLevelEmphasis 5931.039011210831\n",
      "original_glrlm_LongRunLowGrayLevelEmphasis 0.003896150620103373\n",
      "original_glrlm_LowGrayLevelRunEmphasis 0.0009672892051859957\n",
      "original_glrlm_RunEntropy 4.687232453966882\n",
      "original_glrlm_RunLengthNonUniformity 54167.181589813124\n",
      "original_glrlm_RunLengthNonUniformityNormalized 0.47476967113398644\n",
      "original_glrlm_RunPercentage 0.6068556813261892\n",
      "original_glrlm_RunVariance 1.7787124208906222\n",
      "original_glrlm_ShortRunEmphasis 0.712208298752451\n",
      "original_glrlm_ShortRunHighGrayLevelEmphasis 852.3214801840969\n",
      "original_glrlm_ShortRunLowGrayLevelEmphasis 0.0007359529795295317\n",
      "original_glszm_GrayLevelNonUniformity 327.4280055668558\n",
      "original_glszm_GrayLevelNonUniformityNormalized 0.03505277867111185\n",
      "original_glszm_GrayLevelVariance 76.33514571050102\n",
      "original_glszm_HighGrayLevelZoneEmphasis 889.8579381222568\n",
      "original_glszm_LargeAreaEmphasis 811469.8075152553\n",
      "original_glszm_LargeAreaHighGrayLevelEmphasis 1034445458.6318381\n",
      "original_glszm_LargeAreaLowGrayLevelEmphasis 637.1984032559913\n",
      "original_glszm_LowGrayLevelZoneEmphasis 0.0021336685350442936\n",
      "original_glszm_SizeZoneNonUniformity 2944.5640723691254\n",
      "original_glszm_SizeZoneNonUniformityNormalized 0.3152300687687748\n",
      "original_glszm_SmallAreaEmphasis 0.5797504149692436\n",
      "original_glszm_SmallAreaHighGrayLevelEmphasis 474.18298682293903\n",
      "original_glszm_SmallAreaLowGrayLevelEmphasis 0.0014159294924583742\n",
      "original_glszm_ZoneEntropy 7.440152780881469\n",
      "original_glszm_ZonePercentage 0.05065013935430697\n",
      "original_glszm_ZoneVariance 811080.0103191268\n",
      "original_ngtdm_Busyness 4.638003576181803\n",
      "original_ngtdm_Coarseness 5.446082904968082e-05\n",
      "original_ngtdm_Complexity 1208.990130928983\n",
      "original_ngtdm_Contrast 0.004242342429635777\n",
      "original_ngtdm_Strength 0.3528600071678195\n"
     ]
    }
   ],
   "source": [
    "# Execute on one image\n",
    "result = extractor.execute(\"Chal/train_data/images/patient_002_sikt_scan.nrrd\", \"Chal/train_data/images/patient_002_sikt_mask.nrrd\")\n",
    "\n",
    "for key, value in result.items():\n",
    "    print(key, value)"
   ]
  },
  {
   "cell_type": "code",
   "execution_count": 85,
   "metadata": {},
   "outputs": [
    {
     "name": "stdout",
     "output_type": "stream",
     "text": [
      "patient_002.npz\n"
     ]
    },
    {
     "name": "stderr",
     "output_type": "stream",
     "text": [
      "GLCM is symmetrical, therefore Sum Average = 2 * Joint Average, only 1 needs to be calculated\n"
     ]
    },
    {
     "name": "stdout",
     "output_type": "stream",
     "text": [
      "patient_004.npz\n"
     ]
    },
    {
     "name": "stderr",
     "output_type": "stream",
     "text": [
      "GLCM is symmetrical, therefore Sum Average = 2 * Joint Average, only 1 needs to be calculated\n",
      "GLCM is symmetrical, therefore Sum Average = 2 * Joint Average, only 1 needs to be calculated\n"
     ]
    },
    {
     "name": "stdout",
     "output_type": "stream",
     "text": [
      "patient_005.npz\n",
      "patient_007.npz\n"
     ]
    },
    {
     "name": "stderr",
     "output_type": "stream",
     "text": [
      "GLCM is symmetrical, therefore Sum Average = 2 * Joint Average, only 1 needs to be calculated\n",
      "GLCM is symmetrical, therefore Sum Average = 2 * Joint Average, only 1 needs to be calculated\n"
     ]
    },
    {
     "name": "stdout",
     "output_type": "stream",
     "text": [
      "patient_008.npz\n",
      "patient_011.npz\n"
     ]
    },
    {
     "name": "stderr",
     "output_type": "stream",
     "text": [
      "GLCM is symmetrical, therefore Sum Average = 2 * Joint Average, only 1 needs to be calculated\n"
     ]
    },
    {
     "name": "stdout",
     "output_type": "stream",
     "text": [
      "patient_014.npz\n"
     ]
    },
    {
     "name": "stderr",
     "output_type": "stream",
     "text": [
      "GLCM is symmetrical, therefore Sum Average = 2 * Joint Average, only 1 needs to be calculated\n"
     ]
    },
    {
     "name": "stdout",
     "output_type": "stream",
     "text": [
      "patient_015.npz\n"
     ]
    },
    {
     "name": "stderr",
     "output_type": "stream",
     "text": [
      "GLCM is symmetrical, therefore Sum Average = 2 * Joint Average, only 1 needs to be calculated\n"
     ]
    },
    {
     "name": "stdout",
     "output_type": "stream",
     "text": [
      "patient_016.npz\n"
     ]
    },
    {
     "name": "stderr",
     "output_type": "stream",
     "text": [
      "GLCM is symmetrical, therefore Sum Average = 2 * Joint Average, only 1 needs to be calculated\n"
     ]
    },
    {
     "name": "stdout",
     "output_type": "stream",
     "text": [
      "patient_017.npz\n"
     ]
    },
    {
     "name": "stderr",
     "output_type": "stream",
     "text": [
      "GLCM is symmetrical, therefore Sum Average = 2 * Joint Average, only 1 needs to be calculated\n",
      "GLCM is symmetrical, therefore Sum Average = 2 * Joint Average, only 1 needs to be calculated\n"
     ]
    },
    {
     "name": "stdout",
     "output_type": "stream",
     "text": [
      "patient_018.npz\n",
      "patient_020.npz\n"
     ]
    },
    {
     "name": "stderr",
     "output_type": "stream",
     "text": [
      "GLCM is symmetrical, therefore Sum Average = 2 * Joint Average, only 1 needs to be calculated\n"
     ]
    },
    {
     "name": "stdout",
     "output_type": "stream",
     "text": [
      "patient_021.npz\n"
     ]
    },
    {
     "name": "stderr",
     "output_type": "stream",
     "text": [
      "GLCM is symmetrical, therefore Sum Average = 2 * Joint Average, only 1 needs to be calculated\n",
      "GLCM is symmetrical, therefore Sum Average = 2 * Joint Average, only 1 needs to be calculated\n"
     ]
    },
    {
     "name": "stdout",
     "output_type": "stream",
     "text": [
      "patient_022.npz\n",
      "patient_023.npz\n"
     ]
    },
    {
     "name": "stderr",
     "output_type": "stream",
     "text": [
      "GLCM is symmetrical, therefore Sum Average = 2 * Joint Average, only 1 needs to be calculated\n",
      "GLCM is symmetrical, therefore Sum Average = 2 * Joint Average, only 1 needs to be calculated\n"
     ]
    },
    {
     "name": "stdout",
     "output_type": "stream",
     "text": [
      "patient_024.npz\n",
      "patient_025.npz\n"
     ]
    },
    {
     "name": "stderr",
     "output_type": "stream",
     "text": [
      "GLCM is symmetrical, therefore Sum Average = 2 * Joint Average, only 1 needs to be calculated\n"
     ]
    },
    {
     "name": "stdout",
     "output_type": "stream",
     "text": [
      "patient_026.npz\n"
     ]
    },
    {
     "name": "stderr",
     "output_type": "stream",
     "text": [
      "GLCM is symmetrical, therefore Sum Average = 2 * Joint Average, only 1 needs to be calculated\n",
      "GLCM is symmetrical, therefore Sum Average = 2 * Joint Average, only 1 needs to be calculated\n"
     ]
    },
    {
     "name": "stdout",
     "output_type": "stream",
     "text": [
      "patient_029.npz\n",
      "patient_030.npz\n"
     ]
    },
    {
     "name": "stderr",
     "output_type": "stream",
     "text": [
      "GLCM is symmetrical, therefore Sum Average = 2 * Joint Average, only 1 needs to be calculated\n"
     ]
    },
    {
     "name": "stdout",
     "output_type": "stream",
     "text": [
      "patient_031.npz\n"
     ]
    },
    {
     "name": "stderr",
     "output_type": "stream",
     "text": [
      "GLCM is symmetrical, therefore Sum Average = 2 * Joint Average, only 1 needs to be calculated\n"
     ]
    },
    {
     "name": "stdout",
     "output_type": "stream",
     "text": [
      "patient_032.npz\n"
     ]
    },
    {
     "name": "stderr",
     "output_type": "stream",
     "text": [
      "GLCM is symmetrical, therefore Sum Average = 2 * Joint Average, only 1 needs to be calculated\n"
     ]
    },
    {
     "name": "stdout",
     "output_type": "stream",
     "text": [
      "patient_033.npz\n"
     ]
    },
    {
     "name": "stderr",
     "output_type": "stream",
     "text": [
      "GLCM is symmetrical, therefore Sum Average = 2 * Joint Average, only 1 needs to be calculated\n",
      "GLCM is symmetrical, therefore Sum Average = 2 * Joint Average, only 1 needs to be calculated\n"
     ]
    },
    {
     "name": "stdout",
     "output_type": "stream",
     "text": [
      "patient_035.npz\n",
      "patient_036.npz\n"
     ]
    },
    {
     "name": "stderr",
     "output_type": "stream",
     "text": [
      "GLCM is symmetrical, therefore Sum Average = 2 * Joint Average, only 1 needs to be calculated\n"
     ]
    },
    {
     "name": "stdout",
     "output_type": "stream",
     "text": [
      "patient_037.npz\n"
     ]
    },
    {
     "name": "stderr",
     "output_type": "stream",
     "text": [
      "GLCM is symmetrical, therefore Sum Average = 2 * Joint Average, only 1 needs to be calculated\n"
     ]
    },
    {
     "name": "stdout",
     "output_type": "stream",
     "text": [
      "patient_039.npz\n"
     ]
    },
    {
     "name": "stderr",
     "output_type": "stream",
     "text": [
      "GLCM is symmetrical, therefore Sum Average = 2 * Joint Average, only 1 needs to be calculated\n"
     ]
    },
    {
     "name": "stdout",
     "output_type": "stream",
     "text": [
      "patient_040.npz\n"
     ]
    },
    {
     "name": "stderr",
     "output_type": "stream",
     "text": [
      "GLCM is symmetrical, therefore Sum Average = 2 * Joint Average, only 1 needs to be calculated\n",
      "GLCM is symmetrical, therefore Sum Average = 2 * Joint Average, only 1 needs to be calculated\n"
     ]
    },
    {
     "name": "stdout",
     "output_type": "stream",
     "text": [
      "patient_042.npz\n",
      "patient_043.npz\n"
     ]
    },
    {
     "name": "stderr",
     "output_type": "stream",
     "text": [
      "GLCM is symmetrical, therefore Sum Average = 2 * Joint Average, only 1 needs to be calculated\n"
     ]
    },
    {
     "name": "stdout",
     "output_type": "stream",
     "text": [
      "patient_044.npz\n"
     ]
    },
    {
     "name": "stderr",
     "output_type": "stream",
     "text": [
      "GLCM is symmetrical, therefore Sum Average = 2 * Joint Average, only 1 needs to be calculated\n",
      "GLCM is symmetrical, therefore Sum Average = 2 * Joint Average, only 1 needs to be calculated\n"
     ]
    },
    {
     "name": "stdout",
     "output_type": "stream",
     "text": [
      "patient_045.npz\n",
      "patient_047.npz\n"
     ]
    },
    {
     "name": "stderr",
     "output_type": "stream",
     "text": [
      "GLCM is symmetrical, therefore Sum Average = 2 * Joint Average, only 1 needs to be calculated\n"
     ]
    },
    {
     "name": "stdout",
     "output_type": "stream",
     "text": [
      "patient_048.npz\n"
     ]
    },
    {
     "name": "stderr",
     "output_type": "stream",
     "text": [
      "GLCM is symmetrical, therefore Sum Average = 2 * Joint Average, only 1 needs to be calculated\n"
     ]
    },
    {
     "name": "stdout",
     "output_type": "stream",
     "text": [
      "patient_051.npz\n"
     ]
    },
    {
     "name": "stderr",
     "output_type": "stream",
     "text": [
      "GLCM is symmetrical, therefore Sum Average = 2 * Joint Average, only 1 needs to be calculated\n"
     ]
    },
    {
     "name": "stdout",
     "output_type": "stream",
     "text": [
      "patient_052.npz\n"
     ]
    },
    {
     "name": "stderr",
     "output_type": "stream",
     "text": [
      "GLCM is symmetrical, therefore Sum Average = 2 * Joint Average, only 1 needs to be calculated\n"
     ]
    },
    {
     "name": "stdout",
     "output_type": "stream",
     "text": [
      "patient_053.npz\n"
     ]
    },
    {
     "name": "stderr",
     "output_type": "stream",
     "text": [
      "GLCM is symmetrical, therefore Sum Average = 2 * Joint Average, only 1 needs to be calculated\n"
     ]
    },
    {
     "name": "stdout",
     "output_type": "stream",
     "text": [
      "patient_056.npz\n"
     ]
    },
    {
     "name": "stderr",
     "output_type": "stream",
     "text": [
      "GLCM is symmetrical, therefore Sum Average = 2 * Joint Average, only 1 needs to be calculated\n"
     ]
    },
    {
     "name": "stdout",
     "output_type": "stream",
     "text": [
      "patient_057.npz\n"
     ]
    },
    {
     "name": "stderr",
     "output_type": "stream",
     "text": [
      "GLCM is symmetrical, therefore Sum Average = 2 * Joint Average, only 1 needs to be calculated\n",
      "GLCM is symmetrical, therefore Sum Average = 2 * Joint Average, only 1 needs to be calculated\n"
     ]
    },
    {
     "name": "stdout",
     "output_type": "stream",
     "text": [
      "patient_058.npz\n"
     ]
    },
    {
     "name": "stderr",
     "output_type": "stream",
     "text": [
      "GLCM is symmetrical, therefore Sum Average = 2 * Joint Average, only 1 needs to be calculated\n"
     ]
    },
    {
     "name": "stdout",
     "output_type": "stream",
     "text": [
      "patient_061.npz\n",
      "patient_063.npz\n"
     ]
    },
    {
     "name": "stderr",
     "output_type": "stream",
     "text": [
      "GLCM is symmetrical, therefore Sum Average = 2 * Joint Average, only 1 needs to be calculated\n"
     ]
    },
    {
     "name": "stdout",
     "output_type": "stream",
     "text": [
      "patient_064.npz\n"
     ]
    },
    {
     "name": "stderr",
     "output_type": "stream",
     "text": [
      "GLCM is symmetrical, therefore Sum Average = 2 * Joint Average, only 1 needs to be calculated\n",
      "GLCM is symmetrical, therefore Sum Average = 2 * Joint Average, only 1 needs to be calculated\n"
     ]
    },
    {
     "name": "stdout",
     "output_type": "stream",
     "text": [
      "patient_067.npz\n",
      "patient_068.npz\n"
     ]
    },
    {
     "name": "stderr",
     "output_type": "stream",
     "text": [
      "GLCM is symmetrical, therefore Sum Average = 2 * Joint Average, only 1 needs to be calculated\n",
      "GLCM is symmetrical, therefore Sum Average = 2 * Joint Average, only 1 needs to be calculated\n"
     ]
    },
    {
     "name": "stdout",
     "output_type": "stream",
     "text": [
      "patient_069.npz\n"
     ]
    },
    {
     "name": "stderr",
     "output_type": "stream",
     "text": [
      "GLCM is symmetrical, therefore Sum Average = 2 * Joint Average, only 1 needs to be calculated\n"
     ]
    },
    {
     "name": "stdout",
     "output_type": "stream",
     "text": [
      "patient_070.npz\n",
      "patient_072.npz\n"
     ]
    },
    {
     "name": "stderr",
     "output_type": "stream",
     "text": [
      "GLCM is symmetrical, therefore Sum Average = 2 * Joint Average, only 1 needs to be calculated\n",
      "GLCM is symmetrical, therefore Sum Average = 2 * Joint Average, only 1 needs to be calculated\n"
     ]
    },
    {
     "name": "stdout",
     "output_type": "stream",
     "text": [
      "patient_073.npz\n",
      "patient_076.npz\n"
     ]
    },
    {
     "name": "stderr",
     "output_type": "stream",
     "text": [
      "GLCM is symmetrical, therefore Sum Average = 2 * Joint Average, only 1 needs to be calculated\n",
      "GLCM is symmetrical, therefore Sum Average = 2 * Joint Average, only 1 needs to be calculated\n"
     ]
    },
    {
     "name": "stdout",
     "output_type": "stream",
     "text": [
      "patient_077.npz\n",
      "patient_078.npz\n"
     ]
    },
    {
     "name": "stderr",
     "output_type": "stream",
     "text": [
      "GLCM is symmetrical, therefore Sum Average = 2 * Joint Average, only 1 needs to be calculated\n",
      "GLCM is symmetrical, therefore Sum Average = 2 * Joint Average, only 1 needs to be calculated\n"
     ]
    },
    {
     "name": "stdout",
     "output_type": "stream",
     "text": [
      "patient_079.npz\n",
      "patient_081.npz\n"
     ]
    },
    {
     "name": "stderr",
     "output_type": "stream",
     "text": [
      "GLCM is symmetrical, therefore Sum Average = 2 * Joint Average, only 1 needs to be calculated\n"
     ]
    },
    {
     "name": "stdout",
     "output_type": "stream",
     "text": [
      "patient_082.npz\n"
     ]
    },
    {
     "name": "stderr",
     "output_type": "stream",
     "text": [
      "GLCM is symmetrical, therefore Sum Average = 2 * Joint Average, only 1 needs to be calculated\n"
     ]
    },
    {
     "name": "stdout",
     "output_type": "stream",
     "text": [
      "patient_083.npz\n"
     ]
    },
    {
     "name": "stderr",
     "output_type": "stream",
     "text": [
      "GLCM is symmetrical, therefore Sum Average = 2 * Joint Average, only 1 needs to be calculated\n"
     ]
    },
    {
     "name": "stdout",
     "output_type": "stream",
     "text": [
      "patient_084.npz\n"
     ]
    },
    {
     "name": "stderr",
     "output_type": "stream",
     "text": [
      "GLCM is symmetrical, therefore Sum Average = 2 * Joint Average, only 1 needs to be calculated\n"
     ]
    },
    {
     "name": "stdout",
     "output_type": "stream",
     "text": [
      "patient_086.npz\n"
     ]
    },
    {
     "name": "stderr",
     "output_type": "stream",
     "text": [
      "GLCM is symmetrical, therefore Sum Average = 2 * Joint Average, only 1 needs to be calculated\n"
     ]
    },
    {
     "name": "stdout",
     "output_type": "stream",
     "text": [
      "patient_088.npz\n"
     ]
    },
    {
     "name": "stderr",
     "output_type": "stream",
     "text": [
      "GLCM is symmetrical, therefore Sum Average = 2 * Joint Average, only 1 needs to be calculated\n"
     ]
    },
    {
     "name": "stdout",
     "output_type": "stream",
     "text": [
      "patient_089.npz\n"
     ]
    },
    {
     "name": "stderr",
     "output_type": "stream",
     "text": [
      "GLCM is symmetrical, therefore Sum Average = 2 * Joint Average, only 1 needs to be calculated\n"
     ]
    },
    {
     "name": "stdout",
     "output_type": "stream",
     "text": [
      "patient_090.npz\n"
     ]
    },
    {
     "name": "stderr",
     "output_type": "stream",
     "text": [
      "GLCM is symmetrical, therefore Sum Average = 2 * Joint Average, only 1 needs to be calculated\n",
      "GLCM is symmetrical, therefore Sum Average = 2 * Joint Average, only 1 needs to be calculated\n"
     ]
    },
    {
     "name": "stdout",
     "output_type": "stream",
     "text": [
      "patient_091.npz\n",
      "patient_092.npz\n"
     ]
    },
    {
     "name": "stderr",
     "output_type": "stream",
     "text": [
      "GLCM is symmetrical, therefore Sum Average = 2 * Joint Average, only 1 needs to be calculated\n",
      "GLCM is symmetrical, therefore Sum Average = 2 * Joint Average, only 1 needs to be calculated\n"
     ]
    },
    {
     "name": "stdout",
     "output_type": "stream",
     "text": [
      "patient_093.npz\n",
      "patient_094.npz\n"
     ]
    },
    {
     "name": "stderr",
     "output_type": "stream",
     "text": [
      "GLCM is symmetrical, therefore Sum Average = 2 * Joint Average, only 1 needs to be calculated\n",
      "GLCM is symmetrical, therefore Sum Average = 2 * Joint Average, only 1 needs to be calculated\n"
     ]
    },
    {
     "name": "stdout",
     "output_type": "stream",
     "text": [
      "patient_095.npz\n",
      "patient_096.npz\n"
     ]
    },
    {
     "name": "stderr",
     "output_type": "stream",
     "text": [
      "GLCM is symmetrical, therefore Sum Average = 2 * Joint Average, only 1 needs to be calculated\n"
     ]
    },
    {
     "name": "stdout",
     "output_type": "stream",
     "text": [
      "patient_098.npz\n"
     ]
    },
    {
     "name": "stderr",
     "output_type": "stream",
     "text": [
      "GLCM is symmetrical, therefore Sum Average = 2 * Joint Average, only 1 needs to be calculated\n"
     ]
    },
    {
     "name": "stdout",
     "output_type": "stream",
     "text": [
      "patient_100.npz\n"
     ]
    },
    {
     "name": "stderr",
     "output_type": "stream",
     "text": [
      "GLCM is symmetrical, therefore Sum Average = 2 * Joint Average, only 1 needs to be calculated\n"
     ]
    },
    {
     "name": "stdout",
     "output_type": "stream",
     "text": [
      "patient_101.npz\n"
     ]
    },
    {
     "name": "stderr",
     "output_type": "stream",
     "text": [
      "GLCM is symmetrical, therefore Sum Average = 2 * Joint Average, only 1 needs to be calculated\n"
     ]
    },
    {
     "name": "stdout",
     "output_type": "stream",
     "text": [
      "patient_102.npz\n"
     ]
    },
    {
     "name": "stderr",
     "output_type": "stream",
     "text": [
      "GLCM is symmetrical, therefore Sum Average = 2 * Joint Average, only 1 needs to be calculated\n"
     ]
    },
    {
     "name": "stdout",
     "output_type": "stream",
     "text": [
      "patient_103.npz\n"
     ]
    },
    {
     "name": "stderr",
     "output_type": "stream",
     "text": [
      "GLCM is symmetrical, therefore Sum Average = 2 * Joint Average, only 1 needs to be calculated\n",
      "GLCM is symmetrical, therefore Sum Average = 2 * Joint Average, only 1 needs to be calculated\n"
     ]
    },
    {
     "name": "stdout",
     "output_type": "stream",
     "text": [
      "patient_105.npz\n",
      "patient_106.npz\n"
     ]
    },
    {
     "name": "stderr",
     "output_type": "stream",
     "text": [
      "GLCM is symmetrical, therefore Sum Average = 2 * Joint Average, only 1 needs to be calculated\n"
     ]
    },
    {
     "name": "stdout",
     "output_type": "stream",
     "text": [
      "patient_107.npz\n"
     ]
    },
    {
     "name": "stderr",
     "output_type": "stream",
     "text": [
      "GLCM is symmetrical, therefore Sum Average = 2 * Joint Average, only 1 needs to be calculated\n",
      "GLCM is symmetrical, therefore Sum Average = 2 * Joint Average, only 1 needs to be calculated\n"
     ]
    },
    {
     "name": "stdout",
     "output_type": "stream",
     "text": [
      "patient_108.npz\n"
     ]
    },
    {
     "name": "stderr",
     "output_type": "stream",
     "text": [
      "GLCM is symmetrical, therefore Sum Average = 2 * Joint Average, only 1 needs to be calculated\n"
     ]
    },
    {
     "name": "stdout",
     "output_type": "stream",
     "text": [
      "patient_109.npz\n",
      "patient_110.npz\n"
     ]
    },
    {
     "name": "stderr",
     "output_type": "stream",
     "text": [
      "GLCM is symmetrical, therefore Sum Average = 2 * Joint Average, only 1 needs to be calculated\n"
     ]
    },
    {
     "name": "stdout",
     "output_type": "stream",
     "text": [
      "patient_111.npz\n"
     ]
    },
    {
     "name": "stderr",
     "output_type": "stream",
     "text": [
      "GLCM is symmetrical, therefore Sum Average = 2 * Joint Average, only 1 needs to be calculated\n"
     ]
    },
    {
     "name": "stdout",
     "output_type": "stream",
     "text": [
      "patient_112.npz\n"
     ]
    },
    {
     "name": "stderr",
     "output_type": "stream",
     "text": [
      "GLCM is symmetrical, therefore Sum Average = 2 * Joint Average, only 1 needs to be calculated\n"
     ]
    },
    {
     "name": "stdout",
     "output_type": "stream",
     "text": [
      "patient_114.npz\n"
     ]
    },
    {
     "name": "stderr",
     "output_type": "stream",
     "text": [
      "GLCM is symmetrical, therefore Sum Average = 2 * Joint Average, only 1 needs to be calculated\n",
      "GLCM is symmetrical, therefore Sum Average = 2 * Joint Average, only 1 needs to be calculated\n"
     ]
    },
    {
     "name": "stdout",
     "output_type": "stream",
     "text": [
      "patient_115.npz\n",
      "patient_116.npz\n"
     ]
    },
    {
     "name": "stderr",
     "output_type": "stream",
     "text": [
      "GLCM is symmetrical, therefore Sum Average = 2 * Joint Average, only 1 needs to be calculated\n",
      "GLCM is symmetrical, therefore Sum Average = 2 * Joint Average, only 1 needs to be calculated\n"
     ]
    },
    {
     "name": "stdout",
     "output_type": "stream",
     "text": [
      "patient_117.npz\n"
     ]
    },
    {
     "name": "stderr",
     "output_type": "stream",
     "text": [
      "GLCM is symmetrical, therefore Sum Average = 2 * Joint Average, only 1 needs to be calculated\n"
     ]
    },
    {
     "name": "stdout",
     "output_type": "stream",
     "text": [
      "patient_121.npz\n",
      "patient_122.npz\n"
     ]
    },
    {
     "name": "stderr",
     "output_type": "stream",
     "text": [
      "GLCM is symmetrical, therefore Sum Average = 2 * Joint Average, only 1 needs to be calculated\n",
      "GLCM is symmetrical, therefore Sum Average = 2 * Joint Average, only 1 needs to be calculated\n"
     ]
    },
    {
     "name": "stdout",
     "output_type": "stream",
     "text": [
      "patient_123.npz\n",
      "patient_124.npz\n"
     ]
    },
    {
     "name": "stderr",
     "output_type": "stream",
     "text": [
      "GLCM is symmetrical, therefore Sum Average = 2 * Joint Average, only 1 needs to be calculated\n",
      "GLCM is symmetrical, therefore Sum Average = 2 * Joint Average, only 1 needs to be calculated\n"
     ]
    },
    {
     "name": "stdout",
     "output_type": "stream",
     "text": [
      "patient_126.npz\n",
      "patient_129.npz\n"
     ]
    },
    {
     "name": "stderr",
     "output_type": "stream",
     "text": [
      "GLCM is symmetrical, therefore Sum Average = 2 * Joint Average, only 1 needs to be calculated\n"
     ]
    },
    {
     "name": "stdout",
     "output_type": "stream",
     "text": [
      "patient_130.npz\n"
     ]
    },
    {
     "name": "stderr",
     "output_type": "stream",
     "text": [
      "GLCM is symmetrical, therefore Sum Average = 2 * Joint Average, only 1 needs to be calculated\n",
      "GLCM is symmetrical, therefore Sum Average = 2 * Joint Average, only 1 needs to be calculated\n"
     ]
    },
    {
     "name": "stdout",
     "output_type": "stream",
     "text": [
      "patient_131.npz\n",
      "patient_133.npz\n"
     ]
    },
    {
     "name": "stderr",
     "output_type": "stream",
     "text": [
      "GLCM is symmetrical, therefore Sum Average = 2 * Joint Average, only 1 needs to be calculated\n"
     ]
    },
    {
     "name": "stdout",
     "output_type": "stream",
     "text": [
      "patient_134.npz\n"
     ]
    },
    {
     "name": "stderr",
     "output_type": "stream",
     "text": [
      "GLCM is symmetrical, therefore Sum Average = 2 * Joint Average, only 1 needs to be calculated\n",
      "GLCM is symmetrical, therefore Sum Average = 2 * Joint Average, only 1 needs to be calculated\n"
     ]
    },
    {
     "name": "stdout",
     "output_type": "stream",
     "text": [
      "patient_135.npz\n"
     ]
    },
    {
     "name": "stderr",
     "output_type": "stream",
     "text": [
      "GLCM is symmetrical, therefore Sum Average = 2 * Joint Average, only 1 needs to be calculated\n"
     ]
    },
    {
     "name": "stdout",
     "output_type": "stream",
     "text": [
      "patient_137.npz\n"
     ]
    },
    {
     "name": "stderr",
     "output_type": "stream",
     "text": [
      "GLCM is symmetrical, therefore Sum Average = 2 * Joint Average, only 1 needs to be calculated\n"
     ]
    },
    {
     "name": "stdout",
     "output_type": "stream",
     "text": [
      "patient_138.npz\n",
      "patient_139.npz\n"
     ]
    },
    {
     "name": "stderr",
     "output_type": "stream",
     "text": [
      "GLCM is symmetrical, therefore Sum Average = 2 * Joint Average, only 1 needs to be calculated\n",
      "GLCM is symmetrical, therefore Sum Average = 2 * Joint Average, only 1 needs to be calculated\n"
     ]
    },
    {
     "name": "stdout",
     "output_type": "stream",
     "text": [
      "patient_141.npz\n",
      "patient_142.npz\n"
     ]
    },
    {
     "name": "stderr",
     "output_type": "stream",
     "text": [
      "GLCM is symmetrical, therefore Sum Average = 2 * Joint Average, only 1 needs to be calculated\n",
      "GLCM is symmetrical, therefore Sum Average = 2 * Joint Average, only 1 needs to be calculated\n"
     ]
    },
    {
     "name": "stdout",
     "output_type": "stream",
     "text": [
      "patient_143.npz\n",
      "patient_144.npz\n"
     ]
    },
    {
     "name": "stderr",
     "output_type": "stream",
     "text": [
      "GLCM is symmetrical, therefore Sum Average = 2 * Joint Average, only 1 needs to be calculated\n"
     ]
    },
    {
     "name": "stdout",
     "output_type": "stream",
     "text": [
      "patient_145.npz\n"
     ]
    },
    {
     "name": "stderr",
     "output_type": "stream",
     "text": [
      "GLCM is symmetrical, therefore Sum Average = 2 * Joint Average, only 1 needs to be calculated\n"
     ]
    },
    {
     "name": "stdout",
     "output_type": "stream",
     "text": [
      "patient_147.npz\n"
     ]
    },
    {
     "name": "stderr",
     "output_type": "stream",
     "text": [
      "GLCM is symmetrical, therefore Sum Average = 2 * Joint Average, only 1 needs to be calculated\n",
      "GLCM is symmetrical, therefore Sum Average = 2 * Joint Average, only 1 needs to be calculated\n"
     ]
    },
    {
     "name": "stdout",
     "output_type": "stream",
     "text": [
      "patient_148.npz\n"
     ]
    },
    {
     "name": "stderr",
     "output_type": "stream",
     "text": [
      "GLCM is symmetrical, therefore Sum Average = 2 * Joint Average, only 1 needs to be calculated\n"
     ]
    },
    {
     "name": "stdout",
     "output_type": "stream",
     "text": [
      "patient_149.npz\n",
      "patient_150.npz\n"
     ]
    },
    {
     "name": "stderr",
     "output_type": "stream",
     "text": [
      "GLCM is symmetrical, therefore Sum Average = 2 * Joint Average, only 1 needs to be calculated\n"
     ]
    },
    {
     "name": "stdout",
     "output_type": "stream",
     "text": [
      "patient_151.npz\n"
     ]
    },
    {
     "name": "stderr",
     "output_type": "stream",
     "text": [
      "GLCM is symmetrical, therefore Sum Average = 2 * Joint Average, only 1 needs to be calculated\n"
     ]
    },
    {
     "name": "stdout",
     "output_type": "stream",
     "text": [
      "patient_152.npz\n"
     ]
    },
    {
     "name": "stderr",
     "output_type": "stream",
     "text": [
      "GLCM is symmetrical, therefore Sum Average = 2 * Joint Average, only 1 needs to be calculated\n"
     ]
    },
    {
     "name": "stdout",
     "output_type": "stream",
     "text": [
      "patient_154.npz\n"
     ]
    },
    {
     "name": "stderr",
     "output_type": "stream",
     "text": [
      "GLCM is symmetrical, therefore Sum Average = 2 * Joint Average, only 1 needs to be calculated\n",
      "GLCM is symmetrical, therefore Sum Average = 2 * Joint Average, only 1 needs to be calculated\n"
     ]
    },
    {
     "name": "stdout",
     "output_type": "stream",
     "text": [
      "patient_157.npz\n",
      "patient_159.npz\n"
     ]
    },
    {
     "name": "stderr",
     "output_type": "stream",
     "text": [
      "GLCM is symmetrical, therefore Sum Average = 2 * Joint Average, only 1 needs to be calculated\n"
     ]
    },
    {
     "name": "stdout",
     "output_type": "stream",
     "text": [
      "patient_160.npz\n"
     ]
    },
    {
     "name": "stderr",
     "output_type": "stream",
     "text": [
      "GLCM is symmetrical, therefore Sum Average = 2 * Joint Average, only 1 needs to be calculated\n"
     ]
    },
    {
     "name": "stdout",
     "output_type": "stream",
     "text": [
      "patient_161.npz\n"
     ]
    },
    {
     "name": "stderr",
     "output_type": "stream",
     "text": [
      "GLCM is symmetrical, therefore Sum Average = 2 * Joint Average, only 1 needs to be calculated\n"
     ]
    },
    {
     "name": "stdout",
     "output_type": "stream",
     "text": [
      "patient_162.npz\n"
     ]
    },
    {
     "name": "stderr",
     "output_type": "stream",
     "text": [
      "GLCM is symmetrical, therefore Sum Average = 2 * Joint Average, only 1 needs to be calculated\n",
      "GLCM is symmetrical, therefore Sum Average = 2 * Joint Average, only 1 needs to be calculated\n"
     ]
    },
    {
     "name": "stdout",
     "output_type": "stream",
     "text": [
      "patient_163.npz\n"
     ]
    },
    {
     "name": "stderr",
     "output_type": "stream",
     "text": [
      "GLCM is symmetrical, therefore Sum Average = 2 * Joint Average, only 1 needs to be calculated\n"
     ]
    },
    {
     "name": "stdout",
     "output_type": "stream",
     "text": [
      "patient_164.npz\n",
      "patient_165.npz\n"
     ]
    },
    {
     "name": "stderr",
     "output_type": "stream",
     "text": [
      "GLCM is symmetrical, therefore Sum Average = 2 * Joint Average, only 1 needs to be calculated\n"
     ]
    },
    {
     "name": "stdout",
     "output_type": "stream",
     "text": [
      "patient_166.npz\n"
     ]
    },
    {
     "name": "stderr",
     "output_type": "stream",
     "text": [
      "GLCM is symmetrical, therefore Sum Average = 2 * Joint Average, only 1 needs to be calculated\n"
     ]
    },
    {
     "name": "stdout",
     "output_type": "stream",
     "text": [
      "patient_171.npz\n"
     ]
    },
    {
     "name": "stderr",
     "output_type": "stream",
     "text": [
      "GLCM is symmetrical, therefore Sum Average = 2 * Joint Average, only 1 needs to be calculated\n"
     ]
    },
    {
     "name": "stdout",
     "output_type": "stream",
     "text": [
      "patient_172.npz\n"
     ]
    },
    {
     "name": "stderr",
     "output_type": "stream",
     "text": [
      "GLCM is symmetrical, therefore Sum Average = 2 * Joint Average, only 1 needs to be calculated\n"
     ]
    },
    {
     "name": "stdout",
     "output_type": "stream",
     "text": [
      "patient_173.npz\n"
     ]
    },
    {
     "name": "stderr",
     "output_type": "stream",
     "text": [
      "GLCM is symmetrical, therefore Sum Average = 2 * Joint Average, only 1 needs to be calculated\n",
      "GLCM is symmetrical, therefore Sum Average = 2 * Joint Average, only 1 needs to be calculated\n"
     ]
    },
    {
     "name": "stdout",
     "output_type": "stream",
     "text": [
      "patient_174.npz\n",
      "patient_175.npz\n"
     ]
    },
    {
     "name": "stderr",
     "output_type": "stream",
     "text": [
      "GLCM is symmetrical, therefore Sum Average = 2 * Joint Average, only 1 needs to be calculated\n"
     ]
    },
    {
     "name": "stdout",
     "output_type": "stream",
     "text": [
      "patient_176.npz\n"
     ]
    },
    {
     "name": "stderr",
     "output_type": "stream",
     "text": [
      "GLCM is symmetrical, therefore Sum Average = 2 * Joint Average, only 1 needs to be calculated\n"
     ]
    },
    {
     "name": "stdout",
     "output_type": "stream",
     "text": [
      "patient_178.npz\n"
     ]
    },
    {
     "name": "stderr",
     "output_type": "stream",
     "text": [
      "GLCM is symmetrical, therefore Sum Average = 2 * Joint Average, only 1 needs to be calculated\n",
      "GLCM is symmetrical, therefore Sum Average = 2 * Joint Average, only 1 needs to be calculated\n"
     ]
    },
    {
     "name": "stdout",
     "output_type": "stream",
     "text": [
      "patient_180.npz\n",
      "patient_181.npz\n"
     ]
    },
    {
     "name": "stderr",
     "output_type": "stream",
     "text": [
      "GLCM is symmetrical, therefore Sum Average = 2 * Joint Average, only 1 needs to be calculated\n",
      "GLCM is symmetrical, therefore Sum Average = 2 * Joint Average, only 1 needs to be calculated\n"
     ]
    },
    {
     "name": "stdout",
     "output_type": "stream",
     "text": [
      "patient_183.npz\n"
     ]
    },
    {
     "name": "stderr",
     "output_type": "stream",
     "text": [
      "GLCM is symmetrical, therefore Sum Average = 2 * Joint Average, only 1 needs to be calculated\n"
     ]
    },
    {
     "name": "stdout",
     "output_type": "stream",
     "text": [
      "patient_184.npz\n",
      "patient_185.npz\n"
     ]
    },
    {
     "name": "stderr",
     "output_type": "stream",
     "text": [
      "GLCM is symmetrical, therefore Sum Average = 2 * Joint Average, only 1 needs to be calculated\n",
      "GLCM is symmetrical, therefore Sum Average = 2 * Joint Average, only 1 needs to be calculated\n"
     ]
    },
    {
     "name": "stdout",
     "output_type": "stream",
     "text": [
      "patient_186.npz\n",
      "patient_187.npz\n"
     ]
    },
    {
     "name": "stderr",
     "output_type": "stream",
     "text": [
      "GLCM is symmetrical, therefore Sum Average = 2 * Joint Average, only 1 needs to be calculated\n",
      "GLCM is symmetrical, therefore Sum Average = 2 * Joint Average, only 1 needs to be calculated\n"
     ]
    },
    {
     "name": "stdout",
     "output_type": "stream",
     "text": [
      "patient_188.npz\n",
      "patient_189.npz\n"
     ]
    },
    {
     "name": "stderr",
     "output_type": "stream",
     "text": [
      "GLCM is symmetrical, therefore Sum Average = 2 * Joint Average, only 1 needs to be calculated\n"
     ]
    },
    {
     "name": "stdout",
     "output_type": "stream",
     "text": [
      "patient_193.npz\n"
     ]
    },
    {
     "name": "stderr",
     "output_type": "stream",
     "text": [
      "GLCM is symmetrical, therefore Sum Average = 2 * Joint Average, only 1 needs to be calculated\n"
     ]
    },
    {
     "name": "stdout",
     "output_type": "stream",
     "text": [
      "patient_195.npz\n"
     ]
    },
    {
     "name": "stderr",
     "output_type": "stream",
     "text": [
      "GLCM is symmetrical, therefore Sum Average = 2 * Joint Average, only 1 needs to be calculated\n",
      "GLCM is symmetrical, therefore Sum Average = 2 * Joint Average, only 1 needs to be calculated\n"
     ]
    },
    {
     "name": "stdout",
     "output_type": "stream",
     "text": [
      "patient_196.npz\n",
      "patient_197.npz\n"
     ]
    },
    {
     "name": "stderr",
     "output_type": "stream",
     "text": [
      "GLCM is symmetrical, therefore Sum Average = 2 * Joint Average, only 1 needs to be calculated\n"
     ]
    },
    {
     "name": "stdout",
     "output_type": "stream",
     "text": [
      "patient_202.npz\n"
     ]
    },
    {
     "name": "stderr",
     "output_type": "stream",
     "text": [
      "GLCM is symmetrical, therefore Sum Average = 2 * Joint Average, only 1 needs to be calculated\n"
     ]
    },
    {
     "name": "stdout",
     "output_type": "stream",
     "text": [
      "patient_204.npz\n"
     ]
    },
    {
     "name": "stderr",
     "output_type": "stream",
     "text": [
      "GLCM is symmetrical, therefore Sum Average = 2 * Joint Average, only 1 needs to be calculated\n"
     ]
    },
    {
     "name": "stdout",
     "output_type": "stream",
     "text": [
      "patient_208.npz\n"
     ]
    },
    {
     "name": "stderr",
     "output_type": "stream",
     "text": [
      "GLCM is symmetrical, therefore Sum Average = 2 * Joint Average, only 1 needs to be calculated\n",
      "GLCM is symmetrical, therefore Sum Average = 2 * Joint Average, only 1 needs to be calculated\n"
     ]
    },
    {
     "name": "stdout",
     "output_type": "stream",
     "text": [
      "patient_209.npz\n",
      "patient_210.npz\n"
     ]
    },
    {
     "name": "stderr",
     "output_type": "stream",
     "text": [
      "GLCM is symmetrical, therefore Sum Average = 2 * Joint Average, only 1 needs to be calculated\n",
      "GLCM is symmetrical, therefore Sum Average = 2 * Joint Average, only 1 needs to be calculated\n"
     ]
    },
    {
     "name": "stdout",
     "output_type": "stream",
     "text": [
      "patient_211.npz\n",
      "patient_212.npz\n"
     ]
    },
    {
     "name": "stderr",
     "output_type": "stream",
     "text": [
      "GLCM is symmetrical, therefore Sum Average = 2 * Joint Average, only 1 needs to be calculated\n",
      "GLCM is symmetrical, therefore Sum Average = 2 * Joint Average, only 1 needs to be calculated\n"
     ]
    },
    {
     "name": "stdout",
     "output_type": "stream",
     "text": [
      "patient_213.npz\n",
      "patient_214.npz\n"
     ]
    },
    {
     "name": "stderr",
     "output_type": "stream",
     "text": [
      "GLCM is symmetrical, therefore Sum Average = 2 * Joint Average, only 1 needs to be calculated\n"
     ]
    },
    {
     "name": "stdout",
     "output_type": "stream",
     "text": [
      "patient_216.npz\n"
     ]
    },
    {
     "name": "stderr",
     "output_type": "stream",
     "text": [
      "GLCM is symmetrical, therefore Sum Average = 2 * Joint Average, only 1 needs to be calculated\n"
     ]
    },
    {
     "name": "stdout",
     "output_type": "stream",
     "text": [
      "patient_218.npz\n"
     ]
    },
    {
     "name": "stderr",
     "output_type": "stream",
     "text": [
      "GLCM is symmetrical, therefore Sum Average = 2 * Joint Average, only 1 needs to be calculated\n"
     ]
    },
    {
     "name": "stdout",
     "output_type": "stream",
     "text": [
      "patient_221.npz\n"
     ]
    },
    {
     "name": "stderr",
     "output_type": "stream",
     "text": [
      "GLCM is symmetrical, therefore Sum Average = 2 * Joint Average, only 1 needs to be calculated\n",
      "GLCM is symmetrical, therefore Sum Average = 2 * Joint Average, only 1 needs to be calculated\n"
     ]
    },
    {
     "name": "stdout",
     "output_type": "stream",
     "text": [
      "patient_222.npz\n",
      "patient_224.npz\n"
     ]
    },
    {
     "name": "stderr",
     "output_type": "stream",
     "text": [
      "GLCM is symmetrical, therefore Sum Average = 2 * Joint Average, only 1 needs to be calculated\n"
     ]
    },
    {
     "name": "stdout",
     "output_type": "stream",
     "text": [
      "patient_225.npz\n"
     ]
    },
    {
     "name": "stderr",
     "output_type": "stream",
     "text": [
      "GLCM is symmetrical, therefore Sum Average = 2 * Joint Average, only 1 needs to be calculated\n"
     ]
    },
    {
     "name": "stdout",
     "output_type": "stream",
     "text": [
      "patient_226.npz\n"
     ]
    },
    {
     "name": "stderr",
     "output_type": "stream",
     "text": [
      "GLCM is symmetrical, therefore Sum Average = 2 * Joint Average, only 1 needs to be calculated\n",
      "GLCM is symmetrical, therefore Sum Average = 2 * Joint Average, only 1 needs to be calculated\n"
     ]
    },
    {
     "name": "stdout",
     "output_type": "stream",
     "text": [
      "patient_227.npz\n",
      "patient_228.npz\n"
     ]
    },
    {
     "name": "stderr",
     "output_type": "stream",
     "text": [
      "GLCM is symmetrical, therefore Sum Average = 2 * Joint Average, only 1 needs to be calculated\n"
     ]
    },
    {
     "name": "stdout",
     "output_type": "stream",
     "text": [
      "patient_229.npz\n"
     ]
    },
    {
     "name": "stderr",
     "output_type": "stream",
     "text": [
      "GLCM is symmetrical, therefore Sum Average = 2 * Joint Average, only 1 needs to be calculated\n"
     ]
    },
    {
     "name": "stdout",
     "output_type": "stream",
     "text": [
      "patient_231.npz\n"
     ]
    },
    {
     "name": "stderr",
     "output_type": "stream",
     "text": [
      "GLCM is symmetrical, therefore Sum Average = 2 * Joint Average, only 1 needs to be calculated\n"
     ]
    },
    {
     "name": "stdout",
     "output_type": "stream",
     "text": [
      "patient_233.npz\n"
     ]
    },
    {
     "name": "stderr",
     "output_type": "stream",
     "text": [
      "GLCM is symmetrical, therefore Sum Average = 2 * Joint Average, only 1 needs to be calculated\n"
     ]
    },
    {
     "name": "stdout",
     "output_type": "stream",
     "text": [
      "patient_235.npz\n"
     ]
    },
    {
     "name": "stderr",
     "output_type": "stream",
     "text": [
      "GLCM is symmetrical, therefore Sum Average = 2 * Joint Average, only 1 needs to be calculated\n",
      "GLCM is symmetrical, therefore Sum Average = 2 * Joint Average, only 1 needs to be calculated\n"
     ]
    },
    {
     "name": "stdout",
     "output_type": "stream",
     "text": [
      "patient_236.npz\n",
      "patient_237.npz\n"
     ]
    },
    {
     "name": "stderr",
     "output_type": "stream",
     "text": [
      "GLCM is symmetrical, therefore Sum Average = 2 * Joint Average, only 1 needs to be calculated\n",
      "GLCM is symmetrical, therefore Sum Average = 2 * Joint Average, only 1 needs to be calculated\n"
     ]
    },
    {
     "name": "stdout",
     "output_type": "stream",
     "text": [
      "patient_238.npz\n",
      "patient_240.npz\n"
     ]
    },
    {
     "name": "stderr",
     "output_type": "stream",
     "text": [
      "GLCM is symmetrical, therefore Sum Average = 2 * Joint Average, only 1 needs to be calculated\n"
     ]
    },
    {
     "name": "stdout",
     "output_type": "stream",
     "text": [
      "patient_242.npz\n"
     ]
    },
    {
     "name": "stderr",
     "output_type": "stream",
     "text": [
      "GLCM is symmetrical, therefore Sum Average = 2 * Joint Average, only 1 needs to be calculated\n",
      "GLCM is symmetrical, therefore Sum Average = 2 * Joint Average, only 1 needs to be calculated\n"
     ]
    },
    {
     "name": "stdout",
     "output_type": "stream",
     "text": [
      "patient_244.npz\n",
      "patient_246.npz\n"
     ]
    },
    {
     "name": "stderr",
     "output_type": "stream",
     "text": [
      "GLCM is symmetrical, therefore Sum Average = 2 * Joint Average, only 1 needs to be calculated\n"
     ]
    },
    {
     "name": "stdout",
     "output_type": "stream",
     "text": [
      "patient_247.npz\n"
     ]
    },
    {
     "name": "stderr",
     "output_type": "stream",
     "text": [
      "GLCM is symmetrical, therefore Sum Average = 2 * Joint Average, only 1 needs to be calculated\n"
     ]
    },
    {
     "name": "stdout",
     "output_type": "stream",
     "text": [
      "patient_248.npz\n"
     ]
    },
    {
     "name": "stderr",
     "output_type": "stream",
     "text": [
      "GLCM is symmetrical, therefore Sum Average = 2 * Joint Average, only 1 needs to be calculated\n"
     ]
    },
    {
     "name": "stdout",
     "output_type": "stream",
     "text": [
      "patient_249.npz\n"
     ]
    },
    {
     "name": "stderr",
     "output_type": "stream",
     "text": [
      "GLCM is symmetrical, therefore Sum Average = 2 * Joint Average, only 1 needs to be calculated\n"
     ]
    },
    {
     "name": "stdout",
     "output_type": "stream",
     "text": [
      "patient_250.npz\n"
     ]
    },
    {
     "name": "stderr",
     "output_type": "stream",
     "text": [
      "GLCM is symmetrical, therefore Sum Average = 2 * Joint Average, only 1 needs to be calculated\n",
      "GLCM is symmetrical, therefore Sum Average = 2 * Joint Average, only 1 needs to be calculated\n"
     ]
    },
    {
     "name": "stdout",
     "output_type": "stream",
     "text": [
      "patient_251.npz\n",
      "patient_252.npz\n"
     ]
    },
    {
     "name": "stderr",
     "output_type": "stream",
     "text": [
      "GLCM is symmetrical, therefore Sum Average = 2 * Joint Average, only 1 needs to be calculated\n"
     ]
    },
    {
     "name": "stdout",
     "output_type": "stream",
     "text": [
      "patient_253.npz\n"
     ]
    },
    {
     "name": "stderr",
     "output_type": "stream",
     "text": [
      "GLCM is symmetrical, therefore Sum Average = 2 * Joint Average, only 1 needs to be calculated\n"
     ]
    },
    {
     "name": "stdout",
     "output_type": "stream",
     "text": [
      "patient_255.npz\n"
     ]
    },
    {
     "name": "stderr",
     "output_type": "stream",
     "text": [
      "GLCM is symmetrical, therefore Sum Average = 2 * Joint Average, only 1 needs to be calculated\n",
      "GLCM is symmetrical, therefore Sum Average = 2 * Joint Average, only 1 needs to be calculated\n"
     ]
    },
    {
     "name": "stdout",
     "output_type": "stream",
     "text": [
      "patient_257.npz\n",
      "patient_258.npz\n"
     ]
    },
    {
     "name": "stderr",
     "output_type": "stream",
     "text": [
      "GLCM is symmetrical, therefore Sum Average = 2 * Joint Average, only 1 needs to be calculated\n"
     ]
    },
    {
     "name": "stdout",
     "output_type": "stream",
     "text": [
      "patient_259.npz\n"
     ]
    },
    {
     "name": "stderr",
     "output_type": "stream",
     "text": [
      "GLCM is symmetrical, therefore Sum Average = 2 * Joint Average, only 1 needs to be calculated\n",
      "GLCM is symmetrical, therefore Sum Average = 2 * Joint Average, only 1 needs to be calculated\n"
     ]
    },
    {
     "name": "stdout",
     "output_type": "stream",
     "text": [
      "patient_261.npz\n",
      "patient_262.npz\n"
     ]
    },
    {
     "name": "stderr",
     "output_type": "stream",
     "text": [
      "GLCM is symmetrical, therefore Sum Average = 2 * Joint Average, only 1 needs to be calculated\n"
     ]
    },
    {
     "name": "stdout",
     "output_type": "stream",
     "text": [
      "patient_264.npz\n"
     ]
    },
    {
     "name": "stderr",
     "output_type": "stream",
     "text": [
      "GLCM is symmetrical, therefore Sum Average = 2 * Joint Average, only 1 needs to be calculated\n",
      "GLCM is symmetrical, therefore Sum Average = 2 * Joint Average, only 1 needs to be calculated\n"
     ]
    },
    {
     "name": "stdout",
     "output_type": "stream",
     "text": [
      "patient_266.npz\n"
     ]
    },
    {
     "name": "stderr",
     "output_type": "stream",
     "text": [
      "GLCM is symmetrical, therefore Sum Average = 2 * Joint Average, only 1 needs to be calculated\n"
     ]
    },
    {
     "name": "stdout",
     "output_type": "stream",
     "text": [
      "patient_268.npz\n",
      "patient_269.npz\n"
     ]
    },
    {
     "name": "stderr",
     "output_type": "stream",
     "text": [
      "GLCM is symmetrical, therefore Sum Average = 2 * Joint Average, only 1 needs to be calculated\n"
     ]
    },
    {
     "name": "stdout",
     "output_type": "stream",
     "text": [
      "patient_272.npz\n"
     ]
    },
    {
     "name": "stderr",
     "output_type": "stream",
     "text": [
      "GLCM is symmetrical, therefore Sum Average = 2 * Joint Average, only 1 needs to be calculated\n",
      "GLCM is symmetrical, therefore Sum Average = 2 * Joint Average, only 1 needs to be calculated\n"
     ]
    },
    {
     "name": "stdout",
     "output_type": "stream",
     "text": [
      "patient_273.npz\n",
      "patient_275.npz\n"
     ]
    },
    {
     "name": "stderr",
     "output_type": "stream",
     "text": [
      "GLCM is symmetrical, therefore Sum Average = 2 * Joint Average, only 1 needs to be calculated\n"
     ]
    },
    {
     "name": "stdout",
     "output_type": "stream",
     "text": [
      "patient_276.npz\n"
     ]
    },
    {
     "name": "stderr",
     "output_type": "stream",
     "text": [
      "GLCM is symmetrical, therefore Sum Average = 2 * Joint Average, only 1 needs to be calculated\n"
     ]
    },
    {
     "name": "stdout",
     "output_type": "stream",
     "text": [
      "patient_277.npz\n"
     ]
    },
    {
     "name": "stderr",
     "output_type": "stream",
     "text": [
      "GLCM is symmetrical, therefore Sum Average = 2 * Joint Average, only 1 needs to be calculated\n"
     ]
    },
    {
     "name": "stdout",
     "output_type": "stream",
     "text": [
      "patient_279.npz\n"
     ]
    },
    {
     "name": "stderr",
     "output_type": "stream",
     "text": [
      "GLCM is symmetrical, therefore Sum Average = 2 * Joint Average, only 1 needs to be calculated\n",
      "GLCM is symmetrical, therefore Sum Average = 2 * Joint Average, only 1 needs to be calculated\n"
     ]
    },
    {
     "name": "stdout",
     "output_type": "stream",
     "text": [
      "patient_280.npz\n",
      "patient_282.npz\n"
     ]
    },
    {
     "name": "stderr",
     "output_type": "stream",
     "text": [
      "GLCM is symmetrical, therefore Sum Average = 2 * Joint Average, only 1 needs to be calculated\n"
     ]
    },
    {
     "name": "stdout",
     "output_type": "stream",
     "text": [
      "patient_283.npz\n"
     ]
    },
    {
     "name": "stderr",
     "output_type": "stream",
     "text": [
      "GLCM is symmetrical, therefore Sum Average = 2 * Joint Average, only 1 needs to be calculated\n"
     ]
    },
    {
     "name": "stdout",
     "output_type": "stream",
     "text": [
      "patient_284.npz\n"
     ]
    },
    {
     "name": "stderr",
     "output_type": "stream",
     "text": [
      "GLCM is symmetrical, therefore Sum Average = 2 * Joint Average, only 1 needs to be calculated\n"
     ]
    },
    {
     "name": "stdout",
     "output_type": "stream",
     "text": [
      "patient_285.npz\n"
     ]
    },
    {
     "name": "stderr",
     "output_type": "stream",
     "text": [
      "GLCM is symmetrical, therefore Sum Average = 2 * Joint Average, only 1 needs to be calculated\n",
      "GLCM is symmetrical, therefore Sum Average = 2 * Joint Average, only 1 needs to be calculated\n"
     ]
    },
    {
     "name": "stdout",
     "output_type": "stream",
     "text": [
      "patient_286.npz\n",
      "patient_288.npz\n"
     ]
    },
    {
     "name": "stderr",
     "output_type": "stream",
     "text": [
      "GLCM is symmetrical, therefore Sum Average = 2 * Joint Average, only 1 needs to be calculated\n",
      "GLCM is symmetrical, therefore Sum Average = 2 * Joint Average, only 1 needs to be calculated\n"
     ]
    },
    {
     "name": "stdout",
     "output_type": "stream",
     "text": [
      "patient_290.npz\n",
      "patient_293.npz\n"
     ]
    },
    {
     "name": "stderr",
     "output_type": "stream",
     "text": [
      "GLCM is symmetrical, therefore Sum Average = 2 * Joint Average, only 1 needs to be calculated\n"
     ]
    },
    {
     "name": "stdout",
     "output_type": "stream",
     "text": [
      "patient_294.npz\n"
     ]
    },
    {
     "name": "stderr",
     "output_type": "stream",
     "text": [
      "GLCM is symmetrical, therefore Sum Average = 2 * Joint Average, only 1 needs to be calculated\n"
     ]
    },
    {
     "name": "stdout",
     "output_type": "stream",
     "text": [
      "patient_295.npz\n"
     ]
    },
    {
     "name": "stderr",
     "output_type": "stream",
     "text": [
      "GLCM is symmetrical, therefore Sum Average = 2 * Joint Average, only 1 needs to be calculated\n",
      "GLCM is symmetrical, therefore Sum Average = 2 * Joint Average, only 1 needs to be calculated\n"
     ]
    },
    {
     "name": "stdout",
     "output_type": "stream",
     "text": [
      "patient_297.npz\n",
      "patient_298.npz\n"
     ]
    },
    {
     "name": "stderr",
     "output_type": "stream",
     "text": [
      "GLCM is symmetrical, therefore Sum Average = 2 * Joint Average, only 1 needs to be calculated\n"
     ]
    },
    {
     "name": "stdout",
     "output_type": "stream",
     "text": [
      "patient_299.npz\n"
     ]
    },
    {
     "name": "stderr",
     "output_type": "stream",
     "text": [
      "GLCM is symmetrical, therefore Sum Average = 2 * Joint Average, only 1 needs to be calculated\n"
     ]
    },
    {
     "name": "stdout",
     "output_type": "stream",
     "text": [
      "patient_300.npz\n"
     ]
    },
    {
     "name": "stderr",
     "output_type": "stream",
     "text": [
      "GLCM is symmetrical, therefore Sum Average = 2 * Joint Average, only 1 needs to be calculated\n"
     ]
    },
    {
     "name": "stdout",
     "output_type": "stream",
     "text": [
      "patient_302.npz\n"
     ]
    },
    {
     "name": "stderr",
     "output_type": "stream",
     "text": [
      "GLCM is symmetrical, therefore Sum Average = 2 * Joint Average, only 1 needs to be calculated\n"
     ]
    },
    {
     "name": "stdout",
     "output_type": "stream",
     "text": [
      "patient_303.npz\n"
     ]
    },
    {
     "name": "stderr",
     "output_type": "stream",
     "text": [
      "GLCM is symmetrical, therefore Sum Average = 2 * Joint Average, only 1 needs to be calculated\n",
      "GLCM is symmetrical, therefore Sum Average = 2 * Joint Average, only 1 needs to be calculated\n"
     ]
    },
    {
     "name": "stdout",
     "output_type": "stream",
     "text": [
      "patient_304.npz\n"
     ]
    },
    {
     "name": "stderr",
     "output_type": "stream",
     "text": [
      "GLCM is symmetrical, therefore Sum Average = 2 * Joint Average, only 1 needs to be calculated\n"
     ]
    },
    {
     "name": "stdout",
     "output_type": "stream",
     "text": [
      "patient_305.npz\n",
      "patient_306.npz\n"
     ]
    },
    {
     "name": "stderr",
     "output_type": "stream",
     "text": [
      "GLCM is symmetrical, therefore Sum Average = 2 * Joint Average, only 1 needs to be calculated\n"
     ]
    },
    {
     "name": "stdout",
     "output_type": "stream",
     "text": [
      "patient_307.npz\n"
     ]
    },
    {
     "name": "stderr",
     "output_type": "stream",
     "text": [
      "GLCM is symmetrical, therefore Sum Average = 2 * Joint Average, only 1 needs to be calculated\n",
      "GLCM is symmetrical, therefore Sum Average = 2 * Joint Average, only 1 needs to be calculated\n"
     ]
    },
    {
     "name": "stdout",
     "output_type": "stream",
     "text": [
      "patient_308.npz\n",
      "patient_309.npz\n"
     ]
    },
    {
     "name": "stderr",
     "output_type": "stream",
     "text": [
      "GLCM is symmetrical, therefore Sum Average = 2 * Joint Average, only 1 needs to be calculated\n"
     ]
    },
    {
     "name": "stdout",
     "output_type": "stream",
     "text": [
      "patient_310.npz\n"
     ]
    },
    {
     "name": "stderr",
     "output_type": "stream",
     "text": [
      "GLCM is symmetrical, therefore Sum Average = 2 * Joint Average, only 1 needs to be calculated\n"
     ]
    },
    {
     "name": "stdout",
     "output_type": "stream",
     "text": [
      "patient_312.npz\n"
     ]
    },
    {
     "name": "stderr",
     "output_type": "stream",
     "text": [
      "GLCM is symmetrical, therefore Sum Average = 2 * Joint Average, only 1 needs to be calculated\n"
     ]
    },
    {
     "name": "stdout",
     "output_type": "stream",
     "text": [
      "patient_313.npz\n"
     ]
    },
    {
     "name": "stderr",
     "output_type": "stream",
     "text": [
      "GLCM is symmetrical, therefore Sum Average = 2 * Joint Average, only 1 needs to be calculated\n",
      "GLCM is symmetrical, therefore Sum Average = 2 * Joint Average, only 1 needs to be calculated\n"
     ]
    },
    {
     "name": "stdout",
     "output_type": "stream",
     "text": [
      "patient_314.npz\n"
     ]
    },
    {
     "name": "stderr",
     "output_type": "stream",
     "text": [
      "GLCM is symmetrical, therefore Sum Average = 2 * Joint Average, only 1 needs to be calculated\n"
     ]
    },
    {
     "name": "stdout",
     "output_type": "stream",
     "text": [
      "patient_315.npz\n",
      "patient_316.npz\n"
     ]
    },
    {
     "name": "stderr",
     "output_type": "stream",
     "text": [
      "GLCM is symmetrical, therefore Sum Average = 2 * Joint Average, only 1 needs to be calculated\n",
      "GLCM is symmetrical, therefore Sum Average = 2 * Joint Average, only 1 needs to be calculated\n"
     ]
    },
    {
     "name": "stdout",
     "output_type": "stream",
     "text": [
      "patient_317.npz\n",
      "patient_318.npz\n"
     ]
    },
    {
     "name": "stderr",
     "output_type": "stream",
     "text": [
      "GLCM is symmetrical, therefore Sum Average = 2 * Joint Average, only 1 needs to be calculated\n"
     ]
    },
    {
     "name": "stdout",
     "output_type": "stream",
     "text": [
      "patient_320.npz\n"
     ]
    },
    {
     "name": "stderr",
     "output_type": "stream",
     "text": [
      "GLCM is symmetrical, therefore Sum Average = 2 * Joint Average, only 1 needs to be calculated\n",
      "GLCM is symmetrical, therefore Sum Average = 2 * Joint Average, only 1 needs to be calculated\n"
     ]
    },
    {
     "name": "stdout",
     "output_type": "stream",
     "text": [
      "patient_321.npz\n"
     ]
    },
    {
     "name": "stderr",
     "output_type": "stream",
     "text": [
      "GLCM is symmetrical, therefore Sum Average = 2 * Joint Average, only 1 needs to be calculated\n"
     ]
    },
    {
     "name": "stdout",
     "output_type": "stream",
     "text": [
      "patient_323.npz\n"
     ]
    },
    {
     "name": "stderr",
     "output_type": "stream",
     "text": [
      "GLCM is symmetrical, therefore Sum Average = 2 * Joint Average, only 1 needs to be calculated\n"
     ]
    },
    {
     "name": "stdout",
     "output_type": "stream",
     "text": [
      "patient_325.npz\n",
      "patient_328.npz\n"
     ]
    },
    {
     "name": "stderr",
     "output_type": "stream",
     "text": [
      "GLCM is symmetrical, therefore Sum Average = 2 * Joint Average, only 1 needs to be calculated\n"
     ]
    },
    {
     "name": "stdout",
     "output_type": "stream",
     "text": [
      "patient_329.npz\n"
     ]
    },
    {
     "name": "stderr",
     "output_type": "stream",
     "text": [
      "GLCM is symmetrical, therefore Sum Average = 2 * Joint Average, only 1 needs to be calculated\n"
     ]
    },
    {
     "name": "stdout",
     "output_type": "stream",
     "text": [
      "patient_330.npz\n"
     ]
    },
    {
     "name": "stderr",
     "output_type": "stream",
     "text": [
      "GLCM is symmetrical, therefore Sum Average = 2 * Joint Average, only 1 needs to be calculated\n",
      "GLCM is symmetrical, therefore Sum Average = 2 * Joint Average, only 1 needs to be calculated\n"
     ]
    },
    {
     "name": "stdout",
     "output_type": "stream",
     "text": [
      "patient_331.npz\n",
      "patient_333.npz\n"
     ]
    },
    {
     "name": "stderr",
     "output_type": "stream",
     "text": [
      "GLCM is symmetrical, therefore Sum Average = 2 * Joint Average, only 1 needs to be calculated\n",
      "GLCM is symmetrical, therefore Sum Average = 2 * Joint Average, only 1 needs to be calculated\n"
     ]
    },
    {
     "name": "stdout",
     "output_type": "stream",
     "text": [
      "patient_334.npz\n",
      "patient_335.npz\n"
     ]
    },
    {
     "name": "stderr",
     "output_type": "stream",
     "text": [
      "GLCM is symmetrical, therefore Sum Average = 2 * Joint Average, only 1 needs to be calculated\n"
     ]
    },
    {
     "name": "stdout",
     "output_type": "stream",
     "text": [
      "patient_336.npz\n"
     ]
    },
    {
     "name": "stderr",
     "output_type": "stream",
     "text": [
      "GLCM is symmetrical, therefore Sum Average = 2 * Joint Average, only 1 needs to be calculated\n",
      "GLCM is symmetrical, therefore Sum Average = 2 * Joint Average, only 1 needs to be calculated\n"
     ]
    },
    {
     "name": "stdout",
     "output_type": "stream",
     "text": [
      "patient_338.npz\n",
      "patient_340.npz\n"
     ]
    },
    {
     "name": "stderr",
     "output_type": "stream",
     "text": [
      "GLCM is symmetrical, therefore Sum Average = 2 * Joint Average, only 1 needs to be calculated\n"
     ]
    },
    {
     "name": "stdout",
     "output_type": "stream",
     "text": [
      "patient_341.npz\n"
     ]
    },
    {
     "name": "stderr",
     "output_type": "stream",
     "text": [
      "GLCM is symmetrical, therefore Sum Average = 2 * Joint Average, only 1 needs to be calculated\n",
      "GLCM is symmetrical, therefore Sum Average = 2 * Joint Average, only 1 needs to be calculated\n"
     ]
    },
    {
     "name": "stdout",
     "output_type": "stream",
     "text": [
      "patient_343.npz\n",
      "patient_345.npz\n"
     ]
    },
    {
     "name": "stderr",
     "output_type": "stream",
     "text": [
      "GLCM is symmetrical, therefore Sum Average = 2 * Joint Average, only 1 needs to be calculated\n"
     ]
    },
    {
     "name": "stdout",
     "output_type": "stream",
     "text": [
      "patient_346.npz\n"
     ]
    },
    {
     "name": "stderr",
     "output_type": "stream",
     "text": [
      "GLCM is symmetrical, therefore Sum Average = 2 * Joint Average, only 1 needs to be calculated\n",
      "GLCM is symmetrical, therefore Sum Average = 2 * Joint Average, only 1 needs to be calculated\n"
     ]
    },
    {
     "name": "stdout",
     "output_type": "stream",
     "text": [
      "patient_347.npz\n",
      "patient_348.npz\n"
     ]
    },
    {
     "name": "stderr",
     "output_type": "stream",
     "text": [
      "GLCM is symmetrical, therefore Sum Average = 2 * Joint Average, only 1 needs to be calculated\n",
      "GLCM is symmetrical, therefore Sum Average = 2 * Joint Average, only 1 needs to be calculated\n"
     ]
    },
    {
     "name": "stdout",
     "output_type": "stream",
     "text": [
      "patient_349.npz\n",
      "patient_350.npz\n"
     ]
    },
    {
     "name": "stderr",
     "output_type": "stream",
     "text": [
      "GLCM is symmetrical, therefore Sum Average = 2 * Joint Average, only 1 needs to be calculated\n",
      "GLCM is symmetrical, therefore Sum Average = 2 * Joint Average, only 1 needs to be calculated\n"
     ]
    },
    {
     "name": "stdout",
     "output_type": "stream",
     "text": [
      "patient_353.npz\n",
      "patient_354.npz\n"
     ]
    },
    {
     "name": "stderr",
     "output_type": "stream",
     "text": [
      "GLCM is symmetrical, therefore Sum Average = 2 * Joint Average, only 1 needs to be calculated\n"
     ]
    },
    {
     "name": "stdout",
     "output_type": "stream",
     "text": [
      "patient_355.npz\n"
     ]
    },
    {
     "name": "stderr",
     "output_type": "stream",
     "text": [
      "GLCM is symmetrical, therefore Sum Average = 2 * Joint Average, only 1 needs to be calculated\n"
     ]
    },
    {
     "name": "stdout",
     "output_type": "stream",
     "text": [
      "patient_356.npz\n"
     ]
    },
    {
     "name": "stderr",
     "output_type": "stream",
     "text": [
      "GLCM is symmetrical, therefore Sum Average = 2 * Joint Average, only 1 needs to be calculated\n"
     ]
    },
    {
     "name": "stdout",
     "output_type": "stream",
     "text": [
      "patient_357.npz\n"
     ]
    },
    {
     "name": "stderr",
     "output_type": "stream",
     "text": [
      "GLCM is symmetrical, therefore Sum Average = 2 * Joint Average, only 1 needs to be calculated\n"
     ]
    },
    {
     "name": "stdout",
     "output_type": "stream",
     "text": [
      "patient_358.npz\n"
     ]
    },
    {
     "name": "stderr",
     "output_type": "stream",
     "text": [
      "GLCM is symmetrical, therefore Sum Average = 2 * Joint Average, only 1 needs to be calculated\n",
      "GLCM is symmetrical, therefore Sum Average = 2 * Joint Average, only 1 needs to be calculated\n"
     ]
    },
    {
     "name": "stdout",
     "output_type": "stream",
     "text": [
      "patient_359.npz\n",
      "patient_361.npz\n"
     ]
    },
    {
     "name": "stderr",
     "output_type": "stream",
     "text": [
      "GLCM is symmetrical, therefore Sum Average = 2 * Joint Average, only 1 needs to be calculated\n"
     ]
    },
    {
     "name": "stdout",
     "output_type": "stream",
     "text": [
      "patient_362.npz\n"
     ]
    },
    {
     "name": "stderr",
     "output_type": "stream",
     "text": [
      "GLCM is symmetrical, therefore Sum Average = 2 * Joint Average, only 1 needs to be calculated\n",
      "GLCM is symmetrical, therefore Sum Average = 2 * Joint Average, only 1 needs to be calculated\n"
     ]
    },
    {
     "name": "stdout",
     "output_type": "stream",
     "text": [
      "patient_365.npz\n",
      "patient_366.npz\n"
     ]
    },
    {
     "name": "stderr",
     "output_type": "stream",
     "text": [
      "GLCM is symmetrical, therefore Sum Average = 2 * Joint Average, only 1 needs to be calculated\n"
     ]
    },
    {
     "name": "stdout",
     "output_type": "stream",
     "text": [
      "patient_367.npz\n"
     ]
    },
    {
     "name": "stderr",
     "output_type": "stream",
     "text": [
      "GLCM is symmetrical, therefore Sum Average = 2 * Joint Average, only 1 needs to be calculated\n",
      "GLCM is symmetrical, therefore Sum Average = 2 * Joint Average, only 1 needs to be calculated\n"
     ]
    },
    {
     "name": "stdout",
     "output_type": "stream",
     "text": [
      "patient_368.npz\n",
      "patient_371.npz\n"
     ]
    },
    {
     "name": "stderr",
     "output_type": "stream",
     "text": [
      "GLCM is symmetrical, therefore Sum Average = 2 * Joint Average, only 1 needs to be calculated\n",
      "GLCM is symmetrical, therefore Sum Average = 2 * Joint Average, only 1 needs to be calculated\n"
     ]
    },
    {
     "name": "stdout",
     "output_type": "stream",
     "text": [
      "patient_372.npz\n",
      "patient_373.npz\n"
     ]
    },
    {
     "name": "stderr",
     "output_type": "stream",
     "text": [
      "GLCM is symmetrical, therefore Sum Average = 2 * Joint Average, only 1 needs to be calculated\n",
      "GLCM is symmetrical, therefore Sum Average = 2 * Joint Average, only 1 needs to be calculated\n"
     ]
    },
    {
     "name": "stdout",
     "output_type": "stream",
     "text": [
      "patient_375.npz\n",
      "patient_376.npz\n"
     ]
    },
    {
     "name": "stderr",
     "output_type": "stream",
     "text": [
      "GLCM is symmetrical, therefore Sum Average = 2 * Joint Average, only 1 needs to be calculated\n"
     ]
    },
    {
     "name": "stdout",
     "output_type": "stream",
     "text": [
      "patient_378.npz\n"
     ]
    },
    {
     "name": "stderr",
     "output_type": "stream",
     "text": [
      "GLCM is symmetrical, therefore Sum Average = 2 * Joint Average, only 1 needs to be calculated\n",
      "GLCM is symmetrical, therefore Sum Average = 2 * Joint Average, only 1 needs to be calculated\n"
     ]
    },
    {
     "name": "stdout",
     "output_type": "stream",
     "text": [
      "patient_380.npz\n"
     ]
    },
    {
     "name": "stderr",
     "output_type": "stream",
     "text": [
      "GLCM is symmetrical, therefore Sum Average = 2 * Joint Average, only 1 needs to be calculated\n"
     ]
    },
    {
     "name": "stdout",
     "output_type": "stream",
     "text": [
      "patient_381.npz\n",
      "patient_382.npz\n"
     ]
    },
    {
     "name": "stderr",
     "output_type": "stream",
     "text": [
      "GLCM is symmetrical, therefore Sum Average = 2 * Joint Average, only 1 needs to be calculated\n"
     ]
    },
    {
     "name": "stdout",
     "output_type": "stream",
     "text": [
      "patient_383.npz\n"
     ]
    },
    {
     "name": "stderr",
     "output_type": "stream",
     "text": [
      "GLCM is symmetrical, therefore Sum Average = 2 * Joint Average, only 1 needs to be calculated\n"
     ]
    },
    {
     "name": "stdout",
     "output_type": "stream",
     "text": [
      "patient_384.npz\n"
     ]
    },
    {
     "name": "stderr",
     "output_type": "stream",
     "text": [
      "GLCM is symmetrical, therefore Sum Average = 2 * Joint Average, only 1 needs to be calculated\n"
     ]
    },
    {
     "name": "stdout",
     "output_type": "stream",
     "text": [
      "patient_385.npz\n"
     ]
    },
    {
     "name": "stderr",
     "output_type": "stream",
     "text": [
      "GLCM is symmetrical, therefore Sum Average = 2 * Joint Average, only 1 needs to be calculated\n"
     ]
    },
    {
     "name": "stdout",
     "output_type": "stream",
     "text": [
      "patient_386.npz\n"
     ]
    },
    {
     "name": "stderr",
     "output_type": "stream",
     "text": [
      "GLCM is symmetrical, therefore Sum Average = 2 * Joint Average, only 1 needs to be calculated\n"
     ]
    },
    {
     "name": "stdout",
     "output_type": "stream",
     "text": [
      "patient_388.npz\n"
     ]
    },
    {
     "name": "stderr",
     "output_type": "stream",
     "text": [
      "GLCM is symmetrical, therefore Sum Average = 2 * Joint Average, only 1 needs to be calculated\n",
      "GLCM is symmetrical, therefore Sum Average = 2 * Joint Average, only 1 needs to be calculated\n"
     ]
    },
    {
     "name": "stdout",
     "output_type": "stream",
     "text": [
      "patient_389.npz\n"
     ]
    },
    {
     "name": "stderr",
     "output_type": "stream",
     "text": [
      "GLCM is symmetrical, therefore Sum Average = 2 * Joint Average, only 1 needs to be calculated\n"
     ]
    },
    {
     "name": "stdout",
     "output_type": "stream",
     "text": [
      "patient_390.npz\n",
      "patient_392.npz\n"
     ]
    },
    {
     "name": "stderr",
     "output_type": "stream",
     "text": [
      "GLCM is symmetrical, therefore Sum Average = 2 * Joint Average, only 1 needs to be calculated\n",
      "GLCM is symmetrical, therefore Sum Average = 2 * Joint Average, only 1 needs to be calculated\n"
     ]
    },
    {
     "name": "stdout",
     "output_type": "stream",
     "text": [
      "patient_393.npz\n"
     ]
    },
    {
     "name": "stderr",
     "output_type": "stream",
     "text": [
      "GLCM is symmetrical, therefore Sum Average = 2 * Joint Average, only 1 needs to be calculated\n"
     ]
    },
    {
     "name": "stdout",
     "output_type": "stream",
     "text": [
      "patient_394.npz\n",
      "patient_395.npz\n"
     ]
    },
    {
     "name": "stderr",
     "output_type": "stream",
     "text": [
      "GLCM is symmetrical, therefore Sum Average = 2 * Joint Average, only 1 needs to be calculated\n"
     ]
    },
    {
     "name": "stdout",
     "output_type": "stream",
     "text": [
      "patient_396.npz\n"
     ]
    },
    {
     "name": "stderr",
     "output_type": "stream",
     "text": [
      "GLCM is symmetrical, therefore Sum Average = 2 * Joint Average, only 1 needs to be calculated\n"
     ]
    },
    {
     "name": "stdout",
     "output_type": "stream",
     "text": [
      "patient_397.npz\n"
     ]
    },
    {
     "name": "stderr",
     "output_type": "stream",
     "text": [
      "GLCM is symmetrical, therefore Sum Average = 2 * Joint Average, only 1 needs to be calculated\n",
      "GLCM is symmetrical, therefore Sum Average = 2 * Joint Average, only 1 needs to be calculated\n"
     ]
    },
    {
     "name": "stdout",
     "output_type": "stream",
     "text": [
      "patient_399.npz\n",
      "patient_400.npz\n"
     ]
    },
    {
     "name": "stderr",
     "output_type": "stream",
     "text": [
      "GLCM is symmetrical, therefore Sum Average = 2 * Joint Average, only 1 needs to be calculated\n"
     ]
    },
    {
     "name": "stdout",
     "output_type": "stream",
     "text": [
      "patient_401.npz\n"
     ]
    },
    {
     "name": "stderr",
     "output_type": "stream",
     "text": [
      "GLCM is symmetrical, therefore Sum Average = 2 * Joint Average, only 1 needs to be calculated\n"
     ]
    },
    {
     "name": "stdout",
     "output_type": "stream",
     "text": [
      "patient_402.npz\n"
     ]
    },
    {
     "name": "stderr",
     "output_type": "stream",
     "text": [
      "GLCM is symmetrical, therefore Sum Average = 2 * Joint Average, only 1 needs to be calculated\n",
      "GLCM is symmetrical, therefore Sum Average = 2 * Joint Average, only 1 needs to be calculated\n"
     ]
    },
    {
     "name": "stdout",
     "output_type": "stream",
     "text": [
      "patient_403.npz\n"
     ]
    },
    {
     "name": "stderr",
     "output_type": "stream",
     "text": [
      "GLCM is symmetrical, therefore Sum Average = 2 * Joint Average, only 1 needs to be calculated\n"
     ]
    },
    {
     "name": "stdout",
     "output_type": "stream",
     "text": [
      "patient_406.npz\n",
      "patient_409.npz\n"
     ]
    },
    {
     "name": "stderr",
     "output_type": "stream",
     "text": [
      "GLCM is symmetrical, therefore Sum Average = 2 * Joint Average, only 1 needs to be calculated\n"
     ]
    },
    {
     "name": "stdout",
     "output_type": "stream",
     "text": [
      "patient_414.npz\n"
     ]
    },
    {
     "name": "stderr",
     "output_type": "stream",
     "text": [
      "GLCM is symmetrical, therefore Sum Average = 2 * Joint Average, only 1 needs to be calculated\n"
     ]
    },
    {
     "name": "stdout",
     "output_type": "stream",
     "text": [
      "patient_416.npz\n"
     ]
    },
    {
     "name": "stderr",
     "output_type": "stream",
     "text": [
      "GLCM is symmetrical, therefore Sum Average = 2 * Joint Average, only 1 needs to be calculated\n"
     ]
    },
    {
     "name": "stdout",
     "output_type": "stream",
     "text": [
      "patient_417.npz\n"
     ]
    },
    {
     "name": "stderr",
     "output_type": "stream",
     "text": [
      "GLCM is symmetrical, therefore Sum Average = 2 * Joint Average, only 1 needs to be calculated\n",
      "GLCM is symmetrical, therefore Sum Average = 2 * Joint Average, only 1 needs to be calculated\n"
     ]
    },
    {
     "name": "stdout",
     "output_type": "stream",
     "text": [
      "patient_418.npz\n"
     ]
    },
    {
     "name": "stderr",
     "output_type": "stream",
     "text": [
      "GLCM is symmetrical, therefore Sum Average = 2 * Joint Average, only 1 needs to be calculated\n"
     ]
    },
    {
     "name": "stdout",
     "output_type": "stream",
     "text": [
      "patient_420.npz\n",
      "patient_421.npz\n"
     ]
    },
    {
     "name": "stderr",
     "output_type": "stream",
     "text": [
      "GLCM is symmetrical, therefore Sum Average = 2 * Joint Average, only 1 needs to be calculated\n"
     ]
    },
    {
     "name": "stdout",
     "output_type": "stream",
     "text": [
      "patient_422.npz\n"
     ]
    },
    {
     "name": "stderr",
     "output_type": "stream",
     "text": [
      "GLCM is symmetrical, therefore Sum Average = 2 * Joint Average, only 1 needs to be calculated\n"
     ]
    },
    {
     "name": "stdout",
     "output_type": "stream",
     "text": [
      "patient_423.npz\n"
     ]
    },
    {
     "name": "stderr",
     "output_type": "stream",
     "text": [
      "GLCM is symmetrical, therefore Sum Average = 2 * Joint Average, only 1 needs to be calculated\n"
     ]
    },
    {
     "name": "stdout",
     "output_type": "stream",
     "text": [
      "patient_424.npz\n"
     ]
    },
    {
     "name": "stderr",
     "output_type": "stream",
     "text": [
      "GLCM is symmetrical, therefore Sum Average = 2 * Joint Average, only 1 needs to be calculated\n"
     ]
    }
   ],
   "source": [
    "# Extract features on all images\n",
    "filenames = os.listdir(\"Chal/train_data/images\")\n",
    "\n",
    "features_names = list(result.keys())+[\"patient_number\"]\n",
    "features_list = dict.fromkeys(features_names)\n",
    "for feature in features_names:\n",
    "    features_list[feature] = []\n",
    "\n",
    "for file in filenames:\n",
    "    if file.split(\".\")[-1]==\"npz\":\n",
    "        features_list[\"patient_number\"].append(file.split(\".\")[-2].split(\"_\")[1])\n",
    "\n",
    "for file in filenames:\n",
    "    if file.split(\".\")[-1]!=\"npz\":\n",
    "        continue\n",
    "    \"\"\"if int(file.split(\"_\")[1].split(\".\")[0])==395:\n",
    "        for feature in features_names:\n",
    "            features_list[feature].append(None)\n",
    "        continue\"\"\"\n",
    "    scan_path = \"Chal/train_data/images/\"+file.split(\".\")[0]+\"_sikt_scan.nrrd\"\n",
    "    mask_path = \"Chal/train_data/images/\"+file.split(\".\")[0]+\"_sikt_mask.nrrd\"\n",
    "    if len(np.unique(sitk.GetArrayFromImage(sitk.ReadImage(mask_path))))<2:\n",
    "        for feature in features_names:\n",
    "            if feature!=\"patient_number\":\n",
    "                features_list[feature].append(None)\n",
    "        continue\n",
    "    print(file)\n",
    "    result = extractor.execute(scan_path, mask_path)\n",
    "    for key, value in result.items():\n",
    "        features_list[key].append(value)"
   ]
  },
  {
   "cell_type": "code",
   "execution_count": 97,
   "metadata": {},
   "outputs": [
    {
     "name": "stderr",
     "output_type": "stream",
     "text": [
      "GLCM is symmetrical, therefore Sum Average = 2 * Joint Average, only 1 needs to be calculated\n"
     ]
    },
    {
     "name": "stdout",
     "output_type": "stream",
     "text": [
      "patient_000.npz\n",
      "patient_001.npz\n"
     ]
    },
    {
     "name": "stderr",
     "output_type": "stream",
     "text": [
      "GLCM is symmetrical, therefore Sum Average = 2 * Joint Average, only 1 needs to be calculated\n"
     ]
    },
    {
     "name": "stdout",
     "output_type": "stream",
     "text": [
      "patient_006.npz\n"
     ]
    },
    {
     "name": "stderr",
     "output_type": "stream",
     "text": [
      "GLCM is symmetrical, therefore Sum Average = 2 * Joint Average, only 1 needs to be calculated\n"
     ]
    },
    {
     "name": "stdout",
     "output_type": "stream",
     "text": [
      "patient_009.npz\n"
     ]
    },
    {
     "name": "stderr",
     "output_type": "stream",
     "text": [
      "GLCM is symmetrical, therefore Sum Average = 2 * Joint Average, only 1 needs to be calculated\n"
     ]
    },
    {
     "name": "stdout",
     "output_type": "stream",
     "text": [
      "patient_010.npz\n"
     ]
    },
    {
     "name": "stderr",
     "output_type": "stream",
     "text": [
      "GLCM is symmetrical, therefore Sum Average = 2 * Joint Average, only 1 needs to be calculated\n",
      "GLCM is symmetrical, therefore Sum Average = 2 * Joint Average, only 1 needs to be calculated\n"
     ]
    },
    {
     "name": "stdout",
     "output_type": "stream",
     "text": [
      "patient_012.npz\n",
      "patient_013.npz\n"
     ]
    },
    {
     "name": "stderr",
     "output_type": "stream",
     "text": [
      "GLCM is symmetrical, therefore Sum Average = 2 * Joint Average, only 1 needs to be calculated\n",
      "GLCM is symmetrical, therefore Sum Average = 2 * Joint Average, only 1 needs to be calculated\n"
     ]
    },
    {
     "name": "stdout",
     "output_type": "stream",
     "text": [
      "patient_019.npz\n",
      "patient_027.npz\n"
     ]
    },
    {
     "name": "stderr",
     "output_type": "stream",
     "text": [
      "GLCM is symmetrical, therefore Sum Average = 2 * Joint Average, only 1 needs to be calculated\n"
     ]
    },
    {
     "name": "stdout",
     "output_type": "stream",
     "text": [
      "patient_028.npz\n"
     ]
    },
    {
     "name": "stderr",
     "output_type": "stream",
     "text": [
      "GLCM is symmetrical, therefore Sum Average = 2 * Joint Average, only 1 needs to be calculated\n"
     ]
    },
    {
     "name": "stdout",
     "output_type": "stream",
     "text": [
      "patient_034.npz\n"
     ]
    },
    {
     "name": "stderr",
     "output_type": "stream",
     "text": [
      "GLCM is symmetrical, therefore Sum Average = 2 * Joint Average, only 1 needs to be calculated\n"
     ]
    },
    {
     "name": "stdout",
     "output_type": "stream",
     "text": [
      "patient_038.npz\n"
     ]
    },
    {
     "name": "stderr",
     "output_type": "stream",
     "text": [
      "GLCM is symmetrical, therefore Sum Average = 2 * Joint Average, only 1 needs to be calculated\n"
     ]
    },
    {
     "name": "stdout",
     "output_type": "stream",
     "text": [
      "patient_041.npz\n"
     ]
    },
    {
     "name": "stderr",
     "output_type": "stream",
     "text": [
      "GLCM is symmetrical, therefore Sum Average = 2 * Joint Average, only 1 needs to be calculated\n"
     ]
    },
    {
     "name": "stdout",
     "output_type": "stream",
     "text": [
      "patient_046.npz\n"
     ]
    },
    {
     "name": "stderr",
     "output_type": "stream",
     "text": [
      "GLCM is symmetrical, therefore Sum Average = 2 * Joint Average, only 1 needs to be calculated\n",
      "GLCM is symmetrical, therefore Sum Average = 2 * Joint Average, only 1 needs to be calculated\n"
     ]
    },
    {
     "name": "stdout",
     "output_type": "stream",
     "text": [
      "patient_049.npz\n",
      "patient_054.npz\n"
     ]
    },
    {
     "name": "stderr",
     "output_type": "stream",
     "text": [
      "GLCM is symmetrical, therefore Sum Average = 2 * Joint Average, only 1 needs to be calculated\n",
      "GLCM is symmetrical, therefore Sum Average = 2 * Joint Average, only 1 needs to be calculated\n"
     ]
    },
    {
     "name": "stdout",
     "output_type": "stream",
     "text": [
      "patient_055.npz\n",
      "patient_059.npz\n"
     ]
    },
    {
     "name": "stderr",
     "output_type": "stream",
     "text": [
      "GLCM is symmetrical, therefore Sum Average = 2 * Joint Average, only 1 needs to be calculated\n"
     ]
    },
    {
     "name": "stdout",
     "output_type": "stream",
     "text": [
      "patient_060.npz\n"
     ]
    },
    {
     "name": "stderr",
     "output_type": "stream",
     "text": [
      "GLCM is symmetrical, therefore Sum Average = 2 * Joint Average, only 1 needs to be calculated\n"
     ]
    },
    {
     "name": "stdout",
     "output_type": "stream",
     "text": [
      "patient_062.npz\n"
     ]
    },
    {
     "name": "stderr",
     "output_type": "stream",
     "text": [
      "GLCM is symmetrical, therefore Sum Average = 2 * Joint Average, only 1 needs to be calculated\n"
     ]
    },
    {
     "name": "stdout",
     "output_type": "stream",
     "text": [
      "patient_065.npz\n"
     ]
    },
    {
     "name": "stderr",
     "output_type": "stream",
     "text": [
      "GLCM is symmetrical, therefore Sum Average = 2 * Joint Average, only 1 needs to be calculated\n"
     ]
    },
    {
     "name": "stdout",
     "output_type": "stream",
     "text": [
      "patient_066.npz\n"
     ]
    },
    {
     "name": "stderr",
     "output_type": "stream",
     "text": [
      "GLCM is symmetrical, therefore Sum Average = 2 * Joint Average, only 1 needs to be calculated\n"
     ]
    },
    {
     "name": "stdout",
     "output_type": "stream",
     "text": [
      "patient_071.npz\n"
     ]
    },
    {
     "name": "stderr",
     "output_type": "stream",
     "text": [
      "GLCM is symmetrical, therefore Sum Average = 2 * Joint Average, only 1 needs to be calculated\n",
      "GLCM is symmetrical, therefore Sum Average = 2 * Joint Average, only 1 needs to be calculated\n"
     ]
    },
    {
     "name": "stdout",
     "output_type": "stream",
     "text": [
      "patient_074.npz\n",
      "patient_075.npz\n"
     ]
    },
    {
     "name": "stderr",
     "output_type": "stream",
     "text": [
      "GLCM is symmetrical, therefore Sum Average = 2 * Joint Average, only 1 needs to be calculated\n",
      "GLCM is symmetrical, therefore Sum Average = 2 * Joint Average, only 1 needs to be calculated\n"
     ]
    },
    {
     "name": "stdout",
     "output_type": "stream",
     "text": [
      "patient_080.npz\n",
      "patient_085.npz\n"
     ]
    },
    {
     "name": "stderr",
     "output_type": "stream",
     "text": [
      "GLCM is symmetrical, therefore Sum Average = 2 * Joint Average, only 1 needs to be calculated\n"
     ]
    },
    {
     "name": "stdout",
     "output_type": "stream",
     "text": [
      "patient_087.npz\n"
     ]
    },
    {
     "name": "stderr",
     "output_type": "stream",
     "text": [
      "GLCM is symmetrical, therefore Sum Average = 2 * Joint Average, only 1 needs to be calculated\n"
     ]
    },
    {
     "name": "stdout",
     "output_type": "stream",
     "text": [
      "patient_097.npz\n"
     ]
    },
    {
     "name": "stderr",
     "output_type": "stream",
     "text": [
      "GLCM is symmetrical, therefore Sum Average = 2 * Joint Average, only 1 needs to be calculated\n",
      "GLCM is symmetrical, therefore Sum Average = 2 * Joint Average, only 1 needs to be calculated\n"
     ]
    },
    {
     "name": "stdout",
     "output_type": "stream",
     "text": [
      "patient_099.npz\n"
     ]
    },
    {
     "name": "stderr",
     "output_type": "stream",
     "text": [
      "GLCM is symmetrical, therefore Sum Average = 2 * Joint Average, only 1 needs to be calculated\n"
     ]
    },
    {
     "name": "stdout",
     "output_type": "stream",
     "text": [
      "patient_104.npz\n"
     ]
    },
    {
     "name": "stderr",
     "output_type": "stream",
     "text": [
      "GLCM is symmetrical, therefore Sum Average = 2 * Joint Average, only 1 needs to be calculated\n"
     ]
    },
    {
     "name": "stdout",
     "output_type": "stream",
     "text": [
      "patient_113.npz\n",
      "patient_118.npz\n"
     ]
    },
    {
     "name": "stderr",
     "output_type": "stream",
     "text": [
      "GLCM is symmetrical, therefore Sum Average = 2 * Joint Average, only 1 needs to be calculated\n",
      "GLCM is symmetrical, therefore Sum Average = 2 * Joint Average, only 1 needs to be calculated\n"
     ]
    },
    {
     "name": "stdout",
     "output_type": "stream",
     "text": [
      "patient_119.npz\n",
      "patient_120.npz\n"
     ]
    },
    {
     "name": "stderr",
     "output_type": "stream",
     "text": [
      "GLCM is symmetrical, therefore Sum Average = 2 * Joint Average, only 1 needs to be calculated\n",
      "GLCM is symmetrical, therefore Sum Average = 2 * Joint Average, only 1 needs to be calculated\n"
     ]
    },
    {
     "name": "stdout",
     "output_type": "stream",
     "text": [
      "patient_125.npz\n",
      "patient_127.npz\n"
     ]
    },
    {
     "name": "stderr",
     "output_type": "stream",
     "text": [
      "GLCM is symmetrical, therefore Sum Average = 2 * Joint Average, only 1 needs to be calculated\n"
     ]
    },
    {
     "name": "stdout",
     "output_type": "stream",
     "text": [
      "patient_128.npz\n"
     ]
    },
    {
     "name": "stderr",
     "output_type": "stream",
     "text": [
      "GLCM is symmetrical, therefore Sum Average = 2 * Joint Average, only 1 needs to be calculated\n"
     ]
    },
    {
     "name": "stdout",
     "output_type": "stream",
     "text": [
      "patient_132.npz\n"
     ]
    },
    {
     "name": "stderr",
     "output_type": "stream",
     "text": [
      "GLCM is symmetrical, therefore Sum Average = 2 * Joint Average, only 1 needs to be calculated\n"
     ]
    },
    {
     "name": "stdout",
     "output_type": "stream",
     "text": [
      "patient_136.npz\n"
     ]
    },
    {
     "name": "stderr",
     "output_type": "stream",
     "text": [
      "GLCM is symmetrical, therefore Sum Average = 2 * Joint Average, only 1 needs to be calculated\n"
     ]
    },
    {
     "name": "stdout",
     "output_type": "stream",
     "text": [
      "patient_140.npz\n"
     ]
    },
    {
     "name": "stderr",
     "output_type": "stream",
     "text": [
      "GLCM is symmetrical, therefore Sum Average = 2 * Joint Average, only 1 needs to be calculated\n"
     ]
    },
    {
     "name": "stdout",
     "output_type": "stream",
     "text": [
      "patient_146.npz\n"
     ]
    },
    {
     "name": "stderr",
     "output_type": "stream",
     "text": [
      "GLCM is symmetrical, therefore Sum Average = 2 * Joint Average, only 1 needs to be calculated\n"
     ]
    },
    {
     "name": "stdout",
     "output_type": "stream",
     "text": [
      "patient_153.npz\n"
     ]
    },
    {
     "name": "stderr",
     "output_type": "stream",
     "text": [
      "GLCM is symmetrical, therefore Sum Average = 2 * Joint Average, only 1 needs to be calculated\n",
      "GLCM is symmetrical, therefore Sum Average = 2 * Joint Average, only 1 needs to be calculated\n"
     ]
    },
    {
     "name": "stdout",
     "output_type": "stream",
     "text": [
      "patient_155.npz\n",
      "patient_156.npz\n"
     ]
    },
    {
     "name": "stderr",
     "output_type": "stream",
     "text": [
      "GLCM is symmetrical, therefore Sum Average = 2 * Joint Average, only 1 needs to be calculated\n",
      "GLCM is symmetrical, therefore Sum Average = 2 * Joint Average, only 1 needs to be calculated\n"
     ]
    },
    {
     "name": "stdout",
     "output_type": "stream",
     "text": [
      "patient_158.npz\n",
      "patient_167.npz\n"
     ]
    },
    {
     "name": "stderr",
     "output_type": "stream",
     "text": [
      "GLCM is symmetrical, therefore Sum Average = 2 * Joint Average, only 1 needs to be calculated\n"
     ]
    },
    {
     "name": "stdout",
     "output_type": "stream",
     "text": [
      "patient_168.npz\n"
     ]
    },
    {
     "name": "stderr",
     "output_type": "stream",
     "text": [
      "GLCM is symmetrical, therefore Sum Average = 2 * Joint Average, only 1 needs to be calculated\n",
      "GLCM is symmetrical, therefore Sum Average = 2 * Joint Average, only 1 needs to be calculated\n"
     ]
    },
    {
     "name": "stdout",
     "output_type": "stream",
     "text": [
      "patient_169.npz\n",
      "patient_170.npz\n"
     ]
    },
    {
     "name": "stderr",
     "output_type": "stream",
     "text": [
      "GLCM is symmetrical, therefore Sum Average = 2 * Joint Average, only 1 needs to be calculated\n",
      "GLCM is symmetrical, therefore Sum Average = 2 * Joint Average, only 1 needs to be calculated\n"
     ]
    },
    {
     "name": "stdout",
     "output_type": "stream",
     "text": [
      "patient_177.npz\n",
      "patient_179.npz\n"
     ]
    },
    {
     "name": "stderr",
     "output_type": "stream",
     "text": [
      "GLCM is symmetrical, therefore Sum Average = 2 * Joint Average, only 1 needs to be calculated\n"
     ]
    },
    {
     "name": "stdout",
     "output_type": "stream",
     "text": [
      "patient_182.npz\n"
     ]
    },
    {
     "name": "stderr",
     "output_type": "stream",
     "text": [
      "GLCM is symmetrical, therefore Sum Average = 2 * Joint Average, only 1 needs to be calculated\n"
     ]
    },
    {
     "name": "stdout",
     "output_type": "stream",
     "text": [
      "patient_190.npz\n"
     ]
    },
    {
     "name": "stderr",
     "output_type": "stream",
     "text": [
      "GLCM is symmetrical, therefore Sum Average = 2 * Joint Average, only 1 needs to be calculated\n"
     ]
    },
    {
     "name": "stdout",
     "output_type": "stream",
     "text": [
      "patient_191.npz\n"
     ]
    },
    {
     "name": "stderr",
     "output_type": "stream",
     "text": [
      "GLCM is symmetrical, therefore Sum Average = 2 * Joint Average, only 1 needs to be calculated\n"
     ]
    },
    {
     "name": "stdout",
     "output_type": "stream",
     "text": [
      "patient_192.npz\n"
     ]
    },
    {
     "name": "stderr",
     "output_type": "stream",
     "text": [
      "GLCM is symmetrical, therefore Sum Average = 2 * Joint Average, only 1 needs to be calculated\n"
     ]
    },
    {
     "name": "stdout",
     "output_type": "stream",
     "text": [
      "patient_194.npz\n"
     ]
    },
    {
     "name": "stderr",
     "output_type": "stream",
     "text": [
      "GLCM is symmetrical, therefore Sum Average = 2 * Joint Average, only 1 needs to be calculated\n",
      "GLCM is symmetrical, therefore Sum Average = 2 * Joint Average, only 1 needs to be calculated\n"
     ]
    },
    {
     "name": "stdout",
     "output_type": "stream",
     "text": [
      "patient_200.npz\n",
      "patient_201.npz\n"
     ]
    },
    {
     "name": "stderr",
     "output_type": "stream",
     "text": [
      "GLCM is symmetrical, therefore Sum Average = 2 * Joint Average, only 1 needs to be calculated\n",
      "GLCM is symmetrical, therefore Sum Average = 2 * Joint Average, only 1 needs to be calculated\n"
     ]
    },
    {
     "name": "stdout",
     "output_type": "stream",
     "text": [
      "patient_203.npz\n",
      "patient_205.npz\n"
     ]
    },
    {
     "name": "stderr",
     "output_type": "stream",
     "text": [
      "GLCM is symmetrical, therefore Sum Average = 2 * Joint Average, only 1 needs to be calculated\n",
      "GLCM is symmetrical, therefore Sum Average = 2 * Joint Average, only 1 needs to be calculated\n"
     ]
    },
    {
     "name": "stdout",
     "output_type": "stream",
     "text": [
      "patient_206.npz\n",
      "patient_207.npz\n"
     ]
    },
    {
     "name": "stderr",
     "output_type": "stream",
     "text": [
      "GLCM is symmetrical, therefore Sum Average = 2 * Joint Average, only 1 needs to be calculated\n"
     ]
    },
    {
     "name": "stdout",
     "output_type": "stream",
     "text": [
      "patient_215.npz\n"
     ]
    },
    {
     "name": "stderr",
     "output_type": "stream",
     "text": [
      "GLCM is symmetrical, therefore Sum Average = 2 * Joint Average, only 1 needs to be calculated\n"
     ]
    },
    {
     "name": "stdout",
     "output_type": "stream",
     "text": [
      "patient_217.npz\n"
     ]
    },
    {
     "name": "stderr",
     "output_type": "stream",
     "text": [
      "GLCM is symmetrical, therefore Sum Average = 2 * Joint Average, only 1 needs to be calculated\n"
     ]
    },
    {
     "name": "stdout",
     "output_type": "stream",
     "text": [
      "patient_219.npz\n"
     ]
    },
    {
     "name": "stderr",
     "output_type": "stream",
     "text": [
      "GLCM is symmetrical, therefore Sum Average = 2 * Joint Average, only 1 needs to be calculated\n"
     ]
    },
    {
     "name": "stdout",
     "output_type": "stream",
     "text": [
      "patient_220.npz\n"
     ]
    },
    {
     "name": "stderr",
     "output_type": "stream",
     "text": [
      "GLCM is symmetrical, therefore Sum Average = 2 * Joint Average, only 1 needs to be calculated\n"
     ]
    },
    {
     "name": "stdout",
     "output_type": "stream",
     "text": [
      "patient_223.npz\n"
     ]
    },
    {
     "name": "stderr",
     "output_type": "stream",
     "text": [
      "GLCM is symmetrical, therefore Sum Average = 2 * Joint Average, only 1 needs to be calculated\n"
     ]
    },
    {
     "name": "stdout",
     "output_type": "stream",
     "text": [
      "patient_230.npz\n"
     ]
    },
    {
     "name": "stderr",
     "output_type": "stream",
     "text": [
      "GLCM is symmetrical, therefore Sum Average = 2 * Joint Average, only 1 needs to be calculated\n",
      "GLCM is symmetrical, therefore Sum Average = 2 * Joint Average, only 1 needs to be calculated\n"
     ]
    },
    {
     "name": "stdout",
     "output_type": "stream",
     "text": [
      "patient_232.npz\n",
      "patient_239.npz\n"
     ]
    },
    {
     "name": "stderr",
     "output_type": "stream",
     "text": [
      "GLCM is symmetrical, therefore Sum Average = 2 * Joint Average, only 1 needs to be calculated\n"
     ]
    },
    {
     "name": "stdout",
     "output_type": "stream",
     "text": [
      "patient_241.npz\n"
     ]
    },
    {
     "name": "stderr",
     "output_type": "stream",
     "text": [
      "GLCM is symmetrical, therefore Sum Average = 2 * Joint Average, only 1 needs to be calculated\n"
     ]
    },
    {
     "name": "stdout",
     "output_type": "stream",
     "text": [
      "patient_243.npz\n"
     ]
    },
    {
     "name": "stderr",
     "output_type": "stream",
     "text": [
      "GLCM is symmetrical, therefore Sum Average = 2 * Joint Average, only 1 needs to be calculated\n"
     ]
    },
    {
     "name": "stdout",
     "output_type": "stream",
     "text": [
      "patient_245.npz\n"
     ]
    },
    {
     "name": "stderr",
     "output_type": "stream",
     "text": [
      "GLCM is symmetrical, therefore Sum Average = 2 * Joint Average, only 1 needs to be calculated\n"
     ]
    },
    {
     "name": "stdout",
     "output_type": "stream",
     "text": [
      "patient_254.npz\n"
     ]
    },
    {
     "name": "stderr",
     "output_type": "stream",
     "text": [
      "GLCM is symmetrical, therefore Sum Average = 2 * Joint Average, only 1 needs to be calculated\n"
     ]
    },
    {
     "name": "stdout",
     "output_type": "stream",
     "text": [
      "patient_260.npz\n"
     ]
    },
    {
     "name": "stderr",
     "output_type": "stream",
     "text": [
      "GLCM is symmetrical, therefore Sum Average = 2 * Joint Average, only 1 needs to be calculated\n"
     ]
    },
    {
     "name": "stdout",
     "output_type": "stream",
     "text": [
      "patient_265.npz\n"
     ]
    },
    {
     "name": "stderr",
     "output_type": "stream",
     "text": [
      "GLCM is symmetrical, therefore Sum Average = 2 * Joint Average, only 1 needs to be calculated\n"
     ]
    },
    {
     "name": "stdout",
     "output_type": "stream",
     "text": [
      "patient_267.npz\n"
     ]
    },
    {
     "name": "stderr",
     "output_type": "stream",
     "text": [
      "GLCM is symmetrical, therefore Sum Average = 2 * Joint Average, only 1 needs to be calculated\n",
      "GLCM is symmetrical, therefore Sum Average = 2 * Joint Average, only 1 needs to be calculated\n"
     ]
    },
    {
     "name": "stdout",
     "output_type": "stream",
     "text": [
      "patient_270.npz\n",
      "patient_271.npz\n"
     ]
    },
    {
     "name": "stderr",
     "output_type": "stream",
     "text": [
      "GLCM is symmetrical, therefore Sum Average = 2 * Joint Average, only 1 needs to be calculated\n"
     ]
    },
    {
     "name": "stdout",
     "output_type": "stream",
     "text": [
      "patient_274.npz\n"
     ]
    },
    {
     "name": "stderr",
     "output_type": "stream",
     "text": [
      "GLCM is symmetrical, therefore Sum Average = 2 * Joint Average, only 1 needs to be calculated\n"
     ]
    },
    {
     "name": "stdout",
     "output_type": "stream",
     "text": [
      "patient_278.npz\n"
     ]
    },
    {
     "name": "stderr",
     "output_type": "stream",
     "text": [
      "GLCM is symmetrical, therefore Sum Average = 2 * Joint Average, only 1 needs to be calculated\n"
     ]
    },
    {
     "name": "stdout",
     "output_type": "stream",
     "text": [
      "patient_281.npz\n"
     ]
    },
    {
     "name": "stderr",
     "output_type": "stream",
     "text": [
      "GLCM is symmetrical, therefore Sum Average = 2 * Joint Average, only 1 needs to be calculated\n"
     ]
    },
    {
     "name": "stdout",
     "output_type": "stream",
     "text": [
      "patient_287.npz\n"
     ]
    },
    {
     "name": "stderr",
     "output_type": "stream",
     "text": [
      "GLCM is symmetrical, therefore Sum Average = 2 * Joint Average, only 1 needs to be calculated\n",
      "GLCM is symmetrical, therefore Sum Average = 2 * Joint Average, only 1 needs to be calculated\n"
     ]
    },
    {
     "name": "stdout",
     "output_type": "stream",
     "text": [
      "patient_289.npz\n",
      "patient_291.npz\n"
     ]
    },
    {
     "name": "stderr",
     "output_type": "stream",
     "text": [
      "GLCM is symmetrical, therefore Sum Average = 2 * Joint Average, only 1 needs to be calculated\n"
     ]
    },
    {
     "name": "stdout",
     "output_type": "stream",
     "text": [
      "patient_292.npz\n"
     ]
    },
    {
     "name": "stderr",
     "output_type": "stream",
     "text": [
      "GLCM is symmetrical, therefore Sum Average = 2 * Joint Average, only 1 needs to be calculated\n",
      "GLCM is symmetrical, therefore Sum Average = 2 * Joint Average, only 1 needs to be calculated\n"
     ]
    },
    {
     "name": "stdout",
     "output_type": "stream",
     "text": [
      "patient_296.npz\n",
      "patient_301.npz\n"
     ]
    },
    {
     "name": "stderr",
     "output_type": "stream",
     "text": [
      "GLCM is symmetrical, therefore Sum Average = 2 * Joint Average, only 1 needs to be calculated\n",
      "GLCM is symmetrical, therefore Sum Average = 2 * Joint Average, only 1 needs to be calculated\n"
     ]
    },
    {
     "name": "stdout",
     "output_type": "stream",
     "text": [
      "patient_319.npz\n"
     ]
    },
    {
     "name": "stderr",
     "output_type": "stream",
     "text": [
      "GLCM is symmetrical, therefore Sum Average = 2 * Joint Average, only 1 needs to be calculated\n"
     ]
    },
    {
     "name": "stdout",
     "output_type": "stream",
     "text": [
      "patient_322.npz\n",
      "patient_324.npz\n"
     ]
    },
    {
     "name": "stderr",
     "output_type": "stream",
     "text": [
      "GLCM is symmetrical, therefore Sum Average = 2 * Joint Average, only 1 needs to be calculated\n"
     ]
    },
    {
     "name": "stdout",
     "output_type": "stream",
     "text": [
      "patient_326.npz\n"
     ]
    },
    {
     "name": "stderr",
     "output_type": "stream",
     "text": [
      "GLCM is symmetrical, therefore Sum Average = 2 * Joint Average, only 1 needs to be calculated\n",
      "GLCM is symmetrical, therefore Sum Average = 2 * Joint Average, only 1 needs to be calculated\n"
     ]
    },
    {
     "name": "stdout",
     "output_type": "stream",
     "text": [
      "patient_332.npz\n"
     ]
    },
    {
     "name": "stderr",
     "output_type": "stream",
     "text": [
      "GLCM is symmetrical, therefore Sum Average = 2 * Joint Average, only 1 needs to be calculated\n"
     ]
    },
    {
     "name": "stdout",
     "output_type": "stream",
     "text": [
      "patient_337.npz\n",
      "patient_339.npz\n"
     ]
    },
    {
     "name": "stderr",
     "output_type": "stream",
     "text": [
      "GLCM is symmetrical, therefore Sum Average = 2 * Joint Average, only 1 needs to be calculated\n"
     ]
    },
    {
     "name": "stdout",
     "output_type": "stream",
     "text": [
      "patient_342.npz\n"
     ]
    },
    {
     "name": "stderr",
     "output_type": "stream",
     "text": [
      "GLCM is symmetrical, therefore Sum Average = 2 * Joint Average, only 1 needs to be calculated\n"
     ]
    },
    {
     "name": "stdout",
     "output_type": "stream",
     "text": [
      "patient_344.npz\n"
     ]
    },
    {
     "name": "stderr",
     "output_type": "stream",
     "text": [
      "GLCM is symmetrical, therefore Sum Average = 2 * Joint Average, only 1 needs to be calculated\n"
     ]
    },
    {
     "name": "stdout",
     "output_type": "stream",
     "text": [
      "patient_351.npz\n"
     ]
    },
    {
     "name": "stderr",
     "output_type": "stream",
     "text": [
      "GLCM is symmetrical, therefore Sum Average = 2 * Joint Average, only 1 needs to be calculated\n"
     ]
    },
    {
     "name": "stdout",
     "output_type": "stream",
     "text": [
      "patient_352.npz\n"
     ]
    },
    {
     "name": "stderr",
     "output_type": "stream",
     "text": [
      "GLCM is symmetrical, therefore Sum Average = 2 * Joint Average, only 1 needs to be calculated\n",
      "GLCM is symmetrical, therefore Sum Average = 2 * Joint Average, only 1 needs to be calculated\n"
     ]
    },
    {
     "name": "stdout",
     "output_type": "stream",
     "text": [
      "patient_360.npz\n",
      "patient_363.npz\n"
     ]
    },
    {
     "name": "stderr",
     "output_type": "stream",
     "text": [
      "GLCM is symmetrical, therefore Sum Average = 2 * Joint Average, only 1 needs to be calculated\n"
     ]
    },
    {
     "name": "stdout",
     "output_type": "stream",
     "text": [
      "patient_364.npz\n"
     ]
    },
    {
     "name": "stderr",
     "output_type": "stream",
     "text": [
      "GLCM is symmetrical, therefore Sum Average = 2 * Joint Average, only 1 needs to be calculated\n"
     ]
    },
    {
     "name": "stdout",
     "output_type": "stream",
     "text": [
      "patient_369.npz\n"
     ]
    },
    {
     "name": "stderr",
     "output_type": "stream",
     "text": [
      "GLCM is symmetrical, therefore Sum Average = 2 * Joint Average, only 1 needs to be calculated\n",
      "GLCM is symmetrical, therefore Sum Average = 2 * Joint Average, only 1 needs to be calculated\n"
     ]
    },
    {
     "name": "stdout",
     "output_type": "stream",
     "text": [
      "patient_370.npz\n",
      "patient_374.npz\n"
     ]
    },
    {
     "name": "stderr",
     "output_type": "stream",
     "text": [
      "GLCM is symmetrical, therefore Sum Average = 2 * Joint Average, only 1 needs to be calculated\n"
     ]
    },
    {
     "name": "stdout",
     "output_type": "stream",
     "text": [
      "patient_377.npz\n"
     ]
    },
    {
     "name": "stderr",
     "output_type": "stream",
     "text": [
      "GLCM is symmetrical, therefore Sum Average = 2 * Joint Average, only 1 needs to be calculated\n",
      "GLCM is symmetrical, therefore Sum Average = 2 * Joint Average, only 1 needs to be calculated\n"
     ]
    },
    {
     "name": "stdout",
     "output_type": "stream",
     "text": [
      "patient_379.npz\n",
      "patient_387.npz\n"
     ]
    },
    {
     "name": "stderr",
     "output_type": "stream",
     "text": [
      "GLCM is symmetrical, therefore Sum Average = 2 * Joint Average, only 1 needs to be calculated\n"
     ]
    },
    {
     "name": "stdout",
     "output_type": "stream",
     "text": [
      "patient_398.npz\n"
     ]
    },
    {
     "name": "stderr",
     "output_type": "stream",
     "text": [
      "GLCM is symmetrical, therefore Sum Average = 2 * Joint Average, only 1 needs to be calculated\n"
     ]
    },
    {
     "name": "stdout",
     "output_type": "stream",
     "text": [
      "patient_405.npz\n"
     ]
    },
    {
     "name": "stderr",
     "output_type": "stream",
     "text": [
      "GLCM is symmetrical, therefore Sum Average = 2 * Joint Average, only 1 needs to be calculated\n"
     ]
    },
    {
     "name": "stdout",
     "output_type": "stream",
     "text": [
      "patient_407.npz\n"
     ]
    },
    {
     "name": "stderr",
     "output_type": "stream",
     "text": [
      "GLCM is symmetrical, therefore Sum Average = 2 * Joint Average, only 1 needs to be calculated\n"
     ]
    },
    {
     "name": "stdout",
     "output_type": "stream",
     "text": [
      "patient_408.npz\n"
     ]
    },
    {
     "name": "stderr",
     "output_type": "stream",
     "text": [
      "GLCM is symmetrical, therefore Sum Average = 2 * Joint Average, only 1 needs to be calculated\n",
      "GLCM is symmetrical, therefore Sum Average = 2 * Joint Average, only 1 needs to be calculated\n"
     ]
    },
    {
     "name": "stdout",
     "output_type": "stream",
     "text": [
      "patient_410.npz\n"
     ]
    },
    {
     "name": "stderr",
     "output_type": "stream",
     "text": [
      "GLCM is symmetrical, therefore Sum Average = 2 * Joint Average, only 1 needs to be calculated\n"
     ]
    },
    {
     "name": "stdout",
     "output_type": "stream",
     "text": [
      "patient_411.npz\n"
     ]
    },
    {
     "name": "stderr",
     "output_type": "stream",
     "text": [
      "GLCM is symmetrical, therefore Sum Average = 2 * Joint Average, only 1 needs to be calculated\n"
     ]
    },
    {
     "name": "stdout",
     "output_type": "stream",
     "text": [
      "patient_412.npz\n",
      "patient_413.npz\n"
     ]
    },
    {
     "name": "stderr",
     "output_type": "stream",
     "text": [
      "GLCM is symmetrical, therefore Sum Average = 2 * Joint Average, only 1 needs to be calculated\n"
     ]
    },
    {
     "name": "stdout",
     "output_type": "stream",
     "text": [
      "patient_415.npz\n"
     ]
    },
    {
     "name": "stderr",
     "output_type": "stream",
     "text": [
      "GLCM is symmetrical, therefore Sum Average = 2 * Joint Average, only 1 needs to be calculated\n",
      "GLCM is symmetrical, therefore Sum Average = 2 * Joint Average, only 1 needs to be calculated\n"
     ]
    },
    {
     "name": "stdout",
     "output_type": "stream",
     "text": [
      "patient_419.npz\n"
     ]
    }
   ],
   "source": [
    "# Extract features on all images\n",
    "filenames = os.listdir(\"Chal/test_data/images\")\n",
    "\n",
    "features_names = list(result.keys())+[\"patient_number\"]\n",
    "features_list = dict.fromkeys(features_names)\n",
    "for feature in features_names:\n",
    "    features_list[feature] = []\n",
    "\n",
    "for file in filenames:\n",
    "    if file.split(\".\")[-1]==\"npz\":\n",
    "        features_list[\"patient_number\"].append(file.split(\".\")[-2].split(\"_\")[1])\n",
    "\n",
    "for file in filenames:\n",
    "    if file.split(\".\")[-1]!=\"npz\":\n",
    "        continue\n",
    "    scan_path = \"Chal/test_data/images/\"+file.split(\".\")[0]+\"_sikt_scan.nrrd\"\n",
    "    mask_path = \"Chal/test_data/images/\"+file.split(\".\")[0]+\"_sikt_mask.nrrd\"\n",
    "    if len(np.unique(sitk.GetArrayFromImage(sitk.ReadImage(mask_path))))<2:\n",
    "        for feature in features_names:\n",
    "            if feature!=\"patient_number\":\n",
    "                features_list[feature].append(None)\n",
    "        continue\n",
    "    print(file)\n",
    "    result = extractor.execute(scan_path, mask_path)\n",
    "    for key, value in result.items():\n",
    "        features_list[key].append(value)"
   ]
  },
  {
   "cell_type": "code",
   "execution_count": 50,
   "metadata": {},
   "outputs": [],
   "source": [
    "# Useless\n",
    "rows = []\n",
    "for i in features_names:\n",
    "    while \"diagnostics\"\n",
    "rows.append(features_names)\n",
    "for key, value in features_list.items():\n",
    "    rows.append(value)"
   ]
  },
  {
   "cell_type": "code",
   "execution_count": 92,
   "metadata": {},
   "outputs": [],
   "source": [
    "# Save Features\n",
    "df = pd.DataFrame(data=features_list)\n",
    "df.to_csv(\"extracted_features.csv\", sep=',',index=False)"
   ]
  },
  {
   "cell_type": "code",
   "execution_count": 98,
   "metadata": {},
   "outputs": [],
   "source": [
    "# Save Features\n",
    "df = pd.DataFrame(data=features_list)\n",
    "df.to_csv(\"test_extracted_features.csv\", sep=',',index=False)"
   ]
  },
  {
   "cell_type": "code",
   "execution_count": 93,
   "metadata": {},
   "outputs": [
    {
     "data": {
      "text/html": [
       "<div>\n",
       "<style scoped>\n",
       "    .dataframe tbody tr th:only-of-type {\n",
       "        vertical-align: middle;\n",
       "    }\n",
       "\n",
       "    .dataframe tbody tr th {\n",
       "        vertical-align: top;\n",
       "    }\n",
       "\n",
       "    .dataframe thead th {\n",
       "        text-align: right;\n",
       "    }\n",
       "</style>\n",
       "<table border=\"1\" class=\"dataframe\">\n",
       "  <thead>\n",
       "    <tr style=\"text-align: right;\">\n",
       "      <th></th>\n",
       "      <th>diagnostics_Versions_PyRadiomics</th>\n",
       "      <th>diagnostics_Versions_Numpy</th>\n",
       "      <th>diagnostics_Versions_SimpleITK</th>\n",
       "      <th>diagnostics_Versions_PyWavelet</th>\n",
       "      <th>diagnostics_Versions_Python</th>\n",
       "      <th>diagnostics_Configuration_Settings</th>\n",
       "      <th>diagnostics_Configuration_EnabledImageTypes</th>\n",
       "      <th>diagnostics_Image-original_Hash</th>\n",
       "      <th>diagnostics_Image-original_Dimensionality</th>\n",
       "      <th>diagnostics_Image-original_Spacing</th>\n",
       "      <th>...</th>\n",
       "      <th>original_glszm_SmallAreaLowGrayLevelEmphasis</th>\n",
       "      <th>original_glszm_ZoneEntropy</th>\n",
       "      <th>original_glszm_ZonePercentage</th>\n",
       "      <th>original_glszm_ZoneVariance</th>\n",
       "      <th>original_ngtdm_Busyness</th>\n",
       "      <th>original_ngtdm_Coarseness</th>\n",
       "      <th>original_ngtdm_Complexity</th>\n",
       "      <th>original_ngtdm_Contrast</th>\n",
       "      <th>original_ngtdm_Strength</th>\n",
       "      <th>patient_number</th>\n",
       "    </tr>\n",
       "  </thead>\n",
       "  <tbody>\n",
       "    <tr>\n",
       "      <th>0</th>\n",
       "      <td>2.2.0</td>\n",
       "      <td>1.17.4</td>\n",
       "      <td>1.2.4</td>\n",
       "      <td>0.5.2</td>\n",
       "      <td>3.6.5</td>\n",
       "      <td>{'minimumROIDimensions': 2, 'minimumROISize': ...</td>\n",
       "      <td>{'Original': {}}</td>\n",
       "      <td>12594f333e663f725eafbb011efb36cc28ef09ea</td>\n",
       "      <td>3D</td>\n",
       "      <td>(1.0, 1.0, 1.0)</td>\n",
       "      <td>...</td>\n",
       "      <td>0.0014159294924583742</td>\n",
       "      <td>7.440152780881469</td>\n",
       "      <td>0.05065013935430697</td>\n",
       "      <td>811080.0103191268</td>\n",
       "      <td>4.638003576181803</td>\n",
       "      <td>5.446082904968082e-05</td>\n",
       "      <td>1208.990130928983</td>\n",
       "      <td>0.004242342429635777</td>\n",
       "      <td>0.3528600071678195</td>\n",
       "      <td>002</td>\n",
       "    </tr>\n",
       "    <tr>\n",
       "      <th>1</th>\n",
       "      <td>None</td>\n",
       "      <td>None</td>\n",
       "      <td>None</td>\n",
       "      <td>None</td>\n",
       "      <td>None</td>\n",
       "      <td>None</td>\n",
       "      <td>None</td>\n",
       "      <td>None</td>\n",
       "      <td>None</td>\n",
       "      <td>None</td>\n",
       "      <td>...</td>\n",
       "      <td>None</td>\n",
       "      <td>None</td>\n",
       "      <td>None</td>\n",
       "      <td>None</td>\n",
       "      <td>None</td>\n",
       "      <td>None</td>\n",
       "      <td>None</td>\n",
       "      <td>None</td>\n",
       "      <td>None</td>\n",
       "      <td>003</td>\n",
       "    </tr>\n",
       "    <tr>\n",
       "      <th>2</th>\n",
       "      <td>2.2.0</td>\n",
       "      <td>1.17.4</td>\n",
       "      <td>1.2.4</td>\n",
       "      <td>0.5.2</td>\n",
       "      <td>3.6.5</td>\n",
       "      <td>{'minimumROIDimensions': 2, 'minimumROISize': ...</td>\n",
       "      <td>{'Original': {}}</td>\n",
       "      <td>793be327098729932754ab0c539a10d3be8007c0</td>\n",
       "      <td>3D</td>\n",
       "      <td>(1.0, 1.0, 1.0)</td>\n",
       "      <td>...</td>\n",
       "      <td>0.0011823588904757247</td>\n",
       "      <td>8.05320738907593</td>\n",
       "      <td>0.12583400659035412</td>\n",
       "      <td>43542.93247932123</td>\n",
       "      <td>1.2453260036682692</td>\n",
       "      <td>0.000216962582959674</td>\n",
       "      <td>2124.6732991252165</td>\n",
       "      <td>0.029745506287594543</td>\n",
       "      <td>0.593370980923771</td>\n",
       "      <td>004</td>\n",
       "    </tr>\n",
       "    <tr>\n",
       "      <th>3</th>\n",
       "      <td>2.2.0</td>\n",
       "      <td>1.17.4</td>\n",
       "      <td>1.2.4</td>\n",
       "      <td>0.5.2</td>\n",
       "      <td>3.6.5</td>\n",
       "      <td>{'minimumROIDimensions': 2, 'minimumROISize': ...</td>\n",
       "      <td>{'Original': {}}</td>\n",
       "      <td>5728d2537b555bb664252698dc1a51694866b4f4</td>\n",
       "      <td>3D</td>\n",
       "      <td>(1.0, 1.0, 1.0)</td>\n",
       "      <td>...</td>\n",
       "      <td>0.006010770464847511</td>\n",
       "      <td>6.445624212509823</td>\n",
       "      <td>0.03442424242424243</td>\n",
       "      <td>78052.2017952787</td>\n",
       "      <td>0.3192361746468855</td>\n",
       "      <td>0.0011584858008878434</td>\n",
       "      <td>493.9439694152586</td>\n",
       "      <td>0.004182293302986566</td>\n",
       "      <td>7.9263924028377275</td>\n",
       "      <td>005</td>\n",
       "    </tr>\n",
       "    <tr>\n",
       "      <th>4</th>\n",
       "      <td>2.2.0</td>\n",
       "      <td>1.17.4</td>\n",
       "      <td>1.2.4</td>\n",
       "      <td>0.5.2</td>\n",
       "      <td>3.6.5</td>\n",
       "      <td>{'minimumROIDimensions': 2, 'minimumROISize': ...</td>\n",
       "      <td>{'Original': {}}</td>\n",
       "      <td>9f1b576cfc98ab355c1ac62a08abd4f84c89be21</td>\n",
       "      <td>3D</td>\n",
       "      <td>(1.0, 1.0, 1.0)</td>\n",
       "      <td>...</td>\n",
       "      <td>0.0010591164492006718</td>\n",
       "      <td>7.968079701923623</td>\n",
       "      <td>0.05924262819164598</td>\n",
       "      <td>611132.025210262</td>\n",
       "      <td>3.6014025715567675</td>\n",
       "      <td>5.676665846302051e-05</td>\n",
       "      <td>1723.9199416906906</td>\n",
       "      <td>0.009181368148031591</td>\n",
       "      <td>0.5111257271308385</td>\n",
       "      <td>007</td>\n",
       "    </tr>\n",
       "    <tr>\n",
       "      <th>5</th>\n",
       "      <td>2.2.0</td>\n",
       "      <td>1.17.4</td>\n",
       "      <td>1.2.4</td>\n",
       "      <td>0.5.2</td>\n",
       "      <td>3.6.5</td>\n",
       "      <td>{'minimumROIDimensions': 2, 'minimumROISize': ...</td>\n",
       "      <td>{'Original': {}}</td>\n",
       "      <td>6d505a43db6064df0112884d2876f6e83e97804c</td>\n",
       "      <td>3D</td>\n",
       "      <td>(1.0, 1.0, 1.0)</td>\n",
       "      <td>...</td>\n",
       "      <td>0.002603921296331485</td>\n",
       "      <td>6.902112459727654</td>\n",
       "      <td>0.3567645642753972</td>\n",
       "      <td>297.2954117880604</td>\n",
       "      <td>0.29144824075065945</td>\n",
       "      <td>0.002476095943858015</td>\n",
       "      <td>1625.667447850248</td>\n",
       "      <td>0.23602064618873433</td>\n",
       "      <td>2.0443356629047984</td>\n",
       "      <td>008</td>\n",
       "    </tr>\n",
       "    <tr>\n",
       "      <th>6</th>\n",
       "      <td>2.2.0</td>\n",
       "      <td>1.17.4</td>\n",
       "      <td>1.2.4</td>\n",
       "      <td>0.5.2</td>\n",
       "      <td>3.6.5</td>\n",
       "      <td>{'minimumROIDimensions': 2, 'minimumROISize': ...</td>\n",
       "      <td>{'Original': {}}</td>\n",
       "      <td>e73b20e78dcb299acfe3ccdb16915e5da5e64e8b</td>\n",
       "      <td>3D</td>\n",
       "      <td>(1.0, 1.0, 1.0)</td>\n",
       "      <td>...</td>\n",
       "      <td>0.006495320016546854</td>\n",
       "      <td>5.951022804375938</td>\n",
       "      <td>0.36528028933092227</td>\n",
       "      <td>156.28264385844525</td>\n",
       "      <td>0.09501105398887026</td>\n",
       "      <td>0.007916250096069312</td>\n",
       "      <td>1518.545746076143</td>\n",
       "      <td>0.18237875682701976</td>\n",
       "      <td>5.4164580535629065</td>\n",
       "      <td>011</td>\n",
       "    </tr>\n",
       "    <tr>\n",
       "      <th>7</th>\n",
       "      <td>2.2.0</td>\n",
       "      <td>1.17.4</td>\n",
       "      <td>1.2.4</td>\n",
       "      <td>0.5.2</td>\n",
       "      <td>3.6.5</td>\n",
       "      <td>{'minimumROIDimensions': 2, 'minimumROISize': ...</td>\n",
       "      <td>{'Original': {}}</td>\n",
       "      <td>51a099ec121e376fb2ac8cd6c124e5022cb3a8e8</td>\n",
       "      <td>3D</td>\n",
       "      <td>(1.0, 1.0, 1.0)</td>\n",
       "      <td>...</td>\n",
       "      <td>0.0024816657630558495</td>\n",
       "      <td>7.187488219746435</td>\n",
       "      <td>0.22692146021275908</td>\n",
       "      <td>12552.147271933809</td>\n",
       "      <td>0.718215089001439</td>\n",
       "      <td>0.0005338474193486882</td>\n",
       "      <td>1647.829002575773</td>\n",
       "      <td>0.15172573955141086</td>\n",
       "      <td>0.9576135144010168</td>\n",
       "      <td>014</td>\n",
       "    </tr>\n",
       "    <tr>\n",
       "      <th>8</th>\n",
       "      <td>2.2.0</td>\n",
       "      <td>1.17.4</td>\n",
       "      <td>1.2.4</td>\n",
       "      <td>0.5.2</td>\n",
       "      <td>3.6.5</td>\n",
       "      <td>{'minimumROIDimensions': 2, 'minimumROISize': ...</td>\n",
       "      <td>{'Original': {}}</td>\n",
       "      <td>a006099e256744eedd9278354a398b33c134a07e</td>\n",
       "      <td>3D</td>\n",
       "      <td>(1.0, 1.0, 1.0)</td>\n",
       "      <td>...</td>\n",
       "      <td>0.002710463401557397</td>\n",
       "      <td>7.163170755024512</td>\n",
       "      <td>0.06724826260535266</td>\n",
       "      <td>210087.6836985185</td>\n",
       "      <td>3.411742942537483</td>\n",
       "      <td>0.00014734084864731234</td>\n",
       "      <td>571.386299734884</td>\n",
       "      <td>0.019888263426672353</td>\n",
       "      <td>0.39281939193215354</td>\n",
       "      <td>015</td>\n",
       "    </tr>\n",
       "    <tr>\n",
       "      <th>9</th>\n",
       "      <td>2.2.0</td>\n",
       "      <td>1.17.4</td>\n",
       "      <td>1.2.4</td>\n",
       "      <td>0.5.2</td>\n",
       "      <td>3.6.5</td>\n",
       "      <td>{'minimumROIDimensions': 2, 'minimumROISize': ...</td>\n",
       "      <td>{'Original': {}}</td>\n",
       "      <td>767e22198388ac93a9db95e0dfd9b3fa7e14f685</td>\n",
       "      <td>3D</td>\n",
       "      <td>(1.0, 1.0, 1.0)</td>\n",
       "      <td>...</td>\n",
       "      <td>0.0011997397769629755</td>\n",
       "      <td>7.300068195325571</td>\n",
       "      <td>0.02935379145087733</td>\n",
       "      <td>686026.4747536255</td>\n",
       "      <td>3.568586114684688</td>\n",
       "      <td>9.763512851495345e-05</td>\n",
       "      <td>684.5476765671239</td>\n",
       "      <td>0.004234913657332878</td>\n",
       "      <td>0.5179838137907027</td>\n",
       "      <td>016</td>\n",
       "    </tr>\n",
       "    <tr>\n",
       "      <th>10</th>\n",
       "      <td>2.2.0</td>\n",
       "      <td>1.17.4</td>\n",
       "      <td>1.2.4</td>\n",
       "      <td>0.5.2</td>\n",
       "      <td>3.6.5</td>\n",
       "      <td>{'minimumROIDimensions': 2, 'minimumROISize': ...</td>\n",
       "      <td>{'Original': {}}</td>\n",
       "      <td>f65716ab000b2cab81ddd97e9e866dbc6cf54cf9</td>\n",
       "      <td>3D</td>\n",
       "      <td>(1.0, 1.0, 1.0)</td>\n",
       "      <td>...</td>\n",
       "      <td>0.001446299567661113</td>\n",
       "      <td>7.1482289392513</td>\n",
       "      <td>0.15515759871890014</td>\n",
       "      <td>29405.39059390769</td>\n",
       "      <td>1.2292764344076512</td>\n",
       "      <td>0.0002473928805907371</td>\n",
       "      <td>1679.6737560912095</td>\n",
       "      <td>0.07042559391726383</td>\n",
       "      <td>0.7519694951848688</td>\n",
       "      <td>017</td>\n",
       "    </tr>\n",
       "    <tr>\n",
       "      <th>11</th>\n",
       "      <td>2.2.0</td>\n",
       "      <td>1.17.4</td>\n",
       "      <td>1.2.4</td>\n",
       "      <td>0.5.2</td>\n",
       "      <td>3.6.5</td>\n",
       "      <td>{'minimumROIDimensions': 2, 'minimumROISize': ...</td>\n",
       "      <td>{'Original': {}}</td>\n",
       "      <td>db71698b55385f24e2094eb9eb473ec60fa11eba</td>\n",
       "      <td>3D</td>\n",
       "      <td>(1.0, 1.0, 1.0)</td>\n",
       "      <td>...</td>\n",
       "      <td>0.005795213208560181</td>\n",
       "      <td>6.717746514400345</td>\n",
       "      <td>0.3448</td>\n",
       "      <td>234.74565346511557</td>\n",
       "      <td>0.21531070583514791</td>\n",
       "      <td>0.004311672555854459</td>\n",
       "      <td>1120.3790957642361</td>\n",
       "      <td>0.26061068807854054</td>\n",
       "      <td>2.67177305342798</td>\n",
       "      <td>018</td>\n",
       "    </tr>\n",
       "    <tr>\n",
       "      <th>12</th>\n",
       "      <td>2.2.0</td>\n",
       "      <td>1.17.4</td>\n",
       "      <td>1.2.4</td>\n",
       "      <td>0.5.2</td>\n",
       "      <td>3.6.5</td>\n",
       "      <td>{'minimumROIDimensions': 2, 'minimumROISize': ...</td>\n",
       "      <td>{'Original': {}}</td>\n",
       "      <td>0fd2875d68a33102403e1250fa54a3b97d2e8038</td>\n",
       "      <td>3D</td>\n",
       "      <td>(1.0, 1.0, 1.0)</td>\n",
       "      <td>...</td>\n",
       "      <td>0.0024163820170306216</td>\n",
       "      <td>6.925315419808879</td>\n",
       "      <td>0.1128870157237802</td>\n",
       "      <td>30505.587363138762</td>\n",
       "      <td>0.7435117485030087</td>\n",
       "      <td>0.0004070436981795229</td>\n",
       "      <td>1253.528510770986</td>\n",
       "      <td>0.02491228994041788</td>\n",
       "      <td>1.34571279526463</td>\n",
       "      <td>020</td>\n",
       "    </tr>\n",
       "    <tr>\n",
       "      <th>13</th>\n",
       "      <td>2.2.0</td>\n",
       "      <td>1.17.4</td>\n",
       "      <td>1.2.4</td>\n",
       "      <td>0.5.2</td>\n",
       "      <td>3.6.5</td>\n",
       "      <td>{'minimumROIDimensions': 2, 'minimumROISize': ...</td>\n",
       "      <td>{'Original': {}}</td>\n",
       "      <td>58ac9f73a92cb0c8bd4b27cba4a5d7ba0ae4064e</td>\n",
       "      <td>3D</td>\n",
       "      <td>(1.0, 1.0, 1.0)</td>\n",
       "      <td>...</td>\n",
       "      <td>0.0011862493145998437</td>\n",
       "      <td>7.81034796797381</td>\n",
       "      <td>0.129630196300433</td>\n",
       "      <td>141833.43206893734</td>\n",
       "      <td>2.5739529880840752</td>\n",
       "      <td>7.523836316655893e-05</td>\n",
       "      <td>3783.570137452137</td>\n",
       "      <td>0.027978509760262837</td>\n",
       "      <td>0.5198296269213483</td>\n",
       "      <td>021</td>\n",
       "    </tr>\n",
       "    <tr>\n",
       "      <th>14</th>\n",
       "      <td>2.2.0</td>\n",
       "      <td>1.17.4</td>\n",
       "      <td>1.2.4</td>\n",
       "      <td>0.5.2</td>\n",
       "      <td>3.6.5</td>\n",
       "      <td>{'minimumROIDimensions': 2, 'minimumROISize': ...</td>\n",
       "      <td>{'Original': {}}</td>\n",
       "      <td>00f4c6538c38660e8b280ee538e4871fc9561e62</td>\n",
       "      <td>3D</td>\n",
       "      <td>(1.0, 1.0, 1.0)</td>\n",
       "      <td>...</td>\n",
       "      <td>0.0036028534742678056</td>\n",
       "      <td>7.119603520516285</td>\n",
       "      <td>0.2674930680150057</td>\n",
       "      <td>362.57364626710296</td>\n",
       "      <td>0.24853563488531313</td>\n",
       "      <td>0.0038810862563832234</td>\n",
       "      <td>982.1963220743498</td>\n",
       "      <td>0.2629703327415735</td>\n",
       "      <td>2.8692955397867865</td>\n",
       "      <td>022</td>\n",
       "    </tr>\n",
       "    <tr>\n",
       "      <th>15</th>\n",
       "      <td>2.2.0</td>\n",
       "      <td>1.17.4</td>\n",
       "      <td>1.2.4</td>\n",
       "      <td>0.5.2</td>\n",
       "      <td>3.6.5</td>\n",
       "      <td>{'minimumROIDimensions': 2, 'minimumROISize': ...</td>\n",
       "      <td>{'Original': {}}</td>\n",
       "      <td>bd4f5ca8cf3b7afadf2a43f425b66edf1d6ebe11</td>\n",
       "      <td>3D</td>\n",
       "      <td>(1.0, 1.0, 1.0)</td>\n",
       "      <td>...</td>\n",
       "      <td>0.0014782033379319083</td>\n",
       "      <td>7.219255031854712</td>\n",
       "      <td>0.14935017443263682</td>\n",
       "      <td>182536.6243364634</td>\n",
       "      <td>6.7939657787905325</td>\n",
       "      <td>3.2568551442329724e-05</td>\n",
       "      <td>3274.4066226843884</td>\n",
       "      <td>0.05036177188228468</td>\n",
       "      <td>0.1461400249351767</td>\n",
       "      <td>023</td>\n",
       "    </tr>\n",
       "    <tr>\n",
       "      <th>16</th>\n",
       "      <td>2.2.0</td>\n",
       "      <td>1.17.4</td>\n",
       "      <td>1.2.4</td>\n",
       "      <td>0.5.2</td>\n",
       "      <td>3.6.5</td>\n",
       "      <td>{'minimumROIDimensions': 2, 'minimumROISize': ...</td>\n",
       "      <td>{'Original': {}}</td>\n",
       "      <td>595826dcdfbf9652827e3a1f6937211634edf370</td>\n",
       "      <td>3D</td>\n",
       "      <td>(1.0, 1.0, 1.0)</td>\n",
       "      <td>...</td>\n",
       "      <td>0.006907860635189329</td>\n",
       "      <td>5.950434128790246</td>\n",
       "      <td>0.44931506849315067</td>\n",
       "      <td>13.595441701368234</td>\n",
       "      <td>0.07775376602305296</td>\n",
       "      <td>0.015311698238793617</td>\n",
       "      <td>1082.3433954985846</td>\n",
       "      <td>0.18711460911450706</td>\n",
       "      <td>6.9985259560373505</td>\n",
       "      <td>024</td>\n",
       "    </tr>\n",
       "    <tr>\n",
       "      <th>17</th>\n",
       "      <td>2.2.0</td>\n",
       "      <td>1.17.4</td>\n",
       "      <td>1.2.4</td>\n",
       "      <td>0.5.2</td>\n",
       "      <td>3.6.5</td>\n",
       "      <td>{'minimumROIDimensions': 2, 'minimumROISize': ...</td>\n",
       "      <td>{'Original': {}}</td>\n",
       "      <td>3d3e518cf08aff6eb5c0c7abfc4094c94e4110d1</td>\n",
       "      <td>3D</td>\n",
       "      <td>(1.0, 1.0, 1.0)</td>\n",
       "      <td>...</td>\n",
       "      <td>0.008796740018479512</td>\n",
       "      <td>6.767227329727602</td>\n",
       "      <td>0.5231710871466045</td>\n",
       "      <td>6.291318037569541</td>\n",
       "      <td>0.7443653978587913</td>\n",
       "      <td>0.0025182204955828675</td>\n",
       "      <td>4106.131295341815</td>\n",
       "      <td>0.37330474914344075</td>\n",
       "      <td>2.309729433318687</td>\n",
       "      <td>025</td>\n",
       "    </tr>\n",
       "    <tr>\n",
       "      <th>18</th>\n",
       "      <td>2.2.0</td>\n",
       "      <td>1.17.4</td>\n",
       "      <td>1.2.4</td>\n",
       "      <td>0.5.2</td>\n",
       "      <td>3.6.5</td>\n",
       "      <td>{'minimumROIDimensions': 2, 'minimumROISize': ...</td>\n",
       "      <td>{'Original': {}}</td>\n",
       "      <td>79a7de279fb138413263eee2b69786414a60cbf9</td>\n",
       "      <td>3D</td>\n",
       "      <td>(1.0, 1.0, 1.0)</td>\n",
       "      <td>...</td>\n",
       "      <td>0.001557470188282822</td>\n",
       "      <td>7.090255023506899</td>\n",
       "      <td>0.12212354450365108</td>\n",
       "      <td>33589.52913567098</td>\n",
       "      <td>0.7661707437541035</td>\n",
       "      <td>0.0004014305095663808</td>\n",
       "      <td>1161.876057322675</td>\n",
       "      <td>0.059036952728628085</td>\n",
       "      <td>1.1032477225643165</td>\n",
       "      <td>026</td>\n",
       "    </tr>\n",
       "    <tr>\n",
       "      <th>19</th>\n",
       "      <td>2.2.0</td>\n",
       "      <td>1.17.4</td>\n",
       "      <td>1.2.4</td>\n",
       "      <td>0.5.2</td>\n",
       "      <td>3.6.5</td>\n",
       "      <td>{'minimumROIDimensions': 2, 'minimumROISize': ...</td>\n",
       "      <td>{'Original': {}}</td>\n",
       "      <td>fd015105daca2518853520558c52bc230e8575ec</td>\n",
       "      <td>3D</td>\n",
       "      <td>(1.0, 1.0, 1.0)</td>\n",
       "      <td>...</td>\n",
       "      <td>0.005713686201900686</td>\n",
       "      <td>6.663476366367941</td>\n",
       "      <td>0.08957553058676654</td>\n",
       "      <td>2804.8407774769635</td>\n",
       "      <td>0.08874752350635252</td>\n",
       "      <td>0.003560695223905199</td>\n",
       "      <td>1478.1495036217834</td>\n",
       "      <td>0.034767170274454084</td>\n",
       "      <td>13.176368854198525</td>\n",
       "      <td>029</td>\n",
       "    </tr>\n",
       "    <tr>\n",
       "      <th>20</th>\n",
       "      <td>2.2.0</td>\n",
       "      <td>1.17.4</td>\n",
       "      <td>1.2.4</td>\n",
       "      <td>0.5.2</td>\n",
       "      <td>3.6.5</td>\n",
       "      <td>{'minimumROIDimensions': 2, 'minimumROISize': ...</td>\n",
       "      <td>{'Original': {}}</td>\n",
       "      <td>0447ab9567ed7d777497a4fba69d457b4334e0d5</td>\n",
       "      <td>3D</td>\n",
       "      <td>(1.0, 1.0, 1.0)</td>\n",
       "      <td>...</td>\n",
       "      <td>0.002264241467467257</td>\n",
       "      <td>7.528535891348224</td>\n",
       "      <td>0.09316935914228884</td>\n",
       "      <td>393164.94835038495</td>\n",
       "      <td>5.069998381229161</td>\n",
       "      <td>3.8983071733322356e-05</td>\n",
       "      <td>2430.5623771889923</td>\n",
       "      <td>0.028673775438350833</td>\n",
       "      <td>0.2824008653671039</td>\n",
       "      <td>030</td>\n",
       "    </tr>\n",
       "    <tr>\n",
       "      <th>21</th>\n",
       "      <td>2.2.0</td>\n",
       "      <td>1.17.4</td>\n",
       "      <td>1.2.4</td>\n",
       "      <td>0.5.2</td>\n",
       "      <td>3.6.5</td>\n",
       "      <td>{'minimumROIDimensions': 2, 'minimumROISize': ...</td>\n",
       "      <td>{'Original': {}}</td>\n",
       "      <td>e19e2775aaeeea7fe18ea99245314f606583dede</td>\n",
       "      <td>3D</td>\n",
       "      <td>(1.0, 1.0, 1.0)</td>\n",
       "      <td>...</td>\n",
       "      <td>0.0033701014182111544</td>\n",
       "      <td>7.075213534864172</td>\n",
       "      <td>0.2759607607275442</td>\n",
       "      <td>10391.770094986245</td>\n",
       "      <td>1.869546784202216</td>\n",
       "      <td>0.0002989103733588873</td>\n",
       "      <td>1480.497558524571</td>\n",
       "      <td>0.24212596764408367</td>\n",
       "      <td>0.3691892591800383</td>\n",
       "      <td>031</td>\n",
       "    </tr>\n",
       "    <tr>\n",
       "      <th>22</th>\n",
       "      <td>2.2.0</td>\n",
       "      <td>1.17.4</td>\n",
       "      <td>1.2.4</td>\n",
       "      <td>0.5.2</td>\n",
       "      <td>3.6.5</td>\n",
       "      <td>{'minimumROIDimensions': 2, 'minimumROISize': ...</td>\n",
       "      <td>{'Original': {}}</td>\n",
       "      <td>c6af2e1a7f1ebed4054bfa52f32f236a19cb7b04</td>\n",
       "      <td>3D</td>\n",
       "      <td>(1.0, 1.0, 1.0)</td>\n",
       "      <td>...</td>\n",
       "      <td>0.004478892194681272</td>\n",
       "      <td>7.364049968847478</td>\n",
       "      <td>0.3871370033849991</td>\n",
       "      <td>19.054420979222684</td>\n",
       "      <td>0.9716861284774899</td>\n",
       "      <td>0.0005216460612959262</td>\n",
       "      <td>11917.081383411622</td>\n",
       "      <td>0.08934411615858587</td>\n",
       "      <td>2.852184219608707</td>\n",
       "      <td>032</td>\n",
       "    </tr>\n",
       "    <tr>\n",
       "      <th>23</th>\n",
       "      <td>2.2.0</td>\n",
       "      <td>1.17.4</td>\n",
       "      <td>1.2.4</td>\n",
       "      <td>0.5.2</td>\n",
       "      <td>3.6.5</td>\n",
       "      <td>{'minimumROIDimensions': 2, 'minimumROISize': ...</td>\n",
       "      <td>{'Original': {}}</td>\n",
       "      <td>bfa2119673ff03db3e3699d0cd85c4e269e229e6</td>\n",
       "      <td>3D</td>\n",
       "      <td>(1.0, 1.0, 1.0)</td>\n",
       "      <td>...</td>\n",
       "      <td>0.0009684034975278726</td>\n",
       "      <td>7.872772219592215</td>\n",
       "      <td>0.08349834468923295</td>\n",
       "      <td>338809.6860428674</td>\n",
       "      <td>2.992659970348785</td>\n",
       "      <td>5.4133503542378135e-05</td>\n",
       "      <td>2963.8876188000413</td>\n",
       "      <td>0.009854556161924995</td>\n",
       "      <td>0.5647399711839881</td>\n",
       "      <td>033</td>\n",
       "    </tr>\n",
       "    <tr>\n",
       "      <th>24</th>\n",
       "      <td>2.2.0</td>\n",
       "      <td>1.17.4</td>\n",
       "      <td>1.2.4</td>\n",
       "      <td>0.5.2</td>\n",
       "      <td>3.6.5</td>\n",
       "      <td>{'minimumROIDimensions': 2, 'minimumROISize': ...</td>\n",
       "      <td>{'Original': {}}</td>\n",
       "      <td>d5ffe45339bfca80ab65d9acde22ef36abd7655d</td>\n",
       "      <td>3D</td>\n",
       "      <td>(1.0, 1.0, 1.0)</td>\n",
       "      <td>...</td>\n",
       "      <td>0.002908885356763631</td>\n",
       "      <td>6.21075337013764</td>\n",
       "      <td>0.2940793754066363</td>\n",
       "      <td>508.0719467068682</td>\n",
       "      <td>0.22134234614219983</td>\n",
       "      <td>0.003224851038770374</td>\n",
       "      <td>1146.8938909447143</td>\n",
       "      <td>0.13475547967437387</td>\n",
       "      <td>2.7469204593263274</td>\n",
       "      <td>035</td>\n",
       "    </tr>\n",
       "    <tr>\n",
       "      <th>25</th>\n",
       "      <td>2.2.0</td>\n",
       "      <td>1.17.4</td>\n",
       "      <td>1.2.4</td>\n",
       "      <td>0.5.2</td>\n",
       "      <td>3.6.5</td>\n",
       "      <td>{'minimumROIDimensions': 2, 'minimumROISize': ...</td>\n",
       "      <td>{'Original': {}}</td>\n",
       "      <td>f3527dd02d868dffd46d25b1d23f2fa8b8e56a2d</td>\n",
       "      <td>3D</td>\n",
       "      <td>(1.0, 1.0, 1.0)</td>\n",
       "      <td>...</td>\n",
       "      <td>0.0036208752790588663</td>\n",
       "      <td>6.471723959457549</td>\n",
       "      <td>0.2441846153846154</td>\n",
       "      <td>1028.5670340038862</td>\n",
       "      <td>0.6573836988450625</td>\n",
       "      <td>0.0013299692055761766</td>\n",
       "      <td>1071.3662241422517</td>\n",
       "      <td>0.10377605682359203</td>\n",
       "      <td>0.8657919258745741</td>\n",
       "      <td>036</td>\n",
       "    </tr>\n",
       "    <tr>\n",
       "      <th>26</th>\n",
       "      <td>2.2.0</td>\n",
       "      <td>1.17.4</td>\n",
       "      <td>1.2.4</td>\n",
       "      <td>0.5.2</td>\n",
       "      <td>3.6.5</td>\n",
       "      <td>{'minimumROIDimensions': 2, 'minimumROISize': ...</td>\n",
       "      <td>{'Original': {}}</td>\n",
       "      <td>b9404e479f573a10474fa5e3cb7db1a11919ffee</td>\n",
       "      <td>3D</td>\n",
       "      <td>(1.0, 1.0, 1.0)</td>\n",
       "      <td>...</td>\n",
       "      <td>0.0016532951269105337</td>\n",
       "      <td>6.838362747834132</td>\n",
       "      <td>0.0632</td>\n",
       "      <td>413156.0150660787</td>\n",
       "      <td>2.1830571653224937</td>\n",
       "      <td>0.0001267737666582638</td>\n",
       "      <td>749.9158351824378</td>\n",
       "      <td>0.012066473305202052</td>\n",
       "      <td>0.9327402031053049</td>\n",
       "      <td>037</td>\n",
       "    </tr>\n",
       "    <tr>\n",
       "      <th>27</th>\n",
       "      <td>2.2.0</td>\n",
       "      <td>1.17.4</td>\n",
       "      <td>1.2.4</td>\n",
       "      <td>0.5.2</td>\n",
       "      <td>3.6.5</td>\n",
       "      <td>{'minimumROIDimensions': 2, 'minimumROISize': ...</td>\n",
       "      <td>{'Original': {}}</td>\n",
       "      <td>000124dd34f277dab8e8ed25b4f3fdc573250d7c</td>\n",
       "      <td>3D</td>\n",
       "      <td>(1.0, 1.0, 1.0)</td>\n",
       "      <td>...</td>\n",
       "      <td>0.021777146613668082</td>\n",
       "      <td>7.056734031952162</td>\n",
       "      <td>0.40493946731234864</td>\n",
       "      <td>42.56478399309962</td>\n",
       "      <td>2.3900556049024786</td>\n",
       "      <td>0.0008861569387576326</td>\n",
       "      <td>3444.064111227163</td>\n",
       "      <td>0.4168759894986801</td>\n",
       "      <td>1.2120189227048546</td>\n",
       "      <td>039</td>\n",
       "    </tr>\n",
       "    <tr>\n",
       "      <th>28</th>\n",
       "      <td>2.2.0</td>\n",
       "      <td>1.17.4</td>\n",
       "      <td>1.2.4</td>\n",
       "      <td>0.5.2</td>\n",
       "      <td>3.6.5</td>\n",
       "      <td>{'minimumROIDimensions': 2, 'minimumROISize': ...</td>\n",
       "      <td>{'Original': {}}</td>\n",
       "      <td>316cafb0bf8a80e58c69b4817162a95ee2592b67</td>\n",
       "      <td>3D</td>\n",
       "      <td>(1.0, 1.0, 1.0)</td>\n",
       "      <td>...</td>\n",
       "      <td>0.0009976370361452303</td>\n",
       "      <td>8.39840409320068</td>\n",
       "      <td>0.08230140065349956</td>\n",
       "      <td>96503.69110517327</td>\n",
       "      <td>0.960775376291332</td>\n",
       "      <td>0.0001967858309645778</td>\n",
       "      <td>2637.6172078158274</td>\n",
       "      <td>0.016261025617102468</td>\n",
       "      <td>1.3746116959447103</td>\n",
       "      <td>040</td>\n",
       "    </tr>\n",
       "    <tr>\n",
       "      <th>29</th>\n",
       "      <td>2.2.0</td>\n",
       "      <td>1.17.4</td>\n",
       "      <td>1.2.4</td>\n",
       "      <td>0.5.2</td>\n",
       "      <td>3.6.5</td>\n",
       "      <td>{'minimumROIDimensions': 2, 'minimumROISize': ...</td>\n",
       "      <td>{'Original': {}}</td>\n",
       "      <td>aab86d97a50a5d4320952e3893b27a56e1ec3594</td>\n",
       "      <td>3D</td>\n",
       "      <td>(1.0, 1.0, 1.0)</td>\n",
       "      <td>...</td>\n",
       "      <td>0.0033161139862184735</td>\n",
       "      <td>6.804784763626182</td>\n",
       "      <td>0.537030657940062</td>\n",
       "      <td>11.146471830061621</td>\n",
       "      <td>0.24075557855225987</td>\n",
       "      <td>0.0031409559177572096</td>\n",
       "      <td>4109.773898836124</td>\n",
       "      <td>0.47306662438586555</td>\n",
       "      <td>2.9058133115381</td>\n",
       "      <td>042</td>\n",
       "    </tr>\n",
       "    <tr>\n",
       "      <th>...</th>\n",
       "      <td>...</td>\n",
       "      <td>...</td>\n",
       "      <td>...</td>\n",
       "      <td>...</td>\n",
       "      <td>...</td>\n",
       "      <td>...</td>\n",
       "      <td>...</td>\n",
       "      <td>...</td>\n",
       "      <td>...</td>\n",
       "      <td>...</td>\n",
       "      <td>...</td>\n",
       "      <td>...</td>\n",
       "      <td>...</td>\n",
       "      <td>...</td>\n",
       "      <td>...</td>\n",
       "      <td>...</td>\n",
       "      <td>...</td>\n",
       "      <td>...</td>\n",
       "      <td>...</td>\n",
       "      <td>...</td>\n",
       "      <td>...</td>\n",
       "    </tr>\n",
       "    <tr>\n",
       "      <th>270</th>\n",
       "      <td>2.2.0</td>\n",
       "      <td>1.17.4</td>\n",
       "      <td>1.2.4</td>\n",
       "      <td>0.5.2</td>\n",
       "      <td>3.6.5</td>\n",
       "      <td>{'minimumROIDimensions': 2, 'minimumROISize': ...</td>\n",
       "      <td>{'Original': {}}</td>\n",
       "      <td>be4d8f2eca8fe2307ae6818aa18bcfa99b291d0e</td>\n",
       "      <td>3D</td>\n",
       "      <td>(1.0, 1.0, 1.0)</td>\n",
       "      <td>...</td>\n",
       "      <td>0.0013509056343411852</td>\n",
       "      <td>7.334743201676842</td>\n",
       "      <td>0.10878951426368542</td>\n",
       "      <td>151378.24478776962</td>\n",
       "      <td>2.3428187121503</td>\n",
       "      <td>0.00010627521367141708</td>\n",
       "      <td>1630.6569147296443</td>\n",
       "      <td>0.024289031675709668</td>\n",
       "      <td>0.4606421181580048</td>\n",
       "      <td>383</td>\n",
       "    </tr>\n",
       "    <tr>\n",
       "      <th>271</th>\n",
       "      <td>2.2.0</td>\n",
       "      <td>1.17.4</td>\n",
       "      <td>1.2.4</td>\n",
       "      <td>0.5.2</td>\n",
       "      <td>3.6.5</td>\n",
       "      <td>{'minimumROIDimensions': 2, 'minimumROISize': ...</td>\n",
       "      <td>{'Original': {}}</td>\n",
       "      <td>77deb4de13b4f07bb61d734e6ec9cc212a0cfe7f</td>\n",
       "      <td>3D</td>\n",
       "      <td>(1.0, 1.0, 1.0)</td>\n",
       "      <td>...</td>\n",
       "      <td>0.0019692452410667548</td>\n",
       "      <td>7.9000586359461815</td>\n",
       "      <td>0.08376924595341492</td>\n",
       "      <td>220261.32511390524</td>\n",
       "      <td>1.6669130507706895</td>\n",
       "      <td>0.00014576756906747247</td>\n",
       "      <td>2596.2892100343224</td>\n",
       "      <td>0.007389078129697386</td>\n",
       "      <td>2.1377123840874988</td>\n",
       "      <td>384</td>\n",
       "    </tr>\n",
       "    <tr>\n",
       "      <th>272</th>\n",
       "      <td>2.2.0</td>\n",
       "      <td>1.17.4</td>\n",
       "      <td>1.2.4</td>\n",
       "      <td>0.5.2</td>\n",
       "      <td>3.6.5</td>\n",
       "      <td>{'minimumROIDimensions': 2, 'minimumROISize': ...</td>\n",
       "      <td>{'Original': {}}</td>\n",
       "      <td>9ae0a95dc56ae7279abe420eb42c3805fac7d11a</td>\n",
       "      <td>3D</td>\n",
       "      <td>(1.0, 1.0, 1.0)</td>\n",
       "      <td>...</td>\n",
       "      <td>0.002567791612340664</td>\n",
       "      <td>6.825974708094388</td>\n",
       "      <td>0.2281795511221945</td>\n",
       "      <td>6672.7729771199265</td>\n",
       "      <td>0.661894902033628</td>\n",
       "      <td>0.0006908799968563485</td>\n",
       "      <td>1279.881703279654</td>\n",
       "      <td>0.1073748552891916</td>\n",
       "      <td>1.0214902995475954</td>\n",
       "      <td>385</td>\n",
       "    </tr>\n",
       "    <tr>\n",
       "      <th>273</th>\n",
       "      <td>2.2.0</td>\n",
       "      <td>1.17.4</td>\n",
       "      <td>1.2.4</td>\n",
       "      <td>0.5.2</td>\n",
       "      <td>3.6.5</td>\n",
       "      <td>{'minimumROIDimensions': 2, 'minimumROISize': ...</td>\n",
       "      <td>{'Original': {}}</td>\n",
       "      <td>837e5ae1dc8d128f63077a7e68ed93d006d1d6f9</td>\n",
       "      <td>3D</td>\n",
       "      <td>(1.0, 1.0, 1.0)</td>\n",
       "      <td>...</td>\n",
       "      <td>0.002449529032387442</td>\n",
       "      <td>7.03977569882979</td>\n",
       "      <td>0.3181305671439847</td>\n",
       "      <td>2010.213896679345</td>\n",
       "      <td>0.47142096946338186</td>\n",
       "      <td>0.0005808740155667074</td>\n",
       "      <td>5713.776148060454</td>\n",
       "      <td>0.15799137588532178</td>\n",
       "      <td>1.3758528190465993</td>\n",
       "      <td>386</td>\n",
       "    </tr>\n",
       "    <tr>\n",
       "      <th>274</th>\n",
       "      <td>2.2.0</td>\n",
       "      <td>1.17.4</td>\n",
       "      <td>1.2.4</td>\n",
       "      <td>0.5.2</td>\n",
       "      <td>3.6.5</td>\n",
       "      <td>{'minimumROIDimensions': 2, 'minimumROISize': ...</td>\n",
       "      <td>{'Original': {}}</td>\n",
       "      <td>ad0f07e904f6ea5f461ef51034291550c46136aa</td>\n",
       "      <td>3D</td>\n",
       "      <td>(1.0, 1.0, 1.0)</td>\n",
       "      <td>...</td>\n",
       "      <td>0.001188144214303948</td>\n",
       "      <td>6.976727623008532</td>\n",
       "      <td>0.05125079055449302</td>\n",
       "      <td>785969.9310955203</td>\n",
       "      <td>3.8016278198652</td>\n",
       "      <td>7.172777262168633e-05</td>\n",
       "      <td>802.1590061468481</td>\n",
       "      <td>0.005318600659449717</td>\n",
       "      <td>0.5216353800835233</td>\n",
       "      <td>388</td>\n",
       "    </tr>\n",
       "    <tr>\n",
       "      <th>275</th>\n",
       "      <td>2.2.0</td>\n",
       "      <td>1.17.4</td>\n",
       "      <td>1.2.4</td>\n",
       "      <td>0.5.2</td>\n",
       "      <td>3.6.5</td>\n",
       "      <td>{'minimumROIDimensions': 2, 'minimumROISize': ...</td>\n",
       "      <td>{'Original': {}}</td>\n",
       "      <td>7bec2a39df74a9e2e59a5cdd1096c29794eb4f68</td>\n",
       "      <td>3D</td>\n",
       "      <td>(1.0, 1.0, 1.0)</td>\n",
       "      <td>...</td>\n",
       "      <td>0.0040470839458114785</td>\n",
       "      <td>6.846158783236782</td>\n",
       "      <td>0.37414187643020597</td>\n",
       "      <td>44.474988076200106</td>\n",
       "      <td>0.24104344071650663</td>\n",
       "      <td>0.006761312245770574</td>\n",
       "      <td>1082.9570011449448</td>\n",
       "      <td>0.325462943510588</td>\n",
       "      <td>3.7278074028627395</td>\n",
       "      <td>389</td>\n",
       "    </tr>\n",
       "    <tr>\n",
       "      <th>276</th>\n",
       "      <td>2.2.0</td>\n",
       "      <td>1.17.4</td>\n",
       "      <td>1.2.4</td>\n",
       "      <td>0.5.2</td>\n",
       "      <td>3.6.5</td>\n",
       "      <td>{'minimumROIDimensions': 2, 'minimumROISize': ...</td>\n",
       "      <td>{'Original': {}}</td>\n",
       "      <td>ed2326ea913c8f192d36f9f8009f4b0da8b2f887</td>\n",
       "      <td>3D</td>\n",
       "      <td>(1.0, 1.0, 1.0)</td>\n",
       "      <td>...</td>\n",
       "      <td>0.00525405309115141</td>\n",
       "      <td>6.55191775162472</td>\n",
       "      <td>0.606694560669456</td>\n",
       "      <td>15.632940377102088</td>\n",
       "      <td>0.13843509755321795</td>\n",
       "      <td>0.004142410708728122</td>\n",
       "      <td>6602.780622433239</td>\n",
       "      <td>0.794694408241354</td>\n",
       "      <td>4.256762468826891</td>\n",
       "      <td>390</td>\n",
       "    </tr>\n",
       "    <tr>\n",
       "      <th>277</th>\n",
       "      <td>None</td>\n",
       "      <td>None</td>\n",
       "      <td>None</td>\n",
       "      <td>None</td>\n",
       "      <td>None</td>\n",
       "      <td>None</td>\n",
       "      <td>None</td>\n",
       "      <td>None</td>\n",
       "      <td>None</td>\n",
       "      <td>None</td>\n",
       "      <td>...</td>\n",
       "      <td>None</td>\n",
       "      <td>None</td>\n",
       "      <td>None</td>\n",
       "      <td>None</td>\n",
       "      <td>None</td>\n",
       "      <td>None</td>\n",
       "      <td>None</td>\n",
       "      <td>None</td>\n",
       "      <td>None</td>\n",
       "      <td>391</td>\n",
       "    </tr>\n",
       "    <tr>\n",
       "      <th>278</th>\n",
       "      <td>2.2.0</td>\n",
       "      <td>1.17.4</td>\n",
       "      <td>1.2.4</td>\n",
       "      <td>0.5.2</td>\n",
       "      <td>3.6.5</td>\n",
       "      <td>{'minimumROIDimensions': 2, 'minimumROISize': ...</td>\n",
       "      <td>{'Original': {}}</td>\n",
       "      <td>afd38ea1d48ef85eb4a553aafaee2ecbf9033094</td>\n",
       "      <td>3D</td>\n",
       "      <td>(1.0, 1.0, 1.0)</td>\n",
       "      <td>...</td>\n",
       "      <td>0.006589831902850517</td>\n",
       "      <td>7.0671533446542965</td>\n",
       "      <td>0.4437893081761006</td>\n",
       "      <td>246.6913640781993</td>\n",
       "      <td>0.4448591428677588</td>\n",
       "      <td>0.0009309076781772361</td>\n",
       "      <td>6051.920831005981</td>\n",
       "      <td>0.393646599803466</td>\n",
       "      <td>1.3731539230080159</td>\n",
       "      <td>392</td>\n",
       "    </tr>\n",
       "    <tr>\n",
       "      <th>279</th>\n",
       "      <td>2.2.0</td>\n",
       "      <td>1.17.4</td>\n",
       "      <td>1.2.4</td>\n",
       "      <td>0.5.2</td>\n",
       "      <td>3.6.5</td>\n",
       "      <td>{'minimumROIDimensions': 2, 'minimumROISize': ...</td>\n",
       "      <td>{'Original': {}}</td>\n",
       "      <td>676a0b5d486752323fd4bb034db883c545613e85</td>\n",
       "      <td>3D</td>\n",
       "      <td>(1.0, 1.0, 1.0)</td>\n",
       "      <td>...</td>\n",
       "      <td>0.005627222696726434</td>\n",
       "      <td>6.550081582231421</td>\n",
       "      <td>0.3996039603960396</td>\n",
       "      <td>552.115206943259</td>\n",
       "      <td>0.3406755410988624</td>\n",
       "      <td>0.0016397185525391935</td>\n",
       "      <td>2805.2378926059687</td>\n",
       "      <td>0.4780447536058001</td>\n",
       "      <td>1.9222176385002876</td>\n",
       "      <td>393</td>\n",
       "    </tr>\n",
       "    <tr>\n",
       "      <th>280</th>\n",
       "      <td>2.2.0</td>\n",
       "      <td>1.17.4</td>\n",
       "      <td>1.2.4</td>\n",
       "      <td>0.5.2</td>\n",
       "      <td>3.6.5</td>\n",
       "      <td>{'minimumROIDimensions': 2, 'minimumROISize': ...</td>\n",
       "      <td>{'Original': {}}</td>\n",
       "      <td>83d0f4a72dfee3d7fd97371a25cd16a78ef5ac75</td>\n",
       "      <td>3D</td>\n",
       "      <td>(1.0, 1.0, 1.0)</td>\n",
       "      <td>...</td>\n",
       "      <td>0.013458602554774874</td>\n",
       "      <td>6.04821530110506</td>\n",
       "      <td>0.5420054200542005</td>\n",
       "      <td>13.375975</td>\n",
       "      <td>0.17587494256212904</td>\n",
       "      <td>0.009829106273203849</td>\n",
       "      <td>1946.6586907576063</td>\n",
       "      <td>0.6774027776887893</td>\n",
       "      <td>4.457299674693692</td>\n",
       "      <td>394</td>\n",
       "    </tr>\n",
       "    <tr>\n",
       "      <th>281</th>\n",
       "      <td>2.2.0</td>\n",
       "      <td>1.17.4</td>\n",
       "      <td>1.2.4</td>\n",
       "      <td>0.5.2</td>\n",
       "      <td>3.6.5</td>\n",
       "      <td>{'minimumROIDimensions': 2, 'minimumROISize': ...</td>\n",
       "      <td>{'Original': {}}</td>\n",
       "      <td>1a44cfe606274d683844250e8063d206005b309b</td>\n",
       "      <td>3D</td>\n",
       "      <td>(1.0, 1.0, 1.0)</td>\n",
       "      <td>...</td>\n",
       "      <td>0.0015301414395284903</td>\n",
       "      <td>7.646380857897902</td>\n",
       "      <td>0.099608564522684</td>\n",
       "      <td>430181.2842743045</td>\n",
       "      <td>4.2834973475769695</td>\n",
       "      <td>4.700103179431201e-05</td>\n",
       "      <td>2103.9007784109804</td>\n",
       "      <td>0.01967008852253595</td>\n",
       "      <td>0.3465010231383506</td>\n",
       "      <td>395</td>\n",
       "    </tr>\n",
       "    <tr>\n",
       "      <th>282</th>\n",
       "      <td>2.2.0</td>\n",
       "      <td>1.17.4</td>\n",
       "      <td>1.2.4</td>\n",
       "      <td>0.5.2</td>\n",
       "      <td>3.6.5</td>\n",
       "      <td>{'minimumROIDimensions': 2, 'minimumROISize': ...</td>\n",
       "      <td>{'Original': {}}</td>\n",
       "      <td>f01abf6993c293df5a3e397ba89adef92f516a8f</td>\n",
       "      <td>3D</td>\n",
       "      <td>(1.0, 1.0, 1.0)</td>\n",
       "      <td>...</td>\n",
       "      <td>0.004051975410363078</td>\n",
       "      <td>7.242046172265801</td>\n",
       "      <td>0.34307331072267155</td>\n",
       "      <td>471.2459778224349</td>\n",
       "      <td>0.8400071965018975</td>\n",
       "      <td>0.0006237280431003554</td>\n",
       "      <td>5623.218717544708</td>\n",
       "      <td>0.2087544094065177</td>\n",
       "      <td>1.4803864293788846</td>\n",
       "      <td>396</td>\n",
       "    </tr>\n",
       "    <tr>\n",
       "      <th>283</th>\n",
       "      <td>2.2.0</td>\n",
       "      <td>1.17.4</td>\n",
       "      <td>1.2.4</td>\n",
       "      <td>0.5.2</td>\n",
       "      <td>3.6.5</td>\n",
       "      <td>{'minimumROIDimensions': 2, 'minimumROISize': ...</td>\n",
       "      <td>{'Original': {}}</td>\n",
       "      <td>ab86b1afffbefb256b9f450f1b1c1ca69372e99c</td>\n",
       "      <td>3D</td>\n",
       "      <td>(1.0, 1.0, 1.0)</td>\n",
       "      <td>...</td>\n",
       "      <td>0.0006413234112890079</td>\n",
       "      <td>7.798182267442231</td>\n",
       "      <td>0.0388714323834211</td>\n",
       "      <td>1169320.639178522</td>\n",
       "      <td>3.0262035180871107</td>\n",
       "      <td>5.898416096653614e-05</td>\n",
       "      <td>1515.553097825558</td>\n",
       "      <td>0.002113059538029328</td>\n",
       "      <td>0.7500047185247829</td>\n",
       "      <td>397</td>\n",
       "    </tr>\n",
       "    <tr>\n",
       "      <th>284</th>\n",
       "      <td>2.2.0</td>\n",
       "      <td>1.17.4</td>\n",
       "      <td>1.2.4</td>\n",
       "      <td>0.5.2</td>\n",
       "      <td>3.6.5</td>\n",
       "      <td>{'minimumROIDimensions': 2, 'minimumROISize': ...</td>\n",
       "      <td>{'Original': {}}</td>\n",
       "      <td>e73081be43e235e898c6003ee445f92fd7179686</td>\n",
       "      <td>3D</td>\n",
       "      <td>(1.0, 1.0, 1.0)</td>\n",
       "      <td>...</td>\n",
       "      <td>0.0035480536801734733</td>\n",
       "      <td>6.6473961935836945</td>\n",
       "      <td>0.34747953468332615</td>\n",
       "      <td>293.73771845232994</td>\n",
       "      <td>0.22660862047737765</td>\n",
       "      <td>0.003090580429514026</td>\n",
       "      <td>1522.0485246002622</td>\n",
       "      <td>0.21892236165194368</td>\n",
       "      <td>2.4418282715080295</td>\n",
       "      <td>399</td>\n",
       "    </tr>\n",
       "    <tr>\n",
       "      <th>285</th>\n",
       "      <td>2.2.0</td>\n",
       "      <td>1.17.4</td>\n",
       "      <td>1.2.4</td>\n",
       "      <td>0.5.2</td>\n",
       "      <td>3.6.5</td>\n",
       "      <td>{'minimumROIDimensions': 2, 'minimumROISize': ...</td>\n",
       "      <td>{'Original': {}}</td>\n",
       "      <td>f66f49d7ff9c5958c6e09972d93e70e0bab2ac0f</td>\n",
       "      <td>3D</td>\n",
       "      <td>(1.0, 1.0, 1.0)</td>\n",
       "      <td>...</td>\n",
       "      <td>0.0012063108774522946</td>\n",
       "      <td>6.882178339194774</td>\n",
       "      <td>0.10538428754084388</td>\n",
       "      <td>64958.019090796675</td>\n",
       "      <td>0.8471429838520521</td>\n",
       "      <td>0.00030675371502693913</td>\n",
       "      <td>1236.0951005573122</td>\n",
       "      <td>0.019229787808456775</td>\n",
       "      <td>1.6372599259696257</td>\n",
       "      <td>400</td>\n",
       "    </tr>\n",
       "    <tr>\n",
       "      <th>286</th>\n",
       "      <td>2.2.0</td>\n",
       "      <td>1.17.4</td>\n",
       "      <td>1.2.4</td>\n",
       "      <td>0.5.2</td>\n",
       "      <td>3.6.5</td>\n",
       "      <td>{'minimumROIDimensions': 2, 'minimumROISize': ...</td>\n",
       "      <td>{'Original': {}}</td>\n",
       "      <td>9986658ad80fd43b1ba42d40d68458f21347aa3f</td>\n",
       "      <td>3D</td>\n",
       "      <td>(1.0, 1.0, 1.0)</td>\n",
       "      <td>...</td>\n",
       "      <td>0.0012319263252038477</td>\n",
       "      <td>7.8933278381056</td>\n",
       "      <td>0.072210806883672</td>\n",
       "      <td>360760.9957643357</td>\n",
       "      <td>4.930224271693016</td>\n",
       "      <td>6.036582705246826e-05</td>\n",
       "      <td>1493.771670493071</td>\n",
       "      <td>0.013861672716860611</td>\n",
       "      <td>0.2548237425906703</td>\n",
       "      <td>401</td>\n",
       "    </tr>\n",
       "    <tr>\n",
       "      <th>287</th>\n",
       "      <td>2.2.0</td>\n",
       "      <td>1.17.4</td>\n",
       "      <td>1.2.4</td>\n",
       "      <td>0.5.2</td>\n",
       "      <td>3.6.5</td>\n",
       "      <td>{'minimumROIDimensions': 2, 'minimumROISize': ...</td>\n",
       "      <td>{'Original': {}}</td>\n",
       "      <td>44a2e453cc1d0492e503a27243f32df4fad0a37d</td>\n",
       "      <td>3D</td>\n",
       "      <td>(1.0, 1.0, 1.0)</td>\n",
       "      <td>...</td>\n",
       "      <td>0.0020569151726012825</td>\n",
       "      <td>6.571034755408902</td>\n",
       "      <td>0.1251088534107402</td>\n",
       "      <td>12439.00459192188</td>\n",
       "      <td>0.29744431273028565</td>\n",
       "      <td>0.0010174313134883484</td>\n",
       "      <td>1278.7921708928616</td>\n",
       "      <td>0.01351499837994573</td>\n",
       "      <td>3.338787114825903</td>\n",
       "      <td>402</td>\n",
       "    </tr>\n",
       "    <tr>\n",
       "      <th>288</th>\n",
       "      <td>2.2.0</td>\n",
       "      <td>1.17.4</td>\n",
       "      <td>1.2.4</td>\n",
       "      <td>0.5.2</td>\n",
       "      <td>3.6.5</td>\n",
       "      <td>{'minimumROIDimensions': 2, 'minimumROISize': ...</td>\n",
       "      <td>{'Original': {}}</td>\n",
       "      <td>e00618f4bb3445aa08f6b722c7ac63dc05f9f72c</td>\n",
       "      <td>3D</td>\n",
       "      <td>(1.0, 1.0, 1.0)</td>\n",
       "      <td>...</td>\n",
       "      <td>0.006484712470781652</td>\n",
       "      <td>7.23711945965005</td>\n",
       "      <td>0.31466227347611203</td>\n",
       "      <td>58.72747457580659</td>\n",
       "      <td>0.5158288121371688</td>\n",
       "      <td>0.0027654406480975223</td>\n",
       "      <td>1727.9117096660646</td>\n",
       "      <td>0.18551315272516028</td>\n",
       "      <td>2.3146344390846925</td>\n",
       "      <td>403</td>\n",
       "    </tr>\n",
       "    <tr>\n",
       "      <th>289</th>\n",
       "      <td>2.2.0</td>\n",
       "      <td>1.17.4</td>\n",
       "      <td>1.2.4</td>\n",
       "      <td>0.5.2</td>\n",
       "      <td>3.6.5</td>\n",
       "      <td>{'minimumROIDimensions': 2, 'minimumROISize': ...</td>\n",
       "      <td>{'Original': {}}</td>\n",
       "      <td>5d05748ace71b2fe258fd52dd81d9626f3aafc4f</td>\n",
       "      <td>3D</td>\n",
       "      <td>(1.0, 1.0, 1.0)</td>\n",
       "      <td>...</td>\n",
       "      <td>0.008811934129441581</td>\n",
       "      <td>6.701676551721465</td>\n",
       "      <td>0.43752224991100036</td>\n",
       "      <td>50.187758409630035</td>\n",
       "      <td>0.46254213662699145</td>\n",
       "      <td>0.0035905102005092037</td>\n",
       "      <td>2114.520839730045</td>\n",
       "      <td>0.5692637413962094</td>\n",
       "      <td>2.56546674426354</td>\n",
       "      <td>406</td>\n",
       "    </tr>\n",
       "    <tr>\n",
       "      <th>290</th>\n",
       "      <td>2.2.0</td>\n",
       "      <td>1.17.4</td>\n",
       "      <td>1.2.4</td>\n",
       "      <td>0.5.2</td>\n",
       "      <td>3.6.5</td>\n",
       "      <td>{'minimumROIDimensions': 2, 'minimumROISize': ...</td>\n",
       "      <td>{'Original': {}}</td>\n",
       "      <td>1b3b0812d24c65289924b22641c93e801844e300</td>\n",
       "      <td>3D</td>\n",
       "      <td>(1.0, 1.0, 1.0)</td>\n",
       "      <td>...</td>\n",
       "      <td>0.006770147293067898</td>\n",
       "      <td>6.952412289621788</td>\n",
       "      <td>0.30294224482382853</td>\n",
       "      <td>30.627648959968717</td>\n",
       "      <td>0.6162018511528478</td>\n",
       "      <td>0.004286336952447301</td>\n",
       "      <td>1271.7761450543444</td>\n",
       "      <td>0.15707384911545383</td>\n",
       "      <td>2.7382195781328513</td>\n",
       "      <td>409</td>\n",
       "    </tr>\n",
       "    <tr>\n",
       "      <th>291</th>\n",
       "      <td>2.2.0</td>\n",
       "      <td>1.17.4</td>\n",
       "      <td>1.2.4</td>\n",
       "      <td>0.5.2</td>\n",
       "      <td>3.6.5</td>\n",
       "      <td>{'minimumROIDimensions': 2, 'minimumROISize': ...</td>\n",
       "      <td>{'Original': {}}</td>\n",
       "      <td>5b466bd013aade44e167611c626459122f011160</td>\n",
       "      <td>3D</td>\n",
       "      <td>(1.0, 1.0, 1.0)</td>\n",
       "      <td>...</td>\n",
       "      <td>0.0024171542507320154</td>\n",
       "      <td>7.330891561603395</td>\n",
       "      <td>0.13907009111780277</td>\n",
       "      <td>197768.12486732987</td>\n",
       "      <td>4.1309684414738355</td>\n",
       "      <td>6.436628041355792e-05</td>\n",
       "      <td>1972.2212195012723</td>\n",
       "      <td>0.08447776667068141</td>\n",
       "      <td>0.2427139080026082</td>\n",
       "      <td>414</td>\n",
       "    </tr>\n",
       "    <tr>\n",
       "      <th>292</th>\n",
       "      <td>2.2.0</td>\n",
       "      <td>1.17.4</td>\n",
       "      <td>1.2.4</td>\n",
       "      <td>0.5.2</td>\n",
       "      <td>3.6.5</td>\n",
       "      <td>{'minimumROIDimensions': 2, 'minimumROISize': ...</td>\n",
       "      <td>{'Original': {}}</td>\n",
       "      <td>df61328651b194ff1e08eb755bf764d3717a8194</td>\n",
       "      <td>3D</td>\n",
       "      <td>(1.0, 1.0, 1.0)</td>\n",
       "      <td>...</td>\n",
       "      <td>0.0022795548924627387</td>\n",
       "      <td>7.07594981121275</td>\n",
       "      <td>0.07099136711010473</td>\n",
       "      <td>118227.7737772126</td>\n",
       "      <td>1.7964205258101962</td>\n",
       "      <td>0.0002336631674081431</td>\n",
       "      <td>826.8131043088226</td>\n",
       "      <td>0.011342005558562589</td>\n",
       "      <td>0.552937640336374</td>\n",
       "      <td>416</td>\n",
       "    </tr>\n",
       "    <tr>\n",
       "      <th>293</th>\n",
       "      <td>2.2.0</td>\n",
       "      <td>1.17.4</td>\n",
       "      <td>1.2.4</td>\n",
       "      <td>0.5.2</td>\n",
       "      <td>3.6.5</td>\n",
       "      <td>{'minimumROIDimensions': 2, 'minimumROISize': ...</td>\n",
       "      <td>{'Original': {}}</td>\n",
       "      <td>2b7d3d70833daa3e5676611fc8074a962dbf8676</td>\n",
       "      <td>3D</td>\n",
       "      <td>(1.0, 1.0, 1.0)</td>\n",
       "      <td>...</td>\n",
       "      <td>0.0013668590884197568</td>\n",
       "      <td>7.145910841724713</td>\n",
       "      <td>0.1150902216347484</td>\n",
       "      <td>49869.243988601134</td>\n",
       "      <td>1.1299741182486778</td>\n",
       "      <td>0.0002904036457603399</td>\n",
       "      <td>1061.7730623153855</td>\n",
       "      <td>0.05247136065944921</td>\n",
       "      <td>0.8228572805949378</td>\n",
       "      <td>417</td>\n",
       "    </tr>\n",
       "    <tr>\n",
       "      <th>294</th>\n",
       "      <td>2.2.0</td>\n",
       "      <td>1.17.4</td>\n",
       "      <td>1.2.4</td>\n",
       "      <td>0.5.2</td>\n",
       "      <td>3.6.5</td>\n",
       "      <td>{'minimumROIDimensions': 2, 'minimumROISize': ...</td>\n",
       "      <td>{'Original': {}}</td>\n",
       "      <td>9c5f435787639062217d5f69c575411da86ac525</td>\n",
       "      <td>3D</td>\n",
       "      <td>(1.0, 1.0, 1.0)</td>\n",
       "      <td>...</td>\n",
       "      <td>0.004925179088727158</td>\n",
       "      <td>6.249158476178194</td>\n",
       "      <td>0.1514792899408284</td>\n",
       "      <td>2507.5990600585938</td>\n",
       "      <td>0.1451505844745803</td>\n",
       "      <td>0.0038360669881133324</td>\n",
       "      <td>817.1854007192372</td>\n",
       "      <td>0.021205055605598273</td>\n",
       "      <td>4.72171407908516</td>\n",
       "      <td>418</td>\n",
       "    </tr>\n",
       "    <tr>\n",
       "      <th>295</th>\n",
       "      <td>2.2.0</td>\n",
       "      <td>1.17.4</td>\n",
       "      <td>1.2.4</td>\n",
       "      <td>0.5.2</td>\n",
       "      <td>3.6.5</td>\n",
       "      <td>{'minimumROIDimensions': 2, 'minimumROISize': ...</td>\n",
       "      <td>{'Original': {}}</td>\n",
       "      <td>b6789102bfb54c2430faa09fc26d057b8167fde3</td>\n",
       "      <td>3D</td>\n",
       "      <td>(1.0, 1.0, 1.0)</td>\n",
       "      <td>...</td>\n",
       "      <td>0.0034716709513483517</td>\n",
       "      <td>6.851172015303249</td>\n",
       "      <td>0.49042762569332615</td>\n",
       "      <td>74.93718462505596</td>\n",
       "      <td>0.30613229794075314</td>\n",
       "      <td>0.0019058445125772411</td>\n",
       "      <td>4483.369981145554</td>\n",
       "      <td>0.4059673066951746</td>\n",
       "      <td>1.9591626756590645</td>\n",
       "      <td>420</td>\n",
       "    </tr>\n",
       "    <tr>\n",
       "      <th>296</th>\n",
       "      <td>2.2.0</td>\n",
       "      <td>1.17.4</td>\n",
       "      <td>1.2.4</td>\n",
       "      <td>0.5.2</td>\n",
       "      <td>3.6.5</td>\n",
       "      <td>{'minimumROIDimensions': 2, 'minimumROISize': ...</td>\n",
       "      <td>{'Original': {}}</td>\n",
       "      <td>fb01ed5030f52e60655c75d26801ccf72475150f</td>\n",
       "      <td>3D</td>\n",
       "      <td>(1.0, 1.0, 1.0)</td>\n",
       "      <td>...</td>\n",
       "      <td>0.0009330478283055931</td>\n",
       "      <td>7.191221582685593</td>\n",
       "      <td>0.11898630457684654</td>\n",
       "      <td>33177.88718244393</td>\n",
       "      <td>0.6963962032944083</td>\n",
       "      <td>0.00045734758147107147</td>\n",
       "      <td>1158.946560816182</td>\n",
       "      <td>0.030891254862908297</td>\n",
       "      <td>1.3412094894571074</td>\n",
       "      <td>421</td>\n",
       "    </tr>\n",
       "    <tr>\n",
       "      <th>297</th>\n",
       "      <td>2.2.0</td>\n",
       "      <td>1.17.4</td>\n",
       "      <td>1.2.4</td>\n",
       "      <td>0.5.2</td>\n",
       "      <td>3.6.5</td>\n",
       "      <td>{'minimumROIDimensions': 2, 'minimumROISize': ...</td>\n",
       "      <td>{'Original': {}}</td>\n",
       "      <td>7fd9996b9dc2b783973499cf5f96ea84094798ff</td>\n",
       "      <td>3D</td>\n",
       "      <td>(1.0, 1.0, 1.0)</td>\n",
       "      <td>...</td>\n",
       "      <td>0.0014120863820929132</td>\n",
       "      <td>7.270939877512328</td>\n",
       "      <td>0.12680162496159492</td>\n",
       "      <td>178502.5383939068</td>\n",
       "      <td>2.9873556461496684</td>\n",
       "      <td>8.530118049780416e-05</td>\n",
       "      <td>1581.4318762827352</td>\n",
       "      <td>0.03681760304160888</td>\n",
       "      <td>0.35276480480378414</td>\n",
       "      <td>422</td>\n",
       "    </tr>\n",
       "    <tr>\n",
       "      <th>298</th>\n",
       "      <td>2.2.0</td>\n",
       "      <td>1.17.4</td>\n",
       "      <td>1.2.4</td>\n",
       "      <td>0.5.2</td>\n",
       "      <td>3.6.5</td>\n",
       "      <td>{'minimumROIDimensions': 2, 'minimumROISize': ...</td>\n",
       "      <td>{'Original': {}}</td>\n",
       "      <td>e0ca3cc1e60c85c8921100ec99ba7a78c12f4ed7</td>\n",
       "      <td>3D</td>\n",
       "      <td>(1.0, 1.0, 1.0)</td>\n",
       "      <td>...</td>\n",
       "      <td>0.001188057281603964</td>\n",
       "      <td>6.48495288861754</td>\n",
       "      <td>0.26303701849291955</td>\n",
       "      <td>15103.022310945464</td>\n",
       "      <td>3.2747617934032998</td>\n",
       "      <td>7.335600874277254e-05</td>\n",
       "      <td>4964.471992006311</td>\n",
       "      <td>0.04802903758135621</td>\n",
       "      <td>0.2279646029225388</td>\n",
       "      <td>423</td>\n",
       "    </tr>\n",
       "    <tr>\n",
       "      <th>299</th>\n",
       "      <td>2.2.0</td>\n",
       "      <td>1.17.4</td>\n",
       "      <td>1.2.4</td>\n",
       "      <td>0.5.2</td>\n",
       "      <td>3.6.5</td>\n",
       "      <td>{'minimumROIDimensions': 2, 'minimumROISize': ...</td>\n",
       "      <td>{'Original': {}}</td>\n",
       "      <td>7338d9f9ac8348d357ec4eedc28645e88f3a3334</td>\n",
       "      <td>3D</td>\n",
       "      <td>(1.0, 1.0, 1.0)</td>\n",
       "      <td>...</td>\n",
       "      <td>0.001097302326903002</td>\n",
       "      <td>7.554262894196348</td>\n",
       "      <td>0.1586560079940045</td>\n",
       "      <td>11468.585913232464</td>\n",
       "      <td>1.6001781072780072</td>\n",
       "      <td>0.0003116465126409293</td>\n",
       "      <td>1329.9342126126633</td>\n",
       "      <td>0.09417826331276645</td>\n",
       "      <td>0.3957467908267195</td>\n",
       "      <td>424</td>\n",
       "    </tr>\n",
       "  </tbody>\n",
       "</table>\n",
       "<p>300 rows × 130 columns</p>\n",
       "</div>"
      ],
      "text/plain": [
       "    diagnostics_Versions_PyRadiomics diagnostics_Versions_Numpy  \\\n",
       "0                              2.2.0                     1.17.4   \n",
       "1                               None                       None   \n",
       "2                              2.2.0                     1.17.4   \n",
       "3                              2.2.0                     1.17.4   \n",
       "4                              2.2.0                     1.17.4   \n",
       "5                              2.2.0                     1.17.4   \n",
       "6                              2.2.0                     1.17.4   \n",
       "7                              2.2.0                     1.17.4   \n",
       "8                              2.2.0                     1.17.4   \n",
       "9                              2.2.0                     1.17.4   \n",
       "10                             2.2.0                     1.17.4   \n",
       "11                             2.2.0                     1.17.4   \n",
       "12                             2.2.0                     1.17.4   \n",
       "13                             2.2.0                     1.17.4   \n",
       "14                             2.2.0                     1.17.4   \n",
       "15                             2.2.0                     1.17.4   \n",
       "16                             2.2.0                     1.17.4   \n",
       "17                             2.2.0                     1.17.4   \n",
       "18                             2.2.0                     1.17.4   \n",
       "19                             2.2.0                     1.17.4   \n",
       "20                             2.2.0                     1.17.4   \n",
       "21                             2.2.0                     1.17.4   \n",
       "22                             2.2.0                     1.17.4   \n",
       "23                             2.2.0                     1.17.4   \n",
       "24                             2.2.0                     1.17.4   \n",
       "25                             2.2.0                     1.17.4   \n",
       "26                             2.2.0                     1.17.4   \n",
       "27                             2.2.0                     1.17.4   \n",
       "28                             2.2.0                     1.17.4   \n",
       "29                             2.2.0                     1.17.4   \n",
       "..                               ...                        ...   \n",
       "270                            2.2.0                     1.17.4   \n",
       "271                            2.2.0                     1.17.4   \n",
       "272                            2.2.0                     1.17.4   \n",
       "273                            2.2.0                     1.17.4   \n",
       "274                            2.2.0                     1.17.4   \n",
       "275                            2.2.0                     1.17.4   \n",
       "276                            2.2.0                     1.17.4   \n",
       "277                             None                       None   \n",
       "278                            2.2.0                     1.17.4   \n",
       "279                            2.2.0                     1.17.4   \n",
       "280                            2.2.0                     1.17.4   \n",
       "281                            2.2.0                     1.17.4   \n",
       "282                            2.2.0                     1.17.4   \n",
       "283                            2.2.0                     1.17.4   \n",
       "284                            2.2.0                     1.17.4   \n",
       "285                            2.2.0                     1.17.4   \n",
       "286                            2.2.0                     1.17.4   \n",
       "287                            2.2.0                     1.17.4   \n",
       "288                            2.2.0                     1.17.4   \n",
       "289                            2.2.0                     1.17.4   \n",
       "290                            2.2.0                     1.17.4   \n",
       "291                            2.2.0                     1.17.4   \n",
       "292                            2.2.0                     1.17.4   \n",
       "293                            2.2.0                     1.17.4   \n",
       "294                            2.2.0                     1.17.4   \n",
       "295                            2.2.0                     1.17.4   \n",
       "296                            2.2.0                     1.17.4   \n",
       "297                            2.2.0                     1.17.4   \n",
       "298                            2.2.0                     1.17.4   \n",
       "299                            2.2.0                     1.17.4   \n",
       "\n",
       "    diagnostics_Versions_SimpleITK diagnostics_Versions_PyWavelet  \\\n",
       "0                            1.2.4                          0.5.2   \n",
       "1                             None                           None   \n",
       "2                            1.2.4                          0.5.2   \n",
       "3                            1.2.4                          0.5.2   \n",
       "4                            1.2.4                          0.5.2   \n",
       "5                            1.2.4                          0.5.2   \n",
       "6                            1.2.4                          0.5.2   \n",
       "7                            1.2.4                          0.5.2   \n",
       "8                            1.2.4                          0.5.2   \n",
       "9                            1.2.4                          0.5.2   \n",
       "10                           1.2.4                          0.5.2   \n",
       "11                           1.2.4                          0.5.2   \n",
       "12                           1.2.4                          0.5.2   \n",
       "13                           1.2.4                          0.5.2   \n",
       "14                           1.2.4                          0.5.2   \n",
       "15                           1.2.4                          0.5.2   \n",
       "16                           1.2.4                          0.5.2   \n",
       "17                           1.2.4                          0.5.2   \n",
       "18                           1.2.4                          0.5.2   \n",
       "19                           1.2.4                          0.5.2   \n",
       "20                           1.2.4                          0.5.2   \n",
       "21                           1.2.4                          0.5.2   \n",
       "22                           1.2.4                          0.5.2   \n",
       "23                           1.2.4                          0.5.2   \n",
       "24                           1.2.4                          0.5.2   \n",
       "25                           1.2.4                          0.5.2   \n",
       "26                           1.2.4                          0.5.2   \n",
       "27                           1.2.4                          0.5.2   \n",
       "28                           1.2.4                          0.5.2   \n",
       "29                           1.2.4                          0.5.2   \n",
       "..                             ...                            ...   \n",
       "270                          1.2.4                          0.5.2   \n",
       "271                          1.2.4                          0.5.2   \n",
       "272                          1.2.4                          0.5.2   \n",
       "273                          1.2.4                          0.5.2   \n",
       "274                          1.2.4                          0.5.2   \n",
       "275                          1.2.4                          0.5.2   \n",
       "276                          1.2.4                          0.5.2   \n",
       "277                           None                           None   \n",
       "278                          1.2.4                          0.5.2   \n",
       "279                          1.2.4                          0.5.2   \n",
       "280                          1.2.4                          0.5.2   \n",
       "281                          1.2.4                          0.5.2   \n",
       "282                          1.2.4                          0.5.2   \n",
       "283                          1.2.4                          0.5.2   \n",
       "284                          1.2.4                          0.5.2   \n",
       "285                          1.2.4                          0.5.2   \n",
       "286                          1.2.4                          0.5.2   \n",
       "287                          1.2.4                          0.5.2   \n",
       "288                          1.2.4                          0.5.2   \n",
       "289                          1.2.4                          0.5.2   \n",
       "290                          1.2.4                          0.5.2   \n",
       "291                          1.2.4                          0.5.2   \n",
       "292                          1.2.4                          0.5.2   \n",
       "293                          1.2.4                          0.5.2   \n",
       "294                          1.2.4                          0.5.2   \n",
       "295                          1.2.4                          0.5.2   \n",
       "296                          1.2.4                          0.5.2   \n",
       "297                          1.2.4                          0.5.2   \n",
       "298                          1.2.4                          0.5.2   \n",
       "299                          1.2.4                          0.5.2   \n",
       "\n",
       "    diagnostics_Versions_Python  \\\n",
       "0                         3.6.5   \n",
       "1                          None   \n",
       "2                         3.6.5   \n",
       "3                         3.6.5   \n",
       "4                         3.6.5   \n",
       "5                         3.6.5   \n",
       "6                         3.6.5   \n",
       "7                         3.6.5   \n",
       "8                         3.6.5   \n",
       "9                         3.6.5   \n",
       "10                        3.6.5   \n",
       "11                        3.6.5   \n",
       "12                        3.6.5   \n",
       "13                        3.6.5   \n",
       "14                        3.6.5   \n",
       "15                        3.6.5   \n",
       "16                        3.6.5   \n",
       "17                        3.6.5   \n",
       "18                        3.6.5   \n",
       "19                        3.6.5   \n",
       "20                        3.6.5   \n",
       "21                        3.6.5   \n",
       "22                        3.6.5   \n",
       "23                        3.6.5   \n",
       "24                        3.6.5   \n",
       "25                        3.6.5   \n",
       "26                        3.6.5   \n",
       "27                        3.6.5   \n",
       "28                        3.6.5   \n",
       "29                        3.6.5   \n",
       "..                          ...   \n",
       "270                       3.6.5   \n",
       "271                       3.6.5   \n",
       "272                       3.6.5   \n",
       "273                       3.6.5   \n",
       "274                       3.6.5   \n",
       "275                       3.6.5   \n",
       "276                       3.6.5   \n",
       "277                        None   \n",
       "278                       3.6.5   \n",
       "279                       3.6.5   \n",
       "280                       3.6.5   \n",
       "281                       3.6.5   \n",
       "282                       3.6.5   \n",
       "283                       3.6.5   \n",
       "284                       3.6.5   \n",
       "285                       3.6.5   \n",
       "286                       3.6.5   \n",
       "287                       3.6.5   \n",
       "288                       3.6.5   \n",
       "289                       3.6.5   \n",
       "290                       3.6.5   \n",
       "291                       3.6.5   \n",
       "292                       3.6.5   \n",
       "293                       3.6.5   \n",
       "294                       3.6.5   \n",
       "295                       3.6.5   \n",
       "296                       3.6.5   \n",
       "297                       3.6.5   \n",
       "298                       3.6.5   \n",
       "299                       3.6.5   \n",
       "\n",
       "                    diagnostics_Configuration_Settings  \\\n",
       "0    {'minimumROIDimensions': 2, 'minimumROISize': ...   \n",
       "1                                                 None   \n",
       "2    {'minimumROIDimensions': 2, 'minimumROISize': ...   \n",
       "3    {'minimumROIDimensions': 2, 'minimumROISize': ...   \n",
       "4    {'minimumROIDimensions': 2, 'minimumROISize': ...   \n",
       "5    {'minimumROIDimensions': 2, 'minimumROISize': ...   \n",
       "6    {'minimumROIDimensions': 2, 'minimumROISize': ...   \n",
       "7    {'minimumROIDimensions': 2, 'minimumROISize': ...   \n",
       "8    {'minimumROIDimensions': 2, 'minimumROISize': ...   \n",
       "9    {'minimumROIDimensions': 2, 'minimumROISize': ...   \n",
       "10   {'minimumROIDimensions': 2, 'minimumROISize': ...   \n",
       "11   {'minimumROIDimensions': 2, 'minimumROISize': ...   \n",
       "12   {'minimumROIDimensions': 2, 'minimumROISize': ...   \n",
       "13   {'minimumROIDimensions': 2, 'minimumROISize': ...   \n",
       "14   {'minimumROIDimensions': 2, 'minimumROISize': ...   \n",
       "15   {'minimumROIDimensions': 2, 'minimumROISize': ...   \n",
       "16   {'minimumROIDimensions': 2, 'minimumROISize': ...   \n",
       "17   {'minimumROIDimensions': 2, 'minimumROISize': ...   \n",
       "18   {'minimumROIDimensions': 2, 'minimumROISize': ...   \n",
       "19   {'minimumROIDimensions': 2, 'minimumROISize': ...   \n",
       "20   {'minimumROIDimensions': 2, 'minimumROISize': ...   \n",
       "21   {'minimumROIDimensions': 2, 'minimumROISize': ...   \n",
       "22   {'minimumROIDimensions': 2, 'minimumROISize': ...   \n",
       "23   {'minimumROIDimensions': 2, 'minimumROISize': ...   \n",
       "24   {'minimumROIDimensions': 2, 'minimumROISize': ...   \n",
       "25   {'minimumROIDimensions': 2, 'minimumROISize': ...   \n",
       "26   {'minimumROIDimensions': 2, 'minimumROISize': ...   \n",
       "27   {'minimumROIDimensions': 2, 'minimumROISize': ...   \n",
       "28   {'minimumROIDimensions': 2, 'minimumROISize': ...   \n",
       "29   {'minimumROIDimensions': 2, 'minimumROISize': ...   \n",
       "..                                                 ...   \n",
       "270  {'minimumROIDimensions': 2, 'minimumROISize': ...   \n",
       "271  {'minimumROIDimensions': 2, 'minimumROISize': ...   \n",
       "272  {'minimumROIDimensions': 2, 'minimumROISize': ...   \n",
       "273  {'minimumROIDimensions': 2, 'minimumROISize': ...   \n",
       "274  {'minimumROIDimensions': 2, 'minimumROISize': ...   \n",
       "275  {'minimumROIDimensions': 2, 'minimumROISize': ...   \n",
       "276  {'minimumROIDimensions': 2, 'minimumROISize': ...   \n",
       "277                                               None   \n",
       "278  {'minimumROIDimensions': 2, 'minimumROISize': ...   \n",
       "279  {'minimumROIDimensions': 2, 'minimumROISize': ...   \n",
       "280  {'minimumROIDimensions': 2, 'minimumROISize': ...   \n",
       "281  {'minimumROIDimensions': 2, 'minimumROISize': ...   \n",
       "282  {'minimumROIDimensions': 2, 'minimumROISize': ...   \n",
       "283  {'minimumROIDimensions': 2, 'minimumROISize': ...   \n",
       "284  {'minimumROIDimensions': 2, 'minimumROISize': ...   \n",
       "285  {'minimumROIDimensions': 2, 'minimumROISize': ...   \n",
       "286  {'minimumROIDimensions': 2, 'minimumROISize': ...   \n",
       "287  {'minimumROIDimensions': 2, 'minimumROISize': ...   \n",
       "288  {'minimumROIDimensions': 2, 'minimumROISize': ...   \n",
       "289  {'minimumROIDimensions': 2, 'minimumROISize': ...   \n",
       "290  {'minimumROIDimensions': 2, 'minimumROISize': ...   \n",
       "291  {'minimumROIDimensions': 2, 'minimumROISize': ...   \n",
       "292  {'minimumROIDimensions': 2, 'minimumROISize': ...   \n",
       "293  {'minimumROIDimensions': 2, 'minimumROISize': ...   \n",
       "294  {'minimumROIDimensions': 2, 'minimumROISize': ...   \n",
       "295  {'minimumROIDimensions': 2, 'minimumROISize': ...   \n",
       "296  {'minimumROIDimensions': 2, 'minimumROISize': ...   \n",
       "297  {'minimumROIDimensions': 2, 'minimumROISize': ...   \n",
       "298  {'minimumROIDimensions': 2, 'minimumROISize': ...   \n",
       "299  {'minimumROIDimensions': 2, 'minimumROISize': ...   \n",
       "\n",
       "    diagnostics_Configuration_EnabledImageTypes  \\\n",
       "0                              {'Original': {}}   \n",
       "1                                          None   \n",
       "2                              {'Original': {}}   \n",
       "3                              {'Original': {}}   \n",
       "4                              {'Original': {}}   \n",
       "5                              {'Original': {}}   \n",
       "6                              {'Original': {}}   \n",
       "7                              {'Original': {}}   \n",
       "8                              {'Original': {}}   \n",
       "9                              {'Original': {}}   \n",
       "10                             {'Original': {}}   \n",
       "11                             {'Original': {}}   \n",
       "12                             {'Original': {}}   \n",
       "13                             {'Original': {}}   \n",
       "14                             {'Original': {}}   \n",
       "15                             {'Original': {}}   \n",
       "16                             {'Original': {}}   \n",
       "17                             {'Original': {}}   \n",
       "18                             {'Original': {}}   \n",
       "19                             {'Original': {}}   \n",
       "20                             {'Original': {}}   \n",
       "21                             {'Original': {}}   \n",
       "22                             {'Original': {}}   \n",
       "23                             {'Original': {}}   \n",
       "24                             {'Original': {}}   \n",
       "25                             {'Original': {}}   \n",
       "26                             {'Original': {}}   \n",
       "27                             {'Original': {}}   \n",
       "28                             {'Original': {}}   \n",
       "29                             {'Original': {}}   \n",
       "..                                          ...   \n",
       "270                            {'Original': {}}   \n",
       "271                            {'Original': {}}   \n",
       "272                            {'Original': {}}   \n",
       "273                            {'Original': {}}   \n",
       "274                            {'Original': {}}   \n",
       "275                            {'Original': {}}   \n",
       "276                            {'Original': {}}   \n",
       "277                                        None   \n",
       "278                            {'Original': {}}   \n",
       "279                            {'Original': {}}   \n",
       "280                            {'Original': {}}   \n",
       "281                            {'Original': {}}   \n",
       "282                            {'Original': {}}   \n",
       "283                            {'Original': {}}   \n",
       "284                            {'Original': {}}   \n",
       "285                            {'Original': {}}   \n",
       "286                            {'Original': {}}   \n",
       "287                            {'Original': {}}   \n",
       "288                            {'Original': {}}   \n",
       "289                            {'Original': {}}   \n",
       "290                            {'Original': {}}   \n",
       "291                            {'Original': {}}   \n",
       "292                            {'Original': {}}   \n",
       "293                            {'Original': {}}   \n",
       "294                            {'Original': {}}   \n",
       "295                            {'Original': {}}   \n",
       "296                            {'Original': {}}   \n",
       "297                            {'Original': {}}   \n",
       "298                            {'Original': {}}   \n",
       "299                            {'Original': {}}   \n",
       "\n",
       "              diagnostics_Image-original_Hash  \\\n",
       "0    12594f333e663f725eafbb011efb36cc28ef09ea   \n",
       "1                                        None   \n",
       "2    793be327098729932754ab0c539a10d3be8007c0   \n",
       "3    5728d2537b555bb664252698dc1a51694866b4f4   \n",
       "4    9f1b576cfc98ab355c1ac62a08abd4f84c89be21   \n",
       "5    6d505a43db6064df0112884d2876f6e83e97804c   \n",
       "6    e73b20e78dcb299acfe3ccdb16915e5da5e64e8b   \n",
       "7    51a099ec121e376fb2ac8cd6c124e5022cb3a8e8   \n",
       "8    a006099e256744eedd9278354a398b33c134a07e   \n",
       "9    767e22198388ac93a9db95e0dfd9b3fa7e14f685   \n",
       "10   f65716ab000b2cab81ddd97e9e866dbc6cf54cf9   \n",
       "11   db71698b55385f24e2094eb9eb473ec60fa11eba   \n",
       "12   0fd2875d68a33102403e1250fa54a3b97d2e8038   \n",
       "13   58ac9f73a92cb0c8bd4b27cba4a5d7ba0ae4064e   \n",
       "14   00f4c6538c38660e8b280ee538e4871fc9561e62   \n",
       "15   bd4f5ca8cf3b7afadf2a43f425b66edf1d6ebe11   \n",
       "16   595826dcdfbf9652827e3a1f6937211634edf370   \n",
       "17   3d3e518cf08aff6eb5c0c7abfc4094c94e4110d1   \n",
       "18   79a7de279fb138413263eee2b69786414a60cbf9   \n",
       "19   fd015105daca2518853520558c52bc230e8575ec   \n",
       "20   0447ab9567ed7d777497a4fba69d457b4334e0d5   \n",
       "21   e19e2775aaeeea7fe18ea99245314f606583dede   \n",
       "22   c6af2e1a7f1ebed4054bfa52f32f236a19cb7b04   \n",
       "23   bfa2119673ff03db3e3699d0cd85c4e269e229e6   \n",
       "24   d5ffe45339bfca80ab65d9acde22ef36abd7655d   \n",
       "25   f3527dd02d868dffd46d25b1d23f2fa8b8e56a2d   \n",
       "26   b9404e479f573a10474fa5e3cb7db1a11919ffee   \n",
       "27   000124dd34f277dab8e8ed25b4f3fdc573250d7c   \n",
       "28   316cafb0bf8a80e58c69b4817162a95ee2592b67   \n",
       "29   aab86d97a50a5d4320952e3893b27a56e1ec3594   \n",
       "..                                        ...   \n",
       "270  be4d8f2eca8fe2307ae6818aa18bcfa99b291d0e   \n",
       "271  77deb4de13b4f07bb61d734e6ec9cc212a0cfe7f   \n",
       "272  9ae0a95dc56ae7279abe420eb42c3805fac7d11a   \n",
       "273  837e5ae1dc8d128f63077a7e68ed93d006d1d6f9   \n",
       "274  ad0f07e904f6ea5f461ef51034291550c46136aa   \n",
       "275  7bec2a39df74a9e2e59a5cdd1096c29794eb4f68   \n",
       "276  ed2326ea913c8f192d36f9f8009f4b0da8b2f887   \n",
       "277                                      None   \n",
       "278  afd38ea1d48ef85eb4a553aafaee2ecbf9033094   \n",
       "279  676a0b5d486752323fd4bb034db883c545613e85   \n",
       "280  83d0f4a72dfee3d7fd97371a25cd16a78ef5ac75   \n",
       "281  1a44cfe606274d683844250e8063d206005b309b   \n",
       "282  f01abf6993c293df5a3e397ba89adef92f516a8f   \n",
       "283  ab86b1afffbefb256b9f450f1b1c1ca69372e99c   \n",
       "284  e73081be43e235e898c6003ee445f92fd7179686   \n",
       "285  f66f49d7ff9c5958c6e09972d93e70e0bab2ac0f   \n",
       "286  9986658ad80fd43b1ba42d40d68458f21347aa3f   \n",
       "287  44a2e453cc1d0492e503a27243f32df4fad0a37d   \n",
       "288  e00618f4bb3445aa08f6b722c7ac63dc05f9f72c   \n",
       "289  5d05748ace71b2fe258fd52dd81d9626f3aafc4f   \n",
       "290  1b3b0812d24c65289924b22641c93e801844e300   \n",
       "291  5b466bd013aade44e167611c626459122f011160   \n",
       "292  df61328651b194ff1e08eb755bf764d3717a8194   \n",
       "293  2b7d3d70833daa3e5676611fc8074a962dbf8676   \n",
       "294  9c5f435787639062217d5f69c575411da86ac525   \n",
       "295  b6789102bfb54c2430faa09fc26d057b8167fde3   \n",
       "296  fb01ed5030f52e60655c75d26801ccf72475150f   \n",
       "297  7fd9996b9dc2b783973499cf5f96ea84094798ff   \n",
       "298  e0ca3cc1e60c85c8921100ec99ba7a78c12f4ed7   \n",
       "299  7338d9f9ac8348d357ec4eedc28645e88f3a3334   \n",
       "\n",
       "    diagnostics_Image-original_Dimensionality  \\\n",
       "0                                          3D   \n",
       "1                                        None   \n",
       "2                                          3D   \n",
       "3                                          3D   \n",
       "4                                          3D   \n",
       "5                                          3D   \n",
       "6                                          3D   \n",
       "7                                          3D   \n",
       "8                                          3D   \n",
       "9                                          3D   \n",
       "10                                         3D   \n",
       "11                                         3D   \n",
       "12                                         3D   \n",
       "13                                         3D   \n",
       "14                                         3D   \n",
       "15                                         3D   \n",
       "16                                         3D   \n",
       "17                                         3D   \n",
       "18                                         3D   \n",
       "19                                         3D   \n",
       "20                                         3D   \n",
       "21                                         3D   \n",
       "22                                         3D   \n",
       "23                                         3D   \n",
       "24                                         3D   \n",
       "25                                         3D   \n",
       "26                                         3D   \n",
       "27                                         3D   \n",
       "28                                         3D   \n",
       "29                                         3D   \n",
       "..                                        ...   \n",
       "270                                        3D   \n",
       "271                                        3D   \n",
       "272                                        3D   \n",
       "273                                        3D   \n",
       "274                                        3D   \n",
       "275                                        3D   \n",
       "276                                        3D   \n",
       "277                                      None   \n",
       "278                                        3D   \n",
       "279                                        3D   \n",
       "280                                        3D   \n",
       "281                                        3D   \n",
       "282                                        3D   \n",
       "283                                        3D   \n",
       "284                                        3D   \n",
       "285                                        3D   \n",
       "286                                        3D   \n",
       "287                                        3D   \n",
       "288                                        3D   \n",
       "289                                        3D   \n",
       "290                                        3D   \n",
       "291                                        3D   \n",
       "292                                        3D   \n",
       "293                                        3D   \n",
       "294                                        3D   \n",
       "295                                        3D   \n",
       "296                                        3D   \n",
       "297                                        3D   \n",
       "298                                        3D   \n",
       "299                                        3D   \n",
       "\n",
       "    diagnostics_Image-original_Spacing       ...        \\\n",
       "0                      (1.0, 1.0, 1.0)       ...         \n",
       "1                                 None       ...         \n",
       "2                      (1.0, 1.0, 1.0)       ...         \n",
       "3                      (1.0, 1.0, 1.0)       ...         \n",
       "4                      (1.0, 1.0, 1.0)       ...         \n",
       "5                      (1.0, 1.0, 1.0)       ...         \n",
       "6                      (1.0, 1.0, 1.0)       ...         \n",
       "7                      (1.0, 1.0, 1.0)       ...         \n",
       "8                      (1.0, 1.0, 1.0)       ...         \n",
       "9                      (1.0, 1.0, 1.0)       ...         \n",
       "10                     (1.0, 1.0, 1.0)       ...         \n",
       "11                     (1.0, 1.0, 1.0)       ...         \n",
       "12                     (1.0, 1.0, 1.0)       ...         \n",
       "13                     (1.0, 1.0, 1.0)       ...         \n",
       "14                     (1.0, 1.0, 1.0)       ...         \n",
       "15                     (1.0, 1.0, 1.0)       ...         \n",
       "16                     (1.0, 1.0, 1.0)       ...         \n",
       "17                     (1.0, 1.0, 1.0)       ...         \n",
       "18                     (1.0, 1.0, 1.0)       ...         \n",
       "19                     (1.0, 1.0, 1.0)       ...         \n",
       "20                     (1.0, 1.0, 1.0)       ...         \n",
       "21                     (1.0, 1.0, 1.0)       ...         \n",
       "22                     (1.0, 1.0, 1.0)       ...         \n",
       "23                     (1.0, 1.0, 1.0)       ...         \n",
       "24                     (1.0, 1.0, 1.0)       ...         \n",
       "25                     (1.0, 1.0, 1.0)       ...         \n",
       "26                     (1.0, 1.0, 1.0)       ...         \n",
       "27                     (1.0, 1.0, 1.0)       ...         \n",
       "28                     (1.0, 1.0, 1.0)       ...         \n",
       "29                     (1.0, 1.0, 1.0)       ...         \n",
       "..                                 ...       ...         \n",
       "270                    (1.0, 1.0, 1.0)       ...         \n",
       "271                    (1.0, 1.0, 1.0)       ...         \n",
       "272                    (1.0, 1.0, 1.0)       ...         \n",
       "273                    (1.0, 1.0, 1.0)       ...         \n",
       "274                    (1.0, 1.0, 1.0)       ...         \n",
       "275                    (1.0, 1.0, 1.0)       ...         \n",
       "276                    (1.0, 1.0, 1.0)       ...         \n",
       "277                               None       ...         \n",
       "278                    (1.0, 1.0, 1.0)       ...         \n",
       "279                    (1.0, 1.0, 1.0)       ...         \n",
       "280                    (1.0, 1.0, 1.0)       ...         \n",
       "281                    (1.0, 1.0, 1.0)       ...         \n",
       "282                    (1.0, 1.0, 1.0)       ...         \n",
       "283                    (1.0, 1.0, 1.0)       ...         \n",
       "284                    (1.0, 1.0, 1.0)       ...         \n",
       "285                    (1.0, 1.0, 1.0)       ...         \n",
       "286                    (1.0, 1.0, 1.0)       ...         \n",
       "287                    (1.0, 1.0, 1.0)       ...         \n",
       "288                    (1.0, 1.0, 1.0)       ...         \n",
       "289                    (1.0, 1.0, 1.0)       ...         \n",
       "290                    (1.0, 1.0, 1.0)       ...         \n",
       "291                    (1.0, 1.0, 1.0)       ...         \n",
       "292                    (1.0, 1.0, 1.0)       ...         \n",
       "293                    (1.0, 1.0, 1.0)       ...         \n",
       "294                    (1.0, 1.0, 1.0)       ...         \n",
       "295                    (1.0, 1.0, 1.0)       ...         \n",
       "296                    (1.0, 1.0, 1.0)       ...         \n",
       "297                    (1.0, 1.0, 1.0)       ...         \n",
       "298                    (1.0, 1.0, 1.0)       ...         \n",
       "299                    (1.0, 1.0, 1.0)       ...         \n",
       "\n",
       "    original_glszm_SmallAreaLowGrayLevelEmphasis  original_glszm_ZoneEntropy  \\\n",
       "0                          0.0014159294924583742           7.440152780881469   \n",
       "1                                           None                        None   \n",
       "2                          0.0011823588904757247            8.05320738907593   \n",
       "3                           0.006010770464847511           6.445624212509823   \n",
       "4                          0.0010591164492006718           7.968079701923623   \n",
       "5                           0.002603921296331485           6.902112459727654   \n",
       "6                           0.006495320016546854           5.951022804375938   \n",
       "7                          0.0024816657630558495           7.187488219746435   \n",
       "8                           0.002710463401557397           7.163170755024512   \n",
       "9                          0.0011997397769629755           7.300068195325571   \n",
       "10                          0.001446299567661113             7.1482289392513   \n",
       "11                          0.005795213208560181           6.717746514400345   \n",
       "12                         0.0024163820170306216           6.925315419808879   \n",
       "13                         0.0011862493145998437            7.81034796797381   \n",
       "14                         0.0036028534742678056           7.119603520516285   \n",
       "15                         0.0014782033379319083           7.219255031854712   \n",
       "16                          0.006907860635189329           5.950434128790246   \n",
       "17                          0.008796740018479512           6.767227329727602   \n",
       "18                          0.001557470188282822           7.090255023506899   \n",
       "19                          0.005713686201900686           6.663476366367941   \n",
       "20                          0.002264241467467257           7.528535891348224   \n",
       "21                         0.0033701014182111544           7.075213534864172   \n",
       "22                          0.004478892194681272           7.364049968847478   \n",
       "23                         0.0009684034975278726           7.872772219592215   \n",
       "24                          0.002908885356763631            6.21075337013764   \n",
       "25                         0.0036208752790588663           6.471723959457549   \n",
       "26                         0.0016532951269105337           6.838362747834132   \n",
       "27                          0.021777146613668082           7.056734031952162   \n",
       "28                         0.0009976370361452303            8.39840409320068   \n",
       "29                         0.0033161139862184735           6.804784763626182   \n",
       "..                                           ...                         ...   \n",
       "270                        0.0013509056343411852           7.334743201676842   \n",
       "271                        0.0019692452410667548          7.9000586359461815   \n",
       "272                         0.002567791612340664           6.825974708094388   \n",
       "273                         0.002449529032387442            7.03977569882979   \n",
       "274                         0.001188144214303948           6.976727623008532   \n",
       "275                        0.0040470839458114785           6.846158783236782   \n",
       "276                          0.00525405309115141            6.55191775162472   \n",
       "277                                         None                        None   \n",
       "278                         0.006589831902850517          7.0671533446542965   \n",
       "279                         0.005627222696726434           6.550081582231421   \n",
       "280                         0.013458602554774874            6.04821530110506   \n",
       "281                        0.0015301414395284903           7.646380857897902   \n",
       "282                         0.004051975410363078           7.242046172265801   \n",
       "283                        0.0006413234112890079           7.798182267442231   \n",
       "284                        0.0035480536801734733          6.6473961935836945   \n",
       "285                        0.0012063108774522946           6.882178339194774   \n",
       "286                        0.0012319263252038477             7.8933278381056   \n",
       "287                        0.0020569151726012825           6.571034755408902   \n",
       "288                         0.006484712470781652            7.23711945965005   \n",
       "289                         0.008811934129441581           6.701676551721465   \n",
       "290                         0.006770147293067898           6.952412289621788   \n",
       "291                        0.0024171542507320154           7.330891561603395   \n",
       "292                        0.0022795548924627387            7.07594981121275   \n",
       "293                        0.0013668590884197568           7.145910841724713   \n",
       "294                         0.004925179088727158           6.249158476178194   \n",
       "295                        0.0034716709513483517           6.851172015303249   \n",
       "296                        0.0009330478283055931           7.191221582685593   \n",
       "297                        0.0014120863820929132           7.270939877512328   \n",
       "298                         0.001188057281603964            6.48495288861754   \n",
       "299                         0.001097302326903002           7.554262894196348   \n",
       "\n",
       "     original_glszm_ZonePercentage  original_glszm_ZoneVariance  \\\n",
       "0              0.05065013935430697            811080.0103191268   \n",
       "1                             None                         None   \n",
       "2              0.12583400659035412            43542.93247932123   \n",
       "3              0.03442424242424243             78052.2017952787   \n",
       "4              0.05924262819164598             611132.025210262   \n",
       "5               0.3567645642753972            297.2954117880604   \n",
       "6              0.36528028933092227           156.28264385844525   \n",
       "7              0.22692146021275908           12552.147271933809   \n",
       "8              0.06724826260535266            210087.6836985185   \n",
       "9              0.02935379145087733            686026.4747536255   \n",
       "10             0.15515759871890014            29405.39059390769   \n",
       "11                          0.3448           234.74565346511557   \n",
       "12              0.1128870157237802           30505.587363138762   \n",
       "13               0.129630196300433           141833.43206893734   \n",
       "14              0.2674930680150057           362.57364626710296   \n",
       "15             0.14935017443263682            182536.6243364634   \n",
       "16             0.44931506849315067           13.595441701368234   \n",
       "17              0.5231710871466045            6.291318037569541   \n",
       "18             0.12212354450365108            33589.52913567098   \n",
       "19             0.08957553058676654           2804.8407774769635   \n",
       "20             0.09316935914228884           393164.94835038495   \n",
       "21              0.2759607607275442           10391.770094986245   \n",
       "22              0.3871370033849991           19.054420979222684   \n",
       "23             0.08349834468923295            338809.6860428674   \n",
       "24              0.2940793754066363            508.0719467068682   \n",
       "25              0.2441846153846154           1028.5670340038862   \n",
       "26                          0.0632            413156.0150660787   \n",
       "27             0.40493946731234864            42.56478399309962   \n",
       "28             0.08230140065349956            96503.69110517327   \n",
       "29               0.537030657940062           11.146471830061621   \n",
       "..                             ...                          ...   \n",
       "270            0.10878951426368542           151378.24478776962   \n",
       "271            0.08376924595341492           220261.32511390524   \n",
       "272             0.2281795511221945           6672.7729771199265   \n",
       "273             0.3181305671439847            2010.213896679345   \n",
       "274            0.05125079055449302            785969.9310955203   \n",
       "275            0.37414187643020597           44.474988076200106   \n",
       "276              0.606694560669456           15.632940377102088   \n",
       "277                           None                         None   \n",
       "278             0.4437893081761006            246.6913640781993   \n",
       "279             0.3996039603960396             552.115206943259   \n",
       "280             0.5420054200542005                    13.375975   \n",
       "281              0.099608564522684            430181.2842743045   \n",
       "282            0.34307331072267155            471.2459778224349   \n",
       "283             0.0388714323834211            1169320.639178522   \n",
       "284            0.34747953468332615           293.73771845232994   \n",
       "285            0.10538428754084388           64958.019090796675   \n",
       "286              0.072210806883672            360760.9957643357   \n",
       "287             0.1251088534107402            12439.00459192188   \n",
       "288            0.31466227347611203            58.72747457580659   \n",
       "289            0.43752224991100036           50.187758409630035   \n",
       "290            0.30294224482382853           30.627648959968717   \n",
       "291            0.13907009111780277           197768.12486732987   \n",
       "292            0.07099136711010473            118227.7737772126   \n",
       "293             0.1150902216347484           49869.243988601134   \n",
       "294             0.1514792899408284           2507.5990600585938   \n",
       "295            0.49042762569332615            74.93718462505596   \n",
       "296            0.11898630457684654            33177.88718244393   \n",
       "297            0.12680162496159492            178502.5383939068   \n",
       "298            0.26303701849291955           15103.022310945464   \n",
       "299             0.1586560079940045           11468.585913232464   \n",
       "\n",
       "    original_ngtdm_Busyness original_ngtdm_Coarseness  \\\n",
       "0         4.638003576181803     5.446082904968082e-05   \n",
       "1                      None                      None   \n",
       "2        1.2453260036682692      0.000216962582959674   \n",
       "3        0.3192361746468855     0.0011584858008878434   \n",
       "4        3.6014025715567675     5.676665846302051e-05   \n",
       "5       0.29144824075065945      0.002476095943858015   \n",
       "6       0.09501105398887026      0.007916250096069312   \n",
       "7         0.718215089001439     0.0005338474193486882   \n",
       "8         3.411742942537483    0.00014734084864731234   \n",
       "9         3.568586114684688     9.763512851495345e-05   \n",
       "10       1.2292764344076512     0.0002473928805907371   \n",
       "11      0.21531070583514791      0.004311672555854459   \n",
       "12       0.7435117485030087     0.0004070436981795229   \n",
       "13       2.5739529880840752     7.523836316655893e-05   \n",
       "14      0.24853563488531313     0.0038810862563832234   \n",
       "15       6.7939657787905325    3.2568551442329724e-05   \n",
       "16      0.07775376602305296      0.015311698238793617   \n",
       "17       0.7443653978587913     0.0025182204955828675   \n",
       "18       0.7661707437541035     0.0004014305095663808   \n",
       "19      0.08874752350635252      0.003560695223905199   \n",
       "20        5.069998381229161    3.8983071733322356e-05   \n",
       "21        1.869546784202216     0.0002989103733588873   \n",
       "22       0.9716861284774899     0.0005216460612959262   \n",
       "23        2.992659970348785    5.4133503542378135e-05   \n",
       "24      0.22134234614219983      0.003224851038770374   \n",
       "25       0.6573836988450625     0.0013299692055761766   \n",
       "26       2.1830571653224937     0.0001267737666582638   \n",
       "27       2.3900556049024786     0.0008861569387576326   \n",
       "28        0.960775376291332     0.0001967858309645778   \n",
       "29      0.24075557855225987     0.0031409559177572096   \n",
       "..                      ...                       ...   \n",
       "270         2.3428187121503    0.00010627521367141708   \n",
       "271      1.6669130507706895    0.00014576756906747247   \n",
       "272       0.661894902033628     0.0006908799968563485   \n",
       "273     0.47142096946338186     0.0005808740155667074   \n",
       "274         3.8016278198652     7.172777262168633e-05   \n",
       "275     0.24104344071650663      0.006761312245770574   \n",
       "276     0.13843509755321795      0.004142410708728122   \n",
       "277                    None                      None   \n",
       "278      0.4448591428677588     0.0009309076781772361   \n",
       "279      0.3406755410988624     0.0016397185525391935   \n",
       "280     0.17587494256212904      0.009829106273203849   \n",
       "281      4.2834973475769695     4.700103179431201e-05   \n",
       "282      0.8400071965018975     0.0006237280431003554   \n",
       "283      3.0262035180871107     5.898416096653614e-05   \n",
       "284     0.22660862047737765      0.003090580429514026   \n",
       "285      0.8471429838520521    0.00030675371502693913   \n",
       "286       4.930224271693016     6.036582705246826e-05   \n",
       "287     0.29744431273028565     0.0010174313134883484   \n",
       "288      0.5158288121371688     0.0027654406480975223   \n",
       "289     0.46254213662699145     0.0035905102005092037   \n",
       "290      0.6162018511528478      0.004286336952447301   \n",
       "291      4.1309684414738355     6.436628041355792e-05   \n",
       "292      1.7964205258101962     0.0002336631674081431   \n",
       "293      1.1299741182486778     0.0002904036457603399   \n",
       "294      0.1451505844745803     0.0038360669881133324   \n",
       "295     0.30613229794075314     0.0019058445125772411   \n",
       "296      0.6963962032944083    0.00045734758147107147   \n",
       "297      2.9873556461496684     8.530118049780416e-05   \n",
       "298      3.2747617934032998     7.335600874277254e-05   \n",
       "299      1.6001781072780072     0.0003116465126409293   \n",
       "\n",
       "    original_ngtdm_Complexity original_ngtdm_Contrast  \\\n",
       "0           1208.990130928983    0.004242342429635777   \n",
       "1                        None                    None   \n",
       "2          2124.6732991252165    0.029745506287594543   \n",
       "3           493.9439694152586    0.004182293302986566   \n",
       "4          1723.9199416906906    0.009181368148031591   \n",
       "5           1625.667447850248     0.23602064618873433   \n",
       "6           1518.545746076143     0.18237875682701976   \n",
       "7           1647.829002575773     0.15172573955141086   \n",
       "8            571.386299734884    0.019888263426672353   \n",
       "9           684.5476765671239    0.004234913657332878   \n",
       "10         1679.6737560912095     0.07042559391726383   \n",
       "11         1120.3790957642361     0.26061068807854054   \n",
       "12          1253.528510770986     0.02491228994041788   \n",
       "13          3783.570137452137    0.027978509760262837   \n",
       "14          982.1963220743498      0.2629703327415735   \n",
       "15         3274.4066226843884     0.05036177188228468   \n",
       "16         1082.3433954985846     0.18711460911450706   \n",
       "17          4106.131295341815     0.37330474914344075   \n",
       "18          1161.876057322675    0.059036952728628085   \n",
       "19         1478.1495036217834    0.034767170274454084   \n",
       "20         2430.5623771889923    0.028673775438350833   \n",
       "21          1480.497558524571     0.24212596764408367   \n",
       "22         11917.081383411622     0.08934411615858587   \n",
       "23         2963.8876188000413    0.009854556161924995   \n",
       "24         1146.8938909447143     0.13475547967437387   \n",
       "25         1071.3662241422517     0.10377605682359203   \n",
       "26          749.9158351824378    0.012066473305202052   \n",
       "27          3444.064111227163      0.4168759894986801   \n",
       "28         2637.6172078158274    0.016261025617102468   \n",
       "29          4109.773898836124     0.47306662438586555   \n",
       "..                        ...                     ...   \n",
       "270        1630.6569147296443    0.024289031675709668   \n",
       "271        2596.2892100343224    0.007389078129697386   \n",
       "272         1279.881703279654      0.1073748552891916   \n",
       "273         5713.776148060454     0.15799137588532178   \n",
       "274         802.1590061468481    0.005318600659449717   \n",
       "275        1082.9570011449448       0.325462943510588   \n",
       "276         6602.780622433239       0.794694408241354   \n",
       "277                      None                    None   \n",
       "278         6051.920831005981       0.393646599803466   \n",
       "279        2805.2378926059687      0.4780447536058001   \n",
       "280        1946.6586907576063      0.6774027776887893   \n",
       "281        2103.9007784109804     0.01967008852253595   \n",
       "282         5623.218717544708      0.2087544094065177   \n",
       "283         1515.553097825558    0.002113059538029328   \n",
       "284        1522.0485246002622     0.21892236165194368   \n",
       "285        1236.0951005573122    0.019229787808456775   \n",
       "286         1493.771670493071    0.013861672716860611   \n",
       "287        1278.7921708928616     0.01351499837994573   \n",
       "288        1727.9117096660646     0.18551315272516028   \n",
       "289         2114.520839730045      0.5692637413962094   \n",
       "290        1271.7761450543444     0.15707384911545383   \n",
       "291        1972.2212195012723     0.08447776667068141   \n",
       "292         826.8131043088226    0.011342005558562589   \n",
       "293        1061.7730623153855     0.05247136065944921   \n",
       "294         817.1854007192372    0.021205055605598273   \n",
       "295         4483.369981145554      0.4059673066951746   \n",
       "296         1158.946560816182    0.030891254862908297   \n",
       "297        1581.4318762827352     0.03681760304160888   \n",
       "298         4964.471992006311     0.04802903758135621   \n",
       "299        1329.9342126126633     0.09417826331276645   \n",
       "\n",
       "     original_ngtdm_Strength  patient_number  \n",
       "0         0.3528600071678195             002  \n",
       "1                       None             003  \n",
       "2          0.593370980923771             004  \n",
       "3         7.9263924028377275             005  \n",
       "4         0.5111257271308385             007  \n",
       "5         2.0443356629047984             008  \n",
       "6         5.4164580535629065             011  \n",
       "7         0.9576135144010168             014  \n",
       "8        0.39281939193215354             015  \n",
       "9         0.5179838137907027             016  \n",
       "10        0.7519694951848688             017  \n",
       "11          2.67177305342798             018  \n",
       "12          1.34571279526463             020  \n",
       "13        0.5198296269213483             021  \n",
       "14        2.8692955397867865             022  \n",
       "15        0.1461400249351767             023  \n",
       "16        6.9985259560373505             024  \n",
       "17         2.309729433318687             025  \n",
       "18        1.1032477225643165             026  \n",
       "19        13.176368854198525             029  \n",
       "20        0.2824008653671039             030  \n",
       "21        0.3691892591800383             031  \n",
       "22         2.852184219608707             032  \n",
       "23        0.5647399711839881             033  \n",
       "24        2.7469204593263274             035  \n",
       "25        0.8657919258745741             036  \n",
       "26        0.9327402031053049             037  \n",
       "27        1.2120189227048546             039  \n",
       "28        1.3746116959447103             040  \n",
       "29           2.9058133115381             042  \n",
       "..                       ...             ...  \n",
       "270       0.4606421181580048             383  \n",
       "271       2.1377123840874988             384  \n",
       "272       1.0214902995475954             385  \n",
       "273       1.3758528190465993             386  \n",
       "274       0.5216353800835233             388  \n",
       "275       3.7278074028627395             389  \n",
       "276        4.256762468826891             390  \n",
       "277                     None             391  \n",
       "278       1.3731539230080159             392  \n",
       "279       1.9222176385002876             393  \n",
       "280        4.457299674693692             394  \n",
       "281       0.3465010231383506             395  \n",
       "282       1.4803864293788846             396  \n",
       "283       0.7500047185247829             397  \n",
       "284       2.4418282715080295             399  \n",
       "285       1.6372599259696257             400  \n",
       "286       0.2548237425906703             401  \n",
       "287        3.338787114825903             402  \n",
       "288       2.3146344390846925             403  \n",
       "289         2.56546674426354             406  \n",
       "290       2.7382195781328513             409  \n",
       "291       0.2427139080026082             414  \n",
       "292        0.552937640336374             416  \n",
       "293       0.8228572805949378             417  \n",
       "294         4.72171407908516             418  \n",
       "295       1.9591626756590645             420  \n",
       "296       1.3412094894571074             421  \n",
       "297      0.35276480480378414             422  \n",
       "298       0.2279646029225388             423  \n",
       "299       0.3957467908267195             424  \n",
       "\n",
       "[300 rows x 130 columns]"
      ]
     },
     "execution_count": 93,
     "metadata": {},
     "output_type": "execute_result"
    }
   ],
   "source": [
    "df"
   ]
  },
  {
   "cell_type": "code",
   "execution_count": 99,
   "metadata": {},
   "outputs": [
    {
     "data": {
      "text/html": [
       "<div>\n",
       "<style scoped>\n",
       "    .dataframe tbody tr th:only-of-type {\n",
       "        vertical-align: middle;\n",
       "    }\n",
       "\n",
       "    .dataframe tbody tr th {\n",
       "        vertical-align: top;\n",
       "    }\n",
       "\n",
       "    .dataframe thead th {\n",
       "        text-align: right;\n",
       "    }\n",
       "</style>\n",
       "<table border=\"1\" class=\"dataframe\">\n",
       "  <thead>\n",
       "    <tr style=\"text-align: right;\">\n",
       "      <th></th>\n",
       "      <th>diagnostics_Versions_PyRadiomics</th>\n",
       "      <th>diagnostics_Versions_Numpy</th>\n",
       "      <th>diagnostics_Versions_SimpleITK</th>\n",
       "      <th>diagnostics_Versions_PyWavelet</th>\n",
       "      <th>diagnostics_Versions_Python</th>\n",
       "      <th>diagnostics_Configuration_Settings</th>\n",
       "      <th>diagnostics_Configuration_EnabledImageTypes</th>\n",
       "      <th>diagnostics_Image-original_Hash</th>\n",
       "      <th>diagnostics_Image-original_Dimensionality</th>\n",
       "      <th>diagnostics_Image-original_Spacing</th>\n",
       "      <th>...</th>\n",
       "      <th>original_glszm_SmallAreaLowGrayLevelEmphasis</th>\n",
       "      <th>original_glszm_ZoneEntropy</th>\n",
       "      <th>original_glszm_ZonePercentage</th>\n",
       "      <th>original_glszm_ZoneVariance</th>\n",
       "      <th>original_ngtdm_Busyness</th>\n",
       "      <th>original_ngtdm_Coarseness</th>\n",
       "      <th>original_ngtdm_Complexity</th>\n",
       "      <th>original_ngtdm_Contrast</th>\n",
       "      <th>original_ngtdm_Strength</th>\n",
       "      <th>patient_number</th>\n",
       "    </tr>\n",
       "  </thead>\n",
       "  <tbody>\n",
       "    <tr>\n",
       "      <th>0</th>\n",
       "      <td>2.2.0</td>\n",
       "      <td>1.17.4</td>\n",
       "      <td>1.2.4</td>\n",
       "      <td>0.5.2</td>\n",
       "      <td>3.6.5</td>\n",
       "      <td>{'minimumROIDimensions': 2, 'minimumROISize': ...</td>\n",
       "      <td>{'Original': {}}</td>\n",
       "      <td>a14c1903ca44b9c8bee21607abe86b6092e0e784</td>\n",
       "      <td>3D</td>\n",
       "      <td>(1.0, 1.0, 1.0)</td>\n",
       "      <td>...</td>\n",
       "      <td>0.00650396833685046</td>\n",
       "      <td>7.030494272641832</td>\n",
       "      <td>0.3864306784660767</td>\n",
       "      <td>88.6209195268341</td>\n",
       "      <td>0.3192207510507349</td>\n",
       "      <td>0.0029973859057788035</td>\n",
       "      <td>2400.7459995508075</td>\n",
       "      <td>0.2587860762411749</td>\n",
       "      <td>3.0193578055002153</td>\n",
       "      <td>000</td>\n",
       "    </tr>\n",
       "    <tr>\n",
       "      <th>1</th>\n",
       "      <td>2.2.0</td>\n",
       "      <td>1.17.4</td>\n",
       "      <td>1.2.4</td>\n",
       "      <td>0.5.2</td>\n",
       "      <td>3.6.5</td>\n",
       "      <td>{'minimumROIDimensions': 2, 'minimumROISize': ...</td>\n",
       "      <td>{'Original': {}}</td>\n",
       "      <td>012bee7c6eb8bc6eb005674e2786b955b3f2d343</td>\n",
       "      <td>3D</td>\n",
       "      <td>(1.0, 1.0, 1.0)</td>\n",
       "      <td>...</td>\n",
       "      <td>0.0011372251755402353</td>\n",
       "      <td>7.056755551475125</td>\n",
       "      <td>0.16735686583842765</td>\n",
       "      <td>28829.700225615623</td>\n",
       "      <td>1.0432795311296523</td>\n",
       "      <td>0.000299498303363116</td>\n",
       "      <td>1503.157610147304</td>\n",
       "      <td>0.05499763926588297</td>\n",
       "      <td>0.8124728927622762</td>\n",
       "      <td>001</td>\n",
       "    </tr>\n",
       "    <tr>\n",
       "      <th>2</th>\n",
       "      <td>2.2.0</td>\n",
       "      <td>1.17.4</td>\n",
       "      <td>1.2.4</td>\n",
       "      <td>0.5.2</td>\n",
       "      <td>3.6.5</td>\n",
       "      <td>{'minimumROIDimensions': 2, 'minimumROISize': ...</td>\n",
       "      <td>{'Original': {}}</td>\n",
       "      <td>57504b176455455b107b42a27734198353b891b5</td>\n",
       "      <td>3D</td>\n",
       "      <td>(1.0, 1.0, 1.0)</td>\n",
       "      <td>...</td>\n",
       "      <td>0.0030927233376598366</td>\n",
       "      <td>7.295787467156062</td>\n",
       "      <td>0.16808601234830742</td>\n",
       "      <td>9195.18109360467</td>\n",
       "      <td>0.4240922951318243</td>\n",
       "      <td>0.0009696911689902665</td>\n",
       "      <td>1549.136212300552</td>\n",
       "      <td>0.04406541279692153</td>\n",
       "      <td>1.8312712830615954</td>\n",
       "      <td>006</td>\n",
       "    </tr>\n",
       "    <tr>\n",
       "      <th>3</th>\n",
       "      <td>2.2.0</td>\n",
       "      <td>1.17.4</td>\n",
       "      <td>1.2.4</td>\n",
       "      <td>0.5.2</td>\n",
       "      <td>3.6.5</td>\n",
       "      <td>{'minimumROIDimensions': 2, 'minimumROISize': ...</td>\n",
       "      <td>{'Original': {}}</td>\n",
       "      <td>466571f330c0e12c21c0e6b2ee64953b043a074a</td>\n",
       "      <td>3D</td>\n",
       "      <td>(1.0, 1.0, 1.0)</td>\n",
       "      <td>...</td>\n",
       "      <td>0.011458708772295158</td>\n",
       "      <td>7.0290292656028655</td>\n",
       "      <td>0.466265441875198</td>\n",
       "      <td>11.03069203021621</td>\n",
       "      <td>3.3630953665269554</td>\n",
       "      <td>0.00046453293179421864</td>\n",
       "      <td>5166.658333866696</td>\n",
       "      <td>0.2505568367343866</td>\n",
       "      <td>0.7531802976962354</td>\n",
       "      <td>009</td>\n",
       "    </tr>\n",
       "    <tr>\n",
       "      <th>4</th>\n",
       "      <td>2.2.0</td>\n",
       "      <td>1.17.4</td>\n",
       "      <td>1.2.4</td>\n",
       "      <td>0.5.2</td>\n",
       "      <td>3.6.5</td>\n",
       "      <td>{'minimumROIDimensions': 2, 'minimumROISize': ...</td>\n",
       "      <td>{'Original': {}}</td>\n",
       "      <td>e85f367b7409c24d3dda412f0616f26da1ea8d55</td>\n",
       "      <td>3D</td>\n",
       "      <td>(1.0, 1.0, 1.0)</td>\n",
       "      <td>...</td>\n",
       "      <td>0.001263275408950132</td>\n",
       "      <td>7.296961213716396</td>\n",
       "      <td>0.11617878762749813</td>\n",
       "      <td>64430.20175176771</td>\n",
       "      <td>0.8221696618971971</td>\n",
       "      <td>0.00016990275935880697</td>\n",
       "      <td>5325.885346788066</td>\n",
       "      <td>0.010699961481524708</td>\n",
       "      <td>2.6618141092070435</td>\n",
       "      <td>010</td>\n",
       "    </tr>\n",
       "    <tr>\n",
       "      <th>5</th>\n",
       "      <td>2.2.0</td>\n",
       "      <td>1.17.4</td>\n",
       "      <td>1.2.4</td>\n",
       "      <td>0.5.2</td>\n",
       "      <td>3.6.5</td>\n",
       "      <td>{'minimumROIDimensions': 2, 'minimumROISize': ...</td>\n",
       "      <td>{'Original': {}}</td>\n",
       "      <td>ad9134c02294af33a76dd455adb2ea656e73d0bb</td>\n",
       "      <td>3D</td>\n",
       "      <td>(1.0, 1.0, 1.0)</td>\n",
       "      <td>...</td>\n",
       "      <td>0.0032969046158858</td>\n",
       "      <td>6.8678024800660165</td>\n",
       "      <td>0.34163816967920535</td>\n",
       "      <td>544.6214691280725</td>\n",
       "      <td>0.2863143301056496</td>\n",
       "      <td>0.0025691941507084907</td>\n",
       "      <td>1379.2028413909507</td>\n",
       "      <td>0.2628539609310901</td>\n",
       "      <td>2.0394846613420556</td>\n",
       "      <td>012</td>\n",
       "    </tr>\n",
       "    <tr>\n",
       "      <th>6</th>\n",
       "      <td>2.2.0</td>\n",
       "      <td>1.17.4</td>\n",
       "      <td>1.2.4</td>\n",
       "      <td>0.5.2</td>\n",
       "      <td>3.6.5</td>\n",
       "      <td>{'minimumROIDimensions': 2, 'minimumROISize': ...</td>\n",
       "      <td>{'Original': {}}</td>\n",
       "      <td>d37a13f547ac65b0c300c7a8bfee84b3115e7c8c</td>\n",
       "      <td>3D</td>\n",
       "      <td>(1.0, 1.0, 1.0)</td>\n",
       "      <td>...</td>\n",
       "      <td>0.0029809603474066533</td>\n",
       "      <td>7.738243027132657</td>\n",
       "      <td>0.03732633079136861</td>\n",
       "      <td>1309263.1233864485</td>\n",
       "      <td>7.805748110033149</td>\n",
       "      <td>4.954695416944482e-05</td>\n",
       "      <td>822.2480054589579</td>\n",
       "      <td>0.004100770738762614</td>\n",
       "      <td>0.2195195589714611</td>\n",
       "      <td>013</td>\n",
       "    </tr>\n",
       "    <tr>\n",
       "      <th>7</th>\n",
       "      <td>2.2.0</td>\n",
       "      <td>1.17.4</td>\n",
       "      <td>1.2.4</td>\n",
       "      <td>0.5.2</td>\n",
       "      <td>3.6.5</td>\n",
       "      <td>{'minimumROIDimensions': 2, 'minimumROISize': ...</td>\n",
       "      <td>{'Original': {}}</td>\n",
       "      <td>9f427e296f28dcda6c8ba2256469bf910fc1fdf0</td>\n",
       "      <td>3D</td>\n",
       "      <td>(1.0, 1.0, 1.0)</td>\n",
       "      <td>...</td>\n",
       "      <td>0.00517823384912288</td>\n",
       "      <td>6.614141307851755</td>\n",
       "      <td>0.3871290430143381</td>\n",
       "      <td>45.285296393483</td>\n",
       "      <td>0.2705994297708851</td>\n",
       "      <td>0.004530731014635755</td>\n",
       "      <td>1220.8504664217726</td>\n",
       "      <td>0.20120530288705538</td>\n",
       "      <td>2.1775998993460277</td>\n",
       "      <td>019</td>\n",
       "    </tr>\n",
       "    <tr>\n",
       "      <th>8</th>\n",
       "      <td>2.2.0</td>\n",
       "      <td>1.17.4</td>\n",
       "      <td>1.2.4</td>\n",
       "      <td>0.5.2</td>\n",
       "      <td>3.6.5</td>\n",
       "      <td>{'minimumROIDimensions': 2, 'minimumROISize': ...</td>\n",
       "      <td>{'Original': {}}</td>\n",
       "      <td>65e056af2c7644355d20656e3143dd6ec4212f41</td>\n",
       "      <td>3D</td>\n",
       "      <td>(1.0, 1.0, 1.0)</td>\n",
       "      <td>...</td>\n",
       "      <td>0.0010366632480026004</td>\n",
       "      <td>7.11280310139011</td>\n",
       "      <td>0.0696949112495939</td>\n",
       "      <td>605556.5375066835</td>\n",
       "      <td>4.077923636426653</td>\n",
       "      <td>6.20967645037254e-05</td>\n",
       "      <td>1006.0517011238957</td>\n",
       "      <td>0.010350257260902742</td>\n",
       "      <td>0.4301401259562533</td>\n",
       "      <td>027</td>\n",
       "    </tr>\n",
       "    <tr>\n",
       "      <th>9</th>\n",
       "      <td>2.2.0</td>\n",
       "      <td>1.17.4</td>\n",
       "      <td>1.2.4</td>\n",
       "      <td>0.5.2</td>\n",
       "      <td>3.6.5</td>\n",
       "      <td>{'minimumROIDimensions': 2, 'minimumROISize': ...</td>\n",
       "      <td>{'Original': {}}</td>\n",
       "      <td>f59894d720e8d39348e9565d038b4d67f5b75b73</td>\n",
       "      <td>3D</td>\n",
       "      <td>(1.0, 1.0, 1.0)</td>\n",
       "      <td>...</td>\n",
       "      <td>0.010479469010200998</td>\n",
       "      <td>7.093423309251276</td>\n",
       "      <td>0.5298420976387078</td>\n",
       "      <td>43.43556805391967</td>\n",
       "      <td>0.8254093902613867</td>\n",
       "      <td>0.0006990957187612052</td>\n",
       "      <td>11044.45288293424</td>\n",
       "      <td>0.41551539995882586</td>\n",
       "      <td>1.6537484042783042</td>\n",
       "      <td>028</td>\n",
       "    </tr>\n",
       "    <tr>\n",
       "      <th>10</th>\n",
       "      <td>2.2.0</td>\n",
       "      <td>1.17.4</td>\n",
       "      <td>1.2.4</td>\n",
       "      <td>0.5.2</td>\n",
       "      <td>3.6.5</td>\n",
       "      <td>{'minimumROIDimensions': 2, 'minimumROISize': ...</td>\n",
       "      <td>{'Original': {}}</td>\n",
       "      <td>650e3ddb43a406163856a490d35b09e1757e9a8a</td>\n",
       "      <td>3D</td>\n",
       "      <td>(1.0, 1.0, 1.0)</td>\n",
       "      <td>...</td>\n",
       "      <td>0.0013135666223513395</td>\n",
       "      <td>7.290249750775166</td>\n",
       "      <td>0.08715231366558462</td>\n",
       "      <td>106691.33898015402</td>\n",
       "      <td>1.6728991723332216</td>\n",
       "      <td>0.0001561327523102608</td>\n",
       "      <td>1593.5885238173992</td>\n",
       "      <td>0.010860246929524961</td>\n",
       "      <td>0.7415849420946503</td>\n",
       "      <td>034</td>\n",
       "    </tr>\n",
       "    <tr>\n",
       "      <th>11</th>\n",
       "      <td>2.2.0</td>\n",
       "      <td>1.17.4</td>\n",
       "      <td>1.2.4</td>\n",
       "      <td>0.5.2</td>\n",
       "      <td>3.6.5</td>\n",
       "      <td>{'minimumROIDimensions': 2, 'minimumROISize': ...</td>\n",
       "      <td>{'Original': {}}</td>\n",
       "      <td>2201f289b612c94b4e6cccf95a9f35f3a031e568</td>\n",
       "      <td>3D</td>\n",
       "      <td>(1.0, 1.0, 1.0)</td>\n",
       "      <td>...</td>\n",
       "      <td>0.004386699758318983</td>\n",
       "      <td>6.993143319987266</td>\n",
       "      <td>0.47312989467998917</td>\n",
       "      <td>6.884929617293218</td>\n",
       "      <td>0.35121142360815816</td>\n",
       "      <td>0.0026347858751217734</td>\n",
       "      <td>4805.504622046324</td>\n",
       "      <td>0.21742004640356255</td>\n",
       "      <td>3.378920442731471</td>\n",
       "      <td>038</td>\n",
       "    </tr>\n",
       "    <tr>\n",
       "      <th>12</th>\n",
       "      <td>2.2.0</td>\n",
       "      <td>1.17.4</td>\n",
       "      <td>1.2.4</td>\n",
       "      <td>0.5.2</td>\n",
       "      <td>3.6.5</td>\n",
       "      <td>{'minimumROIDimensions': 2, 'minimumROISize': ...</td>\n",
       "      <td>{'Original': {}}</td>\n",
       "      <td>3aaf1a6dfffb4502cb009a245e3f624143e45c75</td>\n",
       "      <td>3D</td>\n",
       "      <td>(1.0, 1.0, 1.0)</td>\n",
       "      <td>...</td>\n",
       "      <td>0.0022866037506234327</td>\n",
       "      <td>7.281882549196636</td>\n",
       "      <td>0.22450729804264477</td>\n",
       "      <td>6012.703448594982</td>\n",
       "      <td>1.864169981077123</td>\n",
       "      <td>0.0002987021988376117</td>\n",
       "      <td>2759.1888943053364</td>\n",
       "      <td>0.20721851269319333</td>\n",
       "      <td>0.5068317775037102</td>\n",
       "      <td>041</td>\n",
       "    </tr>\n",
       "    <tr>\n",
       "      <th>13</th>\n",
       "      <td>2.2.0</td>\n",
       "      <td>1.17.4</td>\n",
       "      <td>1.2.4</td>\n",
       "      <td>0.5.2</td>\n",
       "      <td>3.6.5</td>\n",
       "      <td>{'minimumROIDimensions': 2, 'minimumROISize': ...</td>\n",
       "      <td>{'Original': {}}</td>\n",
       "      <td>31d84fbf5c8a8881bbb03b34a76602a365a9fda7</td>\n",
       "      <td>3D</td>\n",
       "      <td>(1.0, 1.0, 1.0)</td>\n",
       "      <td>...</td>\n",
       "      <td>0.001279280063784213</td>\n",
       "      <td>6.412111568664334</td>\n",
       "      <td>0.08001851328070762</td>\n",
       "      <td>73198.95628983667</td>\n",
       "      <td>1.388880577180543</td>\n",
       "      <td>0.0002998454900873995</td>\n",
       "      <td>745.5657726234778</td>\n",
       "      <td>0.01223376137924379</td>\n",
       "      <td>0.9720661501394185</td>\n",
       "      <td>046</td>\n",
       "    </tr>\n",
       "    <tr>\n",
       "      <th>14</th>\n",
       "      <td>2.2.0</td>\n",
       "      <td>1.17.4</td>\n",
       "      <td>1.2.4</td>\n",
       "      <td>0.5.2</td>\n",
       "      <td>3.6.5</td>\n",
       "      <td>{'minimumROIDimensions': 2, 'minimumROISize': ...</td>\n",
       "      <td>{'Original': {}}</td>\n",
       "      <td>65d22cf14a9630e32cb1075687c067d85639a38a</td>\n",
       "      <td>3D</td>\n",
       "      <td>(1.0, 1.0, 1.0)</td>\n",
       "      <td>...</td>\n",
       "      <td>0.007799168118793287</td>\n",
       "      <td>6.4700844404606315</td>\n",
       "      <td>0.467940813810111</td>\n",
       "      <td>27.130104967877784</td>\n",
       "      <td>0.1501706253921209</td>\n",
       "      <td>0.007955072276613552</td>\n",
       "      <td>1518.9731658901567</td>\n",
       "      <td>0.41458437806298254</td>\n",
       "      <td>4.1919466935123575</td>\n",
       "      <td>049</td>\n",
       "    </tr>\n",
       "    <tr>\n",
       "      <th>15</th>\n",
       "      <td>None</td>\n",
       "      <td>None</td>\n",
       "      <td>None</td>\n",
       "      <td>None</td>\n",
       "      <td>None</td>\n",
       "      <td>None</td>\n",
       "      <td>None</td>\n",
       "      <td>None</td>\n",
       "      <td>None</td>\n",
       "      <td>None</td>\n",
       "      <td>...</td>\n",
       "      <td>None</td>\n",
       "      <td>None</td>\n",
       "      <td>None</td>\n",
       "      <td>None</td>\n",
       "      <td>None</td>\n",
       "      <td>None</td>\n",
       "      <td>None</td>\n",
       "      <td>None</td>\n",
       "      <td>None</td>\n",
       "      <td>050</td>\n",
       "    </tr>\n",
       "    <tr>\n",
       "      <th>16</th>\n",
       "      <td>2.2.0</td>\n",
       "      <td>1.17.4</td>\n",
       "      <td>1.2.4</td>\n",
       "      <td>0.5.2</td>\n",
       "      <td>3.6.5</td>\n",
       "      <td>{'minimumROIDimensions': 2, 'minimumROISize': ...</td>\n",
       "      <td>{'Original': {}}</td>\n",
       "      <td>a853815d68e5984787d97b80aedd8ac2194c8fd1</td>\n",
       "      <td>3D</td>\n",
       "      <td>(1.0, 1.0, 1.0)</td>\n",
       "      <td>...</td>\n",
       "      <td>0.0016018154028825543</td>\n",
       "      <td>7.182125278034371</td>\n",
       "      <td>0.20367269321374848</td>\n",
       "      <td>8741.141397075318</td>\n",
       "      <td>1.1055475120072882</td>\n",
       "      <td>0.0004574843042622475</td>\n",
       "      <td>1152.711679956383</td>\n",
       "      <td>0.12063673720755935</td>\n",
       "      <td>0.6521431547984168</td>\n",
       "      <td>054</td>\n",
       "    </tr>\n",
       "    <tr>\n",
       "      <th>17</th>\n",
       "      <td>2.2.0</td>\n",
       "      <td>1.17.4</td>\n",
       "      <td>1.2.4</td>\n",
       "      <td>0.5.2</td>\n",
       "      <td>3.6.5</td>\n",
       "      <td>{'minimumROIDimensions': 2, 'minimumROISize': ...</td>\n",
       "      <td>{'Original': {}}</td>\n",
       "      <td>273809757cdce6a3e507758ff42b9bcb0ceb26d9</td>\n",
       "      <td>3D</td>\n",
       "      <td>(1.0, 1.0, 1.0)</td>\n",
       "      <td>...</td>\n",
       "      <td>0.007394451023779944</td>\n",
       "      <td>6.433873357070576</td>\n",
       "      <td>0.4601181683899557</td>\n",
       "      <td>32.09514877785478</td>\n",
       "      <td>0.11023960241102679</td>\n",
       "      <td>0.0087337091685833</td>\n",
       "      <td>1691.460822118643</td>\n",
       "      <td>0.3678397007257342</td>\n",
       "      <td>5.244593289310793</td>\n",
       "      <td>055</td>\n",
       "    </tr>\n",
       "    <tr>\n",
       "      <th>18</th>\n",
       "      <td>2.2.0</td>\n",
       "      <td>1.17.4</td>\n",
       "      <td>1.2.4</td>\n",
       "      <td>0.5.2</td>\n",
       "      <td>3.6.5</td>\n",
       "      <td>{'minimumROIDimensions': 2, 'minimumROISize': ...</td>\n",
       "      <td>{'Original': {}}</td>\n",
       "      <td>4e1d46819f6b163f98d7153b112617d99661b92b</td>\n",
       "      <td>3D</td>\n",
       "      <td>(1.0, 1.0, 1.0)</td>\n",
       "      <td>...</td>\n",
       "      <td>0.00207901957713131</td>\n",
       "      <td>7.216761375837666</td>\n",
       "      <td>0.10587706685837527</td>\n",
       "      <td>76440.78066121768</td>\n",
       "      <td>1.2577313175994982</td>\n",
       "      <td>0.00027738856464899536</td>\n",
       "      <td>973.6351580528127</td>\n",
       "      <td>0.03444450654353795</td>\n",
       "      <td>0.7563117010648652</td>\n",
       "      <td>059</td>\n",
       "    </tr>\n",
       "    <tr>\n",
       "      <th>19</th>\n",
       "      <td>2.2.0</td>\n",
       "      <td>1.17.4</td>\n",
       "      <td>1.2.4</td>\n",
       "      <td>0.5.2</td>\n",
       "      <td>3.6.5</td>\n",
       "      <td>{'minimumROIDimensions': 2, 'minimumROISize': ...</td>\n",
       "      <td>{'Original': {}}</td>\n",
       "      <td>a9a60e65302972e1eaffa4b25823aa80356e194f</td>\n",
       "      <td>3D</td>\n",
       "      <td>(1.0, 1.0, 1.0)</td>\n",
       "      <td>...</td>\n",
       "      <td>0.0011489558850105274</td>\n",
       "      <td>7.546747055523174</td>\n",
       "      <td>0.05381876744032939</td>\n",
       "      <td>830330.9076159397</td>\n",
       "      <td>5.746706476154839</td>\n",
       "      <td>5.699361308135361e-05</td>\n",
       "      <td>761.4420879198275</td>\n",
       "      <td>0.01474535986952564</td>\n",
       "      <td>0.31072496994970683</td>\n",
       "      <td>060</td>\n",
       "    </tr>\n",
       "    <tr>\n",
       "      <th>20</th>\n",
       "      <td>2.2.0</td>\n",
       "      <td>1.17.4</td>\n",
       "      <td>1.2.4</td>\n",
       "      <td>0.5.2</td>\n",
       "      <td>3.6.5</td>\n",
       "      <td>{'minimumROIDimensions': 2, 'minimumROISize': ...</td>\n",
       "      <td>{'Original': {}}</td>\n",
       "      <td>e70047a300e13cd902203d6f4ed8065d409c2a9d</td>\n",
       "      <td>3D</td>\n",
       "      <td>(1.0, 1.0, 1.0)</td>\n",
       "      <td>...</td>\n",
       "      <td>0.012763629194190777</td>\n",
       "      <td>7.325373958378649</td>\n",
       "      <td>0.4870036609405801</td>\n",
       "      <td>525.5645610801705</td>\n",
       "      <td>1.7551337628417458</td>\n",
       "      <td>0.00012971495401556526</td>\n",
       "      <td>40696.270734442085</td>\n",
       "      <td>0.21091397452450425</td>\n",
       "      <td>1.3871357925853178</td>\n",
       "      <td>062</td>\n",
       "    </tr>\n",
       "    <tr>\n",
       "      <th>21</th>\n",
       "      <td>2.2.0</td>\n",
       "      <td>1.17.4</td>\n",
       "      <td>1.2.4</td>\n",
       "      <td>0.5.2</td>\n",
       "      <td>3.6.5</td>\n",
       "      <td>{'minimumROIDimensions': 2, 'minimumROISize': ...</td>\n",
       "      <td>{'Original': {}}</td>\n",
       "      <td>2897d9cb4324ba5e066db20a1872ff2d559f87f7</td>\n",
       "      <td>3D</td>\n",
       "      <td>(1.0, 1.0, 1.0)</td>\n",
       "      <td>...</td>\n",
       "      <td>0.0022758772300454227</td>\n",
       "      <td>7.2664282658107675</td>\n",
       "      <td>0.13389295353850855</td>\n",
       "      <td>85544.06999992867</td>\n",
       "      <td>2.859580693174141</td>\n",
       "      <td>0.0001532977554033749</td>\n",
       "      <td>849.3310725848982</td>\n",
       "      <td>0.0652664253181279</td>\n",
       "      <td>0.27323796534755646</td>\n",
       "      <td>065</td>\n",
       "    </tr>\n",
       "    <tr>\n",
       "      <th>22</th>\n",
       "      <td>2.2.0</td>\n",
       "      <td>1.17.4</td>\n",
       "      <td>1.2.4</td>\n",
       "      <td>0.5.2</td>\n",
       "      <td>3.6.5</td>\n",
       "      <td>{'minimumROIDimensions': 2, 'minimumROISize': ...</td>\n",
       "      <td>{'Original': {}}</td>\n",
       "      <td>3d2168d982f3c4e7a17708c461e032ca8ff5f654</td>\n",
       "      <td>3D</td>\n",
       "      <td>(1.0, 1.0, 1.0)</td>\n",
       "      <td>...</td>\n",
       "      <td>0.0011185688377459372</td>\n",
       "      <td>8.248728886910184</td>\n",
       "      <td>0.0730208262668747</td>\n",
       "      <td>139592.72769047518</td>\n",
       "      <td>1.2134631034886427</td>\n",
       "      <td>0.0001280631202416637</td>\n",
       "      <td>5342.310426158639</td>\n",
       "      <td>0.0073132615707251335</td>\n",
       "      <td>2.5740353091891435</td>\n",
       "      <td>066</td>\n",
       "    </tr>\n",
       "    <tr>\n",
       "      <th>23</th>\n",
       "      <td>2.2.0</td>\n",
       "      <td>1.17.4</td>\n",
       "      <td>1.2.4</td>\n",
       "      <td>0.5.2</td>\n",
       "      <td>3.6.5</td>\n",
       "      <td>{'minimumROIDimensions': 2, 'minimumROISize': ...</td>\n",
       "      <td>{'Original': {}}</td>\n",
       "      <td>e0ff78eb127fe29cf197fcb0c0ddffa55934e921</td>\n",
       "      <td>3D</td>\n",
       "      <td>(1.0, 1.0, 1.0)</td>\n",
       "      <td>...</td>\n",
       "      <td>0.0010770241078634668</td>\n",
       "      <td>7.313909732997244</td>\n",
       "      <td>0.06114648479281229</td>\n",
       "      <td>1237003.6374900725</td>\n",
       "      <td>5.93905470974652</td>\n",
       "      <td>3.0491249955612493e-05</td>\n",
       "      <td>1766.462333348672</td>\n",
       "      <td>0.006612829440770413</td>\n",
       "      <td>0.3412408907520753</td>\n",
       "      <td>071</td>\n",
       "    </tr>\n",
       "    <tr>\n",
       "      <th>24</th>\n",
       "      <td>2.2.0</td>\n",
       "      <td>1.17.4</td>\n",
       "      <td>1.2.4</td>\n",
       "      <td>0.5.2</td>\n",
       "      <td>3.6.5</td>\n",
       "      <td>{'minimumROIDimensions': 2, 'minimumROISize': ...</td>\n",
       "      <td>{'Original': {}}</td>\n",
       "      <td>258d59a8e908d298439736c4ac470e7c32d649e8</td>\n",
       "      <td>3D</td>\n",
       "      <td>(1.0, 1.0, 1.0)</td>\n",
       "      <td>...</td>\n",
       "      <td>0.0037926422490696353</td>\n",
       "      <td>6.637507422942822</td>\n",
       "      <td>0.3844765342960289</td>\n",
       "      <td>147.45577376622805</td>\n",
       "      <td>0.1913375339584415</td>\n",
       "      <td>0.004166102926085494</td>\n",
       "      <td>1412.896263155049</td>\n",
       "      <td>0.24176798197313495</td>\n",
       "      <td>2.874594943496401</td>\n",
       "      <td>074</td>\n",
       "    </tr>\n",
       "    <tr>\n",
       "      <th>25</th>\n",
       "      <td>2.2.0</td>\n",
       "      <td>1.17.4</td>\n",
       "      <td>1.2.4</td>\n",
       "      <td>0.5.2</td>\n",
       "      <td>3.6.5</td>\n",
       "      <td>{'minimumROIDimensions': 2, 'minimumROISize': ...</td>\n",
       "      <td>{'Original': {}}</td>\n",
       "      <td>9dbe2d9abec6f23b48d4e089c88a3b27f7296b87</td>\n",
       "      <td>3D</td>\n",
       "      <td>(1.0, 1.0, 1.0)</td>\n",
       "      <td>...</td>\n",
       "      <td>0.0036225818700725155</td>\n",
       "      <td>6.824029228836075</td>\n",
       "      <td>0.2104562597056866</td>\n",
       "      <td>3496.143136993939</td>\n",
       "      <td>0.41135066550280985</td>\n",
       "      <td>0.0011465486712864447</td>\n",
       "      <td>1361.8468773052925</td>\n",
       "      <td>0.07590032713802068</td>\n",
       "      <td>1.369533910463784</td>\n",
       "      <td>075</td>\n",
       "    </tr>\n",
       "    <tr>\n",
       "      <th>26</th>\n",
       "      <td>2.2.0</td>\n",
       "      <td>1.17.4</td>\n",
       "      <td>1.2.4</td>\n",
       "      <td>0.5.2</td>\n",
       "      <td>3.6.5</td>\n",
       "      <td>{'minimumROIDimensions': 2, 'minimumROISize': ...</td>\n",
       "      <td>{'Original': {}}</td>\n",
       "      <td>45f93b8b702ba8eb34b6af937d89560f03f8b390</td>\n",
       "      <td>3D</td>\n",
       "      <td>(1.0, 1.0, 1.0)</td>\n",
       "      <td>...</td>\n",
       "      <td>0.013122570791631413</td>\n",
       "      <td>7.149332972704863</td>\n",
       "      <td>0.2962899347303332</td>\n",
       "      <td>78.12656702373451</td>\n",
       "      <td>1.259889503856971</td>\n",
       "      <td>0.0023904668557108645</td>\n",
       "      <td>1208.3624642500931</td>\n",
       "      <td>0.17425748937293656</td>\n",
       "      <td>1.5808995476622967</td>\n",
       "      <td>080</td>\n",
       "    </tr>\n",
       "    <tr>\n",
       "      <th>27</th>\n",
       "      <td>2.2.0</td>\n",
       "      <td>1.17.4</td>\n",
       "      <td>1.2.4</td>\n",
       "      <td>0.5.2</td>\n",
       "      <td>3.6.5</td>\n",
       "      <td>{'minimumROIDimensions': 2, 'minimumROISize': ...</td>\n",
       "      <td>{'Original': {}}</td>\n",
       "      <td>beb477947a6861cccda1d87f4eccaa9f3154e1fb</td>\n",
       "      <td>3D</td>\n",
       "      <td>(1.0, 1.0, 1.0)</td>\n",
       "      <td>...</td>\n",
       "      <td>0.0006920896717820855</td>\n",
       "      <td>7.097369645021458</td>\n",
       "      <td>0.05234754009620629</td>\n",
       "      <td>876377.4641854893</td>\n",
       "      <td>8.177036987839658</td>\n",
       "      <td>3.5146532370158366e-05</td>\n",
       "      <td>1145.4730793940223</td>\n",
       "      <td>0.006323161648866281</td>\n",
       "      <td>0.18872669227202768</td>\n",
       "      <td>085</td>\n",
       "    </tr>\n",
       "    <tr>\n",
       "      <th>28</th>\n",
       "      <td>2.2.0</td>\n",
       "      <td>1.17.4</td>\n",
       "      <td>1.2.4</td>\n",
       "      <td>0.5.2</td>\n",
       "      <td>3.6.5</td>\n",
       "      <td>{'minimumROIDimensions': 2, 'minimumROISize': ...</td>\n",
       "      <td>{'Original': {}}</td>\n",
       "      <td>549cc78e0ad653cb0218a534c9ae24ab598ffa78</td>\n",
       "      <td>3D</td>\n",
       "      <td>(1.0, 1.0, 1.0)</td>\n",
       "      <td>...</td>\n",
       "      <td>0.005145583882401662</td>\n",
       "      <td>7.402984092444055</td>\n",
       "      <td>0.16720340074713383</td>\n",
       "      <td>1438.188380963008</td>\n",
       "      <td>2.2829896732712696</td>\n",
       "      <td>0.001544110396124168</td>\n",
       "      <td>763.2340750570938</td>\n",
       "      <td>0.14610978301077746</td>\n",
       "      <td>1.1043825094567077</td>\n",
       "      <td>087</td>\n",
       "    </tr>\n",
       "    <tr>\n",
       "      <th>29</th>\n",
       "      <td>2.2.0</td>\n",
       "      <td>1.17.4</td>\n",
       "      <td>1.2.4</td>\n",
       "      <td>0.5.2</td>\n",
       "      <td>3.6.5</td>\n",
       "      <td>{'minimumROIDimensions': 2, 'minimumROISize': ...</td>\n",
       "      <td>{'Original': {}}</td>\n",
       "      <td>0dd431132afc7bfd4892f29112f28e0f7ad35654</td>\n",
       "      <td>3D</td>\n",
       "      <td>(1.0, 1.0, 1.0)</td>\n",
       "      <td>...</td>\n",
       "      <td>0.0015563728529436637</td>\n",
       "      <td>7.171018692542549</td>\n",
       "      <td>0.14653526878856482</td>\n",
       "      <td>56852.351194028306</td>\n",
       "      <td>2.7957047470336787</td>\n",
       "      <td>0.00011931026094401463</td>\n",
       "      <td>1569.2943277075763</td>\n",
       "      <td>0.05618356449732737</td>\n",
       "      <td>0.3037241294257559</td>\n",
       "      <td>097</td>\n",
       "    </tr>\n",
       "    <tr>\n",
       "      <th>...</th>\n",
       "      <td>...</td>\n",
       "      <td>...</td>\n",
       "      <td>...</td>\n",
       "      <td>...</td>\n",
       "      <td>...</td>\n",
       "      <td>...</td>\n",
       "      <td>...</td>\n",
       "      <td>...</td>\n",
       "      <td>...</td>\n",
       "      <td>...</td>\n",
       "      <td>...</td>\n",
       "      <td>...</td>\n",
       "      <td>...</td>\n",
       "      <td>...</td>\n",
       "      <td>...</td>\n",
       "      <td>...</td>\n",
       "      <td>...</td>\n",
       "      <td>...</td>\n",
       "      <td>...</td>\n",
       "      <td>...</td>\n",
       "      <td>...</td>\n",
       "    </tr>\n",
       "    <tr>\n",
       "      <th>95</th>\n",
       "      <td>2.2.0</td>\n",
       "      <td>1.17.4</td>\n",
       "      <td>1.2.4</td>\n",
       "      <td>0.5.2</td>\n",
       "      <td>3.6.5</td>\n",
       "      <td>{'minimumROIDimensions': 2, 'minimumROISize': ...</td>\n",
       "      <td>{'Original': {}}</td>\n",
       "      <td>a48538a692ca41da321af57cab9dbe41fd5eda48</td>\n",
       "      <td>3D</td>\n",
       "      <td>(1.0, 1.0, 1.0)</td>\n",
       "      <td>...</td>\n",
       "      <td>0.004909861018104349</td>\n",
       "      <td>6.3634196700345145</td>\n",
       "      <td>0.4908802537668517</td>\n",
       "      <td>28.439653305007553</td>\n",
       "      <td>0.09853983370572887</td>\n",
       "      <td>0.006128386463292559</td>\n",
       "      <td>3713.741867175296</td>\n",
       "      <td>0.34207218015051943</td>\n",
       "      <td>5.19609367552519</td>\n",
       "      <td>322</td>\n",
       "    </tr>\n",
       "    <tr>\n",
       "      <th>96</th>\n",
       "      <td>2.2.0</td>\n",
       "      <td>1.17.4</td>\n",
       "      <td>1.2.4</td>\n",
       "      <td>0.5.2</td>\n",
       "      <td>3.6.5</td>\n",
       "      <td>{'minimumROIDimensions': 2, 'minimumROISize': ...</td>\n",
       "      <td>{'Original': {}}</td>\n",
       "      <td>5a478d9f70829b4d70e56a3525f4a4233f26d0dc</td>\n",
       "      <td>3D</td>\n",
       "      <td>(1.0, 1.0, 1.0)</td>\n",
       "      <td>...</td>\n",
       "      <td>0.0021843297990240874</td>\n",
       "      <td>6.523018054335413</td>\n",
       "      <td>0.3223493900138347</td>\n",
       "      <td>950.5396868214782</td>\n",
       "      <td>0.3418510303680603</td>\n",
       "      <td>0.0009726182310737089</td>\n",
       "      <td>3788.8960015646708</td>\n",
       "      <td>0.14614563436055536</td>\n",
       "      <td>1.8751632807093437</td>\n",
       "      <td>324</td>\n",
       "    </tr>\n",
       "    <tr>\n",
       "      <th>97</th>\n",
       "      <td>2.2.0</td>\n",
       "      <td>1.17.4</td>\n",
       "      <td>1.2.4</td>\n",
       "      <td>0.5.2</td>\n",
       "      <td>3.6.5</td>\n",
       "      <td>{'minimumROIDimensions': 2, 'minimumROISize': ...</td>\n",
       "      <td>{'Original': {}}</td>\n",
       "      <td>ca69b4e631d22e2a2714a46c291422b8f557562f</td>\n",
       "      <td>3D</td>\n",
       "      <td>(1.0, 1.0, 1.0)</td>\n",
       "      <td>...</td>\n",
       "      <td>0.005567100092065029</td>\n",
       "      <td>6.284519913123125</td>\n",
       "      <td>0.02604800353943148</td>\n",
       "      <td>118365.46946687042</td>\n",
       "      <td>1.6205272258764905</td>\n",
       "      <td>0.0007486380658215003</td>\n",
       "      <td>178.0344916193256</td>\n",
       "      <td>0.003122302546334271</td>\n",
       "      <td>0.541301148998348</td>\n",
       "      <td>326</td>\n",
       "    </tr>\n",
       "    <tr>\n",
       "      <th>98</th>\n",
       "      <td>2.2.0</td>\n",
       "      <td>1.17.4</td>\n",
       "      <td>1.2.4</td>\n",
       "      <td>0.5.2</td>\n",
       "      <td>3.6.5</td>\n",
       "      <td>{'minimumROIDimensions': 2, 'minimumROISize': ...</td>\n",
       "      <td>{'Original': {}}</td>\n",
       "      <td>4c73b8f2321e9406d59183208c8e5184389ebd2a</td>\n",
       "      <td>3D</td>\n",
       "      <td>(1.0, 1.0, 1.0)</td>\n",
       "      <td>...</td>\n",
       "      <td>0.004127494117094649</td>\n",
       "      <td>6.9872152856031935</td>\n",
       "      <td>0.374845869297164</td>\n",
       "      <td>28.681559470221607</td>\n",
       "      <td>0.46010220474228475</td>\n",
       "      <td>0.002554600286353541</td>\n",
       "      <td>1382.2005623989996</td>\n",
       "      <td>0.20750914289398348</td>\n",
       "      <td>1.4318893988970918</td>\n",
       "      <td>332</td>\n",
       "    </tr>\n",
       "    <tr>\n",
       "      <th>99</th>\n",
       "      <td>2.2.0</td>\n",
       "      <td>1.17.4</td>\n",
       "      <td>1.2.4</td>\n",
       "      <td>0.5.2</td>\n",
       "      <td>3.6.5</td>\n",
       "      <td>{'minimumROIDimensions': 2, 'minimumROISize': ...</td>\n",
       "      <td>{'Original': {}}</td>\n",
       "      <td>3e133fd0606e4b0005d2018fa2c64516ef304e50</td>\n",
       "      <td>3D</td>\n",
       "      <td>(1.0, 1.0, 1.0)</td>\n",
       "      <td>...</td>\n",
       "      <td>0.012503581567686</td>\n",
       "      <td>7.002932104126142</td>\n",
       "      <td>0.5721212121212121</td>\n",
       "      <td>8.92743195202528</td>\n",
       "      <td>0.6185986863045154</td>\n",
       "      <td>0.0012089641895892626</td>\n",
       "      <td>9944.430297311308</td>\n",
       "      <td>0.6108036684377867</td>\n",
       "      <td>2.3780051831861786</td>\n",
       "      <td>337</td>\n",
       "    </tr>\n",
       "    <tr>\n",
       "      <th>100</th>\n",
       "      <td>2.2.0</td>\n",
       "      <td>1.17.4</td>\n",
       "      <td>1.2.4</td>\n",
       "      <td>0.5.2</td>\n",
       "      <td>3.6.5</td>\n",
       "      <td>{'minimumROIDimensions': 2, 'minimumROISize': ...</td>\n",
       "      <td>{'Original': {}}</td>\n",
       "      <td>47f2eed0427fee7e4a7234f4dfd74e3f74bf6ce2</td>\n",
       "      <td>3D</td>\n",
       "      <td>(1.0, 1.0, 1.0)</td>\n",
       "      <td>...</td>\n",
       "      <td>0.0012915079086775018</td>\n",
       "      <td>6.357307447508318</td>\n",
       "      <td>0.19026213894699365</td>\n",
       "      <td>12689.343166868439</td>\n",
       "      <td>0.8078584990099813</td>\n",
       "      <td>0.00031288421802832557</td>\n",
       "      <td>3314.5747748649055</td>\n",
       "      <td>0.031582891546476685</td>\n",
       "      <td>1.0740660461843676</td>\n",
       "      <td>339</td>\n",
       "    </tr>\n",
       "    <tr>\n",
       "      <th>101</th>\n",
       "      <td>2.2.0</td>\n",
       "      <td>1.17.4</td>\n",
       "      <td>1.2.4</td>\n",
       "      <td>0.5.2</td>\n",
       "      <td>3.6.5</td>\n",
       "      <td>{'minimumROIDimensions': 2, 'minimumROISize': ...</td>\n",
       "      <td>{'Original': {}}</td>\n",
       "      <td>a2a39d9669721c7dac8beb68627618aee4b0aa44</td>\n",
       "      <td>3D</td>\n",
       "      <td>(1.0, 1.0, 1.0)</td>\n",
       "      <td>...</td>\n",
       "      <td>0.0016584864651334468</td>\n",
       "      <td>7.316153462141182</td>\n",
       "      <td>0.1603829597743803</td>\n",
       "      <td>8142.572534881569</td>\n",
       "      <td>1.0255212134410199</td>\n",
       "      <td>0.0005296958862443307</td>\n",
       "      <td>1036.4138688656208</td>\n",
       "      <td>0.06208671081422941</td>\n",
       "      <td>0.522867677661479</td>\n",
       "      <td>342</td>\n",
       "    </tr>\n",
       "    <tr>\n",
       "      <th>102</th>\n",
       "      <td>2.2.0</td>\n",
       "      <td>1.17.4</td>\n",
       "      <td>1.2.4</td>\n",
       "      <td>0.5.2</td>\n",
       "      <td>3.6.5</td>\n",
       "      <td>{'minimumROIDimensions': 2, 'minimumROISize': ...</td>\n",
       "      <td>{'Original': {}}</td>\n",
       "      <td>5d27478c0b1206d1ea3f3f3d2cb80a8c359fd6ec</td>\n",
       "      <td>3D</td>\n",
       "      <td>(1.0, 1.0, 1.0)</td>\n",
       "      <td>...</td>\n",
       "      <td>0.002222608977493873</td>\n",
       "      <td>7.246356479894696</td>\n",
       "      <td>0.22850904076003678</td>\n",
       "      <td>5392.334253078696</td>\n",
       "      <td>0.5310859112566346</td>\n",
       "      <td>0.000791061766921541</td>\n",
       "      <td>1436.2593017841912</td>\n",
       "      <td>0.12902073703553343</td>\n",
       "      <td>1.1849621401171695</td>\n",
       "      <td>344</td>\n",
       "    </tr>\n",
       "    <tr>\n",
       "      <th>103</th>\n",
       "      <td>2.2.0</td>\n",
       "      <td>1.17.4</td>\n",
       "      <td>1.2.4</td>\n",
       "      <td>0.5.2</td>\n",
       "      <td>3.6.5</td>\n",
       "      <td>{'minimumROIDimensions': 2, 'minimumROISize': ...</td>\n",
       "      <td>{'Original': {}}</td>\n",
       "      <td>66350ef67042b6f2ab840c95ca7e9ec64c824575</td>\n",
       "      <td>3D</td>\n",
       "      <td>(1.0, 1.0, 1.0)</td>\n",
       "      <td>...</td>\n",
       "      <td>0.001711024852536452</td>\n",
       "      <td>7.211211919390604</td>\n",
       "      <td>0.07534246575342465</td>\n",
       "      <td>140176.600645958</td>\n",
       "      <td>1.0493009059678187</td>\n",
       "      <td>0.00022909201834592387</td>\n",
       "      <td>1270.0607685978507</td>\n",
       "      <td>0.007485074313258024</td>\n",
       "      <td>1.3073652723603235</td>\n",
       "      <td>351</td>\n",
       "    </tr>\n",
       "    <tr>\n",
       "      <th>104</th>\n",
       "      <td>2.2.0</td>\n",
       "      <td>1.17.4</td>\n",
       "      <td>1.2.4</td>\n",
       "      <td>0.5.2</td>\n",
       "      <td>3.6.5</td>\n",
       "      <td>{'minimumROIDimensions': 2, 'minimumROISize': ...</td>\n",
       "      <td>{'Original': {}}</td>\n",
       "      <td>38a431e88e9083427bc345b6028b7a8a677b9f5a</td>\n",
       "      <td>3D</td>\n",
       "      <td>(1.0, 1.0, 1.0)</td>\n",
       "      <td>...</td>\n",
       "      <td>0.0007228405208663204</td>\n",
       "      <td>7.606218979639587</td>\n",
       "      <td>0.04023138726000061</td>\n",
       "      <td>3717878.664198988</td>\n",
       "      <td>9.637744539407947</td>\n",
       "      <td>1.685693150912406e-05</td>\n",
       "      <td>1634.587095246822</td>\n",
       "      <td>0.002255290037989331</td>\n",
       "      <td>0.2637152947699818</td>\n",
       "      <td>352</td>\n",
       "    </tr>\n",
       "    <tr>\n",
       "      <th>105</th>\n",
       "      <td>2.2.0</td>\n",
       "      <td>1.17.4</td>\n",
       "      <td>1.2.4</td>\n",
       "      <td>0.5.2</td>\n",
       "      <td>3.6.5</td>\n",
       "      <td>{'minimumROIDimensions': 2, 'minimumROISize': ...</td>\n",
       "      <td>{'Original': {}}</td>\n",
       "      <td>11830ba3ebcfd326a5e687a02dcd82ebfc517c18</td>\n",
       "      <td>3D</td>\n",
       "      <td>(1.0, 1.0, 1.0)</td>\n",
       "      <td>...</td>\n",
       "      <td>0.005955592567047564</td>\n",
       "      <td>6.647190991501348</td>\n",
       "      <td>0.3758221108675227</td>\n",
       "      <td>103.89746597222222</td>\n",
       "      <td>0.22256896238559867</td>\n",
       "      <td>0.005153939867356212</td>\n",
       "      <td>1136.9648640515823</td>\n",
       "      <td>0.2670402478948995</td>\n",
       "      <td>2.76514096705966</td>\n",
       "      <td>360</td>\n",
       "    </tr>\n",
       "    <tr>\n",
       "      <th>106</th>\n",
       "      <td>2.2.0</td>\n",
       "      <td>1.17.4</td>\n",
       "      <td>1.2.4</td>\n",
       "      <td>0.5.2</td>\n",
       "      <td>3.6.5</td>\n",
       "      <td>{'minimumROIDimensions': 2, 'minimumROISize': ...</td>\n",
       "      <td>{'Original': {}}</td>\n",
       "      <td>5d8be51376643971f19bd3a2f59d24b159cb3920</td>\n",
       "      <td>3D</td>\n",
       "      <td>(1.0, 1.0, 1.0)</td>\n",
       "      <td>...</td>\n",
       "      <td>0.0019019244473467048</td>\n",
       "      <td>7.504007551014153</td>\n",
       "      <td>0.05953543827391042</td>\n",
       "      <td>614376.1469985214</td>\n",
       "      <td>2.415003699935183</td>\n",
       "      <td>6.8474833135653e-05</td>\n",
       "      <td>1928.8285616928829</td>\n",
       "      <td>0.008531148721170723</td>\n",
       "      <td>0.9330691390698211</td>\n",
       "      <td>363</td>\n",
       "    </tr>\n",
       "    <tr>\n",
       "      <th>107</th>\n",
       "      <td>2.2.0</td>\n",
       "      <td>1.17.4</td>\n",
       "      <td>1.2.4</td>\n",
       "      <td>0.5.2</td>\n",
       "      <td>3.6.5</td>\n",
       "      <td>{'minimumROIDimensions': 2, 'minimumROISize': ...</td>\n",
       "      <td>{'Original': {}}</td>\n",
       "      <td>d64474fb114ffaebce9a6a04abc8859f45b942a0</td>\n",
       "      <td>3D</td>\n",
       "      <td>(1.0, 1.0, 1.0)</td>\n",
       "      <td>...</td>\n",
       "      <td>0.0018885625093965745</td>\n",
       "      <td>7.285933177231522</td>\n",
       "      <td>0.09055182577370231</td>\n",
       "      <td>48730.28641406892</td>\n",
       "      <td>0.6905228394131907</td>\n",
       "      <td>0.00035546769631391293</td>\n",
       "      <td>1289.767393925453</td>\n",
       "      <td>0.023004384382165524</td>\n",
       "      <td>1.6165925895635536</td>\n",
       "      <td>364</td>\n",
       "    </tr>\n",
       "    <tr>\n",
       "      <th>108</th>\n",
       "      <td>2.2.0</td>\n",
       "      <td>1.17.4</td>\n",
       "      <td>1.2.4</td>\n",
       "      <td>0.5.2</td>\n",
       "      <td>3.6.5</td>\n",
       "      <td>{'minimumROIDimensions': 2, 'minimumROISize': ...</td>\n",
       "      <td>{'Original': {}}</td>\n",
       "      <td>c0d87c1345034c02e0a322e623111be89fecd323</td>\n",
       "      <td>3D</td>\n",
       "      <td>(1.0, 1.0, 1.0)</td>\n",
       "      <td>...</td>\n",
       "      <td>0.0026086440557093883</td>\n",
       "      <td>6.487526847584183</td>\n",
       "      <td>0.24706457925636008</td>\n",
       "      <td>4968.021503774141</td>\n",
       "      <td>0.6804066651536249</td>\n",
       "      <td>0.0006973213701255513</td>\n",
       "      <td>1576.2136981987005</td>\n",
       "      <td>0.13530594300509916</td>\n",
       "      <td>1.190679865743594</td>\n",
       "      <td>369</td>\n",
       "    </tr>\n",
       "    <tr>\n",
       "      <th>109</th>\n",
       "      <td>2.2.0</td>\n",
       "      <td>1.17.4</td>\n",
       "      <td>1.2.4</td>\n",
       "      <td>0.5.2</td>\n",
       "      <td>3.6.5</td>\n",
       "      <td>{'minimumROIDimensions': 2, 'minimumROISize': ...</td>\n",
       "      <td>{'Original': {}}</td>\n",
       "      <td>b275f9c5fd33616636bec06bab9ce6643edf85bc</td>\n",
       "      <td>3D</td>\n",
       "      <td>(1.0, 1.0, 1.0)</td>\n",
       "      <td>...</td>\n",
       "      <td>0.006231414377284782</td>\n",
       "      <td>6.777064560803622</td>\n",
       "      <td>0.4981838502374965</td>\n",
       "      <td>88.96629569036918</td>\n",
       "      <td>0.21695867592903567</td>\n",
       "      <td>0.0024867334839892854</td>\n",
       "      <td>6173.743883319467</td>\n",
       "      <td>0.5213400830095554</td>\n",
       "      <td>3.5582820444505576</td>\n",
       "      <td>370</td>\n",
       "    </tr>\n",
       "    <tr>\n",
       "      <th>110</th>\n",
       "      <td>2.2.0</td>\n",
       "      <td>1.17.4</td>\n",
       "      <td>1.2.4</td>\n",
       "      <td>0.5.2</td>\n",
       "      <td>3.6.5</td>\n",
       "      <td>{'minimumROIDimensions': 2, 'minimumROISize': ...</td>\n",
       "      <td>{'Original': {}}</td>\n",
       "      <td>7d289fb4b5ae72fd48b88220d93241c7569b4273</td>\n",
       "      <td>3D</td>\n",
       "      <td>(1.0, 1.0, 1.0)</td>\n",
       "      <td>...</td>\n",
       "      <td>0.0017730477625832414</td>\n",
       "      <td>6.626865194133249</td>\n",
       "      <td>0.1299949514674084</td>\n",
       "      <td>158592.56550772983</td>\n",
       "      <td>3.8152392445127785</td>\n",
       "      <td>6.985684329472468e-05</td>\n",
       "      <td>1992.1961740610318</td>\n",
       "      <td>0.033305282386164994</td>\n",
       "      <td>0.3270461822118756</td>\n",
       "      <td>374</td>\n",
       "    </tr>\n",
       "    <tr>\n",
       "      <th>111</th>\n",
       "      <td>2.2.0</td>\n",
       "      <td>1.17.4</td>\n",
       "      <td>1.2.4</td>\n",
       "      <td>0.5.2</td>\n",
       "      <td>3.6.5</td>\n",
       "      <td>{'minimumROIDimensions': 2, 'minimumROISize': ...</td>\n",
       "      <td>{'Original': {}}</td>\n",
       "      <td>2e10443a78f941589953e1dab07d55706884f10d</td>\n",
       "      <td>3D</td>\n",
       "      <td>(1.0, 1.0, 1.0)</td>\n",
       "      <td>...</td>\n",
       "      <td>0.007946782920712922</td>\n",
       "      <td>7.217992093283175</td>\n",
       "      <td>0.5187952898550725</td>\n",
       "      <td>35.91334441929315</td>\n",
       "      <td>0.6270759219303694</td>\n",
       "      <td>0.0005591724966979988</td>\n",
       "      <td>16917.21097410635</td>\n",
       "      <td>0.3784727364995947</td>\n",
       "      <td>2.025850017902886</td>\n",
       "      <td>377</td>\n",
       "    </tr>\n",
       "    <tr>\n",
       "      <th>112</th>\n",
       "      <td>2.2.0</td>\n",
       "      <td>1.17.4</td>\n",
       "      <td>1.2.4</td>\n",
       "      <td>0.5.2</td>\n",
       "      <td>3.6.5</td>\n",
       "      <td>{'minimumROIDimensions': 2, 'minimumROISize': ...</td>\n",
       "      <td>{'Original': {}}</td>\n",
       "      <td>d16ad6f8ca976a826ace427f0de8db8750dda245</td>\n",
       "      <td>3D</td>\n",
       "      <td>(1.0, 1.0, 1.0)</td>\n",
       "      <td>...</td>\n",
       "      <td>0.008373282253858156</td>\n",
       "      <td>6.633171142766264</td>\n",
       "      <td>0.4473029045643154</td>\n",
       "      <td>5.8869685840266275</td>\n",
       "      <td>0.26027179000208106</td>\n",
       "      <td>0.007746555989385689</td>\n",
       "      <td>1964.4592706737542</td>\n",
       "      <td>0.2239367720503079</td>\n",
       "      <td>4.630788924816604</td>\n",
       "      <td>379</td>\n",
       "    </tr>\n",
       "    <tr>\n",
       "      <th>113</th>\n",
       "      <td>2.2.0</td>\n",
       "      <td>1.17.4</td>\n",
       "      <td>1.2.4</td>\n",
       "      <td>0.5.2</td>\n",
       "      <td>3.6.5</td>\n",
       "      <td>{'minimumROIDimensions': 2, 'minimumROISize': ...</td>\n",
       "      <td>{'Original': {}}</td>\n",
       "      <td>f5e27141894f1ff823fddc4c04a8d2bcd1e952d7</td>\n",
       "      <td>3D</td>\n",
       "      <td>(1.0, 1.0, 1.0)</td>\n",
       "      <td>...</td>\n",
       "      <td>0.0019831751974015745</td>\n",
       "      <td>7.046603724629845</td>\n",
       "      <td>0.056624844352870886</td>\n",
       "      <td>836145.833284638</td>\n",
       "      <td>5.159575840023793</td>\n",
       "      <td>5.309999706126223e-05</td>\n",
       "      <td>975.6577339498588</td>\n",
       "      <td>0.008739278504770832</td>\n",
       "      <td>0.314596299454889</td>\n",
       "      <td>387</td>\n",
       "    </tr>\n",
       "    <tr>\n",
       "      <th>114</th>\n",
       "      <td>2.2.0</td>\n",
       "      <td>1.17.4</td>\n",
       "      <td>1.2.4</td>\n",
       "      <td>0.5.2</td>\n",
       "      <td>3.6.5</td>\n",
       "      <td>{'minimumROIDimensions': 2, 'minimumROISize': ...</td>\n",
       "      <td>{'Original': {}}</td>\n",
       "      <td>e409232560b4849557d6dbbfb99104ad46f771da</td>\n",
       "      <td>3D</td>\n",
       "      <td>(1.0, 1.0, 1.0)</td>\n",
       "      <td>...</td>\n",
       "      <td>0.0008012685187611323</td>\n",
       "      <td>7.394066541839875</td>\n",
       "      <td>0.04941498270156874</td>\n",
       "      <td>567619.235481018</td>\n",
       "      <td>4.1906592441504</td>\n",
       "      <td>5.865278267922613e-05</td>\n",
       "      <td>1267.910184634066</td>\n",
       "      <td>0.006286878339812724</td>\n",
       "      <td>0.3838231320748535</td>\n",
       "      <td>398</td>\n",
       "    </tr>\n",
       "    <tr>\n",
       "      <th>115</th>\n",
       "      <td>None</td>\n",
       "      <td>None</td>\n",
       "      <td>None</td>\n",
       "      <td>None</td>\n",
       "      <td>None</td>\n",
       "      <td>None</td>\n",
       "      <td>None</td>\n",
       "      <td>None</td>\n",
       "      <td>None</td>\n",
       "      <td>None</td>\n",
       "      <td>...</td>\n",
       "      <td>None</td>\n",
       "      <td>None</td>\n",
       "      <td>None</td>\n",
       "      <td>None</td>\n",
       "      <td>None</td>\n",
       "      <td>None</td>\n",
       "      <td>None</td>\n",
       "      <td>None</td>\n",
       "      <td>None</td>\n",
       "      <td>404</td>\n",
       "    </tr>\n",
       "    <tr>\n",
       "      <th>116</th>\n",
       "      <td>2.2.0</td>\n",
       "      <td>1.17.4</td>\n",
       "      <td>1.2.4</td>\n",
       "      <td>0.5.2</td>\n",
       "      <td>3.6.5</td>\n",
       "      <td>{'minimumROIDimensions': 2, 'minimumROISize': ...</td>\n",
       "      <td>{'Original': {}}</td>\n",
       "      <td>ae3f025df03ee1c7fb921be3e072a4c1e64c1f66</td>\n",
       "      <td>3D</td>\n",
       "      <td>(1.0, 1.0, 1.0)</td>\n",
       "      <td>...</td>\n",
       "      <td>0.0019622405594830732</td>\n",
       "      <td>7.343350413196008</td>\n",
       "      <td>0.15911913055900484</td>\n",
       "      <td>34583.515757298126</td>\n",
       "      <td>1.7726586432182057</td>\n",
       "      <td>0.00021330453567814433</td>\n",
       "      <td>1239.2690074665556</td>\n",
       "      <td>0.10742161509496133</td>\n",
       "      <td>0.4387650631723471</td>\n",
       "      <td>405</td>\n",
       "    </tr>\n",
       "    <tr>\n",
       "      <th>117</th>\n",
       "      <td>2.2.0</td>\n",
       "      <td>1.17.4</td>\n",
       "      <td>1.2.4</td>\n",
       "      <td>0.5.2</td>\n",
       "      <td>3.6.5</td>\n",
       "      <td>{'minimumROIDimensions': 2, 'minimumROISize': ...</td>\n",
       "      <td>{'Original': {}}</td>\n",
       "      <td>d813d4c1f0c05bebed452ec0587c325d3c326615</td>\n",
       "      <td>3D</td>\n",
       "      <td>(1.0, 1.0, 1.0)</td>\n",
       "      <td>...</td>\n",
       "      <td>0.0017841696757871135</td>\n",
       "      <td>7.164660013235399</td>\n",
       "      <td>0.10005430355688298</td>\n",
       "      <td>16145.069170000494</td>\n",
       "      <td>0.33193044780371306</td>\n",
       "      <td>0.0007828676838876653</td>\n",
       "      <td>1518.3577988463776</td>\n",
       "      <td>0.024138324990012467</td>\n",
       "      <td>3.333053159235531</td>\n",
       "      <td>407</td>\n",
       "    </tr>\n",
       "    <tr>\n",
       "      <th>118</th>\n",
       "      <td>2.2.0</td>\n",
       "      <td>1.17.4</td>\n",
       "      <td>1.2.4</td>\n",
       "      <td>0.5.2</td>\n",
       "      <td>3.6.5</td>\n",
       "      <td>{'minimumROIDimensions': 2, 'minimumROISize': ...</td>\n",
       "      <td>{'Original': {}}</td>\n",
       "      <td>5396693b96794cf593f8cba977cf4aca75e6fe57</td>\n",
       "      <td>3D</td>\n",
       "      <td>(1.0, 1.0, 1.0)</td>\n",
       "      <td>...</td>\n",
       "      <td>0.0037109837182313023</td>\n",
       "      <td>6.977998439577439</td>\n",
       "      <td>0.36580734261710207</td>\n",
       "      <td>6563.19153991484</td>\n",
       "      <td>1.0744601809934957</td>\n",
       "      <td>0.0001097569923580824</td>\n",
       "      <td>42061.21374856239</td>\n",
       "      <td>0.06638070897238856</td>\n",
       "      <td>2.6870359781538564</td>\n",
       "      <td>408</td>\n",
       "    </tr>\n",
       "    <tr>\n",
       "      <th>119</th>\n",
       "      <td>2.2.0</td>\n",
       "      <td>1.17.4</td>\n",
       "      <td>1.2.4</td>\n",
       "      <td>0.5.2</td>\n",
       "      <td>3.6.5</td>\n",
       "      <td>{'minimumROIDimensions': 2, 'minimumROISize': ...</td>\n",
       "      <td>{'Original': {}}</td>\n",
       "      <td>49cf68b71478075077aae6b5865bb9a22c4c289a</td>\n",
       "      <td>3D</td>\n",
       "      <td>(1.0, 1.0, 1.0)</td>\n",
       "      <td>...</td>\n",
       "      <td>0.003007768913538569</td>\n",
       "      <td>6.9407929790772025</td>\n",
       "      <td>0.3619009743487771</td>\n",
       "      <td>104.48952391015578</td>\n",
       "      <td>0.23074648713212081</td>\n",
       "      <td>0.003908611687093402</td>\n",
       "      <td>1280.390559382203</td>\n",
       "      <td>0.21346433936224996</td>\n",
       "      <td>2.4985246031596042</td>\n",
       "      <td>410</td>\n",
       "    </tr>\n",
       "    <tr>\n",
       "      <th>120</th>\n",
       "      <td>2.2.0</td>\n",
       "      <td>1.17.4</td>\n",
       "      <td>1.2.4</td>\n",
       "      <td>0.5.2</td>\n",
       "      <td>3.6.5</td>\n",
       "      <td>{'minimumROIDimensions': 2, 'minimumROISize': ...</td>\n",
       "      <td>{'Original': {}}</td>\n",
       "      <td>c6e86385c89bf3c13f576f90e29293b08e4f2168</td>\n",
       "      <td>3D</td>\n",
       "      <td>(1.0, 1.0, 1.0)</td>\n",
       "      <td>...</td>\n",
       "      <td>0.010075701965476344</td>\n",
       "      <td>6.0993773731215235</td>\n",
       "      <td>0.5219399538106235</td>\n",
       "      <td>46.51505599498787</td>\n",
       "      <td>0.10340895584775858</td>\n",
       "      <td>0.006276318164644369</td>\n",
       "      <td>4134.876870641823</td>\n",
       "      <td>0.7670438665533905</td>\n",
       "      <td>6.366573936376155</td>\n",
       "      <td>411</td>\n",
       "    </tr>\n",
       "    <tr>\n",
       "      <th>121</th>\n",
       "      <td>2.2.0</td>\n",
       "      <td>1.17.4</td>\n",
       "      <td>1.2.4</td>\n",
       "      <td>0.5.2</td>\n",
       "      <td>3.6.5</td>\n",
       "      <td>{'minimumROIDimensions': 2, 'minimumROISize': ...</td>\n",
       "      <td>{'Original': {}}</td>\n",
       "      <td>02826b1db6c5353d2f6d70e4f2bdff50858c79c1</td>\n",
       "      <td>3D</td>\n",
       "      <td>(1.0, 1.0, 1.0)</td>\n",
       "      <td>...</td>\n",
       "      <td>0.01646721981147634</td>\n",
       "      <td>7.011653874203149</td>\n",
       "      <td>0.30067447639332623</td>\n",
       "      <td>29.1807128151445</td>\n",
       "      <td>1.3085642777769355</td>\n",
       "      <td>0.004362685576214294</td>\n",
       "      <td>958.8147221435177</td>\n",
       "      <td>0.18745747878370758</td>\n",
       "      <td>2.8754860445648287</td>\n",
       "      <td>412</td>\n",
       "    </tr>\n",
       "    <tr>\n",
       "      <th>122</th>\n",
       "      <td>2.2.0</td>\n",
       "      <td>1.17.4</td>\n",
       "      <td>1.2.4</td>\n",
       "      <td>0.5.2</td>\n",
       "      <td>3.6.5</td>\n",
       "      <td>{'minimumROIDimensions': 2, 'minimumROISize': ...</td>\n",
       "      <td>{'Original': {}}</td>\n",
       "      <td>f85fbdd3b892cb1f6c4ddff6c52d2335b2fdb2a3</td>\n",
       "      <td>3D</td>\n",
       "      <td>(1.0, 1.0, 1.0)</td>\n",
       "      <td>...</td>\n",
       "      <td>0.0027211270780033723</td>\n",
       "      <td>6.773491446614239</td>\n",
       "      <td>0.3555760085902746</td>\n",
       "      <td>248.4501152402215</td>\n",
       "      <td>0.31679582345784657</td>\n",
       "      <td>0.0023886443672453354</td>\n",
       "      <td>1456.5277302932097</td>\n",
       "      <td>0.203987238983539</td>\n",
       "      <td>1.713392243116665</td>\n",
       "      <td>413</td>\n",
       "    </tr>\n",
       "    <tr>\n",
       "      <th>123</th>\n",
       "      <td>2.2.0</td>\n",
       "      <td>1.17.4</td>\n",
       "      <td>1.2.4</td>\n",
       "      <td>0.5.2</td>\n",
       "      <td>3.6.5</td>\n",
       "      <td>{'minimumROIDimensions': 2, 'minimumROISize': ...</td>\n",
       "      <td>{'Original': {}}</td>\n",
       "      <td>e7c8d73d44fb7f546298727aa5c48476ed4430da</td>\n",
       "      <td>3D</td>\n",
       "      <td>(1.0, 1.0, 1.0)</td>\n",
       "      <td>...</td>\n",
       "      <td>0.002643240035718965</td>\n",
       "      <td>6.705839551330013</td>\n",
       "      <td>0.18991288399816597</td>\n",
       "      <td>3374.168969240443</td>\n",
       "      <td>0.4049830751560497</td>\n",
       "      <td>0.0014098867076919712</td>\n",
       "      <td>947.0140577942461</td>\n",
       "      <td>0.06318696600183107</td>\n",
       "      <td>1.5318233636625185</td>\n",
       "      <td>415</td>\n",
       "    </tr>\n",
       "    <tr>\n",
       "      <th>124</th>\n",
       "      <td>2.2.0</td>\n",
       "      <td>1.17.4</td>\n",
       "      <td>1.2.4</td>\n",
       "      <td>0.5.2</td>\n",
       "      <td>3.6.5</td>\n",
       "      <td>{'minimumROIDimensions': 2, 'minimumROISize': ...</td>\n",
       "      <td>{'Original': {}}</td>\n",
       "      <td>86bbd3a4b79ada86c05660998789bf6c0575fec0</td>\n",
       "      <td>3D</td>\n",
       "      <td>(1.0, 1.0, 1.0)</td>\n",
       "      <td>...</td>\n",
       "      <td>0.0021372612525416925</td>\n",
       "      <td>6.820178021315897</td>\n",
       "      <td>0.17709405227413047</td>\n",
       "      <td>2932.077399158158</td>\n",
       "      <td>0.22432841908751996</td>\n",
       "      <td>0.0020667477801126354</td>\n",
       "      <td>1045.8591768731944</td>\n",
       "      <td>0.08495472885593744</td>\n",
       "      <td>2.832900477688721</td>\n",
       "      <td>419</td>\n",
       "    </tr>\n",
       "  </tbody>\n",
       "</table>\n",
       "<p>125 rows × 130 columns</p>\n",
       "</div>"
      ],
      "text/plain": [
       "    diagnostics_Versions_PyRadiomics diagnostics_Versions_Numpy  \\\n",
       "0                              2.2.0                     1.17.4   \n",
       "1                              2.2.0                     1.17.4   \n",
       "2                              2.2.0                     1.17.4   \n",
       "3                              2.2.0                     1.17.4   \n",
       "4                              2.2.0                     1.17.4   \n",
       "5                              2.2.0                     1.17.4   \n",
       "6                              2.2.0                     1.17.4   \n",
       "7                              2.2.0                     1.17.4   \n",
       "8                              2.2.0                     1.17.4   \n",
       "9                              2.2.0                     1.17.4   \n",
       "10                             2.2.0                     1.17.4   \n",
       "11                             2.2.0                     1.17.4   \n",
       "12                             2.2.0                     1.17.4   \n",
       "13                             2.2.0                     1.17.4   \n",
       "14                             2.2.0                     1.17.4   \n",
       "15                              None                       None   \n",
       "16                             2.2.0                     1.17.4   \n",
       "17                             2.2.0                     1.17.4   \n",
       "18                             2.2.0                     1.17.4   \n",
       "19                             2.2.0                     1.17.4   \n",
       "20                             2.2.0                     1.17.4   \n",
       "21                             2.2.0                     1.17.4   \n",
       "22                             2.2.0                     1.17.4   \n",
       "23                             2.2.0                     1.17.4   \n",
       "24                             2.2.0                     1.17.4   \n",
       "25                             2.2.0                     1.17.4   \n",
       "26                             2.2.0                     1.17.4   \n",
       "27                             2.2.0                     1.17.4   \n",
       "28                             2.2.0                     1.17.4   \n",
       "29                             2.2.0                     1.17.4   \n",
       "..                               ...                        ...   \n",
       "95                             2.2.0                     1.17.4   \n",
       "96                             2.2.0                     1.17.4   \n",
       "97                             2.2.0                     1.17.4   \n",
       "98                             2.2.0                     1.17.4   \n",
       "99                             2.2.0                     1.17.4   \n",
       "100                            2.2.0                     1.17.4   \n",
       "101                            2.2.0                     1.17.4   \n",
       "102                            2.2.0                     1.17.4   \n",
       "103                            2.2.0                     1.17.4   \n",
       "104                            2.2.0                     1.17.4   \n",
       "105                            2.2.0                     1.17.4   \n",
       "106                            2.2.0                     1.17.4   \n",
       "107                            2.2.0                     1.17.4   \n",
       "108                            2.2.0                     1.17.4   \n",
       "109                            2.2.0                     1.17.4   \n",
       "110                            2.2.0                     1.17.4   \n",
       "111                            2.2.0                     1.17.4   \n",
       "112                            2.2.0                     1.17.4   \n",
       "113                            2.2.0                     1.17.4   \n",
       "114                            2.2.0                     1.17.4   \n",
       "115                             None                       None   \n",
       "116                            2.2.0                     1.17.4   \n",
       "117                            2.2.0                     1.17.4   \n",
       "118                            2.2.0                     1.17.4   \n",
       "119                            2.2.0                     1.17.4   \n",
       "120                            2.2.0                     1.17.4   \n",
       "121                            2.2.0                     1.17.4   \n",
       "122                            2.2.0                     1.17.4   \n",
       "123                            2.2.0                     1.17.4   \n",
       "124                            2.2.0                     1.17.4   \n",
       "\n",
       "    diagnostics_Versions_SimpleITK diagnostics_Versions_PyWavelet  \\\n",
       "0                            1.2.4                          0.5.2   \n",
       "1                            1.2.4                          0.5.2   \n",
       "2                            1.2.4                          0.5.2   \n",
       "3                            1.2.4                          0.5.2   \n",
       "4                            1.2.4                          0.5.2   \n",
       "5                            1.2.4                          0.5.2   \n",
       "6                            1.2.4                          0.5.2   \n",
       "7                            1.2.4                          0.5.2   \n",
       "8                            1.2.4                          0.5.2   \n",
       "9                            1.2.4                          0.5.2   \n",
       "10                           1.2.4                          0.5.2   \n",
       "11                           1.2.4                          0.5.2   \n",
       "12                           1.2.4                          0.5.2   \n",
       "13                           1.2.4                          0.5.2   \n",
       "14                           1.2.4                          0.5.2   \n",
       "15                            None                           None   \n",
       "16                           1.2.4                          0.5.2   \n",
       "17                           1.2.4                          0.5.2   \n",
       "18                           1.2.4                          0.5.2   \n",
       "19                           1.2.4                          0.5.2   \n",
       "20                           1.2.4                          0.5.2   \n",
       "21                           1.2.4                          0.5.2   \n",
       "22                           1.2.4                          0.5.2   \n",
       "23                           1.2.4                          0.5.2   \n",
       "24                           1.2.4                          0.5.2   \n",
       "25                           1.2.4                          0.5.2   \n",
       "26                           1.2.4                          0.5.2   \n",
       "27                           1.2.4                          0.5.2   \n",
       "28                           1.2.4                          0.5.2   \n",
       "29                           1.2.4                          0.5.2   \n",
       "..                             ...                            ...   \n",
       "95                           1.2.4                          0.5.2   \n",
       "96                           1.2.4                          0.5.2   \n",
       "97                           1.2.4                          0.5.2   \n",
       "98                           1.2.4                          0.5.2   \n",
       "99                           1.2.4                          0.5.2   \n",
       "100                          1.2.4                          0.5.2   \n",
       "101                          1.2.4                          0.5.2   \n",
       "102                          1.2.4                          0.5.2   \n",
       "103                          1.2.4                          0.5.2   \n",
       "104                          1.2.4                          0.5.2   \n",
       "105                          1.2.4                          0.5.2   \n",
       "106                          1.2.4                          0.5.2   \n",
       "107                          1.2.4                          0.5.2   \n",
       "108                          1.2.4                          0.5.2   \n",
       "109                          1.2.4                          0.5.2   \n",
       "110                          1.2.4                          0.5.2   \n",
       "111                          1.2.4                          0.5.2   \n",
       "112                          1.2.4                          0.5.2   \n",
       "113                          1.2.4                          0.5.2   \n",
       "114                          1.2.4                          0.5.2   \n",
       "115                           None                           None   \n",
       "116                          1.2.4                          0.5.2   \n",
       "117                          1.2.4                          0.5.2   \n",
       "118                          1.2.4                          0.5.2   \n",
       "119                          1.2.4                          0.5.2   \n",
       "120                          1.2.4                          0.5.2   \n",
       "121                          1.2.4                          0.5.2   \n",
       "122                          1.2.4                          0.5.2   \n",
       "123                          1.2.4                          0.5.2   \n",
       "124                          1.2.4                          0.5.2   \n",
       "\n",
       "    diagnostics_Versions_Python  \\\n",
       "0                         3.6.5   \n",
       "1                         3.6.5   \n",
       "2                         3.6.5   \n",
       "3                         3.6.5   \n",
       "4                         3.6.5   \n",
       "5                         3.6.5   \n",
       "6                         3.6.5   \n",
       "7                         3.6.5   \n",
       "8                         3.6.5   \n",
       "9                         3.6.5   \n",
       "10                        3.6.5   \n",
       "11                        3.6.5   \n",
       "12                        3.6.5   \n",
       "13                        3.6.5   \n",
       "14                        3.6.5   \n",
       "15                         None   \n",
       "16                        3.6.5   \n",
       "17                        3.6.5   \n",
       "18                        3.6.5   \n",
       "19                        3.6.5   \n",
       "20                        3.6.5   \n",
       "21                        3.6.5   \n",
       "22                        3.6.5   \n",
       "23                        3.6.5   \n",
       "24                        3.6.5   \n",
       "25                        3.6.5   \n",
       "26                        3.6.5   \n",
       "27                        3.6.5   \n",
       "28                        3.6.5   \n",
       "29                        3.6.5   \n",
       "..                          ...   \n",
       "95                        3.6.5   \n",
       "96                        3.6.5   \n",
       "97                        3.6.5   \n",
       "98                        3.6.5   \n",
       "99                        3.6.5   \n",
       "100                       3.6.5   \n",
       "101                       3.6.5   \n",
       "102                       3.6.5   \n",
       "103                       3.6.5   \n",
       "104                       3.6.5   \n",
       "105                       3.6.5   \n",
       "106                       3.6.5   \n",
       "107                       3.6.5   \n",
       "108                       3.6.5   \n",
       "109                       3.6.5   \n",
       "110                       3.6.5   \n",
       "111                       3.6.5   \n",
       "112                       3.6.5   \n",
       "113                       3.6.5   \n",
       "114                       3.6.5   \n",
       "115                        None   \n",
       "116                       3.6.5   \n",
       "117                       3.6.5   \n",
       "118                       3.6.5   \n",
       "119                       3.6.5   \n",
       "120                       3.6.5   \n",
       "121                       3.6.5   \n",
       "122                       3.6.5   \n",
       "123                       3.6.5   \n",
       "124                       3.6.5   \n",
       "\n",
       "                    diagnostics_Configuration_Settings  \\\n",
       "0    {'minimumROIDimensions': 2, 'minimumROISize': ...   \n",
       "1    {'minimumROIDimensions': 2, 'minimumROISize': ...   \n",
       "2    {'minimumROIDimensions': 2, 'minimumROISize': ...   \n",
       "3    {'minimumROIDimensions': 2, 'minimumROISize': ...   \n",
       "4    {'minimumROIDimensions': 2, 'minimumROISize': ...   \n",
       "5    {'minimumROIDimensions': 2, 'minimumROISize': ...   \n",
       "6    {'minimumROIDimensions': 2, 'minimumROISize': ...   \n",
       "7    {'minimumROIDimensions': 2, 'minimumROISize': ...   \n",
       "8    {'minimumROIDimensions': 2, 'minimumROISize': ...   \n",
       "9    {'minimumROIDimensions': 2, 'minimumROISize': ...   \n",
       "10   {'minimumROIDimensions': 2, 'minimumROISize': ...   \n",
       "11   {'minimumROIDimensions': 2, 'minimumROISize': ...   \n",
       "12   {'minimumROIDimensions': 2, 'minimumROISize': ...   \n",
       "13   {'minimumROIDimensions': 2, 'minimumROISize': ...   \n",
       "14   {'minimumROIDimensions': 2, 'minimumROISize': ...   \n",
       "15                                                None   \n",
       "16   {'minimumROIDimensions': 2, 'minimumROISize': ...   \n",
       "17   {'minimumROIDimensions': 2, 'minimumROISize': ...   \n",
       "18   {'minimumROIDimensions': 2, 'minimumROISize': ...   \n",
       "19   {'minimumROIDimensions': 2, 'minimumROISize': ...   \n",
       "20   {'minimumROIDimensions': 2, 'minimumROISize': ...   \n",
       "21   {'minimumROIDimensions': 2, 'minimumROISize': ...   \n",
       "22   {'minimumROIDimensions': 2, 'minimumROISize': ...   \n",
       "23   {'minimumROIDimensions': 2, 'minimumROISize': ...   \n",
       "24   {'minimumROIDimensions': 2, 'minimumROISize': ...   \n",
       "25   {'minimumROIDimensions': 2, 'minimumROISize': ...   \n",
       "26   {'minimumROIDimensions': 2, 'minimumROISize': ...   \n",
       "27   {'minimumROIDimensions': 2, 'minimumROISize': ...   \n",
       "28   {'minimumROIDimensions': 2, 'minimumROISize': ...   \n",
       "29   {'minimumROIDimensions': 2, 'minimumROISize': ...   \n",
       "..                                                 ...   \n",
       "95   {'minimumROIDimensions': 2, 'minimumROISize': ...   \n",
       "96   {'minimumROIDimensions': 2, 'minimumROISize': ...   \n",
       "97   {'minimumROIDimensions': 2, 'minimumROISize': ...   \n",
       "98   {'minimumROIDimensions': 2, 'minimumROISize': ...   \n",
       "99   {'minimumROIDimensions': 2, 'minimumROISize': ...   \n",
       "100  {'minimumROIDimensions': 2, 'minimumROISize': ...   \n",
       "101  {'minimumROIDimensions': 2, 'minimumROISize': ...   \n",
       "102  {'minimumROIDimensions': 2, 'minimumROISize': ...   \n",
       "103  {'minimumROIDimensions': 2, 'minimumROISize': ...   \n",
       "104  {'minimumROIDimensions': 2, 'minimumROISize': ...   \n",
       "105  {'minimumROIDimensions': 2, 'minimumROISize': ...   \n",
       "106  {'minimumROIDimensions': 2, 'minimumROISize': ...   \n",
       "107  {'minimumROIDimensions': 2, 'minimumROISize': ...   \n",
       "108  {'minimumROIDimensions': 2, 'minimumROISize': ...   \n",
       "109  {'minimumROIDimensions': 2, 'minimumROISize': ...   \n",
       "110  {'minimumROIDimensions': 2, 'minimumROISize': ...   \n",
       "111  {'minimumROIDimensions': 2, 'minimumROISize': ...   \n",
       "112  {'minimumROIDimensions': 2, 'minimumROISize': ...   \n",
       "113  {'minimumROIDimensions': 2, 'minimumROISize': ...   \n",
       "114  {'minimumROIDimensions': 2, 'minimumROISize': ...   \n",
       "115                                               None   \n",
       "116  {'minimumROIDimensions': 2, 'minimumROISize': ...   \n",
       "117  {'minimumROIDimensions': 2, 'minimumROISize': ...   \n",
       "118  {'minimumROIDimensions': 2, 'minimumROISize': ...   \n",
       "119  {'minimumROIDimensions': 2, 'minimumROISize': ...   \n",
       "120  {'minimumROIDimensions': 2, 'minimumROISize': ...   \n",
       "121  {'minimumROIDimensions': 2, 'minimumROISize': ...   \n",
       "122  {'minimumROIDimensions': 2, 'minimumROISize': ...   \n",
       "123  {'minimumROIDimensions': 2, 'minimumROISize': ...   \n",
       "124  {'minimumROIDimensions': 2, 'minimumROISize': ...   \n",
       "\n",
       "    diagnostics_Configuration_EnabledImageTypes  \\\n",
       "0                              {'Original': {}}   \n",
       "1                              {'Original': {}}   \n",
       "2                              {'Original': {}}   \n",
       "3                              {'Original': {}}   \n",
       "4                              {'Original': {}}   \n",
       "5                              {'Original': {}}   \n",
       "6                              {'Original': {}}   \n",
       "7                              {'Original': {}}   \n",
       "8                              {'Original': {}}   \n",
       "9                              {'Original': {}}   \n",
       "10                             {'Original': {}}   \n",
       "11                             {'Original': {}}   \n",
       "12                             {'Original': {}}   \n",
       "13                             {'Original': {}}   \n",
       "14                             {'Original': {}}   \n",
       "15                                         None   \n",
       "16                             {'Original': {}}   \n",
       "17                             {'Original': {}}   \n",
       "18                             {'Original': {}}   \n",
       "19                             {'Original': {}}   \n",
       "20                             {'Original': {}}   \n",
       "21                             {'Original': {}}   \n",
       "22                             {'Original': {}}   \n",
       "23                             {'Original': {}}   \n",
       "24                             {'Original': {}}   \n",
       "25                             {'Original': {}}   \n",
       "26                             {'Original': {}}   \n",
       "27                             {'Original': {}}   \n",
       "28                             {'Original': {}}   \n",
       "29                             {'Original': {}}   \n",
       "..                                          ...   \n",
       "95                             {'Original': {}}   \n",
       "96                             {'Original': {}}   \n",
       "97                             {'Original': {}}   \n",
       "98                             {'Original': {}}   \n",
       "99                             {'Original': {}}   \n",
       "100                            {'Original': {}}   \n",
       "101                            {'Original': {}}   \n",
       "102                            {'Original': {}}   \n",
       "103                            {'Original': {}}   \n",
       "104                            {'Original': {}}   \n",
       "105                            {'Original': {}}   \n",
       "106                            {'Original': {}}   \n",
       "107                            {'Original': {}}   \n",
       "108                            {'Original': {}}   \n",
       "109                            {'Original': {}}   \n",
       "110                            {'Original': {}}   \n",
       "111                            {'Original': {}}   \n",
       "112                            {'Original': {}}   \n",
       "113                            {'Original': {}}   \n",
       "114                            {'Original': {}}   \n",
       "115                                        None   \n",
       "116                            {'Original': {}}   \n",
       "117                            {'Original': {}}   \n",
       "118                            {'Original': {}}   \n",
       "119                            {'Original': {}}   \n",
       "120                            {'Original': {}}   \n",
       "121                            {'Original': {}}   \n",
       "122                            {'Original': {}}   \n",
       "123                            {'Original': {}}   \n",
       "124                            {'Original': {}}   \n",
       "\n",
       "              diagnostics_Image-original_Hash  \\\n",
       "0    a14c1903ca44b9c8bee21607abe86b6092e0e784   \n",
       "1    012bee7c6eb8bc6eb005674e2786b955b3f2d343   \n",
       "2    57504b176455455b107b42a27734198353b891b5   \n",
       "3    466571f330c0e12c21c0e6b2ee64953b043a074a   \n",
       "4    e85f367b7409c24d3dda412f0616f26da1ea8d55   \n",
       "5    ad9134c02294af33a76dd455adb2ea656e73d0bb   \n",
       "6    d37a13f547ac65b0c300c7a8bfee84b3115e7c8c   \n",
       "7    9f427e296f28dcda6c8ba2256469bf910fc1fdf0   \n",
       "8    65e056af2c7644355d20656e3143dd6ec4212f41   \n",
       "9    f59894d720e8d39348e9565d038b4d67f5b75b73   \n",
       "10   650e3ddb43a406163856a490d35b09e1757e9a8a   \n",
       "11   2201f289b612c94b4e6cccf95a9f35f3a031e568   \n",
       "12   3aaf1a6dfffb4502cb009a245e3f624143e45c75   \n",
       "13   31d84fbf5c8a8881bbb03b34a76602a365a9fda7   \n",
       "14   65d22cf14a9630e32cb1075687c067d85639a38a   \n",
       "15                                       None   \n",
       "16   a853815d68e5984787d97b80aedd8ac2194c8fd1   \n",
       "17   273809757cdce6a3e507758ff42b9bcb0ceb26d9   \n",
       "18   4e1d46819f6b163f98d7153b112617d99661b92b   \n",
       "19   a9a60e65302972e1eaffa4b25823aa80356e194f   \n",
       "20   e70047a300e13cd902203d6f4ed8065d409c2a9d   \n",
       "21   2897d9cb4324ba5e066db20a1872ff2d559f87f7   \n",
       "22   3d2168d982f3c4e7a17708c461e032ca8ff5f654   \n",
       "23   e0ff78eb127fe29cf197fcb0c0ddffa55934e921   \n",
       "24   258d59a8e908d298439736c4ac470e7c32d649e8   \n",
       "25   9dbe2d9abec6f23b48d4e089c88a3b27f7296b87   \n",
       "26   45f93b8b702ba8eb34b6af937d89560f03f8b390   \n",
       "27   beb477947a6861cccda1d87f4eccaa9f3154e1fb   \n",
       "28   549cc78e0ad653cb0218a534c9ae24ab598ffa78   \n",
       "29   0dd431132afc7bfd4892f29112f28e0f7ad35654   \n",
       "..                                        ...   \n",
       "95   a48538a692ca41da321af57cab9dbe41fd5eda48   \n",
       "96   5a478d9f70829b4d70e56a3525f4a4233f26d0dc   \n",
       "97   ca69b4e631d22e2a2714a46c291422b8f557562f   \n",
       "98   4c73b8f2321e9406d59183208c8e5184389ebd2a   \n",
       "99   3e133fd0606e4b0005d2018fa2c64516ef304e50   \n",
       "100  47f2eed0427fee7e4a7234f4dfd74e3f74bf6ce2   \n",
       "101  a2a39d9669721c7dac8beb68627618aee4b0aa44   \n",
       "102  5d27478c0b1206d1ea3f3f3d2cb80a8c359fd6ec   \n",
       "103  66350ef67042b6f2ab840c95ca7e9ec64c824575   \n",
       "104  38a431e88e9083427bc345b6028b7a8a677b9f5a   \n",
       "105  11830ba3ebcfd326a5e687a02dcd82ebfc517c18   \n",
       "106  5d8be51376643971f19bd3a2f59d24b159cb3920   \n",
       "107  d64474fb114ffaebce9a6a04abc8859f45b942a0   \n",
       "108  c0d87c1345034c02e0a322e623111be89fecd323   \n",
       "109  b275f9c5fd33616636bec06bab9ce6643edf85bc   \n",
       "110  7d289fb4b5ae72fd48b88220d93241c7569b4273   \n",
       "111  2e10443a78f941589953e1dab07d55706884f10d   \n",
       "112  d16ad6f8ca976a826ace427f0de8db8750dda245   \n",
       "113  f5e27141894f1ff823fddc4c04a8d2bcd1e952d7   \n",
       "114  e409232560b4849557d6dbbfb99104ad46f771da   \n",
       "115                                      None   \n",
       "116  ae3f025df03ee1c7fb921be3e072a4c1e64c1f66   \n",
       "117  d813d4c1f0c05bebed452ec0587c325d3c326615   \n",
       "118  5396693b96794cf593f8cba977cf4aca75e6fe57   \n",
       "119  49cf68b71478075077aae6b5865bb9a22c4c289a   \n",
       "120  c6e86385c89bf3c13f576f90e29293b08e4f2168   \n",
       "121  02826b1db6c5353d2f6d70e4f2bdff50858c79c1   \n",
       "122  f85fbdd3b892cb1f6c4ddff6c52d2335b2fdb2a3   \n",
       "123  e7c8d73d44fb7f546298727aa5c48476ed4430da   \n",
       "124  86bbd3a4b79ada86c05660998789bf6c0575fec0   \n",
       "\n",
       "    diagnostics_Image-original_Dimensionality  \\\n",
       "0                                          3D   \n",
       "1                                          3D   \n",
       "2                                          3D   \n",
       "3                                          3D   \n",
       "4                                          3D   \n",
       "5                                          3D   \n",
       "6                                          3D   \n",
       "7                                          3D   \n",
       "8                                          3D   \n",
       "9                                          3D   \n",
       "10                                         3D   \n",
       "11                                         3D   \n",
       "12                                         3D   \n",
       "13                                         3D   \n",
       "14                                         3D   \n",
       "15                                       None   \n",
       "16                                         3D   \n",
       "17                                         3D   \n",
       "18                                         3D   \n",
       "19                                         3D   \n",
       "20                                         3D   \n",
       "21                                         3D   \n",
       "22                                         3D   \n",
       "23                                         3D   \n",
       "24                                         3D   \n",
       "25                                         3D   \n",
       "26                                         3D   \n",
       "27                                         3D   \n",
       "28                                         3D   \n",
       "29                                         3D   \n",
       "..                                        ...   \n",
       "95                                         3D   \n",
       "96                                         3D   \n",
       "97                                         3D   \n",
       "98                                         3D   \n",
       "99                                         3D   \n",
       "100                                        3D   \n",
       "101                                        3D   \n",
       "102                                        3D   \n",
       "103                                        3D   \n",
       "104                                        3D   \n",
       "105                                        3D   \n",
       "106                                        3D   \n",
       "107                                        3D   \n",
       "108                                        3D   \n",
       "109                                        3D   \n",
       "110                                        3D   \n",
       "111                                        3D   \n",
       "112                                        3D   \n",
       "113                                        3D   \n",
       "114                                        3D   \n",
       "115                                      None   \n",
       "116                                        3D   \n",
       "117                                        3D   \n",
       "118                                        3D   \n",
       "119                                        3D   \n",
       "120                                        3D   \n",
       "121                                        3D   \n",
       "122                                        3D   \n",
       "123                                        3D   \n",
       "124                                        3D   \n",
       "\n",
       "    diagnostics_Image-original_Spacing       ...        \\\n",
       "0                      (1.0, 1.0, 1.0)       ...         \n",
       "1                      (1.0, 1.0, 1.0)       ...         \n",
       "2                      (1.0, 1.0, 1.0)       ...         \n",
       "3                      (1.0, 1.0, 1.0)       ...         \n",
       "4                      (1.0, 1.0, 1.0)       ...         \n",
       "5                      (1.0, 1.0, 1.0)       ...         \n",
       "6                      (1.0, 1.0, 1.0)       ...         \n",
       "7                      (1.0, 1.0, 1.0)       ...         \n",
       "8                      (1.0, 1.0, 1.0)       ...         \n",
       "9                      (1.0, 1.0, 1.0)       ...         \n",
       "10                     (1.0, 1.0, 1.0)       ...         \n",
       "11                     (1.0, 1.0, 1.0)       ...         \n",
       "12                     (1.0, 1.0, 1.0)       ...         \n",
       "13                     (1.0, 1.0, 1.0)       ...         \n",
       "14                     (1.0, 1.0, 1.0)       ...         \n",
       "15                                None       ...         \n",
       "16                     (1.0, 1.0, 1.0)       ...         \n",
       "17                     (1.0, 1.0, 1.0)       ...         \n",
       "18                     (1.0, 1.0, 1.0)       ...         \n",
       "19                     (1.0, 1.0, 1.0)       ...         \n",
       "20                     (1.0, 1.0, 1.0)       ...         \n",
       "21                     (1.0, 1.0, 1.0)       ...         \n",
       "22                     (1.0, 1.0, 1.0)       ...         \n",
       "23                     (1.0, 1.0, 1.0)       ...         \n",
       "24                     (1.0, 1.0, 1.0)       ...         \n",
       "25                     (1.0, 1.0, 1.0)       ...         \n",
       "26                     (1.0, 1.0, 1.0)       ...         \n",
       "27                     (1.0, 1.0, 1.0)       ...         \n",
       "28                     (1.0, 1.0, 1.0)       ...         \n",
       "29                     (1.0, 1.0, 1.0)       ...         \n",
       "..                                 ...       ...         \n",
       "95                     (1.0, 1.0, 1.0)       ...         \n",
       "96                     (1.0, 1.0, 1.0)       ...         \n",
       "97                     (1.0, 1.0, 1.0)       ...         \n",
       "98                     (1.0, 1.0, 1.0)       ...         \n",
       "99                     (1.0, 1.0, 1.0)       ...         \n",
       "100                    (1.0, 1.0, 1.0)       ...         \n",
       "101                    (1.0, 1.0, 1.0)       ...         \n",
       "102                    (1.0, 1.0, 1.0)       ...         \n",
       "103                    (1.0, 1.0, 1.0)       ...         \n",
       "104                    (1.0, 1.0, 1.0)       ...         \n",
       "105                    (1.0, 1.0, 1.0)       ...         \n",
       "106                    (1.0, 1.0, 1.0)       ...         \n",
       "107                    (1.0, 1.0, 1.0)       ...         \n",
       "108                    (1.0, 1.0, 1.0)       ...         \n",
       "109                    (1.0, 1.0, 1.0)       ...         \n",
       "110                    (1.0, 1.0, 1.0)       ...         \n",
       "111                    (1.0, 1.0, 1.0)       ...         \n",
       "112                    (1.0, 1.0, 1.0)       ...         \n",
       "113                    (1.0, 1.0, 1.0)       ...         \n",
       "114                    (1.0, 1.0, 1.0)       ...         \n",
       "115                               None       ...         \n",
       "116                    (1.0, 1.0, 1.0)       ...         \n",
       "117                    (1.0, 1.0, 1.0)       ...         \n",
       "118                    (1.0, 1.0, 1.0)       ...         \n",
       "119                    (1.0, 1.0, 1.0)       ...         \n",
       "120                    (1.0, 1.0, 1.0)       ...         \n",
       "121                    (1.0, 1.0, 1.0)       ...         \n",
       "122                    (1.0, 1.0, 1.0)       ...         \n",
       "123                    (1.0, 1.0, 1.0)       ...         \n",
       "124                    (1.0, 1.0, 1.0)       ...         \n",
       "\n",
       "    original_glszm_SmallAreaLowGrayLevelEmphasis  original_glszm_ZoneEntropy  \\\n",
       "0                            0.00650396833685046           7.030494272641832   \n",
       "1                          0.0011372251755402353           7.056755551475125   \n",
       "2                          0.0030927233376598366           7.295787467156062   \n",
       "3                           0.011458708772295158          7.0290292656028655   \n",
       "4                           0.001263275408950132           7.296961213716396   \n",
       "5                             0.0032969046158858          6.8678024800660165   \n",
       "6                          0.0029809603474066533           7.738243027132657   \n",
       "7                            0.00517823384912288           6.614141307851755   \n",
       "8                          0.0010366632480026004            7.11280310139011   \n",
       "9                           0.010479469010200998           7.093423309251276   \n",
       "10                         0.0013135666223513395           7.290249750775166   \n",
       "11                          0.004386699758318983           6.993143319987266   \n",
       "12                         0.0022866037506234327           7.281882549196636   \n",
       "13                          0.001279280063784213           6.412111568664334   \n",
       "14                          0.007799168118793287          6.4700844404606315   \n",
       "15                                          None                        None   \n",
       "16                         0.0016018154028825543           7.182125278034371   \n",
       "17                          0.007394451023779944           6.433873357070576   \n",
       "18                           0.00207901957713131           7.216761375837666   \n",
       "19                         0.0011489558850105274           7.546747055523174   \n",
       "20                          0.012763629194190777           7.325373958378649   \n",
       "21                         0.0022758772300454227          7.2664282658107675   \n",
       "22                         0.0011185688377459372           8.248728886910184   \n",
       "23                         0.0010770241078634668           7.313909732997244   \n",
       "24                         0.0037926422490696353           6.637507422942822   \n",
       "25                         0.0036225818700725155           6.824029228836075   \n",
       "26                          0.013122570791631413           7.149332972704863   \n",
       "27                         0.0006920896717820855           7.097369645021458   \n",
       "28                          0.005145583882401662           7.402984092444055   \n",
       "29                         0.0015563728529436637           7.171018692542549   \n",
       "..                                           ...                         ...   \n",
       "95                          0.004909861018104349          6.3634196700345145   \n",
       "96                         0.0021843297990240874           6.523018054335413   \n",
       "97                          0.005567100092065029           6.284519913123125   \n",
       "98                          0.004127494117094649          6.9872152856031935   \n",
       "99                             0.012503581567686           7.002932104126142   \n",
       "100                        0.0012915079086775018           6.357307447508318   \n",
       "101                        0.0016584864651334468           7.316153462141182   \n",
       "102                         0.002222608977493873           7.246356479894696   \n",
       "103                         0.001711024852536452           7.211211919390604   \n",
       "104                        0.0007228405208663204           7.606218979639587   \n",
       "105                         0.005955592567047564           6.647190991501348   \n",
       "106                        0.0019019244473467048           7.504007551014153   \n",
       "107                        0.0018885625093965745           7.285933177231522   \n",
       "108                        0.0026086440557093883           6.487526847584183   \n",
       "109                         0.006231414377284782           6.777064560803622   \n",
       "110                        0.0017730477625832414           6.626865194133249   \n",
       "111                         0.007946782920712922           7.217992093283175   \n",
       "112                         0.008373282253858156           6.633171142766264   \n",
       "113                        0.0019831751974015745           7.046603724629845   \n",
       "114                        0.0008012685187611323           7.394066541839875   \n",
       "115                                         None                        None   \n",
       "116                        0.0019622405594830732           7.343350413196008   \n",
       "117                        0.0017841696757871135           7.164660013235399   \n",
       "118                        0.0037109837182313023           6.977998439577439   \n",
       "119                         0.003007768913538569          6.9407929790772025   \n",
       "120                         0.010075701965476344          6.0993773731215235   \n",
       "121                          0.01646721981147634           7.011653874203149   \n",
       "122                        0.0027211270780033723           6.773491446614239   \n",
       "123                         0.002643240035718965           6.705839551330013   \n",
       "124                        0.0021372612525416925           6.820178021315897   \n",
       "\n",
       "     original_glszm_ZonePercentage  original_glszm_ZoneVariance  \\\n",
       "0               0.3864306784660767             88.6209195268341   \n",
       "1              0.16735686583842765           28829.700225615623   \n",
       "2              0.16808601234830742             9195.18109360467   \n",
       "3                0.466265441875198            11.03069203021621   \n",
       "4              0.11617878762749813            64430.20175176771   \n",
       "5              0.34163816967920535            544.6214691280725   \n",
       "6              0.03732633079136861           1309263.1233864485   \n",
       "7               0.3871290430143381              45.285296393483   \n",
       "8               0.0696949112495939            605556.5375066835   \n",
       "9               0.5298420976387078            43.43556805391967   \n",
       "10             0.08715231366558462           106691.33898015402   \n",
       "11             0.47312989467998917            6.884929617293218   \n",
       "12             0.22450729804264477            6012.703448594982   \n",
       "13             0.08001851328070762            73198.95628983667   \n",
       "14               0.467940813810111           27.130104967877784   \n",
       "15                            None                         None   \n",
       "16             0.20367269321374848            8741.141397075318   \n",
       "17              0.4601181683899557            32.09514877785478   \n",
       "18             0.10587706685837527            76440.78066121768   \n",
       "19             0.05381876744032939            830330.9076159397   \n",
       "20              0.4870036609405801            525.5645610801705   \n",
       "21             0.13389295353850855            85544.06999992867   \n",
       "22              0.0730208262668747           139592.72769047518   \n",
       "23             0.06114648479281229           1237003.6374900725   \n",
       "24              0.3844765342960289           147.45577376622805   \n",
       "25              0.2104562597056866            3496.143136993939   \n",
       "26              0.2962899347303332            78.12656702373451   \n",
       "27             0.05234754009620629            876377.4641854893   \n",
       "28             0.16720340074713383            1438.188380963008   \n",
       "29             0.14653526878856482           56852.351194028306   \n",
       "..                             ...                          ...   \n",
       "95              0.4908802537668517           28.439653305007553   \n",
       "96              0.3223493900138347            950.5396868214782   \n",
       "97             0.02604800353943148           118365.46946687042   \n",
       "98               0.374845869297164           28.681559470221607   \n",
       "99              0.5721212121212121             8.92743195202528   \n",
       "100            0.19026213894699365           12689.343166868439   \n",
       "101             0.1603829597743803            8142.572534881569   \n",
       "102            0.22850904076003678            5392.334253078696   \n",
       "103            0.07534246575342465             140176.600645958   \n",
       "104            0.04023138726000061            3717878.664198988   \n",
       "105             0.3758221108675227           103.89746597222222   \n",
       "106            0.05953543827391042            614376.1469985214   \n",
       "107            0.09055182577370231            48730.28641406892   \n",
       "108            0.24706457925636008            4968.021503774141   \n",
       "109             0.4981838502374965            88.96629569036918   \n",
       "110             0.1299949514674084           158592.56550772983   \n",
       "111             0.5187952898550725            35.91334441929315   \n",
       "112             0.4473029045643154           5.8869685840266275   \n",
       "113           0.056624844352870886             836145.833284638   \n",
       "114            0.04941498270156874             567619.235481018   \n",
       "115                           None                         None   \n",
       "116            0.15911913055900484           34583.515757298126   \n",
       "117            0.10005430355688298           16145.069170000494   \n",
       "118            0.36580734261710207             6563.19153991484   \n",
       "119             0.3619009743487771           104.48952391015578   \n",
       "120             0.5219399538106235            46.51505599498787   \n",
       "121            0.30067447639332623             29.1807128151445   \n",
       "122             0.3555760085902746            248.4501152402215   \n",
       "123            0.18991288399816597            3374.168969240443   \n",
       "124            0.17709405227413047            2932.077399158158   \n",
       "\n",
       "    original_ngtdm_Busyness original_ngtdm_Coarseness  \\\n",
       "0        0.3192207510507349     0.0029973859057788035   \n",
       "1        1.0432795311296523      0.000299498303363116   \n",
       "2        0.4240922951318243     0.0009696911689902665   \n",
       "3        3.3630953665269554    0.00046453293179421864   \n",
       "4        0.8221696618971971    0.00016990275935880697   \n",
       "5        0.2863143301056496     0.0025691941507084907   \n",
       "6         7.805748110033149     4.954695416944482e-05   \n",
       "7        0.2705994297708851      0.004530731014635755   \n",
       "8         4.077923636426653      6.20967645037254e-05   \n",
       "9        0.8254093902613867     0.0006990957187612052   \n",
       "10       1.6728991723332216     0.0001561327523102608   \n",
       "11      0.35121142360815816     0.0026347858751217734   \n",
       "12        1.864169981077123     0.0002987021988376117   \n",
       "13        1.388880577180543     0.0002998454900873995   \n",
       "14       0.1501706253921209      0.007955072276613552   \n",
       "15                     None                      None   \n",
       "16       1.1055475120072882     0.0004574843042622475   \n",
       "17      0.11023960241102679        0.0087337091685833   \n",
       "18       1.2577313175994982    0.00027738856464899536   \n",
       "19        5.746706476154839     5.699361308135361e-05   \n",
       "20       1.7551337628417458    0.00012971495401556526   \n",
       "21        2.859580693174141     0.0001532977554033749   \n",
       "22       1.2134631034886427     0.0001280631202416637   \n",
       "23         5.93905470974652    3.0491249955612493e-05   \n",
       "24       0.1913375339584415      0.004166102926085494   \n",
       "25      0.41135066550280985     0.0011465486712864447   \n",
       "26        1.259889503856971     0.0023904668557108645   \n",
       "27        8.177036987839658    3.5146532370158366e-05   \n",
       "28       2.2829896732712696      0.001544110396124168   \n",
       "29       2.7957047470336787    0.00011931026094401463   \n",
       "..                      ...                       ...   \n",
       "95      0.09853983370572887      0.006128386463292559   \n",
       "96       0.3418510303680603     0.0009726182310737089   \n",
       "97       1.6205272258764905     0.0007486380658215003   \n",
       "98      0.46010220474228475      0.002554600286353541   \n",
       "99       0.6185986863045154     0.0012089641895892626   \n",
       "100      0.8078584990099813    0.00031288421802832557   \n",
       "101      1.0255212134410199     0.0005296958862443307   \n",
       "102      0.5310859112566346      0.000791061766921541   \n",
       "103      1.0493009059678187    0.00022909201834592387   \n",
       "104       9.637744539407947     1.685693150912406e-05   \n",
       "105     0.22256896238559867      0.005153939867356212   \n",
       "106       2.415003699935183       6.8474833135653e-05   \n",
       "107      0.6905228394131907    0.00035546769631391293   \n",
       "108      0.6804066651536249     0.0006973213701255513   \n",
       "109     0.21695867592903567     0.0024867334839892854   \n",
       "110      3.8152392445127785     6.985684329472468e-05   \n",
       "111      0.6270759219303694     0.0005591724966979988   \n",
       "112     0.26027179000208106      0.007746555989385689   \n",
       "113       5.159575840023793     5.309999706126223e-05   \n",
       "114         4.1906592441504     5.865278267922613e-05   \n",
       "115                    None                      None   \n",
       "116      1.7726586432182057    0.00021330453567814433   \n",
       "117     0.33193044780371306     0.0007828676838876653   \n",
       "118      1.0744601809934957     0.0001097569923580824   \n",
       "119     0.23074648713212081      0.003908611687093402   \n",
       "120     0.10340895584775858      0.006276318164644369   \n",
       "121      1.3085642777769355      0.004362685576214294   \n",
       "122     0.31679582345784657     0.0023886443672453354   \n",
       "123      0.4049830751560497     0.0014098867076919712   \n",
       "124     0.22432841908751996     0.0020667477801126354   \n",
       "\n",
       "    original_ngtdm_Complexity original_ngtdm_Contrast  \\\n",
       "0          2400.7459995508075      0.2587860762411749   \n",
       "1           1503.157610147304     0.05499763926588297   \n",
       "2           1549.136212300552     0.04406541279692153   \n",
       "3           5166.658333866696      0.2505568367343866   \n",
       "4           5325.885346788066    0.010699961481524708   \n",
       "5          1379.2028413909507      0.2628539609310901   \n",
       "6           822.2480054589579    0.004100770738762614   \n",
       "7          1220.8504664217726     0.20120530288705538   \n",
       "8          1006.0517011238957    0.010350257260902742   \n",
       "9           11044.45288293424     0.41551539995882586   \n",
       "10         1593.5885238173992    0.010860246929524961   \n",
       "11          4805.504622046324     0.21742004640356255   \n",
       "12         2759.1888943053364     0.20721851269319333   \n",
       "13          745.5657726234778     0.01223376137924379   \n",
       "14         1518.9731658901567     0.41458437806298254   \n",
       "15                       None                    None   \n",
       "16          1152.711679956383     0.12063673720755935   \n",
       "17          1691.460822118643      0.3678397007257342   \n",
       "18          973.6351580528127     0.03444450654353795   \n",
       "19          761.4420879198275     0.01474535986952564   \n",
       "20         40696.270734442085     0.21091397452450425   \n",
       "21          849.3310725848982      0.0652664253181279   \n",
       "22          5342.310426158639   0.0073132615707251335   \n",
       "23          1766.462333348672    0.006612829440770413   \n",
       "24          1412.896263155049     0.24176798197313495   \n",
       "25         1361.8468773052925     0.07590032713802068   \n",
       "26         1208.3624642500931     0.17425748937293656   \n",
       "27         1145.4730793940223    0.006323161648866281   \n",
       "28          763.2340750570938     0.14610978301077746   \n",
       "29         1569.2943277075763     0.05618356449732737   \n",
       "..                        ...                     ...   \n",
       "95          3713.741867175296     0.34207218015051943   \n",
       "96         3788.8960015646708     0.14614563436055536   \n",
       "97          178.0344916193256    0.003122302546334271   \n",
       "98         1382.2005623989996     0.20750914289398348   \n",
       "99          9944.430297311308      0.6108036684377867   \n",
       "100        3314.5747748649055    0.031582891546476685   \n",
       "101        1036.4138688656208     0.06208671081422941   \n",
       "102        1436.2593017841912     0.12902073703553343   \n",
       "103        1270.0607685978507    0.007485074313258024   \n",
       "104         1634.587095246822    0.002255290037989331   \n",
       "105        1136.9648640515823      0.2670402478948995   \n",
       "106        1928.8285616928829    0.008531148721170723   \n",
       "107         1289.767393925453    0.023004384382165524   \n",
       "108        1576.2136981987005     0.13530594300509916   \n",
       "109         6173.743883319467      0.5213400830095554   \n",
       "110        1992.1961740610318    0.033305282386164994   \n",
       "111         16917.21097410635      0.3784727364995947   \n",
       "112        1964.4592706737542      0.2239367720503079   \n",
       "113         975.6577339498588    0.008739278504770832   \n",
       "114         1267.910184634066    0.006286878339812724   \n",
       "115                      None                    None   \n",
       "116        1239.2690074665556     0.10742161509496133   \n",
       "117        1518.3577988463776    0.024138324990012467   \n",
       "118         42061.21374856239     0.06638070897238856   \n",
       "119         1280.390559382203     0.21346433936224996   \n",
       "120         4134.876870641823      0.7670438665533905   \n",
       "121         958.8147221435177     0.18745747878370758   \n",
       "122        1456.5277302932097       0.203987238983539   \n",
       "123         947.0140577942461     0.06318696600183107   \n",
       "124        1045.8591768731944     0.08495472885593744   \n",
       "\n",
       "     original_ngtdm_Strength  patient_number  \n",
       "0         3.0193578055002153             000  \n",
       "1         0.8124728927622762             001  \n",
       "2         1.8312712830615954             006  \n",
       "3         0.7531802976962354             009  \n",
       "4         2.6618141092070435             010  \n",
       "5         2.0394846613420556             012  \n",
       "6         0.2195195589714611             013  \n",
       "7         2.1775998993460277             019  \n",
       "8         0.4301401259562533             027  \n",
       "9         1.6537484042783042             028  \n",
       "10        0.7415849420946503             034  \n",
       "11         3.378920442731471             038  \n",
       "12        0.5068317775037102             041  \n",
       "13        0.9720661501394185             046  \n",
       "14        4.1919466935123575             049  \n",
       "15                      None             050  \n",
       "16        0.6521431547984168             054  \n",
       "17         5.244593289310793             055  \n",
       "18        0.7563117010648652             059  \n",
       "19       0.31072496994970683             060  \n",
       "20        1.3871357925853178             062  \n",
       "21       0.27323796534755646             065  \n",
       "22        2.5740353091891435             066  \n",
       "23        0.3412408907520753             071  \n",
       "24         2.874594943496401             074  \n",
       "25         1.369533910463784             075  \n",
       "26        1.5808995476622967             080  \n",
       "27       0.18872669227202768             085  \n",
       "28        1.1043825094567077             087  \n",
       "29        0.3037241294257559             097  \n",
       "..                       ...             ...  \n",
       "95          5.19609367552519             322  \n",
       "96        1.8751632807093437             324  \n",
       "97         0.541301148998348             326  \n",
       "98        1.4318893988970918             332  \n",
       "99        2.3780051831861786             337  \n",
       "100       1.0740660461843676             339  \n",
       "101        0.522867677661479             342  \n",
       "102       1.1849621401171695             344  \n",
       "103       1.3073652723603235             351  \n",
       "104       0.2637152947699818             352  \n",
       "105         2.76514096705966             360  \n",
       "106       0.9330691390698211             363  \n",
       "107       1.6165925895635536             364  \n",
       "108        1.190679865743594             369  \n",
       "109       3.5582820444505576             370  \n",
       "110       0.3270461822118756             374  \n",
       "111        2.025850017902886             377  \n",
       "112        4.630788924816604             379  \n",
       "113        0.314596299454889             387  \n",
       "114       0.3838231320748535             398  \n",
       "115                     None             404  \n",
       "116       0.4387650631723471             405  \n",
       "117        3.333053159235531             407  \n",
       "118       2.6870359781538564             408  \n",
       "119       2.4985246031596042             410  \n",
       "120        6.366573936376155             411  \n",
       "121       2.8754860445648287             412  \n",
       "122        1.713392243116665             413  \n",
       "123       1.5318233636625185             415  \n",
       "124        2.832900477688721             419  \n",
       "\n",
       "[125 rows x 130 columns]"
      ]
     },
     "execution_count": 99,
     "metadata": {},
     "output_type": "execute_result"
    }
   ],
   "source": [
    "df"
   ]
  },
  {
   "cell_type": "code",
   "execution_count": 102,
   "metadata": {},
   "outputs": [
    {
     "data": {
      "text/plain": [
       "['diagnostics_Versions_PyRadiomics',\n",
       " 'diagnostics_Versions_Numpy',\n",
       " 'diagnostics_Versions_SimpleITK',\n",
       " 'diagnostics_Versions_PyWavelet',\n",
       " 'diagnostics_Versions_Python',\n",
       " 'diagnostics_Configuration_Settings',\n",
       " 'diagnostics_Configuration_EnabledImageTypes',\n",
       " 'diagnostics_Image-original_Hash',\n",
       " 'diagnostics_Image-original_Dimensionality',\n",
       " 'diagnostics_Image-original_Spacing',\n",
       " 'diagnostics_Image-original_Size',\n",
       " 'diagnostics_Image-original_Mean',\n",
       " 'diagnostics_Image-original_Minimum',\n",
       " 'diagnostics_Image-original_Maximum',\n",
       " 'diagnostics_Mask-original_Hash',\n",
       " 'diagnostics_Mask-original_Spacing',\n",
       " 'diagnostics_Mask-original_Size',\n",
       " 'diagnostics_Mask-original_BoundingBox',\n",
       " 'diagnostics_Mask-original_VoxelNum',\n",
       " 'diagnostics_Mask-original_VolumeNum',\n",
       " 'diagnostics_Mask-original_CenterOfMassIndex',\n",
       " 'diagnostics_Mask-original_CenterOfMass',\n",
       " 'original_shape_Elongation',\n",
       " 'original_shape_Flatness',\n",
       " 'original_shape_LeastAxisLength',\n",
       " 'original_shape_MajorAxisLength',\n",
       " 'original_shape_Maximum2DDiameterColumn',\n",
       " 'original_shape_Maximum2DDiameterRow',\n",
       " 'original_shape_Maximum2DDiameterSlice',\n",
       " 'original_shape_Maximum3DDiameter',\n",
       " 'original_shape_MeshVolume',\n",
       " 'original_shape_MinorAxisLength',\n",
       " 'original_shape_Sphericity',\n",
       " 'original_shape_SurfaceArea',\n",
       " 'original_shape_SurfaceVolumeRatio',\n",
       " 'original_shape_VoxelVolume',\n",
       " 'original_firstorder_10Percentile',\n",
       " 'original_firstorder_90Percentile',\n",
       " 'original_firstorder_Energy',\n",
       " 'original_firstorder_Entropy',\n",
       " 'original_firstorder_InterquartileRange',\n",
       " 'original_firstorder_Kurtosis',\n",
       " 'original_firstorder_Maximum',\n",
       " 'original_firstorder_MeanAbsoluteDeviation',\n",
       " 'original_firstorder_Mean',\n",
       " 'original_firstorder_Median',\n",
       " 'original_firstorder_Minimum',\n",
       " 'original_firstorder_Range',\n",
       " 'original_firstorder_RobustMeanAbsoluteDeviation',\n",
       " 'original_firstorder_RootMeanSquared',\n",
       " 'original_firstorder_Skewness',\n",
       " 'original_firstorder_TotalEnergy',\n",
       " 'original_firstorder_Uniformity',\n",
       " 'original_firstorder_Variance',\n",
       " 'original_glcm_Autocorrelation',\n",
       " 'original_glcm_ClusterProminence',\n",
       " 'original_glcm_ClusterShade',\n",
       " 'original_glcm_ClusterTendency',\n",
       " 'original_glcm_Contrast',\n",
       " 'original_glcm_Correlation',\n",
       " 'original_glcm_DifferenceAverage',\n",
       " 'original_glcm_DifferenceEntropy',\n",
       " 'original_glcm_DifferenceVariance',\n",
       " 'original_glcm_Id',\n",
       " 'original_glcm_Idm',\n",
       " 'original_glcm_Idmn',\n",
       " 'original_glcm_Idn',\n",
       " 'original_glcm_Imc1',\n",
       " 'original_glcm_Imc2',\n",
       " 'original_glcm_InverseVariance',\n",
       " 'original_glcm_JointAverage',\n",
       " 'original_glcm_JointEnergy',\n",
       " 'original_glcm_JointEntropy',\n",
       " 'original_glcm_MCC',\n",
       " 'original_glcm_MaximumProbability',\n",
       " 'original_glcm_SumAverage',\n",
       " 'original_glcm_SumEntropy',\n",
       " 'original_glcm_SumSquares',\n",
       " 'original_gldm_DependenceEntropy',\n",
       " 'original_gldm_DependenceNonUniformity',\n",
       " 'original_gldm_DependenceNonUniformityNormalized',\n",
       " 'original_gldm_DependenceVariance',\n",
       " 'original_gldm_GrayLevelNonUniformity',\n",
       " 'original_gldm_GrayLevelVariance',\n",
       " 'original_gldm_HighGrayLevelEmphasis',\n",
       " 'original_gldm_LargeDependenceEmphasis',\n",
       " 'original_gldm_LargeDependenceHighGrayLevelEmphasis',\n",
       " 'original_gldm_LargeDependenceLowGrayLevelEmphasis',\n",
       " 'original_gldm_LowGrayLevelEmphasis',\n",
       " 'original_gldm_SmallDependenceEmphasis',\n",
       " 'original_gldm_SmallDependenceHighGrayLevelEmphasis',\n",
       " 'original_gldm_SmallDependenceLowGrayLevelEmphasis',\n",
       " 'original_glrlm_GrayLevelNonUniformity',\n",
       " 'original_glrlm_GrayLevelNonUniformityNormalized',\n",
       " 'original_glrlm_GrayLevelVariance',\n",
       " 'original_glrlm_HighGrayLevelRunEmphasis',\n",
       " 'original_glrlm_LongRunEmphasis',\n",
       " 'original_glrlm_LongRunHighGrayLevelEmphasis',\n",
       " 'original_glrlm_LongRunLowGrayLevelEmphasis',\n",
       " 'original_glrlm_LowGrayLevelRunEmphasis',\n",
       " 'original_glrlm_RunEntropy',\n",
       " 'original_glrlm_RunLengthNonUniformity',\n",
       " 'original_glrlm_RunLengthNonUniformityNormalized',\n",
       " 'original_glrlm_RunPercentage',\n",
       " 'original_glrlm_RunVariance',\n",
       " 'original_glrlm_ShortRunEmphasis',\n",
       " 'original_glrlm_ShortRunHighGrayLevelEmphasis',\n",
       " 'original_glrlm_ShortRunLowGrayLevelEmphasis',\n",
       " 'original_glszm_GrayLevelNonUniformity',\n",
       " 'original_glszm_GrayLevelNonUniformityNormalized',\n",
       " 'original_glszm_GrayLevelVariance',\n",
       " 'original_glszm_HighGrayLevelZoneEmphasis',\n",
       " 'original_glszm_LargeAreaEmphasis',\n",
       " 'original_glszm_LargeAreaHighGrayLevelEmphasis',\n",
       " 'original_glszm_LargeAreaLowGrayLevelEmphasis',\n",
       " 'original_glszm_LowGrayLevelZoneEmphasis',\n",
       " 'original_glszm_SizeZoneNonUniformity',\n",
       " 'original_glszm_SizeZoneNonUniformityNormalized',\n",
       " 'original_glszm_SmallAreaEmphasis',\n",
       " 'original_glszm_SmallAreaHighGrayLevelEmphasis',\n",
       " 'original_glszm_SmallAreaLowGrayLevelEmphasis',\n",
       " 'original_glszm_ZoneEntropy',\n",
       " 'original_glszm_ZonePercentage',\n",
       " 'original_glszm_ZoneVariance',\n",
       " 'original_ngtdm_Busyness',\n",
       " 'original_ngtdm_Coarseness',\n",
       " 'original_ngtdm_Complexity',\n",
       " 'original_ngtdm_Contrast',\n",
       " 'original_ngtdm_Strength',\n",
       " 'patient_number']"
      ]
     },
     "execution_count": 102,
     "metadata": {},
     "output_type": "execute_result"
    }
   ],
   "source": [
    "list(features_list.keys())"
   ]
  },
  {
   "cell_type": "code",
   "execution_count": null,
   "metadata": {},
   "outputs": [],
   "source": []
  }
 ],
 "metadata": {
  "kernelspec": {
   "display_name": "Python 3",
   "language": "python",
   "name": "python3"
  },
  "language_info": {
   "codemirror_mode": {
    "name": "ipython",
    "version": 3
   },
   "file_extension": ".py",
   "mimetype": "text/x-python",
   "name": "python",
   "nbconvert_exporter": "python",
   "pygments_lexer": "ipython3",
   "version": "3.6.5"
  }
 },
 "nbformat": 4,
 "nbformat_minor": 2
}
